{
 "cells": [
  {
   "cell_type": "markdown",
   "id": "68242da3-261d-4374-bebd-179c8411144e",
   "metadata": {},
   "source": [
    "<a id='librairies'></a>\n",
    "# Librairies Python\n",
    "Liste des librairies Python que l'on utilise:\n",
    "- la librairie [nltk](https://www.nltk.org/) (pour l'implémentation de méthodes NLP basiques)\n",
    "- la librairie [spaCy](https://pypi.org/project/spacy/) (pour l'implémentation de méthodes NLP avancées, dans 70+ langues et avec des [pipelines](https://spacy.io/models) pre-entrainés)\n",
    "- la classe [Counter](https://docs.python.org/3/library/collections.html#collections.Counter) (pour le dénombrement d'objets [hashable](https://realpython.com/lessons/immutable-vs-hashable/))\n",
    "- les fonctions [sent_tokenize](https://www.nltk.org/api/nltk.tokenize.sent_tokenize.html) et [word_tokenize](https://www.nltk.org/api/nltk.tokenize.word_tokenize.html) de nltk (pour la tokenisation d'un texte en phrases et en mots)\n",
    "- l'ensemble des stopwords français du sous-module français [spacy.lang.fr](https://github.com/explosion/spaCy/tree/master/spacy/lang/fr) de spaCy"
   ]
  },
  {
   "cell_type": "code",
   "execution_count": 1,
   "id": "bd683bcf-03ed-4259-92dd-107fb0bbbe8f",
   "metadata": {
    "tags": []
   },
   "outputs": [],
   "source": [
    "import nltk\n",
    "import spacy\n",
    "from collections import Counter\n",
    "from nltk.tokenize import sent_tokenize, word_tokenize\n",
    "from spacy.lang.fr.stop_words import STOP_WORDS as fr_stop"
   ]
  },
  {
   "cell_type": "markdown",
   "id": "57450af9-184f-4b8f-9cd0-9e642c0cee2f",
   "metadata": {
    "tags": []
   },
   "source": [
    "Pour remplacer la commande de download \"nltk.download('punkt')\" procédant à un téléchargement depuis internet pas permis depuis tous les environnements, on doit installer manuellement le fichier \"punkt\" dans un répertoire. Dans le cas présent, on l'a fait dans:<br>\n",
    "<b>C:\\Users\\User\\miniconda3\\envs\\virtual-environment-name\\nltk_data\\tokenizers</b>\n",
    "\n",
    "La procédure générale d'installation de fichiers de la librairie nltk est décrite sur les sites:<br>\n",
    "https://www.nltk.org/data.html<br>\n",
    "https://stackoverflow.com/questions/40941761/i-am-having-trouble-downloading-nltks-punkt-tokenizer"
   ]
  },
  {
   "cell_type": "code",
   "execution_count": 4,
   "id": "a6e9c512-46e6-4681-b019-491b1fa81bfe",
   "metadata": {
    "tags": []
   },
   "outputs": [],
   "source": [
    "# Les répertoires possibles d'installation des fichiers sont énumérés par la commande:\n",
    "\n",
    "nltk.data.path"
   ]
  },
  {
   "cell_type": "markdown",
   "id": "8ba311d0-fc71-4cfa-996d-a19339a1bd04",
   "metadata": {},
   "source": [
    "Pour utiliser la librairie de NLP spaCy en français, il faut installer un pipeline pre-entrainé en français. Il y a plusieurs choix possibles, chacun avec une taille et une efficacité distincte, énumérés sur le site:<br>\n",
    "https://spacy.io/models/fr\n",
    "\n",
    "Par souci de simplicité en 1ère approche, on installe le pipeline le plus petit de 15 Mo, \"fr_core_news_sm\". A cause des interdictions de téléchargement depuis internet pas permis depuis certains environnements, il n'est pas toujours possible d'installer de manière automatique le pipeline. Il faut alors downloader le fichier \"fr_core_news_sm-3.5.0.tar.gz\", le placer dans le répertoire courant, et lancer la commande:<br>\n",
    "<b>pip install fr_core_news_sm-3.5.0.tar.gz</b>\n",
    "\n",
    "Les méthodes d'installation manuelle d'un pipeline spaCy sont par exemple décrites ici:<br>\n",
    "https://subscription.packtpub.com/book/data/9781800563353/2/ch02lvl1sec06/installing-spacy-s-statistical-models\n",
    "\n",
    "Quand tout cela est fait, on peut charger et donner un nom au pipeline en lançant la commande:<br>\n",
    "<b>nlp = spacy.load('fr_core_news_sm')</b>"
   ]
  },
  {
   "cell_type": "code",
   "execution_count": 2,
   "id": "e2940a83-d612-4333-bfe8-1c0b4695f23c",
   "metadata": {
    "tags": []
   },
   "outputs": [],
   "source": [
    "# Chargement du pipeline français \"fr_core_news_sm\"\n",
    "\n",
    "nlp = spacy.load('fr_core_news_sm')"
   ]
  },
  {
   "cell_type": "markdown",
   "id": "944de8f7-a5d8-4065-8b26-e2a92ba1a10e",
   "metadata": {},
   "source": [
    "<a id='Texte à résumer'></a>\n",
    "# Texte à résumer"
   ]
  },
  {
   "cell_type": "code",
   "execution_count": 3,
   "id": "0556da9c-5e7b-4524-a3be-83782bea298c",
   "metadata": {},
   "outputs": [
    {
     "name": "stdout",
     "output_type": "stream",
     "text": [
      "\u001b[4mTexte à résumer:\u001b[0m\n",
      "La mécanique quantique est la théorie mathématique et physique décrivant la structure et l'évolution dans le temps et l'espace des phénomènes physiques à l'échelle de l'atome et en dessous. Elle a été découverte lorsque les physiciens ont voulu décrire le comportement des atomes et les échanges d'énergie entre la lumière et la matière à cette échelle et dans tous les détails.\n",
      "\n",
      "Plusieurs noms lui sont associés, et en tout premier lieu Planck et Einstein, qui furent les premiers à comprendre que les échanges d'énergie lumineuse, puis l'énergie elle-même, ne pouvaient exister que sous forme quantifiée à l'occasion de leurs travaux sur le rayonnement du corps noir et l'effet photoélectrique. Bohr étendit les postulats quantiques de Planck et d'Einstein de la lumière à la matière, en proposant un modèle reproduisant le spectre de l'atome d'hydrogène.\n",
      "\n",
      "Pas à pas, des règles furent trouvées pour calculer les propriétés des atomes, des molécules et de leurs interactions avec la lumière lorsque, de 1925 à 1927, toute une série de travaux de plusieurs physiciens et mathématiciens donna corps à deux théories générales applicables à ces problèmes :\n",
      "\n",
      "- la mécanique ondulatoire de de Broglie et surtout de Schrödinger ;\n",
      "- la mécanique matricielle de Heisenberg, Born et Jordan.\n",
      "\n",
      "Ces deux mécaniques furent unifiées par Schrödinger du point de vue physique, et par von Neumann du point de vue mathématique. Enfin, Dirac formula la synthèse ou plutôt la généralisation complète de ces deux mécaniques, que l'on nomme aujourd'hui la mécanique quantique.\n",
      "\n",
      "La mécanique quantique, appliquée à des particules comme l'électron ou au champ électromagnétique à l'origine de la lumière, montre en réalité que ces deux objets ne sont ni vraiment des ondes ni vraiment des particules.\n",
      "\n",
      "Comme Einstein l'avait montré, l'énergie présente dans une onde lumineuse est en réalité sous forme de paquets discrets indivisibles, les photons. De même, les électrons présentent des aspects ondulatoires, comme de Broglie l'avait prédit, et on peut faire des expériences de diffraction et d'interférence avec eux. Cette situation est souvent résumée par le terme de « dualité onde-particule » pour la matière et la lumière, et on l'illustre par l'expérience des doubles fentes de Feynman, que l'on voit dans la vidéo ci-dessous.\n",
      "\n",
      "Niels Bohr a essayé de construire une interprétation physique rendant compte de cette étrange dualité : c'est la théorie de la complémentarité. Elle repose sur les inégalités de Heisenberg.\n",
      "\n",
      "Le cœur de la mécanique quantique repose sur l'utilisation d'amplitudes de probabilité pour caractériser tous les processus physiques possibles en mécanique quantique. Ce sont ces processus qui peuvent se propager sous forme d'onde, mais les grandeurs physiques associées à ces processus sont souvent quantifiées et donc discrètes. C'est le cas de l'énergie des électrons dans un atome.\n",
      "\n",
      "L'équation fondamentale de la mécanique quantique est l'équation de Schrödinger.\n",
      "\n",
      "Le monde quantique est étrange, le flou probabiliste y règne, et au fond, il indique une structure sous-jacente aux phénomènes qui est au-delà de l'espace et du temps. C'est ce que semblent montrer l'intrication quantique et l'effet EPR. L'émergence d'un monde classique à partir d'un monde quantique n'est toujours pas bien comprise. C'est un des objets de la théorie de la décohérence que d'expliquer cette émergence.\n"
     ]
    }
   ],
   "source": [
    "# On utilise comme exemple de texte un article sur la mécanique quantique, disponible sur le site:\n",
    "# https://www.futura-sciences.com/sciences/definitions/physique-mecanique-quantique-844/\n",
    "\n",
    "text = open('données/mécanique_quantique.txt','r', encoding='utf-8').read()\n",
    "print('\\x1B[4m' + 'Texte à résumer:' + '\\x1B[0m' '\\n' + text)"
   ]
  },
  {
   "cell_type": "markdown",
   "id": "9b228daa-f42b-45b1-bb81-97615768e52e",
   "metadata": {},
   "source": [
    "<a id='Stopwords français'></a>\n",
    "# Stopwords français\n",
    "Dans cette section, on définit l'ensemble des stopwords français que l'on utilise. Dans une langue, les stopwords sont les mots les plus courants, sans grande signification, qu'il est préférable d'omettre lors d'une analyse NLP."
   ]
  },
  {
   "cell_type": "code",
   "execution_count": 4,
   "id": "7ecae483-7c75-4f65-8f7e-13815338963a",
   "metadata": {},
   "outputs": [
    {
     "name": "stdout",
     "output_type": "stream",
     "text": [
      "\u001b[4mEnsemble de stopwords français lemmatisés retenus:\u001b[0m\n",
      " {'certes', 'car', 'nous', 'y', '.', 'abord', 'quel', 'selon', 'seulement', ']', 'ainsi', 'soi', 'relatif', 'fai', 'seul', '/', 'mille', 'il', 'vai', 'avant', 'tien', '\\n\\n', 'cinquante', '’', 'auxquelles', 'encore', 'hou', 't', 'précisemer', 'ah', 'près', 'na', 'dedans', 's', 'vers', 'quatrièmemer', 'derrière', 'aussi', 'cinquantaine', 'revoici', 'avec', 'personne', '\"', 'o', 'voici', 'reste', 'stop', 'plus', 'de', 'pour', 'quelconque', 'ouste', '`', 'dessus', 'gens', 'pas', 'dix-neuf', 'tente', 'dite', 'voir', 'enfin', 'plusieurs', 'dix-sept', 'plutôt', 'nul', 'tu', 'celer', 'eter', 'combien', 'quatre', 'toujours', 'si', '|', 'divers', 'préalable', 'apre', 'directe', 'attendre', 'qu', '?', '(', 'ô', 'faire', 'maintenant', 'dejer', 'suivre', 'ho', 'neuvième', 'douzième', 'jusqu', 'celle', 'vingt', 'tendre', ')', 'prealabl', 'importer', 'tant', 'vous', '!', 'ce', 'quoi', 'desormai', 'depuis', 'parfois', 'pendant', ':', 'parle', 'possible', 'debout', 'ton', 'anterieure', 'même', 'celles-ci', 'je', 'leur', '[', '=', 'outre', 'quatre-vingt', 'c', 'alors', 'da', 'sept', 'j', 'là', 'quarante', 'moins', 'autre', 'ou', 'sinon', 'pre', 'lui', 'nôtre', 'dever', 'compris', 'cela', 'base', 'quand', 'hors', 'vé', 'me', 'devoir', 'tre', 'tenir', 'avoir', 'luire', 'deuxième', 'où', 'revoiler', 'concerner', 'comment', 'desquelle', 'egalemer', 'huitième', 'lequel', '{', '+', 'sembler', 'vôtre', 'suffit', 'l', 'peu', '^', 'onzième', 'que', 'derriere', '#', 'quinze', 'dire', 'toucher', 'nouveau', 'désormais', 'eh', 'differer', 'deuxièmement', 'envers', 'ouvert', 'pense', 'precisemer', '_', 'pouvoir', 'lui-même', 'sixième', 'houp', 'au', '%', '-là', 'dixième', 'seize', 'cinq', 'autrement', 'cinquième', 'lors', 'proche', 'huit', 'merci', 'retour', 'spécifique', 'via', 'tellement', 'après', 'etre', 'proceder', 'longtemp', '«', 'allon', 'effet', 'etc', 'onze', 'battre', 'auprer', 'etant', 'entrer', 'certain', 'façon', 'celui', 'differentes', 'par', 'sien', 'quoiqu', 'notre', 'troisièmement', 'or', 'juste', 'semblaient', 'qui', 'certains', 'ci', 'tenant', 'etais', 'son', 'malgré', 'sou', 'dix-huit', 'cinquantième', 'dessous', 'quant', 'notamment', 'parmi', 'mon', 'elle', 'facon', 'quelque', 'ceci', 'duquel', 'quatorze', 'meme', '-', 'déjà', 'd', 'également', 'dejà', 'te', '*', 'voila', '&', 'different', 'chacun', 'votre', 'neanmoins', \"'\", 'plutot', 'bas', 'celler', 'ouvrir', 'tel', 'hormi', 'néanmoins', 'lès', 'suffisant', 'etaient', 'laisser', 'quatrième', 'sienne', 'afin', 'delà', 'assez', 'excepté', '»', '<', 'tout', 'quiconqu', 'dès', 'ouias', 'aller', 'mien', 'donc', 'et', 'voilà', 'chez', 'le', 'douze', 'huer', 'hé', 'trente', 'une', 'suivant', '>', 'comme', 'hep', 'chaque', 'toi', 'suffire', 'auquel', '~', 'puisque', 'moi', 'premièrement', 'moindre', 'antérieure', 'dix', '@', 'as', 'semblable', 'maint', 'dont', 'hi', 'revoilà', 'trois', 'â', ';', 'relativement', 'hem', 'sans', 'antérieur', 'très', 'auxquels', 'premier', 'on', 'mais', 'déja', 'jusque', 'n', 'un', 'quant-à-soi', 'quell', 'hui', 'celui-ci', 'parce', 'sauf', 'm', 'durer', 'différent', 'ni', 'cent', 'pourquoi', 'rester', 'autrui', 'septième', 'soixant', 'directement', 'deux', 'parler', 'devant', 'mienne', 'cependant', 'savoir', 'permettre', 'i', 'desquel', '}', '$', 'à', 'se', 'en', 'treize', 'surtout', 'rendre', 'être', 'ès', 'nombreux', 'specifique', 'dehors', 'malgre', 'té', 'anterieur', 'environ', 'six', 'dans', 'exactement', 'troisième', '\\\\', 'lorsque', 'partir', 'souvent', ',', 'ne', 'sur', 'sentir', 'ha'}\n"
     ]
    }
   ],
   "source": [
    "# Liste des symboles de ponctuation que l'on considère\n",
    "\n",
    "list_punct = [\"'\", '’', '!', '\"', '#', '$', '%', '&', \"'\", '(', ')', '*', '+', ',', '-', '.', '/', ':', '\\n\\n',\n",
    "              ';', '<', '=', '>', '?', '@', '[', '\\\\', ']', '^', '_', '`', '{', '|', '}', '~', '«', '»']\n",
    "\n",
    "# Création d'une liste (et d'un ensemble) des stopwords constitué des stopwords français de spaCy + les ponctuations\n",
    "# On applique la lemmatisation de spaCy pour transformer les stopwords retenus dans leur forme \"racine\"\n",
    "# https://en.wikipedia.org/wiki/Lemmatisation\n",
    "\n",
    "string_stopwords = ' '.join(fr_stop)\n",
    "list_stopwords = [word.lemma_ for word in nlp(string_stopwords)] + list_punct\n",
    "set_stopwords = set(list_stopwords)\n",
    "\n",
    "print('\\x1B[4m' + 'Ensemble de stopwords français lemmatisés retenus:' + '\\x1B[0m' '\\n', set_stopwords)"
   ]
  },
  {
   "cell_type": "markdown",
   "id": "acb31b32-6458-43eb-93a1-f4935f7a8ec5",
   "metadata": {},
   "source": [
    "<a id='Résumés extractifs'></a>\n",
    "# Résumés extractifs"
   ]
  },
  {
   "cell_type": "markdown",
   "id": "bbd51571-7f27-4684-bdf1-1abd059e1607",
   "metadata": {},
   "source": [
    "<a id='Résumé extractif basé sur la fréquence des mots'></a>\n",
    "## Résumé extractif basé sur la fréquence des mots\n",
    "Pour l'approche extractive basée sur la sur la fréquence des mots dans le texte, on s'inspire du code présenté dans le blog suivant:<br>\n",
    "https://www.analyticsvidhya.com/blog/2023/03/exploring-the-extractive-method-of-text-summarization/\n",
    "\n",
    "Notre ajout principal par rapport au code initial est l'implémentation de la lemmatisation des mots en utilisant le pipeline pre-entrainé en français de spaCy."
   ]
  },
  {
   "cell_type": "code",
   "execution_count": 5,
   "id": "b845ff3d-72c2-4ec6-a9fa-d5e484faf2b4",
   "metadata": {},
   "outputs": [],
   "source": [
    "# Définition de la fonction générant un résumé de \"n\" phrases d'un texte input \"text\" à partir de la fréquence des mots\n",
    "\n",
    "def summary_freq(text, n):\n",
    "    \n",
    "    # Tokenization du texte en une liste de mots, après avec lemmatisation et élimination des stopwords\n",
    "    \n",
    "    words = [word.lemma_ for word in nlp(text) if word.lemma_ not in set_stopwords]\n",
    "    \n",
    "    # Création d'un dictionnaire des fréquence de chaque mot de la liste avec la fonction \"Counter\"\n",
    "    \n",
    "    word_freq = Counter(words)\n",
    "    \n",
    "    # Tokenization du texte en une liste de phrases\n",
    "    # Création d'un dictionnaire \"sentence_scores\" qui contiendra le score de chaque phrase du texte\n",
    "    \n",
    "    sentences = sent_tokenize(text)\n",
    "    sentence_scores = {}\n",
    "\n",
    "    for sentence in sentences:\n",
    "        \n",
    "        # Tokenization d'une phrase en une liste de mots, après avec lemmatisation et élimination des stopwords\n",
    "        \n",
    "        sentence_words = [word.lemma_ for word in nlp(sentence) if word.lemma_ not in set_stopwords]\n",
    "        \n",
    "        # Le score d'une phrase n'est retenu que si la phrase a moins de 20 mots (on veut un résumé constitué de phrases courtes)\n",
    "        # Le score d'une phrase est la somme des fréquences des mots qui la constituent\n",
    "        \n",
    "        if len(sentence_words) < 20:\n",
    "            sentence_scores[sentence] = sum([word_freq[word] for word in sentence_words])\n",
    "            \n",
    "    # Sélection des n phrases possédant le score le plus élevé\n",
    "    # Création du résumé en concaténant les n phrases retenues par score décroissant\n",
    "            \n",
    "    summary_sentences = sorted(sentence_scores, key=sentence_scores.get, reverse=True)[:n]\n",
    "\n",
    "    return ' '.join(summary_sentences)"
   ]
  },
  {
   "cell_type": "code",
   "execution_count": 6,
   "id": "2f8be1fa-fa33-412b-8128-d403db9015a1",
   "metadata": {},
   "outputs": [
    {
     "name": "stdout",
     "output_type": "stream",
     "text": [
      "\u001b[4mRésumé du texte en 5 phrases basé sur la fréquence des mots:\u001b[0m\n",
      "La mécanique quantique est la théorie mathématique et physique décrivant la structure et l'évolution dans le temps et l'espace des phénomènes physiques à l'échelle de l'atome et en dessous. Le cœur de la mécanique quantique repose sur l'utilisation d'amplitudes de probabilité pour caractériser tous les processus physiques possibles en mécanique quantique. La mécanique quantique, appliquée à des particules comme l'électron ou au champ électromagnétique à l'origine de la lumière, montre en réalité que ces deux objets ne sont ni vraiment des ondes ni vraiment des particules. Plusieurs noms lui sont associés, et en tout premier lieu Planck et Einstein, qui furent les premiers à comprendre que les échanges d'énergie lumineuse, puis l'énergie elle-même, ne pouvaient exister que sous forme quantifiée à l'occasion de leurs travaux sur le rayonnement du corps noir et l'effet photoélectrique. Enfin, Dirac formula la synthèse ou plutôt la généralisation complète de ces deux mécaniques, que l'on nomme aujourd'hui la mécanique quantique.\n"
     ]
    }
   ],
   "source": [
    "# Lancement de la fonction \"summary_freq\" pour générer un résumé de n phrases du texte exemple et print du résultat\n",
    "\n",
    "n = 5\n",
    "summary = summary_freq(text, n)\n",
    "\n",
    "print('\\x1B[4m' + 'Résumé du texte en %d phrases basé sur la fréquence des mots:' % n + '\\x1B[0m' '\\n' + summary)"
   ]
  },
  {
   "cell_type": "markdown",
   "id": "4f0ec0cb-f484-4ef5-a7e8-3933e20af59a",
   "metadata": {},
   "source": [
    "<b>¡¡Merci pour la lecture!!</b>"
   ]
  }
 ],
 "metadata": {
  "kernelspec": {
   "display_name": "krnl_venv_text_1",
   "language": "python",
   "name": "krnl_venv_text_1"
  },
  "language_info": {
   "codemirror_mode": {
    "name": "ipython",
    "version": 3
   },
   "file_extension": ".py",
   "mimetype": "text/x-python",
   "name": "python",
   "nbconvert_exporter": "python",
   "pygments_lexer": "ipython3",
   "version": "3.11.3"
  },
  "toc-autonumbering": true
 },
 "nbformat": 4,
 "nbformat_minor": 5
}
