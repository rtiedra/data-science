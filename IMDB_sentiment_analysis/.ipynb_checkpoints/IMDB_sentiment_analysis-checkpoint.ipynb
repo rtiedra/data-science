{
 "cells": [
  {
   "cell_type": "markdown",
   "id": "0abe8522",
   "metadata": {},
   "source": [
    "NLP sentiment analysis of IMDB reviews dataset using a LSTM recurrent neural network, licensed under the [Apache License, Version 2.0](http://www.apache.org/licenses/LICENSE-2.0)"
   ]
  },
  {
   "cell_type": "markdown",
   "id": "fc3cf6e9",
   "metadata": {},
   "source": [
    "# Table of contents\n",
    "* [Main libraries](#libraries)\n",
    "* [IMDB dataset](#IMDB)\n",
    "* [Data preprocessing](#preprocessing)\n",
    "* [Data splitting and tokenization](#splitting)\n",
    "* [LSTM Model](#LSTM)"
   ]
  },
  {
   "cell_type": "markdown",
   "id": "33bcf6c5",
   "metadata": {},
   "source": [
    "<a id='libraries'></a>\n",
    "# Main libraries\n",
    "We start by importing the main libraires we shall use:\n",
    "\n",
    "- the [re](https://docs.python.org/3/library/re.html) module (for regular expression matching operations)\n",
    "- the [nltk](https://www.nltk.org/) toolkit (for natural language operations)\n",
    "- the [numpy](https://numpy.org/) library (for arrays operations)\n",
    "- the [pandas](https://pandas.pydata.org/) library (for data analysis)\n",
    "- the [scipy.stats](https://docs.scipy.org/doc/scipy/reference/stats.html) module (for statistics)\n",
    "- the [matplotlib.pyplot](https://matplotlib.org/stable/api/_as_gen/matplotlib.pyplot.html) interface (for MATLAB-like plots)\n",
    "\n",
    "We also download (if not already done) the \"stopwords\" and \"punkt\" [data packages](https://www.nltk.org/data.html) from the nltk toolkit."
   ]
  },
  {
   "cell_type": "code",
   "execution_count": 1,
   "id": "4df00e15",
   "metadata": {},
   "outputs": [],
   "source": [
    "import re\n",
    "import nltk\n",
    "import numpy as np\n",
    "import pandas as pd\n",
    "from scipy import stats\n",
    "import matplotlib.pyplot as plt\n",
    "\n",
    "# nltk.download('punkt')\n",
    "# nltk.download('stopwords')"
   ]
  },
  {
   "cell_type": "markdown",
   "id": "a1c99aae",
   "metadata": {},
   "source": [
    "<a id='IMDB'></a>\n",
    "# IMDB dataset\n",
    "We retrieve from [Kaggle](https://www.kaggle.com/datasets/lakshmi25npathi/imdb-dataset-of-50k-movie-reviews?resource=download) the csv file \"IMDB Dataset.csv\" consisting of 50'000 IMDB movies and TV shows reviews with their corresponding positive or negative sentiment classification."
   ]
  },
  {
   "cell_type": "code",
   "execution_count": 2,
   "id": "fedcca08",
   "metadata": {},
   "outputs": [
    {
     "data": {
      "text/html": [
       "<div>\n",
       "<style scoped>\n",
       "    .dataframe tbody tr th:only-of-type {\n",
       "        vertical-align: middle;\n",
       "    }\n",
       "\n",
       "    .dataframe tbody tr th {\n",
       "        vertical-align: top;\n",
       "    }\n",
       "\n",
       "    .dataframe thead th {\n",
       "        text-align: right;\n",
       "    }\n",
       "</style>\n",
       "<table border=\"1\" class=\"dataframe\">\n",
       "  <thead>\n",
       "    <tr style=\"text-align: right;\">\n",
       "      <th></th>\n",
       "      <th>review</th>\n",
       "      <th>sentiment</th>\n",
       "    </tr>\n",
       "  </thead>\n",
       "  <tbody>\n",
       "    <tr>\n",
       "      <th>0</th>\n",
       "      <td>One of the other reviewers has mentioned that ...</td>\n",
       "      <td>positive</td>\n",
       "    </tr>\n",
       "    <tr>\n",
       "      <th>1</th>\n",
       "      <td>A wonderful little production. &lt;br /&gt;&lt;br /&gt;The...</td>\n",
       "      <td>positive</td>\n",
       "    </tr>\n",
       "    <tr>\n",
       "      <th>2</th>\n",
       "      <td>I thought this was a wonderful way to spend ti...</td>\n",
       "      <td>positive</td>\n",
       "    </tr>\n",
       "    <tr>\n",
       "      <th>3</th>\n",
       "      <td>Basically there's a family where a little boy ...</td>\n",
       "      <td>negative</td>\n",
       "    </tr>\n",
       "    <tr>\n",
       "      <th>4</th>\n",
       "      <td>Petter Mattei's \"Love in the Time of Money\" is...</td>\n",
       "      <td>positive</td>\n",
       "    </tr>\n",
       "    <tr>\n",
       "      <th>...</th>\n",
       "      <td>...</td>\n",
       "      <td>...</td>\n",
       "    </tr>\n",
       "    <tr>\n",
       "      <th>49995</th>\n",
       "      <td>I thought this movie did a down right good job...</td>\n",
       "      <td>positive</td>\n",
       "    </tr>\n",
       "    <tr>\n",
       "      <th>49996</th>\n",
       "      <td>Bad plot, bad dialogue, bad acting, idiotic di...</td>\n",
       "      <td>negative</td>\n",
       "    </tr>\n",
       "    <tr>\n",
       "      <th>49997</th>\n",
       "      <td>I am a Catholic taught in parochial elementary...</td>\n",
       "      <td>negative</td>\n",
       "    </tr>\n",
       "    <tr>\n",
       "      <th>49998</th>\n",
       "      <td>I'm going to have to disagree with the previou...</td>\n",
       "      <td>negative</td>\n",
       "    </tr>\n",
       "    <tr>\n",
       "      <th>49999</th>\n",
       "      <td>No one expects the Star Trek movies to be high...</td>\n",
       "      <td>negative</td>\n",
       "    </tr>\n",
       "  </tbody>\n",
       "</table>\n",
       "<p>50000 rows × 2 columns</p>\n",
       "</div>"
      ],
      "text/plain": [
       "                                                  review sentiment\n",
       "0      One of the other reviewers has mentioned that ...  positive\n",
       "1      A wonderful little production. <br /><br />The...  positive\n",
       "2      I thought this was a wonderful way to spend ti...  positive\n",
       "3      Basically there's a family where a little boy ...  negative\n",
       "4      Petter Mattei's \"Love in the Time of Money\" is...  positive\n",
       "...                                                  ...       ...\n",
       "49995  I thought this movie did a down right good job...  positive\n",
       "49996  Bad plot, bad dialogue, bad acting, idiotic di...  negative\n",
       "49997  I am a Catholic taught in parochial elementary...  negative\n",
       "49998  I'm going to have to disagree with the previou...  negative\n",
       "49999  No one expects the Star Trek movies to be high...  negative\n",
       "\n",
       "[50000 rows x 2 columns]"
      ]
     },
     "execution_count": 2,
     "metadata": {},
     "output_type": "execute_result"
    }
   ],
   "source": [
    "# Storing the csv file into a DataFrame \"df\"\n",
    "\n",
    "df = pd.read_csv('IMDB Dataset.csv')\n",
    "df"
   ]
  },
  {
   "cell_type": "code",
   "execution_count": 3,
   "id": "ada1e996",
   "metadata": {},
   "outputs": [
    {
     "name": "stdout",
     "output_type": "stream",
     "text": [
      "\u001b[1mdf.columns:\u001b[0m\n",
      " Index(['review', 'sentiment'], dtype='object') \n",
      "\n",
      "\u001b[1mdf.shape:\u001b[0m\n",
      " (50000, 2) \n",
      "\n",
      "\u001b[1mdf.info():\u001b[0m\n",
      "<class 'pandas.core.frame.DataFrame'>\n",
      "RangeIndex: 50000 entries, 0 to 49999\n",
      "Data columns (total 2 columns):\n",
      " #   Column     Non-Null Count  Dtype \n",
      "---  ------     --------------  ----- \n",
      " 0   review     50000 non-null  object\n",
      " 1   sentiment  50000 non-null  object\n",
      "dtypes: object(2)\n",
      "memory usage: 781.4+ KB\n"
     ]
    }
   ],
   "source": [
    "# Printing the basic properties of \"df\" (we note that there are no null values in \"df\")\n",
    "\n",
    "print('\\033[1m' + 'df.columns:' + '\\033[0m' + '\\n', df.columns, '\\n')\n",
    "print('\\033[1m' + 'df.shape:' + '\\033[0m' + '\\n', df.shape, '\\n')\n",
    "print('\\033[1m' + 'df.info():' + '\\033[0m')\n",
    "df.info()"
   ]
  },
  {
   "cell_type": "code",
   "execution_count": 4,
   "id": "0589d508",
   "metadata": {},
   "outputs": [
    {
     "data": {
      "text/html": [
       "<div>\n",
       "<style scoped>\n",
       "    .dataframe tbody tr th:only-of-type {\n",
       "        vertical-align: middle;\n",
       "    }\n",
       "\n",
       "    .dataframe tbody tr th {\n",
       "        vertical-align: top;\n",
       "    }\n",
       "\n",
       "    .dataframe thead th {\n",
       "        text-align: right;\n",
       "    }\n",
       "</style>\n",
       "<table border=\"1\" class=\"dataframe\">\n",
       "  <thead>\n",
       "    <tr style=\"text-align: right;\">\n",
       "      <th></th>\n",
       "      <th>review</th>\n",
       "      <th>sentiment</th>\n",
       "    </tr>\n",
       "  </thead>\n",
       "  <tbody>\n",
       "    <tr>\n",
       "      <th>count</th>\n",
       "      <td>50000</td>\n",
       "      <td>50000</td>\n",
       "    </tr>\n",
       "    <tr>\n",
       "      <th>unique</th>\n",
       "      <td>49582</td>\n",
       "      <td>2</td>\n",
       "    </tr>\n",
       "    <tr>\n",
       "      <th>top</th>\n",
       "      <td>Loved today's show!!! It was a variety and not...</td>\n",
       "      <td>positive</td>\n",
       "    </tr>\n",
       "    <tr>\n",
       "      <th>freq</th>\n",
       "      <td>5</td>\n",
       "      <td>25000</td>\n",
       "    </tr>\n",
       "  </tbody>\n",
       "</table>\n",
       "</div>"
      ],
      "text/plain": [
       "                                                   review sentiment\n",
       "count                                               50000     50000\n",
       "unique                                              49582         2\n",
       "top     Loved today's show!!! It was a variety and not...  positive\n",
       "freq                                                    5     25000"
      ]
     },
     "execution_count": 4,
     "metadata": {},
     "output_type": "execute_result"
    }
   ],
   "source": [
    "# Printing basic descriptive statistics of \"df\"\n",
    "\n",
    "df.describe()"
   ]
  },
  {
   "cell_type": "code",
   "execution_count": 5,
   "id": "c3f30dc1",
   "metadata": {},
   "outputs": [
    {
     "data": {
      "image/png": "[encoded data removed]",
      "text/plain": [
       "<Figure size 432x288 with 1 Axes>"
      ]
     },
     "metadata": {
      "needs_background": "light"
     },
     "output_type": "display_data"
    }
   ],
   "source": [
    "# Bar plot of the count of positive and negative reviews (they are equal)\n",
    "\n",
    "df['sentiment'].value_counts().plot.bar(color=['darkblue', 'r'], rot=0, fontsize='large')\n",
    "plt.show()"
   ]
  },
  {
   "cell_type": "code",
   "execution_count": 6,
   "id": "8bcd0848",
   "metadata": {},
   "outputs": [
    {
     "data": {
      "text/html": [
       "<div>\n",
       "<style scoped>\n",
       "    .dataframe tbody tr th:only-of-type {\n",
       "        vertical-align: middle;\n",
       "    }\n",
       "\n",
       "    .dataframe tbody tr th {\n",
       "        vertical-align: top;\n",
       "    }\n",
       "\n",
       "    .dataframe thead th {\n",
       "        text-align: right;\n",
       "    }\n",
       "</style>\n",
       "<table border=\"1\" class=\"dataframe\">\n",
       "  <thead>\n",
       "    <tr style=\"text-align: right;\">\n",
       "      <th></th>\n",
       "      <th>review</th>\n",
       "      <th>sentiment</th>\n",
       "    </tr>\n",
       "  </thead>\n",
       "  <tbody>\n",
       "    <tr>\n",
       "      <th>0</th>\n",
       "      <td>One of the other reviewers has mentioned that ...</td>\n",
       "      <td>1</td>\n",
       "    </tr>\n",
       "    <tr>\n",
       "      <th>1</th>\n",
       "      <td>A wonderful little production. &lt;br /&gt;&lt;br /&gt;The...</td>\n",
       "      <td>1</td>\n",
       "    </tr>\n",
       "    <tr>\n",
       "      <th>2</th>\n",
       "      <td>I thought this was a wonderful way to spend ti...</td>\n",
       "      <td>1</td>\n",
       "    </tr>\n",
       "    <tr>\n",
       "      <th>3</th>\n",
       "      <td>Basically there's a family where a little boy ...</td>\n",
       "      <td>0</td>\n",
       "    </tr>\n",
       "    <tr>\n",
       "      <th>4</th>\n",
       "      <td>Petter Mattei's \"Love in the Time of Money\" is...</td>\n",
       "      <td>1</td>\n",
       "    </tr>\n",
       "    <tr>\n",
       "      <th>...</th>\n",
       "      <td>...</td>\n",
       "      <td>...</td>\n",
       "    </tr>\n",
       "    <tr>\n",
       "      <th>49995</th>\n",
       "      <td>I thought this movie did a down right good job...</td>\n",
       "      <td>1</td>\n",
       "    </tr>\n",
       "    <tr>\n",
       "      <th>49996</th>\n",
       "      <td>Bad plot, bad dialogue, bad acting, idiotic di...</td>\n",
       "      <td>0</td>\n",
       "    </tr>\n",
       "    <tr>\n",
       "      <th>49997</th>\n",
       "      <td>I am a Catholic taught in parochial elementary...</td>\n",
       "      <td>0</td>\n",
       "    </tr>\n",
       "    <tr>\n",
       "      <th>49998</th>\n",
       "      <td>I'm going to have to disagree with the previou...</td>\n",
       "      <td>0</td>\n",
       "    </tr>\n",
       "    <tr>\n",
       "      <th>49999</th>\n",
       "      <td>No one expects the Star Trek movies to be high...</td>\n",
       "      <td>0</td>\n",
       "    </tr>\n",
       "  </tbody>\n",
       "</table>\n",
       "<p>50000 rows × 2 columns</p>\n",
       "</div>"
      ],
      "text/plain": [
       "                                                  review  sentiment\n",
       "0      One of the other reviewers has mentioned that ...          1\n",
       "1      A wonderful little production. <br /><br />The...          1\n",
       "2      I thought this was a wonderful way to spend ti...          1\n",
       "3      Basically there's a family where a little boy ...          0\n",
       "4      Petter Mattei's \"Love in the Time of Money\" is...          1\n",
       "...                                                  ...        ...\n",
       "49995  I thought this movie did a down right good job...          1\n",
       "49996  Bad plot, bad dialogue, bad acting, idiotic di...          0\n",
       "49997  I am a Catholic taught in parochial elementary...          0\n",
       "49998  I'm going to have to disagree with the previou...          0\n",
       "49999  No one expects the Star Trek movies to be high...          0\n",
       "\n",
       "[50000 rows x 2 columns]"
      ]
     },
     "execution_count": 6,
     "metadata": {},
     "output_type": "execute_result"
    }
   ],
   "source": [
    "# Converting the sentiment values to integers (positive --> 1 and negative --> 0)\n",
    "\n",
    "df.sentiment = [1 if tag == 'positive' else 0 for tag in df.sentiment]\n",
    "df"
   ]
  },
  {
   "cell_type": "markdown",
   "id": "4d06a602",
   "metadata": {},
   "source": [
    "<a id='preprocessing'></a>\n",
    "# Data preprocessing\n",
    "First, we use regular expressions to make the following transformations to the reviews:\n",
    "\n",
    "- remove punctuation marks\n",
    "- remove HTML tags\n",
    "- remove URL's\n",
    "- remove characters which are not letters or digits\n",
    "- remove multiple whitespaces\n",
    "- convert to lower case\n",
    "- strip whitespaces from the beginning and the end"
   ]
  },
  {
   "cell_type": "code",
   "execution_count": 7,
   "id": "61ec5181",
   "metadata": {},
   "outputs": [],
   "source": [
    "# Storing in \"before_process\" an example of review before preprocessing\n",
    "# Defining and applying the function \"process\" performing the transformations of the reviews\n",
    "# Storing in \"after_process\" the example of review after preprocessing\n",
    "\n",
    "idx = 2132\n",
    "before_process = df.iloc[idx][0]\n",
    "\n",
    "def process(x):\n",
    "    x = re.sub('[,\\.!?:()\"]', '', x)\n",
    "    x = re.sub('<.*?>', ' ', x)\n",
    "    x = re.sub('http\\S+', ' ', x)\n",
    "    x = re.sub('[^a-zA-Z0-9]', ' ', x)\n",
    "    x = re.sub('\\s+', ' ', x)\n",
    "    return x.lower().strip()\n",
    "\n",
    "df['review'] = df['review'].apply(lambda x: process(x))\n",
    "after_process = df.iloc[idx][0]"
   ]
  },
  {
   "cell_type": "markdown",
   "id": "eb42e9bf",
   "metadata": {},
   "source": [
    "Next, we remove stopwords from the reviews using the [word_tokenize()](https://www.nltk.org/_modules/nltk/tokenize.html#word_tokenize) function from the [nltk.tokenize]((https://www.nltk.org/api/nltk.tokenize.html) package."
   ]
  },
  {
   "cell_type": "code",
   "execution_count": 8,
   "id": "7c8a008d",
   "metadata": {},
   "outputs": [],
   "source": [
    "# Storing in \"stopwords_set\" the set of English stopwords provided by nltk\n",
    "# Defining and applying the function \"sw_remove\" which remove stopwords from reviews\n",
    "# Storing in \"after_removal\" the example of review after tokenization\n",
    "\n",
    "stopwords_set = set(nltk.corpus.stopwords.words('english'))\n",
    "\n",
    "def sw_remove(x):\n",
    "    words = nltk.tokenize.word_tokenize(x)\n",
    "    filtered_list = [word for word in words if word not in stopwords_set]\n",
    "    return ' '.join(filtered_list)\n",
    "\n",
    "df['review'] = df['review'].apply(lambda x: sw_remove(x))\n",
    "after_removal = sw_remove(after_process)"
   ]
  },
  {
   "cell_type": "code",
   "execution_count": 9,
   "id": "93f798a3",
   "metadata": {},
   "outputs": [
    {
     "name": "stdout",
     "output_type": "stream",
     "text": [
      "\u001b[1mExample of review before preprocessing:\u001b[0m\n",
      " I, too, found \"Oppenheimer\" to be a brilliant series and one of the finest offerings ever on American PBS. David Suchet was particularly effective as Edward Teller, as I recall, and the overall conception was spectacularly good. The only reason that the series doesn't rate a full 10/10 is for the low-budget production values in some areas. Actual content is absolutely first-rate in my recollection.<br /><br />The Oppenheimer miniseries will be released in the UK on July 31st! It will be a Region 2/PAL set, but it would seem that a Region 1/NTSC set should be soon in the offing.<br /><br />If you have a universal player in the US, you can order the series right now from Amazon UK.<br /><br />http://tinyurl.com/znyyq<br /><br />Huzzah!! \n",
      "\n",
      "\u001b[1mSame review after preprocessing:\u001b[0m\n",
      " i too found oppenheimer to be a brilliant series and one of the finest offerings ever on american pbs david suchet was particularly effective as edward teller as i recall and the overall conception was spectacularly good the only reason that the series doesn t rate a full 10 10 is for the low budget production values in some areas actual content is absolutely first rate in my recollection the oppenheimer miniseries will be released in the uk on july 31st it will be a region 2 pal set but it would seem that a region 1 ntsc set should be soon in the offing if you have a universal player in the us you can order the series right now from amazon uk huzzah \n",
      "\n",
      "\u001b[1mSame review after preprocessing and stopwords removal:\u001b[0m\n",
      " found oppenheimer brilliant series one finest offerings ever american pbs david suchet particularly effective edward teller recall overall conception spectacularly good reason series rate full 10 10 low budget production values areas actual content absolutely first rate recollection oppenheimer miniseries released uk july 31st region 2 pal set would seem region 1 ntsc set soon offing universal player us order series right amazon uk huzzah\n"
     ]
    }
   ],
   "source": [
    "# Printing an example of review before preprocessing, after preprocessing, and after stopwords removal\n",
    "\n",
    "print('\\033[1m' + 'Example of review before preprocessing:' + '\\033[0m' + '\\n', before_process, '\\n')\n",
    "print('\\033[1m' + 'Same review after preprocessing:' + '\\033[0m' + '\\n', after_process, '\\n')\n",
    "print('\\033[1m' + 'Same review after preprocessing and stopwords removal:' + '\\033[0m' + '\\n', after_removal)"
   ]
  },
  {
   "cell_type": "markdown",
   "id": "29df6cd1",
   "metadata": {},
   "source": [
    "<a id='splitting'></a>\n",
    "# Data splitting and tokenization\n",
    "We use the [train_test_split()](https://scikit-learn.org/stable/modules/generated/sklearn.model_selection.train_test_split.html) function from the [sklearn.model_selection](https://scikit-learn.org/stable/modules/classes.html#module-sklearn.model_selection) module to split our data into random training and test subsets."
   ]
  },
  {
   "cell_type": "code",
   "execution_count": 10,
   "id": "beb4a6c6",
   "metadata": {
    "scrolled": true
   },
   "outputs": [
    {
     "name": "stdout",
     "output_type": "stream",
     "text": [
      "\u001b[1mtrain_rev.shape:\u001b[0m (45000,)\n",
      "\u001b[1mtest_rev.shape:\u001b[0m (5000,)\n",
      "\u001b[1mtrain_sent.shape:\u001b[0m (45000,)\n",
      "\u001b[1mtest_sent.shape:\u001b[0m (5000,)\n"
     ]
    }
   ],
   "source": [
    "from sklearn.model_selection import train_test_split\n",
    "\n",
    "train_rev, test_rev, train_sent, test_sent = train_test_split(df['review'], df['sentiment'], test_size=0.1, random_state=42)\n",
    "\n",
    "print('\\033[1m' + 'train_rev.shape:' + '\\033[0m', train_rev.shape)\n",
    "print('\\033[1m' + 'test_rev.shape:' + '\\033[0m', test_rev.shape)\n",
    "print('\\033[1m' + 'train_sent.shape:' + '\\033[0m', train_sent.shape)\n",
    "print('\\033[1m' + 'test_sent.shape:' + '\\033[0m', test_sent.shape)"
   ]
  },
  {
   "cell_type": "markdown",
   "id": "a4e7c2f9",
   "metadata": {},
   "source": [
    "Next, we use the [Tokenizer](https://www.tensorflow.org/api_docs/python/tf/keras/preprocessing/text/Tokenizer) class from [keras.preprocessing.text](https://www.tensorflow.org/api_docs/python/tf/keras/preprocessing/text/) module to create a dictionary of the \"dict_size\" most frequent words present in the reviews (a unique integer is assigned to each word), and we print some of its [attributes](https://faroit.com/keras-docs/1.2.2/preprocessing/text/). The index of the Tokenizer is computed the same way no matter how many most frequent words we use later, see this [post](https://stackoverflow.com/questions/46202519/keras-tokenizer-num-words-doesnt-seem-to-work)."
   ]
  },
  {
   "cell_type": "code",
   "execution_count": 11,
   "id": "017041bb",
   "metadata": {},
   "outputs": [
    {
     "name": "stdout",
     "output_type": "stream",
     "text": [
      "\u001b[1mNumber of documents the tokenizer was trained on:\u001b[0m\n",
      " 50000 \n",
      "\n",
      "\u001b[1mlength of the tokenizer index:\u001b[0m\n",
      " 125791 \n",
      "\n",
      "\u001b[1mFirst 50 entries of the tokenizer index:\u001b[0m\n",
      "('movie', 1) ('film', 2) ('one', 3) ('like', 4) ('good', 5) ('time', 6) ('even', 7) ('would', 8) ('really', 9) ('story', 10) ('see', 11) ('well', 12) ('much', 13) ('get', 14) ('bad', 15) ('people', 16) ('great', 17) ('also', 18) ('first', 19) ('made', 20) ('make', 21) ('way', 22) ('could', 23) ('movies', 24) ('characters', 25) ('think', 26) ('watch', 27) ('character', 28) ('films', 29) ('two', 30) ('many', 31) ('seen', 32) ('never', 33) ('love', 34) ('plot', 35) ('life', 36) ('acting', 37) ('show', 38) ('best', 39) ('know', 40) ('little', 41) ('ever', 42) ('man', 43) ('better', 44) ('end', 45) ('scene', 46) ('still', 47) ('say', 48) ('scenes', 49) ('something', 50)\n"
     ]
    }
   ],
   "source": [
    "from keras.preprocessing.text import Tokenizer\n",
    "\n",
    "dict_size = 50000\n",
    "tokenizer = Tokenizer(num_words=dict_size)\n",
    "tokenizer.fit_on_texts(df['review'])\n",
    "\n",
    "print('\\033[1m' + 'Number of documents the tokenizer was trained on:' + '\\033[0m' + '\\n', tokenizer.document_count, '\\n')\n",
    "print('\\033[1m' + 'length of the tokenizer index:' + '\\033[0m' + '\\n', len(tokenizer.word_index), '\\n')\n",
    "print('\\033[1m' + 'First 50 entries of the tokenizer index:' + '\\033[0m')\n",
    "print(*list(tokenizer.word_index.items())[:50])"
   ]
  },
  {
   "cell_type": "markdown",
   "id": "7e7fd232",
   "metadata": {},
   "source": [
    "We use the [texts_to_sequences()](https://github.com/keras-team/keras/blob/v2.9.0/keras/preprocessing/text.py#L325-L337) function of the Tokenizer class to convert the training reviews and test reviews to lists of sequences of integers (tokens) \"train_rev_tokens\" and \"test_rev_tokens\", and we store in the numpy array \"seq_lengths\" the lengths of the sequences included in \"train_rev_tokens\" and \"test_rev_tokens\"."
   ]
  },
  {
   "cell_type": "code",
   "execution_count": 12,
   "id": "4fb5299d",
   "metadata": {},
   "outputs": [
    {
     "name": "stdout",
     "output_type": "stream",
     "text": [
      "\u001b[1mseq_lengths:\u001b[0m\n",
      " [ 76 129  59 ...  63  90  84] \n",
      "\n"
     ]
    }
   ],
   "source": [
    "train_rev_tokens = tokenizer.texts_to_sequences(train_rev)\n",
    "test_rev_tokens = tokenizer.texts_to_sequences(test_rev)\n",
    "seq_lengths =  np.array([len(sequence) for sequence in train_rev_tokens + test_rev_tokens])\n",
    "\n",
    "print('\\033[1m' + 'seq_lengths:' + '\\033[0m' + '\\n', seq_lengths, '\\n')"
   ]
  },
  {
   "cell_type": "markdown",
   "id": "570cf1af",
   "metadata": {},
   "source": [
    "If the lengths of the sequences were normally distributed, then a given length could be considered small or large when outside the interval\n",
    "\n",
    "$$\n",
    "\\hbox{mean value of seq_lengths} \\pm \\hbox{2 standard deviations of seq_lengths,}\n",
    "$$\n",
    "\n",
    "and lengths not belonging to this interval would only represent 5% of the elements of seq_lengths (see the [68–95–99.7 rule](https://en.wikipedia.org/wiki/68%E2%80%9395%E2%80%9399.7_rule) in statistics). Here, we follow this heuristics, and thus define an upper bound for the length of sequences accordingly."
   ]
  },
  {
   "cell_type": "code",
   "execution_count": 13,
   "id": "7c6049ff",
   "metadata": {},
   "outputs": [
    {
     "name": "stdout",
     "output_type": "stream",
     "text": [
      "\u001b[1mupper_bound:\u001b[0m 295\n",
      "\u001b[1mPercentage of elements of \"seq_lengths\" smaller or equal than \"length_bound\":\u001b[0m 94.55 %\n"
     ]
    }
   ],
   "source": [
    "# Storing in \"upper_bound\" the upper bound for the length of sequences\n",
    "# Computing the percentage of elements of \"seq_lengths\" smaller or equal than \"upper_bound\"\n",
    "\n",
    "upper_bound = int(np.mean(seq_lengths) + 2 * np.std(seq_lengths))\n",
    "percentage = round(stats.percentileofscore(seq_lengths, upper_bound), 2)\n",
    "\n",
    "print('\\033[1m' + 'upper_bound:' + '\\033[0m', upper_bound)\n",
    "print('\\033[1m' + 'Percentage of elements of \"seq_lengths\" smaller or equal than \"length_bound\":' + '\\033[0m', percentage, '%')"
   ]
  },
  {
   "cell_type": "markdown",
   "id": "22457a47",
   "metadata": {},
   "source": [
    "Using the [pad_sequences()](https://www.tensorflow.org/api_docs/python/tf/keras/utils/pad_sequences) function from [keras.preprocessing.sequence](https://www.tensorflow.org/api_docs/python/tf/keras/preprocessing/sequence) module, we transform \"train_rev_tokens\" and \"test_rev_tokens\" into 2D numpy arrays of shape (number of sequences, upper_bound). Sequences of smaller (resp. larger) length than \"upper_bound\" are extended (resp. truncated) to have length equal to \"upper_bound\"."
   ]
  },
  {
   "cell_type": "code",
   "execution_count": 14,
   "id": "887bc847",
   "metadata": {},
   "outputs": [
    {
     "name": "stdout",
     "output_type": "stream",
     "text": [
      "\u001b[1mtrain_rev_pad.shape:\u001b[0m (45000, 295)\n",
      "\u001b[1mtest_rev_pad.shape:\u001b[0m (5000, 295) \n",
      "\n",
      "\u001b[1mExample of review after padding:\u001b[0m\n",
      "\n",
      " [    0     0     0     0     0     0     0     0     0     0     0     0\n",
      "     0     0     0     0     0     0     0     0     0     0     0     0\n",
      "     0     0     0     0     0     0     0     0     0     0     0     0\n",
      "     0     0     0     0     0     0     0     0     0     0     0     0\n",
      "     0     0     0     0     0     0     0     0     0     0     0     0\n",
      "     0     0     0     0     0     0     0     0     0     0     0     0\n",
      "     0     0     0     0     0     0     0     0     0     0     0     0\n",
      "     0     0     0     0     0     0     0     0     0     0     0     0\n",
      "     0     0     0     0     0     0     0     0     0     0     0     0\n",
      "     0     0     0     0     0     0     0     0     0     0     0     0\n",
      "     0     0     0     0     0     0     0     0     0     0     0     0\n",
      "     0     0     0     0     0     0     0 48038   136  1216  3217  2802\n",
      "    27     1   123     5    44   272     1    17   471  9398  3217  2802\n",
      "  1153   324  2319   612   217 26369     7     1  2227  1603  2077 15582\n",
      "   293  2926    61  1712  2788    24  9889 17507    35  4989  3024  3415\n",
      "  2997   900   285 25452  1050  1009  3031 23946   204   182  5818  1050\n",
      "   622   142   866   275  1390   331  2802     5   558   493   652  5294\n",
      "    37  3404   290  3428  6283   149   268   152    94   123   553   596\n",
      "   323   266    55  2210     7  1227    27 26321  2804  2446  3835   128\n",
      "     2   257  2650   854   363  1167  1871    27    13   106  3217  2802\n",
      "    29   715    78    40 20926  3031  3217 10627 10228  2243  5072 12696\n",
      "    73  3513  2095   136  1105   412  7023  2863   722   243   628   469\n",
      "  2541    62   360   814  1715 10551  1006 21766   900   285   562 21544\n",
      "  5071  3141    96  2077 15582 25187  2700  1046   228  9069    55   265\n",
      "     9  7807   485   378  2013  7807   485]\n"
     ]
    }
   ],
   "source": [
    "from keras.preprocessing.sequence import pad_sequences\n",
    "\n",
    "train_rev_pad = pad_sequences(train_rev_tokens, maxlen=upper_bound)\n",
    "test_rev_pad = pad_sequences(test_rev_tokens, maxlen=upper_bound)\n",
    "\n",
    "print('\\033[1m' + 'train_rev_pad.shape:' + '\\033[0m', train_rev_pad.shape)\n",
    "print('\\033[1m' + 'test_rev_pad.shape:' + '\\033[0m', test_rev_pad.shape, '\\n')\n",
    "print('\\033[1m' + 'Example of review after padding:' + '\\033[0m' + '\\n\\n', train_rev_pad[idx])"
   ]
  },
  {
   "cell_type": "markdown",
   "id": "fbeeae40",
   "metadata": {},
   "source": [
    "<a id='LSTM'></a>\n",
    "# LSTM Model\n",
    "We start by importing some classes from Keras:\n",
    "\n",
    "- the [Sequential](https://keras.io/api/models/sequential/) class from the keras.models API (to group a linear stack of layers into a model)\n",
    "- the [Embedding](https://keras.io/api/layers/core_layers/embedding/) class from the keras.layers API (to turn positive integers (indexes) into dense vectors of fixed size)\n",
    "- the [LSTM](https://keras.io/api/layers/recurrent_layers/lstm/) class from the keras.layers API (to apply a long short-term memory layer to an input)\n",
    "- the [Dropout](https://keras.io/api/layers/regularization_layers/dropout/) class from the keras.layers API (to apply dropout to the input)\n",
    "- the [Dense](https://keras.io/api/layers/core_layers/dense/) class from the keras.layers API (to apply a regular densely-connected NN layer to an input)"
   ]
  },
  {
   "cell_type": "code",
   "execution_count": 15,
   "id": "d82377e7",
   "metadata": {},
   "outputs": [],
   "source": [
    "from keras.models import Sequential\n",
    "from keras.layers import Embedding, LSTM, Dropout, Dense"
   ]
  },
  {
   "cell_type": "code",
   "execution_count": 16,
   "id": "69f7cedc",
   "metadata": {},
   "outputs": [],
   "source": [
    "output_dim = 16\n",
    "units_lstm = 16\n",
    "r = 0.4\n",
    "\n",
    "model = Sequential()\n",
    "model.add(Embedding(input_dim=dict_size, output_dim=output_dim, input_length=upper_bound))\n",
    "model.add(LSTM(units=units_lstm))\n",
    "model.add(Dropout(r))\n",
    "model.add(Dense(units=1, activation='sigmoid'))"
   ]
  },
  {
   "cell_type": "markdown",
   "id": "3fc73242",
   "metadata": {},
   "source": [
    "We give a summary of the model using the [summary](https://keras.io/api/models/model/#summary-method) method of the [model class](https://keras.io/api/models/model/) of Keras. The \"None\" value stands for the (not yet defined) value of the batch size."
   ]
  },
  {
   "cell_type": "code",
   "execution_count": 17,
   "id": "fbb1c44c",
   "metadata": {},
   "outputs": [
    {
     "name": "stdout",
     "output_type": "stream",
     "text": [
      "Model: \"sequential\"\n",
      "_________________________________________________________________\n",
      " Layer (type)                Output Shape              Param #   \n",
      "=================================================================\n",
      " embedding (Embedding)       (None, 295, 16)           800000    \n",
      "                                                                 \n",
      " lstm (LSTM)                 (None, 16)                2112      \n",
      "                                                                 \n",
      " dropout (Dropout)           (None, 16)                0         \n",
      "                                                                 \n",
      " dense (Dense)               (None, 1)                 17        \n",
      "                                                                 \n",
      "=================================================================\n",
      "Total params: 802,129\n",
      "Trainable params: 802,129\n",
      "Non-trainable params: 0\n",
      "_________________________________________________________________\n"
     ]
    }
   ],
   "source": [
    "model.summary()"
   ]
  },
  {
   "cell_type": "markdown",
   "id": "c6c2b4cf",
   "metadata": {},
   "source": [
    "We import the [plot_model](https://keras.io/api/utils/model_plotting_utils/) function from the [keras.utils.vis_utils](https://faroit.com/keras-docs/2.0.8/visualization/) module to plot a schema of the model."
   ]
  },
  {
   "cell_type": "code",
   "execution_count": 18,
   "id": "f27d8843",
   "metadata": {},
   "outputs": [
    {
     "data": {
      "image/png": "[encoded data removed]",
      "text/plain": [
       "<IPython.core.display.Image object>"
      ]
     },
     "execution_count": 18,
     "metadata": {},
     "output_type": "execute_result"
    }
   ],
   "source": [
    "from keras.utils.vis_utils import plot_model\n",
    "\n",
    "plot_model(model, show_shapes=True)"
   ]
  },
  {
   "cell_type": "markdown",
   "id": "4f1b8240",
   "metadata": {},
   "source": [
    "We compile the model for training with the following parameters:\n",
    "- [adam](https://keras.io/api/optimizers/adam) as optimizer to use during training process (a combination of gradient descent with momentum and RMSP)\n",
    "- [binary cross-entropy](https://keras.io/api/losses/probabilistic_losses/#binarycrossentropy-class) (bce) between true labels and predicted labels as loss to minimise during training process\n",
    "- [accuracy](https://keras.io/api/metrics/accuracy_metrics/#accuracy-class) as metric to display during training process (how often predicted labels equal true labels)"
   ]
  },
  {
   "cell_type": "code",
   "execution_count": 19,
   "id": "ecba2259",
   "metadata": {},
   "outputs": [],
   "source": [
    "model.compile(optimizer='adam', loss='bce', metrics='accuracy')"
   ]
  },
  {
   "cell_type": "markdown",
   "id": "2a13c9de",
   "metadata": {},
   "source": [
    "We [train the model](https://keras.io/api/models/model_training_apis/#fit-method) with \"train_rev_pad\" as input array, \"train_sent\" as output array, [validation split](https://keras.io/api/models/model_training_apis/#:~:text=validation_split%3A%20Float%20between%200%20and,the%20end%20of%20each%20epoch.), batch size, number of epochs, and the option \"shuffle=True\" (to shuffle the training data before each epoch).\n",
    "\n",
    "An epoch is a pass of the neural network over the entire training set and the batch size is the number of samples that are passed to the network at once. For each epoch, we thus have\n",
    "\n",
    "$$\n",
    "\\hbox{number of training steps} = \\frac{\\hbox{length of training set - length of validation set}}{\\hbox{batch size}}\\;\\!.\n",
    "$$"
   ]
  },
  {
   "cell_type": "code",
   "execution_count": 20,
   "id": "7b809bb8",
   "metadata": {
    "scrolled": true
   },
   "outputs": [
    {
     "name": "stdout",
     "output_type": "stream",
     "text": [
      "Epoch 1/4\n",
      "71/71 [==============================] - 28s 363ms/step - loss: 0.6400 - accuracy: 0.6881 - val_loss: 0.4970 - val_accuracy: 0.8012\n",
      "Epoch 2/4\n",
      "71/71 [==============================] - 26s 364ms/step - loss: 0.3669 - accuracy: 0.8848 - val_loss: 0.3084 - val_accuracy: 0.8880\n",
      "Epoch 3/4\n",
      "71/71 [==============================] - 26s 365ms/step - loss: 0.2380 - accuracy: 0.9309 - val_loss: 0.2754 - val_accuracy: 0.8920\n",
      "Epoch 4/4\n",
      "71/71 [==============================] - 26s 365ms/step - loss: 0.1730 - accuracy: 0.9530 - val_loss: 0.2904 - val_accuracy: 0.8886\n"
     ]
    }
   ],
   "source": [
    "validation_split = 0.2\n",
    "batch_size = 512\n",
    "epochs = 4\n",
    "\n",
    "history = model.fit(train_rev_pad, train_sent, validation_split=validation_split, batch_size=batch_size, epochs=epochs, shuffle=True)"
   ]
  },
  {
   "cell_type": "code",
   "execution_count": 50,
   "id": "eaf43aec",
   "metadata": {},
   "outputs": [
    {
     "data": {
      "image/png": "[encoded data removed]",
      "text/plain": [
       "<Figure size 1008x432 with 2 Axes>"
      ]
     },
     "metadata": {
      "needs_background": "light"
     },
     "output_type": "display_data"
    }
   ],
   "source": [
    "# Storing in \"x_values\" the values of the epochs\n",
    "\n",
    "x_values = range(1, epochs+1)\n",
    "\n",
    "# Plot of the training loss and validation loss (binary cross-entropy)\n",
    "\n",
    "_, (p_loss, p_acc) = plt.subplots(1, 2, figsize=(14, 6))\n",
    "\n",
    "p_loss.plot(x_values, history.history['loss'], color='darkblue', linestyle='dotted', marker='o',\n",
    "            label='Training loss (binary cross-entropy)')\n",
    "p_loss.plot(x_values, history.history['val_loss'], color='r', linestyle='dotted', marker='o',\n",
    "            label='Validation loss (binary cross-entropy)')\n",
    "\n",
    "p_acc.plot(x_values, history.history['accuracy'], color='darkblue', linestyle='dotted', marker='o',\n",
    "            label='Training accuracy')\n",
    "p_acc.plot(x_values, history.history['val_accuracy'], color='r', linestyle='dotted', marker='o',\n",
    "            label='Validation accuracy')\n",
    "\n",
    "# Parameters of the plot\n",
    "\n",
    "plt.rcParams['xtick.labelsize'] = 'large'\n",
    "plt.rcParams['ytick.labelsize'] = 'large'\n",
    "p_loss.set_xlabel('Epoch', size='large')\n",
    "p_loss.legend(fontsize='large')\n",
    "p_acc.set_xlabel('Epoch', size='large')\n",
    "p_acc.legend(fontsize='large')\n",
    "plt.show()"
   ]
  },
  {
   "cell_type": "code",
   "execution_count": null,
   "id": "ed0764b5",
   "metadata": {},
   "outputs": [],
   "source": []
  },
  {
   "cell_type": "code",
   "execution_count": null,
   "id": "63f44241",
   "metadata": {},
   "outputs": [],
   "source": []
  },
  {
   "cell_type": "code",
   "execution_count": null,
   "id": "f2925325",
   "metadata": {},
   "outputs": [],
   "source": []
  }
 ],
 "metadata": {
  "kernelspec": {
   "display_name": "Python 3 (ipykernel)",
   "language": "python",
   "name": "python3"
  },
  "language_info": {
   "codemirror_mode": {
    "name": "ipython",
    "version": 3
   },
   "file_extension": ".py",
   "mimetype": "text/x-python",
   "name": "python",
   "nbconvert_exporter": "python",
   "pygments_lexer": "ipython3",
   "version": "3.10.2"
  }
 },
 "nbformat": 4,
 "nbformat_minor": 5
}
