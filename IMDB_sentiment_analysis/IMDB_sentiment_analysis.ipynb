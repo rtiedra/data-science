{
 "cells": [
  {
   "cell_type": "markdown",
   "id": "0abe8522",
   "metadata": {},
   "source": [
    "NLP sentiment analysis of IMDB reviews dataset using a LSTM recurrent neural network<br>\n",
    "Licensed under the [Apache License, Version 2.0](http://www.apache.org/licenses/LICENSE-2.0)"
   ]
  },
  {
   "cell_type": "markdown",
   "id": "fc3cf6e9",
   "metadata": {},
   "source": [
    "# Table of contents\n",
    "* [Main libraries](#libraries)\n",
    "* [IMDB dataset](#IMDB)\n",
    "* [Data preprocessing](#preprocessing)\n",
    "* [Data splitting and tokenization](#splitting)\n",
    "* [LSTM Model](#LSTM)\n",
    "* [Results](#results)"
   ]
  },
  {
   "cell_type": "markdown",
   "id": "33bcf6c5",
   "metadata": {},
   "source": [
    "<a id='libraries'></a>\n",
    "# Main libraries\n",
    "We start by importing the main libraires that we will use:\n",
    "\n",
    "- the [re](https://docs.python.org/3/library/re.html) module (for regular expression matching operations)\n",
    "- the [nltk](https://www.nltk.org/) toolkit (for natural language operations)\n",
    "- the [random](https://docs.python.org/3/library/random.html) module (for random number generation)\n",
    "- the [numpy](https://numpy.org/) library (for arrays operations)\n",
    "- the [pandas](https://pandas.pydata.org/) library (for data analysis)\n",
    "- the [scipy.stats](https://docs.scipy.org/doc/scipy/reference/stats.html) module (for statistics)\n",
    "- the [seaborn](https://seaborn.pydata.org/) library (for statistical data visualization)\n",
    "- the [matplotlib.pyplot](https://matplotlib.org/stable/api/_as_gen/matplotlib.pyplot.html) interface (for MATLAB-like plots)\n",
    "\n",
    "We also download (if not already done) the stopwords and punkt [data packages](https://www.nltk.org/data.html) from the nltk toolkit."
   ]
  },
  {
   "cell_type": "code",
   "execution_count": 1,
   "id": "4df00e15",
   "metadata": {
    "execution": {
     "iopub.execute_input": "2022-06-05T12:03:17.770954Z",
     "iopub.status.busy": "2022-06-05T12:03:17.770708Z",
     "iopub.status.idle": "2022-06-05T12:03:17.779383Z",
     "shell.execute_reply": "2022-06-05T12:03:17.778803Z",
     "shell.execute_reply.started": "2022-06-05T12:03:17.770932Z"
    }
   },
   "outputs": [],
   "source": [
    "import re\n",
    "import nltk\n",
    "import random\n",
    "import numpy as np\n",
    "import pandas as pd\n",
    "import seaborn as sns\n",
    "from scipy import stats\n",
    "import matplotlib.pyplot as plt\n",
    "\n",
    "#nltk.download('punkt')\n",
    "#nltk.download('stopwords')\n",
    "\n",
    "# Setting as large the xtick and ytick font sizes in graphs\n",
    "\n",
    "plt.rcParams['xtick.labelsize'] = 'large'\n",
    "plt.rcParams['ytick.labelsize'] = 'large'"
   ]
  },
  {
   "cell_type": "markdown",
   "id": "a1c99aae",
   "metadata": {},
   "source": [
    "<a id='IMDB'></a>\n",
    "# IMDB dataset\n",
    "We retrieve from [Kaggle](https://www.kaggle.com/datasets/lakshmi25npathi/imdb-dataset-of-50k-movie-reviews?resource=download) the csv file \"IMDB Dataset.csv\" consisting of 50'000 IMDB movies and TV shows reviews with their positive or negative sentiment classification."
   ]
  },
  {
   "cell_type": "code",
   "execution_count": 2,
   "id": "fedcca08",
   "metadata": {
    "execution": {
     "iopub.execute_input": "2022-06-05T12:03:17.870547Z",
     "iopub.status.busy": "2022-06-05T12:03:17.870179Z",
     "iopub.status.idle": "2022-06-05T12:03:18.843911Z",
     "shell.execute_reply": "2022-06-05T12:03:18.843250Z",
     "shell.execute_reply.started": "2022-06-05T12:03:17.870520Z"
    }
   },
   "outputs": [
    {
     "data": {
      "text/html": [
       "<div>\n",
       "<style scoped>\n",
       "    .dataframe tbody tr th:only-of-type {\n",
       "        vertical-align: middle;\n",
       "    }\n",
       "\n",
       "    .dataframe tbody tr th {\n",
       "        vertical-align: top;\n",
       "    }\n",
       "\n",
       "    .dataframe thead th {\n",
       "        text-align: right;\n",
       "    }\n",
       "</style>\n",
       "<table border=\"1\" class=\"dataframe\">\n",
       "  <thead>\n",
       "    <tr style=\"text-align: right;\">\n",
       "      <th></th>\n",
       "      <th>review</th>\n",
       "      <th>sentiment</th>\n",
       "    </tr>\n",
       "  </thead>\n",
       "  <tbody>\n",
       "    <tr>\n",
       "      <th>0</th>\n",
       "      <td>One of the other reviewers has mentioned that ...</td>\n",
       "      <td>positive</td>\n",
       "    </tr>\n",
       "    <tr>\n",
       "      <th>1</th>\n",
       "      <td>A wonderful little production. &lt;br /&gt;&lt;br /&gt;The...</td>\n",
       "      <td>positive</td>\n",
       "    </tr>\n",
       "    <tr>\n",
       "      <th>2</th>\n",
       "      <td>I thought this was a wonderful way to spend ti...</td>\n",
       "      <td>positive</td>\n",
       "    </tr>\n",
       "    <tr>\n",
       "      <th>3</th>\n",
       "      <td>Basically there's a family where a little boy ...</td>\n",
       "      <td>negative</td>\n",
       "    </tr>\n",
       "    <tr>\n",
       "      <th>4</th>\n",
       "      <td>Petter Mattei's \"Love in the Time of Money\" is...</td>\n",
       "      <td>positive</td>\n",
       "    </tr>\n",
       "    <tr>\n",
       "      <th>...</th>\n",
       "      <td>...</td>\n",
       "      <td>...</td>\n",
       "    </tr>\n",
       "    <tr>\n",
       "      <th>49995</th>\n",
       "      <td>I thought this movie did a down right good job...</td>\n",
       "      <td>positive</td>\n",
       "    </tr>\n",
       "    <tr>\n",
       "      <th>49996</th>\n",
       "      <td>Bad plot, bad dialogue, bad acting, idiotic di...</td>\n",
       "      <td>negative</td>\n",
       "    </tr>\n",
       "    <tr>\n",
       "      <th>49997</th>\n",
       "      <td>I am a Catholic taught in parochial elementary...</td>\n",
       "      <td>negative</td>\n",
       "    </tr>\n",
       "    <tr>\n",
       "      <th>49998</th>\n",
       "      <td>I'm going to have to disagree with the previou...</td>\n",
       "      <td>negative</td>\n",
       "    </tr>\n",
       "    <tr>\n",
       "      <th>49999</th>\n",
       "      <td>No one expects the Star Trek movies to be high...</td>\n",
       "      <td>negative</td>\n",
       "    </tr>\n",
       "  </tbody>\n",
       "</table>\n",
       "<p>50000 rows × 2 columns</p>\n",
       "</div>"
      ],
      "text/plain": [
       "                                                  review sentiment\n",
       "0      One of the other reviewers has mentioned that ...  positive\n",
       "1      A wonderful little production. <br /><br />The...  positive\n",
       "2      I thought this was a wonderful way to spend ti...  positive\n",
       "3      Basically there's a family where a little boy ...  negative\n",
       "4      Petter Mattei's \"Love in the Time of Money\" is...  positive\n",
       "...                                                  ...       ...\n",
       "49995  I thought this movie did a down right good job...  positive\n",
       "49996  Bad plot, bad dialogue, bad acting, idiotic di...  negative\n",
       "49997  I am a Catholic taught in parochial elementary...  negative\n",
       "49998  I'm going to have to disagree with the previou...  negative\n",
       "49999  No one expects the Star Trek movies to be high...  negative\n",
       "\n",
       "[50000 rows x 2 columns]"
      ]
     },
     "execution_count": 2,
     "metadata": {},
     "output_type": "execute_result"
    }
   ],
   "source": [
    "# Storing the csv file into a DataFrame \"df\"\n",
    "\n",
    "df = pd.read_csv('IMDB Dataset.csv')\n",
    "df"
   ]
  },
  {
   "cell_type": "markdown",
   "id": "1e6dc009",
   "metadata": {},
   "source": [
    "We print the basic properties of the DataFrame. In particular, we note that there are no null values in the DataFrame."
   ]
  },
  {
   "cell_type": "code",
   "execution_count": 3,
   "id": "ada1e996",
   "metadata": {
    "execution": {
     "iopub.execute_input": "2022-06-05T12:03:18.847311Z",
     "iopub.status.busy": "2022-06-05T12:03:18.847125Z",
     "iopub.status.idle": "2022-06-05T12:03:19.121384Z",
     "shell.execute_reply": "2022-06-05T12:03:19.120724Z",
     "shell.execute_reply.started": "2022-06-05T12:03:18.847290Z"
    }
   },
   "outputs": [
    {
     "name": "stdout",
     "output_type": "stream",
     "text": [
      "\u001b[1mdf.shape:\u001b[0m (50000, 2)\n",
      "\u001b[1mdf.columns:\u001b[0m Index(['review', 'sentiment'], dtype='object') \n",
      "\n",
      "\u001b[1mdf.sentiment.value_counts():\u001b[0m\n",
      "positive    25000\n",
      "negative    25000\n",
      "Name: sentiment, dtype: int64 \n",
      "\n"
     ]
    },
    {
     "data": {
      "image/png": "[encoded data removed]",
      "text/plain": [
       "<Figure size 432x288 with 1 Axes>"
      ]
     },
     "metadata": {},
     "output_type": "display_data"
    },
    {
     "name": "stdout",
     "output_type": "stream",
     "text": [
      "\u001b[1mdf.info:\u001b[0m\n",
      "<class 'pandas.core.frame.DataFrame'>\n",
      "RangeIndex: 50000 entries, 0 to 49999\n",
      "Data columns (total 2 columns):\n",
      " #   Column     Non-Null Count  Dtype \n",
      "---  ------     --------------  ----- \n",
      " 0   review     50000 non-null  object\n",
      " 1   sentiment  50000 non-null  object\n",
      "dtypes: object(2)\n",
      "memory usage: 781.4+ KB\n"
     ]
    }
   ],
   "source": [
    "print('\\033[1m' + 'df.shape:' + '\\033[0m', df.shape)\n",
    "print('\\033[1m' + 'df.columns:' + '\\033[0m', df.columns, '\\n')\n",
    "print('\\033[1m' + 'df.sentiment.value_counts():' + '\\033[0m')\n",
    "print(df.sentiment.value_counts(), '\\n')\n",
    "\n",
    "with sns.axes_style(\"darkgrid\"):\n",
    "    df['sentiment'].value_counts().plot.bar(color=['darkblue', 'r'], rot=0, fontsize='large')\n",
    "    plt.show()\n",
    "\n",
    "print('\\033[1m' + 'df.info:' + '\\033[0m')\n",
    "df.info()"
   ]
  },
  {
   "cell_type": "markdown",
   "id": "6364bc2a",
   "metadata": {},
   "source": [
    "To make the DataFrame suitable for analysis by converting its sentiment values to integers:\n",
    "- positive $\\rightarrow$ 1\n",
    "- negative $\\rightarrow$ 0"
   ]
  },
  {
   "cell_type": "code",
   "execution_count": 4,
   "id": "8bcd0848",
   "metadata": {
    "execution": {
     "iopub.execute_input": "2022-06-05T12:03:19.122888Z",
     "iopub.status.busy": "2022-06-05T12:03:19.122540Z",
     "iopub.status.idle": "2022-06-05T12:03:19.200788Z",
     "shell.execute_reply": "2022-06-05T12:03:19.200280Z",
     "shell.execute_reply.started": "2022-06-05T12:03:19.122863Z"
    }
   },
   "outputs": [
    {
     "data": {
      "text/html": [
       "<div>\n",
       "<style scoped>\n",
       "    .dataframe tbody tr th:only-of-type {\n",
       "        vertical-align: middle;\n",
       "    }\n",
       "\n",
       "    .dataframe tbody tr th {\n",
       "        vertical-align: top;\n",
       "    }\n",
       "\n",
       "    .dataframe thead th {\n",
       "        text-align: right;\n",
       "    }\n",
       "</style>\n",
       "<table border=\"1\" class=\"dataframe\">\n",
       "  <thead>\n",
       "    <tr style=\"text-align: right;\">\n",
       "      <th></th>\n",
       "      <th>review</th>\n",
       "      <th>sentiment</th>\n",
       "    </tr>\n",
       "  </thead>\n",
       "  <tbody>\n",
       "    <tr>\n",
       "      <th>0</th>\n",
       "      <td>One of the other reviewers has mentioned that ...</td>\n",
       "      <td>1</td>\n",
       "    </tr>\n",
       "    <tr>\n",
       "      <th>1</th>\n",
       "      <td>A wonderful little production. &lt;br /&gt;&lt;br /&gt;The...</td>\n",
       "      <td>1</td>\n",
       "    </tr>\n",
       "    <tr>\n",
       "      <th>2</th>\n",
       "      <td>I thought this was a wonderful way to spend ti...</td>\n",
       "      <td>1</td>\n",
       "    </tr>\n",
       "    <tr>\n",
       "      <th>3</th>\n",
       "      <td>Basically there's a family where a little boy ...</td>\n",
       "      <td>0</td>\n",
       "    </tr>\n",
       "    <tr>\n",
       "      <th>4</th>\n",
       "      <td>Petter Mattei's \"Love in the Time of Money\" is...</td>\n",
       "      <td>1</td>\n",
       "    </tr>\n",
       "    <tr>\n",
       "      <th>...</th>\n",
       "      <td>...</td>\n",
       "      <td>...</td>\n",
       "    </tr>\n",
       "    <tr>\n",
       "      <th>49995</th>\n",
       "      <td>I thought this movie did a down right good job...</td>\n",
       "      <td>1</td>\n",
       "    </tr>\n",
       "    <tr>\n",
       "      <th>49996</th>\n",
       "      <td>Bad plot, bad dialogue, bad acting, idiotic di...</td>\n",
       "      <td>0</td>\n",
       "    </tr>\n",
       "    <tr>\n",
       "      <th>49997</th>\n",
       "      <td>I am a Catholic taught in parochial elementary...</td>\n",
       "      <td>0</td>\n",
       "    </tr>\n",
       "    <tr>\n",
       "      <th>49998</th>\n",
       "      <td>I'm going to have to disagree with the previou...</td>\n",
       "      <td>0</td>\n",
       "    </tr>\n",
       "    <tr>\n",
       "      <th>49999</th>\n",
       "      <td>No one expects the Star Trek movies to be high...</td>\n",
       "      <td>0</td>\n",
       "    </tr>\n",
       "  </tbody>\n",
       "</table>\n",
       "<p>50000 rows × 2 columns</p>\n",
       "</div>"
      ],
      "text/plain": [
       "                                                  review  sentiment\n",
       "0      One of the other reviewers has mentioned that ...          1\n",
       "1      A wonderful little production. <br /><br />The...          1\n",
       "2      I thought this was a wonderful way to spend ti...          1\n",
       "3      Basically there's a family where a little boy ...          0\n",
       "4      Petter Mattei's \"Love in the Time of Money\" is...          1\n",
       "...                                                  ...        ...\n",
       "49995  I thought this movie did a down right good job...          1\n",
       "49996  Bad plot, bad dialogue, bad acting, idiotic di...          0\n",
       "49997  I am a Catholic taught in parochial elementary...          0\n",
       "49998  I'm going to have to disagree with the previou...          0\n",
       "49999  No one expects the Star Trek movies to be high...          0\n",
       "\n",
       "[50000 rows x 2 columns]"
      ]
     },
     "execution_count": 4,
     "metadata": {},
     "output_type": "execute_result"
    }
   ],
   "source": [
    "df.sentiment = [1 if s == 'positive' else 0 for s in df.sentiment]\n",
    "df"
   ]
  },
  {
   "cell_type": "markdown",
   "id": "4d06a602",
   "metadata": {},
   "source": [
    "<a id='preprocessing'></a>\n",
    "# Data preprocessing\n",
    "First, we use regular expressions to make the following transformations to the reviews:\n",
    "\n",
    "- remove punctuation marks\n",
    "- remove HTML tags\n",
    "- remove URL's\n",
    "- remove characters which are not letters or digits\n",
    "- remove successive whitespaces\n",
    "- convert the text to lower case\n",
    "- strip whitespaces from the beginning and the end of the reviews"
   ]
  },
  {
   "cell_type": "code",
   "execution_count": 5,
   "id": "61ec5181",
   "metadata": {
    "execution": {
     "iopub.execute_input": "2022-06-05T12:03:19.202232Z",
     "iopub.status.busy": "2022-06-05T12:03:19.201937Z",
     "iopub.status.idle": "2022-06-05T12:03:30.246171Z",
     "shell.execute_reply": "2022-06-05T12:03:30.245661Z",
     "shell.execute_reply.started": "2022-06-05T12:03:19.202202Z"
    }
   },
   "outputs": [],
   "source": [
    "# Storing in \"before_process\" a random example of review before preprocessing\n",
    "# Defining and applying the function \"process\" performing the transformations of the reviews\n",
    "# Storing in \"after_process\" the example of review after preprocessing\n",
    "\n",
    "idx = random.randint(0, len(df)-1)\n",
    "before_process = df.iloc[idx][0]\n",
    "\n",
    "def process(x):\n",
    "    x = re.sub('[,\\.!?:()\"]', '', x)\n",
    "    x = re.sub('<.*?>', ' ', x)\n",
    "    x = re.sub('http\\S+', ' ', x)\n",
    "    x = re.sub('[^a-zA-Z0-9]', ' ', x)\n",
    "    x = re.sub('\\s+', ' ', x)\n",
    "    return x.lower().strip()\n",
    "\n",
    "df['review'] = df['review'].apply(lambda x: process(x))\n",
    "after_process = df.iloc[idx][0]"
   ]
  },
  {
   "cell_type": "markdown",
   "id": "eb42e9bf",
   "metadata": {},
   "source": [
    "Next, we remove stopwords from the reviews using the [word_tokenize()](https://www.nltk.org/_modules/nltk/tokenize.html#word_tokenize) function from the [nltk.tokenize]((https://www.nltk.org/api/nltk.tokenize.html) package."
   ]
  },
  {
   "cell_type": "code",
   "execution_count": 6,
   "id": "7c8a008d",
   "metadata": {
    "execution": {
     "iopub.execute_input": "2022-06-05T12:03:30.295802Z",
     "iopub.status.busy": "2022-06-05T12:03:30.251147Z",
     "iopub.status.idle": "2022-06-05T12:04:15.827118Z",
     "shell.execute_reply": "2022-06-05T12:04:15.826408Z",
     "shell.execute_reply.started": "2022-06-05T12:03:30.295747Z"
    }
   },
   "outputs": [],
   "source": [
    "# Storing in \"sw_set\" the set of English stopwords provided by nltk\n",
    "# Defining and applying the function \"sw_remove\" which remove stopwords from reviews\n",
    "# Storing in \"after_removal\" the example of review after removal of the stopwords\n",
    "\n",
    "sw_set = set(nltk.corpus.stopwords.words('english'))\n",
    "\n",
    "def sw_remove(x):\n",
    "    words = nltk.tokenize.word_tokenize(x)\n",
    "    filtered_list = [word for word in words if word not in sw_set]\n",
    "    return ' '.join(filtered_list)\n",
    "\n",
    "df['review'] = df['review'].apply(lambda x: sw_remove(x))\n",
    "after_removal = sw_remove(after_process)"
   ]
  },
  {
   "cell_type": "markdown",
   "id": "60e49452",
   "metadata": {},
   "source": [
    "For illustration, we print the example of review before preprocessing, after preprocessing and after stopwords removal."
   ]
  },
  {
   "cell_type": "code",
   "execution_count": 7,
   "id": "93f798a3",
   "metadata": {
    "execution": {
     "iopub.execute_input": "2022-06-05T12:04:15.828479Z",
     "iopub.status.busy": "2022-06-05T12:04:15.828323Z",
     "iopub.status.idle": "2022-06-05T12:04:15.835942Z",
     "shell.execute_reply": "2022-06-05T12:04:15.835205Z",
     "shell.execute_reply.started": "2022-06-05T12:04:15.828460Z"
    }
   },
   "outputs": [
    {
     "name": "stdout",
     "output_type": "stream",
     "text": [
      "\u001b[1mReview #26328 before preprocessing:\u001b[0m\n",
      " Back when in the States, I was like about 7 or 8, I always woke early, just to watch this, together with a whole bunch of other cartoons like HootKloot, The Road Runner Show, The Pink Panther. But this was perhaps one of the most memorable and funny animated works out there, and I still find it very funny today, I'll never forget the episodes, like the one where two aardvarks were fighting over the can of chocolate ant pudding? or the one where the aardvark is trying to reach the island where all the ants are at, and my personal favorite, the one where the ant, the aardvark and a dog end up in an animal hospital, which would later be the basis of a similar Looney Toon cartoon with Sylvester, Tweety and the bulldog. This is one of the most unforgettable cartoons out there in which anyone would love to revisit, I would. An excellent series. \n",
      "\n",
      "\u001b[1mReview #26328 after preprocessing:\u001b[0m\n",
      " back when in the states i was like about 7 or 8 i always woke early just to watch this together with a whole bunch of other cartoons like hootkloot the road runner show the pink panther but this was perhaps one of the most memorable and funny animated works out there and i still find it very funny today i ll never forget the episodes like the one where two aardvarks were fighting over the can of chocolate ant pudding or the one where the aardvark is trying to reach the island where all the ants are at and my personal favorite the one where the ant the aardvark and a dog end up in an animal hospital which would later be the basis of a similar looney toon cartoon with sylvester tweety and the bulldog this is one of the most unforgettable cartoons out there in which anyone would love to revisit i would an excellent series \n",
      "\n",
      "\u001b[1mReview #26328 after preprocessing and stopwords removal:\u001b[0m\n",
      " back states like 7 8 always woke early watch together whole bunch cartoons like hootkloot road runner show pink panther perhaps one memorable funny animated works still find funny today never forget episodes like one two aardvarks fighting chocolate ant pudding one aardvark trying reach island ants personal favorite one ant aardvark dog end animal hospital would later basis similar looney toon cartoon sylvester tweety bulldog one unforgettable cartoons anyone would love revisit would excellent series\n"
     ]
    }
   ],
   "source": [
    "print('\\033[1m' + 'Review #%d before preprocessing:' % idx + '\\033[0m' + '\\n', before_process, '\\n')\n",
    "print('\\033[1m' + 'Review #%d after preprocessing:' % idx + '\\033[0m' + '\\n', after_process, '\\n')\n",
    "print('\\033[1m' + 'Review #%d after preprocessing and stopwords removal:' % idx + '\\033[0m' + '\\n', after_removal)"
   ]
  },
  {
   "cell_type": "markdown",
   "id": "29df6cd1",
   "metadata": {},
   "source": [
    "<a id='splitting'></a>\n",
    "# Data splitting and tokenization\n",
    "We start by splitting our DataFrame into a training and test lists. We use the [train_test_split()](https://scikit-learn.org/stable/modules/generated/sklearn.model_selection.train_test_split.html) function from the [sklearn.model_selection](https://scikit-learn.org/stable/modules/classes.html#module-sklearn.model_selection) module which allow to perform the splitting randomly with respect to the index of the DataFrame."
   ]
  },
  {
   "cell_type": "code",
   "execution_count": 8,
   "id": "beb4a6c6",
   "metadata": {
    "execution": {
     "iopub.execute_input": "2022-06-05T12:04:15.837595Z",
     "iopub.status.busy": "2022-06-05T12:04:15.837415Z",
     "iopub.status.idle": "2022-06-05T12:04:15.912337Z",
     "shell.execute_reply": "2022-06-05T12:04:15.911870Z",
     "shell.execute_reply.started": "2022-06-05T12:04:15.837570Z"
    },
    "scrolled": true
   },
   "outputs": [
    {
     "name": "stdout",
     "output_type": "stream",
     "text": [
      "\u001b[1mtrain_rev.shape:\u001b[0m (45000,)\n",
      "\u001b[1mtest_rev.shape:\u001b[0m (5000,)\n",
      "\u001b[1mtrain_sent.shape:\u001b[0m (45000,)\n",
      "\u001b[1mtest_sent.shape:\u001b[0m (5000,)\n"
     ]
    }
   ],
   "source": [
    "from sklearn.model_selection import train_test_split\n",
    "\n",
    "train_rev, test_rev, train_sent, test_sent = train_test_split(df['review'], df['sentiment'], test_size=0.1, random_state=42)\n",
    "\n",
    "print('\\033[1m' + 'train_rev.shape:' + '\\033[0m', train_rev.shape)\n",
    "print('\\033[1m' + 'test_rev.shape:' + '\\033[0m', test_rev.shape)\n",
    "print('\\033[1m' + 'train_sent.shape:' + '\\033[0m', train_sent.shape)\n",
    "print('\\033[1m' + 'test_sent.shape:' + '\\033[0m', test_sent.shape)"
   ]
  },
  {
   "cell_type": "markdown",
   "id": "a4e7c2f9",
   "metadata": {},
   "source": [
    "Next, we use the [Tokenizer](https://www.tensorflow.org/api_docs/python/tf/keras/preprocessing/text/Tokenizer) class from [keras.preprocessing.text](https://www.tensorflow.org/api_docs/python/tf/keras/preprocessing/text/) module to create a dictionary of the \"dict_size\" most frequent words present in the reviews (a unique integer is assigned to each word), and we print some of its [attributes](https://faroit.com/keras-docs/1.2.2/preprocessing/text/). The index of the Tokenizer is computed the same way no matter how many most frequent words we use later, see this [post](https://stackoverflow.com/questions/46202519/keras-tokenizer-num-words-doesnt-seem-to-work)."
   ]
  },
  {
   "cell_type": "code",
   "execution_count": 9,
   "id": "017041bb",
   "metadata": {
    "execution": {
     "iopub.execute_input": "2022-06-05T12:04:15.915239Z",
     "iopub.status.busy": "2022-06-05T12:04:15.914941Z",
     "iopub.status.idle": "2022-06-05T12:04:24.629359Z",
     "shell.execute_reply": "2022-06-05T12:04:24.628930Z",
     "shell.execute_reply.started": "2022-06-05T12:04:15.915217Z"
    }
   },
   "outputs": [
    {
     "name": "stdout",
     "output_type": "stream",
     "text": [
      "\u001b[1mDictionary size:\u001b[0m 35000\n",
      "\u001b[1mLength of the tokenizer index:\u001b[0m 125791\n",
      "\u001b[1mNumber of documents the tokenizer was trained on:\u001b[0m 50000 \n",
      "\n",
      "\u001b[1mFirst 20 entries of the tokenizer index:\u001b[0m\n",
      "('movie', 1) ('film', 2) ('one', 3) ('like', 4) ('good', 5) ('time', 6) ('even', 7) ('would', 8) ('really', 9) ('story', 10) ('see', 11) ('well', 12) ('much', 13) ('get', 14) ('bad', 15) ('people', 16) ('great', 17) ('also', 18) ('first', 19) ('made', 20)\n"
     ]
    }
   ],
   "source": [
    "from keras.preprocessing.text import Tokenizer\n",
    "\n",
    "dict_size = 35000\n",
    "tokenizer = Tokenizer(num_words=dict_size)\n",
    "tokenizer.fit_on_texts(df['review'])\n",
    "\n",
    "print('\\033[1m' + 'Dictionary size:' + '\\033[0m', dict_size)\n",
    "print('\\033[1m' + 'Length of the tokenizer index:' + '\\033[0m', len(tokenizer.word_index))\n",
    "print('\\033[1m' + 'Number of documents the tokenizer was trained on:' + '\\033[0m', tokenizer.document_count, '\\n')\n",
    "print('\\033[1m' + 'First 20 entries of the tokenizer index:' + '\\033[0m')\n",
    "print(*list(tokenizer.word_index.items())[:20])"
   ]
  },
  {
   "cell_type": "markdown",
   "id": "7e7fd232",
   "metadata": {},
   "source": [
    "We use the [texts_to_sequences()](https://github.com/keras-team/keras/blob/v2.9.0/keras/preprocessing/text.py#L325-L337) function of the Tokenizer class to convert the training reviews and test reviews to lists of sequences of integers (tokens) \"train_rev_tokens\" and \"test_rev_tokens\", and we store in the numpy array \"seq_lengths\" the lengths of the sequences included in \"train_rev_tokens\"."
   ]
  },
  {
   "cell_type": "code",
   "execution_count": 10,
   "id": "4fb5299d",
   "metadata": {
    "execution": {
     "iopub.execute_input": "2022-06-05T12:04:24.632397Z",
     "iopub.status.busy": "2022-06-05T12:04:24.630205Z",
     "iopub.status.idle": "2022-06-05T12:04:31.631291Z",
     "shell.execute_reply": "2022-06-05T12:04:31.630794Z",
     "shell.execute_reply.started": "2022-06-05T12:04:24.632375Z"
    }
   },
   "outputs": [],
   "source": [
    "train_rev_tokens = tokenizer.texts_to_sequences(train_rev)\n",
    "test_rev_tokens = tokenizer.texts_to_sequences(test_rev)\n",
    "seq_lengths =  np.array([len(sequence) for sequence in train_rev_tokens])"
   ]
  },
  {
   "cell_type": "markdown",
   "id": "570cf1af",
   "metadata": {},
   "source": [
    "If the lengths of the sequences were normally distributed, then a given length could be considered small or large when outside the interval\n",
    "\n",
    "$$\n",
    "\\hbox{mean value of seq_lengths} \\pm \\hbox{2 standard deviations of seq_lengths,}\n",
    "$$\n",
    "\n",
    "and lengths not belonging to this interval would only represent 5% of the elements of seq_lengths (see the [68–95–99.7 rule](https://en.wikipedia.org/wiki/68%E2%80%9395%E2%80%9399.7_rule) in statistics). Here, we follow this heuristics, and thus define an upper bound for the length of sequences accordingly.\n",
    "\n",
    "(note that we use only the training set to define this upper bound, in order to avoid any [data leakage](https://en.wikipedia.org/wiki/Leakage_(machine_learning%29) or [look-ahead bias](https://www.investopedia.com/terms/l/lookaheadbias.asp))"
   ]
  },
  {
   "cell_type": "code",
   "execution_count": 11,
   "id": "7c6049ff",
   "metadata": {
    "execution": {
     "iopub.execute_input": "2022-06-05T12:04:31.632598Z",
     "iopub.status.busy": "2022-06-05T12:04:31.632283Z",
     "iopub.status.idle": "2022-06-05T12:04:32.099128Z",
     "shell.execute_reply": "2022-06-05T12:04:32.098474Z",
     "shell.execute_reply.started": "2022-06-05T12:04:31.632576Z"
    }
   },
   "outputs": [
    {
     "name": "stdout",
     "output_type": "stream",
     "text": [
      "The value of upper_bound is 291 and the percentage of sequences in \"train_rev_tokens\" of length smaller or equal than upper_bound is 94.56%.\n"
     ]
    },
    {
     "data": {
      "image/png": "[encoded data removed]",
      "text/plain": [
       "<Figure size 720x432 with 1 Axes>"
      ]
     },
     "metadata": {},
     "output_type": "display_data"
    }
   ],
   "source": [
    "# Storing in \"upper_bound\" our chosen upper bound for the length of sequences\n",
    "# Computing the percentage of lengths smaller or equal than \"upper_bound\"\n",
    "\n",
    "upper_bound = int(np.mean(seq_lengths) + 2 * np.std(seq_lengths))\n",
    "percentage = stats.percentileofscore(seq_lengths, upper_bound)\n",
    "\n",
    "print('The value of upper_bound is %d and the percentage of sequences in \"train_rev_tokens\" \\\n",
    "of length smaller or equal than upper_bound is %.2f%%.' % (upper_bound, round(percentage, 2)))\n",
    "\n",
    "# Histogram plot of the lengths of the sequences in \"train_rev_tokens\"\n",
    "\n",
    "with sns.axes_style(\"darkgrid\"):\n",
    "\n",
    "    _, hist = plt.subplots(figsize=(10,6))\n",
    "    hist.hist(seq_lengths[seq_lengths < 2*upper_bound], color='darkblue', bins=40, rwidth=0.7)\n",
    "    hist.axvline(np.mean(seq_lengths), color='darkorange', linestyle='--', label='Mean value')\n",
    "    hist.axvline(upper_bound, color='r', linestyle='--', label='Upper bound')\n",
    "\n",
    "    plt.xlabel('Length of sequences in \"train_rev_tokens\"', size='large')\n",
    "    plt.ylabel('Number of samples', size='large')\n",
    "    plt.text(upper_bound, 0, 'test')\n",
    "    plt.legend(fontsize='large', facecolor='palegreen')\n",
    "    plt.xticks(rotation=30)\n",
    "    plt.show()"
   ]
  },
  {
   "cell_type": "markdown",
   "id": "22457a47",
   "metadata": {},
   "source": [
    "Using the [pad_sequences()](https://www.tensorflow.org/api_docs/python/tf/keras/utils/pad_sequences) function from [keras.preprocessing.sequence](https://www.tensorflow.org/api_docs/python/tf/keras/preprocessing/sequence) module, we transform \"train_rev_tokens\" and \"test_rev_tokens\" into 2D numpy arrays of shape (number of sequences, upper_bound). Sequences of length smaller (resp. larger) than \"upper_bound\" are extended (resp. truncated) to get a length equal to \"upper_bound\"."
   ]
  },
  {
   "cell_type": "code",
   "execution_count": 12,
   "id": "887bc847",
   "metadata": {
    "execution": {
     "iopub.execute_input": "2022-06-05T12:04:32.100562Z",
     "iopub.status.busy": "2022-06-05T12:04:32.100244Z",
     "iopub.status.idle": "2022-06-05T12:04:33.152481Z",
     "shell.execute_reply": "2022-06-05T12:04:33.151970Z",
     "shell.execute_reply.started": "2022-06-05T12:04:32.100538Z"
    }
   },
   "outputs": [
    {
     "name": "stdout",
     "output_type": "stream",
     "text": [
      "\u001b[1mtrain_rev_pad.shape:\u001b[0m (45000, 291)\n",
      "\u001b[1mtest_rev_pad.shape:\u001b[0m (5000, 291) \n",
      "\n",
      "\u001b[1mReview #25728 after padding:\u001b[0m\n",
      " [    0     0     0     0     0     0     0     0     0     0     0     0\n",
      "     0     0     0     0     0     0     0     0     0     0     0     0\n",
      "     0     0     0     0     0     0     0     0     0     0     0     0\n",
      "     0     0     0     0     0     0     0     0     0     0     0     0\n",
      "     0     0     0     0     0     0     0     0     0     0     0     0\n",
      "     0     0     0     0     0     0     0     0     0     0     0     0\n",
      "     0     0     0     0     0     0     0     0     0     0     0     0\n",
      "     0     0     0     0     0     0     0     0     0     0     0     0\n",
      "     0     0     0     0     0     0     0     0     0     0     0     0\n",
      "     0     0     0     0     0     0     0     0     0     0     0     0\n",
      "     0     0     0     0     0     0     0     0     0     0     0     0\n",
      "     0     0     0     0     0     0     0     0     0     0     0     0\n",
      "     0     0     0     0     0     0     0     0     0     0     0     0\n",
      "     0     0     0     0     0     0     0     0     0     0     0     0\n",
      "     0     0     0     0     0     0     0     0     0     0     0     0\n",
      "     0     0     0     0     0     0     0     0     0     0     0     0\n",
      "     0     0     0     0     0     0     0     0     0     0     0     0\n",
      "     0     0     0     0     0     0     0     0     0     0     0     0\n",
      "     0     0     0     0     0     0     0     0     0     1   482   522\n",
      "  6571  2838   177     1  2451 10964    89  1448  1700   645   526   438\n",
      "    82   482    73   522   309   205    35   338   462    91    76  6262\n",
      "    16   740  1948  3892   169  1543  5134   276  6864   158  6541  3740\n",
      "  6627  2756  6602  3892   383   404  5639  9966    26  2456   253    10\n",
      " 18094   187     7   166   642  1852   407   200     1   165   451  2251\n",
      "   960    14     1]\n"
     ]
    }
   ],
   "source": [
    "from keras.preprocessing.sequence import pad_sequences\n",
    "\n",
    "train_rev_pad = pad_sequences(train_rev_tokens, maxlen=upper_bound)\n",
    "test_rev_pad = pad_sequences(test_rev_tokens, maxlen=upper_bound)\n",
    "\n",
    "print('\\033[1m' + 'train_rev_pad.shape:' + '\\033[0m', train_rev_pad.shape)\n",
    "print('\\033[1m' + 'test_rev_pad.shape:' + '\\033[0m', test_rev_pad.shape, '\\n')\n",
    "\n",
    "# Printing an example of review after padding\n",
    "\n",
    "idx_pad = random.randint(0, len(train_rev_pad)-1)\n",
    "print('\\033[1m' + 'Review #%d after padding:' %idx_pad + '\\033[0m' + '\\n', train_rev_pad[idx_pad])"
   ]
  },
  {
   "cell_type": "markdown",
   "id": "fbeeae40",
   "metadata": {},
   "source": [
    "<a id='LSTM'></a>\n",
    "# LSTM Model\n",
    "We start by importing some classes from Keras:\n",
    "\n",
    "- the [Sequential](https://keras.io/api/models/sequential/) class from the keras.models API (to group a linear stack of layers into a model)\n",
    "- the [Embedding](https://keras.io/api/layers/core_layers/embedding/) class from the keras.layers API (to turn positive integers (indexes) into dense vectors of fixed size)\n",
    "- the [LSTM](https://keras.io/api/layers/recurrent_layers/lstm/) class from the keras.layers API (to apply a long short-term memory layer to an input)\n",
    "- the [Dropout](https://keras.io/api/layers/regularization_layers/dropout/) class from the keras.layers API (to apply dropout to an input)\n",
    "- the [Dense](https://keras.io/api/layers/core_layers/dense/) class from the keras.layers API (to apply a regular densely-connected NN layer to an input)"
   ]
  },
  {
   "cell_type": "code",
   "execution_count": 13,
   "id": "d82377e7",
   "metadata": {
    "execution": {
     "iopub.execute_input": "2022-06-05T12:04:33.153592Z",
     "iopub.status.busy": "2022-06-05T12:04:33.153448Z",
     "iopub.status.idle": "2022-06-05T12:04:33.198267Z",
     "shell.execute_reply": "2022-06-05T12:04:33.197769Z",
     "shell.execute_reply.started": "2022-06-05T12:04:33.153574Z"
    }
   },
   "outputs": [],
   "source": [
    "from keras.models import Sequential\n",
    "from keras.layers import Embedding, LSTM, Dropout, Dense"
   ]
  },
  {
   "cell_type": "code",
   "execution_count": 14,
   "id": "86afc439",
   "metadata": {
    "execution": {
     "iopub.execute_input": "2022-06-05T12:04:33.200151Z",
     "iopub.status.busy": "2022-06-05T12:04:33.199429Z",
     "iopub.status.idle": "2022-06-05T12:04:33.202427Z",
     "shell.execute_reply": "2022-06-05T12:04:33.202062Z",
     "shell.execute_reply.started": "2022-06-05T12:04:33.200126Z"
    }
   },
   "outputs": [
    {
     "data": {
      "image/png": "[encoded data removed]",
      "text/plain": [
       "<Figure size 504x504 with 1 Axes>"
      ]
     },
     "metadata": {
      "needs_background": "light"
     },
     "output_type": "display_data"
    }
   ],
   "source": [
    "# Importing the \"imageio.v3\" library (for reading and writing images)\n",
    "# See https://imageio.readthedocs.io/en/stable/\n",
    "\n",
    "import imageio.v3 as iio\n",
    "\n",
    "image = iio.imread(\"https://www.tensorflow.org/text/guide/images/embedding2.png\")\n",
    "plt.figure(figsize = (7, 7))\n",
    "plt.imshow(image)\n",
    "plt.axis('off');"
   ]
  },
  {
   "cell_type": "markdown",
   "id": "32f6c162",
   "metadata": {},
   "source": [
    "In the LSTM model, we set the following parameters:\n",
    "- the output dimension of the Embedding layer (dimension of the vector space containing the word embeddings) is \"output_dim\"\n",
    "- the number of units of the LSTM layer is \"units_lstm\"\n",
    "- the dropout rate of the Dropout layer is \"r\"\n",
    "- the activation function of the final Dense layer is [sigmoid](https://keras.io/api/layers/activations/) (this is a natural choice since the output of the model should be a number between 0, for negative reviews, and 1, for positive reviews)"
   ]
  },
  {
   "cell_type": "code",
   "execution_count": 15,
   "id": "69f7cedc",
   "metadata": {
    "execution": {
     "iopub.execute_input": "2022-06-05T12:04:33.204503Z",
     "iopub.status.busy": "2022-06-05T12:04:33.204170Z",
     "iopub.status.idle": "2022-06-05T12:04:33.608533Z",
     "shell.execute_reply": "2022-06-05T12:04:33.607913Z",
     "shell.execute_reply.started": "2022-06-05T12:04:33.204483Z"
    }
   },
   "outputs": [],
   "source": [
    "output_dim = 14\n",
    "units_lstm = 16\n",
    "r = 0.8\n",
    "\n",
    "model = Sequential()\n",
    "model.add(Embedding(input_dim=dict_size, output_dim=output_dim, input_length=upper_bound))\n",
    "model.add(LSTM(units_lstm))\n",
    "model.add(Dropout(r))\n",
    "model.add(Dense(1, activation='sigmoid'))"
   ]
  },
  {
   "cell_type": "markdown",
   "id": "3fc73242",
   "metadata": {},
   "source": [
    "We give a summary of the model using the [summary](https://keras.io/api/models/model/#summary-method) method of the [model class](https://keras.io/api/models/model/) of Keras. The \"None\" value stands for the (not yet defined) value of the batch size."
   ]
  },
  {
   "cell_type": "code",
   "execution_count": 16,
   "id": "fbb1c44c",
   "metadata": {
    "execution": {
     "iopub.execute_input": "2022-06-05T12:04:33.609673Z",
     "iopub.status.busy": "2022-06-05T12:04:33.609508Z",
     "iopub.status.idle": "2022-06-05T12:04:33.616114Z",
     "shell.execute_reply": "2022-06-05T12:04:33.615588Z",
     "shell.execute_reply.started": "2022-06-05T12:04:33.609652Z"
    }
   },
   "outputs": [
    {
     "name": "stdout",
     "output_type": "stream",
     "text": [
      "Model: \"sequential\"\n",
      "_________________________________________________________________\n",
      " Layer (type)                Output Shape              Param #   \n",
      "=================================================================\n",
      " embedding (Embedding)       (None, 291, 14)           490000    \n",
      "                                                                 \n",
      " lstm (LSTM)                 (None, 16)                1984      \n",
      "                                                                 \n",
      " dropout (Dropout)           (None, 16)                0         \n",
      "                                                                 \n",
      " dense (Dense)               (None, 1)                 17        \n",
      "                                                                 \n",
      "=================================================================\n",
      "Total params: 492,001\n",
      "Trainable params: 492,001\n",
      "Non-trainable params: 0\n",
      "_________________________________________________________________\n"
     ]
    }
   ],
   "source": [
    "model.summary()"
   ]
  },
  {
   "cell_type": "markdown",
   "id": "c6c2b4cf",
   "metadata": {},
   "source": [
    "We import the [plot_model](https://keras.io/api/utils/model_plotting_utils/) function from the [keras.utils.vis_utils](https://faroit.com/keras-docs/2.0.8/visualization/) module to plot a schema of the model."
   ]
  },
  {
   "cell_type": "code",
   "execution_count": 17,
   "id": "f27d8843",
   "metadata": {
    "execution": {
     "iopub.execute_input": "2022-06-05T12:04:33.617202Z",
     "iopub.status.busy": "2022-06-05T12:04:33.617054Z",
     "iopub.status.idle": "2022-06-05T12:04:33.620954Z",
     "shell.execute_reply": "2022-06-05T12:04:33.620232Z",
     "shell.execute_reply.started": "2022-06-05T12:04:33.617183Z"
    }
   },
   "outputs": [
    {
     "data": {
      "image/png": "[encoded data removed]",
      "text/plain": [
       "<IPython.core.display.Image object>"
      ]
     },
     "execution_count": 17,
     "metadata": {},
     "output_type": "execute_result"
    }
   ],
   "source": [
    "from keras.utils.vis_utils import plot_model\n",
    "\n",
    "plot_model(model, show_shapes=True)"
   ]
  },
  {
   "cell_type": "markdown",
   "id": "4f1b8240",
   "metadata": {},
   "source": [
    "We [compile](https://keras.io/api/models/model_training_apis/#compile-method) the model for training with the following parameters:\n",
    "- [adam](https://keras.io/api/optimizers/adam) as optimizer to use during training process (a combination of gradient descent with momentum and RMSP)\n",
    "- [binary cross-entropy](https://keras.io/api/losses/probabilistic_losses/#binarycrossentropy-class) (bce) between true labels and predicted labels as loss to minimise during training process\n",
    "- [accuracy](https://keras.io/api/metrics/accuracy_metrics/#accuracy-class) as metric to display during training process (how often predicted labels equal true labels)"
   ]
  },
  {
   "cell_type": "code",
   "execution_count": 18,
   "id": "ecba2259",
   "metadata": {
    "execution": {
     "iopub.execute_input": "2022-06-05T12:04:33.621989Z",
     "iopub.status.busy": "2022-06-05T12:04:33.621843Z",
     "iopub.status.idle": "2022-06-05T12:04:33.629698Z",
     "shell.execute_reply": "2022-06-05T12:04:33.629227Z",
     "shell.execute_reply.started": "2022-06-05T12:04:33.621969Z"
    }
   },
   "outputs": [],
   "source": [
    "model.compile(optimizer='adam', loss='bce', metrics='accuracy')"
   ]
  },
  {
   "cell_type": "markdown",
   "id": "2a13c9de",
   "metadata": {},
   "source": [
    "We [train the model](https://keras.io/api/models/model_training_apis/#fit-method) with \"train_rev_pad\" as input array, \"train_sent\" as output array, [validation split](https://keras.io/api/models/model_training_apis/#:~:text=validation_split%3A%20Float%20between%200%20and,the%20end%20of%20each%20epoch.), batch size, number of epochs, and the option \"shuffle=True\" to shuffle the training data before each epoch. An epoch is a pass of the neural network over the entire training set and the batch size is the number of samples that are passed to the network at once. For each epoch, we thus have\n",
    "\n",
    "$$\n",
    "\\hbox{number of training steps} = \\frac{\\hbox{length of training set - length of validation set}}{\\hbox{batch size}}\\;\\!.\n",
    "$$"
   ]
  },
  {
   "cell_type": "code",
   "execution_count": 19,
   "id": "7b809bb8",
   "metadata": {
    "execution": {
     "iopub.execute_input": "2022-06-05T12:04:33.630719Z",
     "iopub.status.busy": "2022-06-05T12:04:33.630574Z",
     "iopub.status.idle": "2022-06-05T12:06:46.027555Z",
     "shell.execute_reply": "2022-06-05T12:06:46.027053Z",
     "shell.execute_reply.started": "2022-06-05T12:04:33.630702Z"
    },
    "scrolled": true
   },
   "outputs": [
    {
     "name": "stdout",
     "output_type": "stream",
     "text": [
      "Epoch 1/3\n",
      "80/80 [==============================] - 64s 755ms/step - loss: 0.6757 - accuracy: 0.6034 - val_loss: 0.6074 - val_accuracy: 0.7707\n",
      "Epoch 2/3\n",
      "80/80 [==============================] - 62s 771ms/step - loss: 0.4958 - accuracy: 0.8073 - val_loss: 0.3710 - val_accuracy: 0.8416\n",
      "Epoch 3/3\n",
      "80/80 [==============================] - 51s 638ms/step - loss: 0.3260 - accuracy: 0.9001 - val_loss: 0.2661 - val_accuracy: 0.9000\n"
     ]
    }
   ],
   "source": [
    "validation_split = 0.1\n",
    "batch_size = 512\n",
    "epochs = 3\n",
    "\n",
    "fitted = model.fit(train_rev_pad, train_sent, validation_split=validation_split,\n",
    "                   batch_size=batch_size, epochs=epochs, shuffle=True)"
   ]
  },
  {
   "cell_type": "code",
   "execution_count": 20,
   "id": "eaf43aec",
   "metadata": {
    "execution": {
     "iopub.execute_input": "2022-06-05T12:06:46.029222Z",
     "iopub.status.busy": "2022-06-05T12:06:46.029070Z",
     "iopub.status.idle": "2022-06-05T12:06:46.539230Z",
     "shell.execute_reply": "2022-06-05T12:06:46.538681Z",
     "shell.execute_reply.started": "2022-06-05T12:06:46.029203Z"
    }
   },
   "outputs": [
    {
     "data": {
      "image/png": "[encoded data removed]",
      "text/plain": [
       "<Figure size 1080x432 with 2 Axes>"
      ]
     },
     "metadata": {},
     "output_type": "display_data"
    }
   ],
   "source": [
    "# Storing in \"ep_values\" the values of the epochs\n",
    "\n",
    "ep_values = range(1, epochs+1)\n",
    "\n",
    "# Plot of the training loss and validation loss (binary cross-entropy)\n",
    "\n",
    "with sns.axes_style(\"darkgrid\"):\n",
    "\n",
    "    _, (loss, acc) = plt.subplots(1, 2, figsize=(15, 6))\n",
    "    loss.plot(ep_values, fitted.history['loss'], color='darkblue', linestyle='dotted',\n",
    "              marker='o', label='Training loss (binary cross-entropy)')\n",
    "    loss.plot(ep_values, fitted.history['val_loss'], color='r', linestyle='dotted',\n",
    "              marker='o', label='Validation loss (binary cross-entropy)')\n",
    "    loss.set_xlabel('Epoch', size='large')\n",
    "    loss.legend(fontsize='large', facecolor='palegreen')\n",
    "\n",
    "    acc.plot(ep_values, fitted.history['accuracy'], color='darkblue', linestyle='dotted',\n",
    "             marker='o', label='Training accuracy')\n",
    "    acc.plot(ep_values, fitted.history['val_accuracy'], color='r', linestyle='dotted',\n",
    "             marker='o', label='Validation accuracy')\n",
    "    acc.set_xlabel('Epoch', size='large')\n",
    "    acc.legend(fontsize='large', facecolor='palegreen')\n",
    "\n",
    "    plt.show()"
   ]
  },
  {
   "cell_type": "markdown",
   "id": "749bdfa6",
   "metadata": {},
   "source": [
    "<a id='results'></a>\n",
    "# Results"
   ]
  },
  {
   "cell_type": "markdown",
   "id": "639a66a6",
   "metadata": {
    "execution": {
     "iopub.execute_input": "2022-06-05T12:08:41.869407Z",
     "iopub.status.busy": "2022-06-05T12:08:41.869165Z",
     "iopub.status.idle": "2022-06-05T12:08:41.893237Z",
     "shell.execute_reply": "2022-06-05T12:08:41.892391Z",
     "shell.execute_reply.started": "2022-06-05T12:08:41.869386Z"
    }
   },
   "source": [
    "First, we [evaluate](https://keras.io/api/models/model_training_apis/#evaluate-method) the loss and accuracy of the trained model on the test set."
   ]
  },
  {
   "cell_type": "code",
   "execution_count": 21,
   "id": "ed0764b5",
   "metadata": {
    "execution": {
     "iopub.execute_input": "2022-06-05T12:06:46.540670Z",
     "iopub.status.busy": "2022-06-05T12:06:46.540298Z",
     "iopub.status.idle": "2022-06-05T12:06:53.742609Z",
     "shell.execute_reply": "2022-06-05T12:06:53.741888Z",
     "shell.execute_reply.started": "2022-06-05T12:06:46.540609Z"
    }
   },
   "outputs": [
    {
     "name": "stdout",
     "output_type": "stream",
     "text": [
      "157/157 [==============================] - 7s 43ms/step - loss: 0.2642 - accuracy: 0.9028\n"
     ]
    }
   ],
   "source": [
    "result= model.evaluate(test_rev_pad, test_sent)"
   ]
  },
  {
   "cell_type": "markdown",
   "id": "221f7d31",
   "metadata": {},
   "source": [
    "Next, we use the [confusion_matrix()](https://scikit-learn.org/stable/modules/generated/sklearn.metrics.confusion_matrix.html) function from the [sklearn.metrics](https://scikit-learn.org/stable/modules/classes.html#module-sklearn.metrics) module to compute the [confusion matrix](https://en.wikipedia.org/wiki/Confusion_matrix) for the predictions of the trained model, and we use the [heatmap](https://seaborn.pydata.org/generated/seaborn.heatmap.html) method from seaborn to plot the confusion matrix."
   ]
  },
  {
   "cell_type": "code",
   "execution_count": 72,
   "id": "eaad08d9",
   "metadata": {},
   "outputs": [],
   "source": [
    "from sklearn.metrics import confusion_matrix\n",
    "\n",
    "predictions = np.round(model.predict(test_rev_pad))\n",
    "cf_matrix = confusion_matrix(test_sent, predictions)"
   ]
  },
  {
   "cell_type": "code",
   "execution_count": 95,
   "id": "769cbfc1",
   "metadata": {},
   "outputs": [
    {
     "data": {
      "image/png": "[encoded data removed]",
      "text/plain": [
       "<Figure size 576x576 with 2 Axes>"
      ]
     },
     "metadata": {
      "needs_background": "light"
     },
     "output_type": "display_data"
    }
   ],
   "source": [
    "# Storing in \"legends\" the legends of each entry of the confusion matrix\n",
    "# Storing in \"percentages\" the percentages of each entry of the confusion matrix\n",
    "# Storing in \"labels\" the grouped values (legend + percentage) of each entry of the confusion matrix\n",
    "\n",
    "legends = ['True negatives', 'False positives', 'False negatives', 'True positives']\n",
    "percentages = [round(100*num, 2) for num in cf_matrix.flatten()/np.sum(cf_matrix)]\n",
    "\n",
    "labels = [f'{v1}\\n\\n{v2}%' for v1, v2 in zip(legends, percentages)]\n",
    "labels = np.asarray(labels).reshape(2, 2)\n",
    "\n",
    "# Heatmap plot of the confusion matrix\n",
    "\n",
    "plt.figure(figsize = (8, 8))\n",
    "\n",
    "cm = sns.heatmap(cf_matrix, annot=labels, fmt='', cmap='YlOrRd', annot_kws={'fontsize': 'large'})\n",
    "cm.set_xlabel('Predicted sentiments', size='large')\n",
    "cm.set_ylabel('Actual sentiments', size='large')\n",
    "cm.xaxis.set_ticklabels(['Negative', 'Positive'])\n",
    "cm.yaxis.set_ticklabels(['Negative', 'Positive'])\n",
    "\n",
    "plt.show()"
   ]
  },
  {
   "cell_type": "markdown",
   "id": "ee1eb0f7",
   "metadata": {},
   "source": [
    "Finally, we test the trained model on a randomly chosen review from the test set. We display the original review, the sentiment predicted by the model with its probability, and the actual (correct) sentiment."
   ]
  },
  {
   "cell_type": "code",
   "execution_count": 66,
   "id": "967e9610",
   "metadata": {
    "execution": {
     "iopub.execute_input": "2022-06-05T12:06:53.746087Z",
     "iopub.status.busy": "2022-06-05T12:06:53.745808Z",
     "iopub.status.idle": "2022-06-05T12:07:01.933866Z",
     "shell.execute_reply": "2022-06-05T12:07:01.933359Z",
     "shell.execute_reply.started": "2022-06-05T12:06:53.746065Z"
    }
   },
   "outputs": [
    {
     "name": "stdout",
     "output_type": "stream",
     "text": [
      "\u001b[1mReview #39248:\u001b[0m\n",
      " The Last Command (1928) is a silent film directed by Josef von Sternberg.It shows us Czarist General, Grand Duke Sergius Alexander (Emil Jannings) in his days of glory.In 1917 he had all the power but after the revolution and the collapse of Imperial Russia he has nothing.He also had the love of a woman, Natalie Dabrova (Evelyn Brent).About ten years later he applies for a small part in a film about the revolution.His old enemy Lev Andreyev (William Powell) is the director who gets to choose whether to hire him as a film extra or not.The Last Command is very good silent drama.Emil Jannings does memorable role work in the lead.Evelyn Brent is wonderful playing the woman lead.William Powell is great as always.There are plenty of scenes to remember in this movie.Like many scenes with Jannings and Brent.And then there is the ending with Powell and Jannings.This is a movie that touches in many parts. \n",
      "\n",
      "\u001b[1mPredicted sentiment:\u001b[0m positive (with probability 0.95) \n",
      "\n",
      "\u001b[1mActual sentiment:\u001b[0m positive\n"
     ]
    }
   ],
   "source": [
    "# Storing in DataFrame \"df_original\" the original reviews and sentiments\n",
    "\n",
    "df_original = pd.read_csv('IMDB Dataset.csv')\n",
    "\n",
    "# Choosing randomly a review and its sentiment in the test data\n",
    "\n",
    "idx_test = random.randint(0, len(test_sent)-1)\n",
    "idx_original = test_rev.index[idx_test]\n",
    "(actual_rev, actual_sent) = df_original.iloc[idx_original]\n",
    "\n",
    "# Storing in \"prediction_sent\" the predicted sentiment of the chosen review\n",
    "# Storing in \"probability\" the probability of the predicted sentiment of the chosen review\n",
    "\n",
    "prediction = model.predict(test_rev_pad)[idx_test][0]\n",
    "prediction_sent = 'positive' if prediction >= 0.5 else 'negative'\n",
    "probability = round(prediction if prediction >= 0.5 else 1-prediction, 2)\n",
    "\n",
    "# Printing the original review, its predicted sentiment and probability, and original sentiment\n",
    "\n",
    "print('\\033[1m' + 'Review #%d:' % idx_original + '\\033[0m' + '\\n', actual_rev, '\\n')\n",
    "print('\\033[1m' + 'Predicted sentiment:' + '\\033[0m', prediction_sent, '(with probability %.2f)' % probability, '\\n')\n",
    "print('\\033[1m' + 'Actual sentiment:' + '\\033[0m', actual_sent)"
   ]
  }
 ],
 "metadata": {
  "kernelspec": {
   "display_name": "Python 3 (ipykernel)",
   "language": "python",
   "name": "python3"
  },
  "language_info": {
   "codemirror_mode": {
    "name": "ipython",
    "version": 3
   },
   "file_extension": ".py",
   "mimetype": "text/x-python",
   "name": "python",
   "nbconvert_exporter": "python",
   "pygments_lexer": "ipython3",
   "version": "3.10.2"
  }
 },
 "nbformat": 4,
 "nbformat_minor": 5
}
