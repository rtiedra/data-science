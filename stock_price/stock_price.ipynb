{
 "cells": [
  {
   "cell_type": "code",
   "execution_count": 2,
   "id": "3c5c38a8",
   "metadata": {},
   "outputs": [],
   "source": [
    "# Importing the numpy library (for arrays operations)\n",
    "# Importing the pandas library (for data analysis)\n",
    "# Importing the matplotlib.pyplot interface (for MATLAB-like plots)\n",
    "\n",
    "import numpy as np\n",
    "import pandas as pd\n",
    "import matplotlib.pyplot as plt"
   ]
  },
  {
   "cell_type": "markdown",
   "id": "03899940",
   "metadata": {},
   "source": [
    "# Dataset preparation\n",
    "We start by loading the dataset (csv file) we shall work with. We use Netflix stock price from 01/03/2012 to 12/31/2021 downloaded from investing.com:<br>\n",
    "https://www.investing.com/equities/netflix,-inc.-historical-data"
   ]
  },
  {
   "cell_type": "code",
   "execution_count": 3,
   "id": "39aec872",
   "metadata": {},
   "outputs": [
    {
     "data": {
      "text/html": [
       "<div>\n",
       "<style scoped>\n",
       "    .dataframe tbody tr th:only-of-type {\n",
       "        vertical-align: middle;\n",
       "    }\n",
       "\n",
       "    .dataframe tbody tr th {\n",
       "        vertical-align: top;\n",
       "    }\n",
       "\n",
       "    .dataframe thead th {\n",
       "        text-align: right;\n",
       "    }\n",
       "</style>\n",
       "<table border=\"1\" class=\"dataframe\">\n",
       "  <thead>\n",
       "    <tr style=\"text-align: right;\">\n",
       "      <th></th>\n",
       "      <th>Date</th>\n",
       "      <th>Price</th>\n",
       "      <th>Open</th>\n",
       "      <th>High</th>\n",
       "      <th>Low</th>\n",
       "      <th>Vol.</th>\n",
       "      <th>Change %</th>\n",
       "    </tr>\n",
       "  </thead>\n",
       "  <tbody>\n",
       "    <tr>\n",
       "      <th>2517</th>\n",
       "      <td>Jan 03, 2012</td>\n",
       "      <td>10.32</td>\n",
       "      <td>10.04</td>\n",
       "      <td>10.39</td>\n",
       "      <td>10.02</td>\n",
       "      <td>29.22M</td>\n",
       "      <td>4.24%</td>\n",
       "    </tr>\n",
       "    <tr>\n",
       "      <th>2516</th>\n",
       "      <td>Jan 04, 2012</td>\n",
       "      <td>11.49</td>\n",
       "      <td>10.34</td>\n",
       "      <td>11.57</td>\n",
       "      <td>10.26</td>\n",
       "      <td>100.55M</td>\n",
       "      <td>11.34%</td>\n",
       "    </tr>\n",
       "    <tr>\n",
       "      <th>2515</th>\n",
       "      <td>Jan 05, 2012</td>\n",
       "      <td>11.33</td>\n",
       "      <td>11.35</td>\n",
       "      <td>11.69</td>\n",
       "      <td>11.04</td>\n",
       "      <td>86.61M</td>\n",
       "      <td>-1.39%</td>\n",
       "    </tr>\n",
       "    <tr>\n",
       "      <th>2514</th>\n",
       "      <td>Jan 06, 2012</td>\n",
       "      <td>12.33</td>\n",
       "      <td>11.30</td>\n",
       "      <td>12.47</td>\n",
       "      <td>11.24</td>\n",
       "      <td>125.66M</td>\n",
       "      <td>8.83%</td>\n",
       "    </tr>\n",
       "    <tr>\n",
       "      <th>2513</th>\n",
       "      <td>Jan 09, 2012</td>\n",
       "      <td>14.03</td>\n",
       "      <td>12.80</td>\n",
       "      <td>14.24</td>\n",
       "      <td>12.45</td>\n",
       "      <td>214.07M</td>\n",
       "      <td>13.79%</td>\n",
       "    </tr>\n",
       "  </tbody>\n",
       "</table>\n",
       "</div>"
      ],
      "text/plain": [
       "              Date  Price   Open   High    Low     Vol. Change %\n",
       "2517  Jan 03, 2012  10.32  10.04  10.39  10.02   29.22M    4.24%\n",
       "2516  Jan 04, 2012  11.49  10.34  11.57  10.26  100.55M   11.34%\n",
       "2515  Jan 05, 2012  11.33  11.35  11.69  11.04   86.61M   -1.39%\n",
       "2514  Jan 06, 2012  12.33  11.30  12.47  11.24  125.66M    8.83%\n",
       "2513  Jan 09, 2012  14.03  12.80  14.24  12.45  214.07M   13.79%"
      ]
     },
     "execution_count": 3,
     "metadata": {},
     "output_type": "execute_result"
    }
   ],
   "source": [
    "# Storing the data in DataFrame \"df\", sorted by date in ascending order\n",
    "\n",
    "df = pd.read_csv('NFLX Historical Data.csv')\n",
    "df = df[::-1]\n",
    "df.head()"
   ]
  },
  {
   "cell_type": "code",
   "execution_count": 4,
   "id": "43eeafc2",
   "metadata": {},
   "outputs": [
    {
     "data": {
      "text/plain": [
       "(2518, 1)"
      ]
     },
     "execution_count": 4,
     "metadata": {},
     "output_type": "execute_result"
    }
   ],
   "source": [
    "# Keeping only the \"Open\" values of Netflix stock, and rechaping the DataFrame into a vertical numpy array\n",
    "\n",
    "arr = df['Open'].values\n",
    "arr = arr.reshape(-1, 1)\n",
    "arr.shape"
   ]
  },
  {
   "cell_type": "code",
   "execution_count": 5,
   "id": "284aea96",
   "metadata": {},
   "outputs": [
    {
     "name": "stdout",
     "output_type": "stream",
     "text": [
      "(2014, 1)\n",
      "(504, 1)\n"
     ]
    }
   ],
   "source": [
    "# Splitting the data into a training set stored in array \"arr_train\" (first 80% of the rows of \"arr\")\n",
    "# And a test set stored in array \"arr_test\" (last 20% of the rows of \"arr\").\n",
    "\n",
    "arr_train = arr[:int(arr.shape[0]*0.8)]\n",
    "arr_test = arr[int(arr.shape[0]*0.8):]\n",
    "print(arr_train.shape)\n",
    "print(arr_test.shape)"
   ]
  },
  {
   "cell_type": "code",
   "execution_count": 6,
   "id": "373c6ade",
   "metadata": {},
   "outputs": [
    {
     "name": "stdout",
     "output_type": "stream",
     "text": [
      "Rescaled arr_train:\n",
      " [[0.00563251]\n",
      " [0.00635772]\n",
      " [0.00879928]\n",
      " [0.00867842]\n",
      " [0.01230449]] \n",
      "\n",
      " Rescaled arr_test:\n",
      " [[0.06642321]\n",
      " [0.05707646]\n",
      " [0.09116911]\n",
      " [0.0784514 ]\n",
      " [0.10529138]]\n"
     ]
    }
   ],
   "source": [
    "# Importing the estimator \"MinMaxScaler\" from the sklearn.preprocessing module\n",
    "# (to rescale data to a given range, typically the interval [0,1])\n",
    "# See https://scikit-learn.org/stable/modules/generated/sklearn.preprocessing.MinMaxScaler.html\n",
    "\n",
    "from sklearn.preprocessing import MinMaxScaler\n",
    "\n",
    "# Rescaling \"arr_train\" and \"arr_test\" to the interval [0,1]\n",
    "\n",
    "scaler = MinMaxScaler()\n",
    "arr_train = scaler.fit_transform(arr_train)\n",
    "arr_test = scaler.fit_transform(arr_test)\n",
    "print('Rescaled arr_train:\\n', arr_train[:5], '\\n\\n', 'Rescaled arr_test:\\n', arr_test[:5])"
   ]
  },
  {
   "cell_type": "code",
   "execution_count": 7,
   "id": "4df04621",
   "metadata": {},
   "outputs": [],
   "source": [
    "# Defining a function \"create_data\" which creates two numpy arrays x, y from an input array \"arr\"\n",
    "# The 1D numpy array y contains all the last values of arr, starting from the 50th value\n",
    "# The 2D numpy array x contains all the lists of last 50 values of arr\n",
    "\n",
    "def create_data(arr):\n",
    "    x, y = [], []\n",
    "    for i in range(50, arr.shape[0]):\n",
    "        x.append(arr[i-50: i, 0])\n",
    "        y.append(arr[i, 0])\n",
    "    x, y = np.array(x), np.array(y)\n",
    "    return x,y "
   ]
  },
  {
   "cell_type": "code",
   "execution_count": 8,
   "id": "36279344",
   "metadata": {},
   "outputs": [],
   "source": [
    "# Using the function \"create_data\" to create the training and test datasets\n",
    "\n",
    "x_train, y_train = create_data(arr_train)\n",
    "x_test, y_test = create_data(arr_test)"
   ]
  },
  {
   "cell_type": "markdown",
   "id": "c5112a72",
   "metadata": {},
   "source": [
    "# LSTM model"
   ]
  },
  {
   "cell_type": "code",
   "execution_count": 9,
   "id": "1f23e2e1",
   "metadata": {},
   "outputs": [],
   "source": [
    "# Importing the \"Sequential\" class from the keras.models API (to group a linear stack of layers into a model)\n",
    "# See https://faroit.com/keras-docs/1.2.0/getting-started/sequential-model-guide/\n",
    "# See https://keras.io/api/models/sequential/\n",
    "\n",
    "# Importing the \"load_model\" function from the keras.models API (to load a model saved via model.save())\n",
    "# See https://www.geeksforgeeks.org/save-and-load-models-in-tensorflow/\n",
    "# See https://keras.io/api/models/model_saving_apis/#loadmodel-function\n",
    "\n",
    "# Importing the \"LSTM\" class from the keras.layers API (to load the long short-term memory layer to be used)\n",
    "# See https://keras.io/api/layers/recurrent_layers/lstm/\n",
    "\n",
    "# Importing the \"Dense\" class from the keras.layers API (to load the regular densely-connected NN layer to be used)\n",
    "# See https://keras.io/api/layers/core_layers/dense/\n",
    "\n",
    "# Importing the \"Dropout\" class from the keras.layers API (to apply dropout to the input)\n",
    "# See https://keras.io/api/layers/regularization_layers/dropout/\n",
    "\n",
    "from keras.models import Sequential, load_model\n",
    "from keras.layers import LSTM, Dense, Dropout"
   ]
  },
  {
   "cell_type": "code",
   "execution_count": 10,
   "id": "e39d05b0",
   "metadata": {},
   "outputs": [],
   "source": [
    "model = Sequential()\n",
    "model.add(LSTM(units=96, return_sequences=True, input_shape=(x_train.shape[1], 1)))\n",
    "model.add(Dropout(0.2))\n",
    "model.add(LSTM(units=96, return_sequences=True))\n",
    "model.add(Dropout(0.2))\n",
    "model.add(LSTM(units=96, return_sequences=True))\n",
    "model.add(Dropout(0.2))\n",
    "model.add(LSTM(units=96))\n",
    "model.add(Dropout(0.2))\n",
    "model.add(Dense(units=1))"
   ]
  },
  {
   "cell_type": "code",
   "execution_count": 11,
   "id": "4283f1aa",
   "metadata": {},
   "outputs": [],
   "source": [
    "x_train = np.reshape(x_train, (x_train.shape[0], x_train.shape[1], 1))\n",
    "x_test = np.reshape(x_test, (x_test.shape[0], x_test.shape[1], 1))"
   ]
  },
  {
   "cell_type": "code",
   "execution_count": 12,
   "id": "9dea658e",
   "metadata": {},
   "outputs": [],
   "source": [
    "model.compile(loss='mean_squared_error', optimizer='adam')"
   ]
  },
  {
   "cell_type": "code",
   "execution_count": 13,
   "id": "5f88c60e",
   "metadata": {},
   "outputs": [
    {
     "name": "stdout",
     "output_type": "stream",
     "text": [
      "Epoch 1/50\n",
      "62/62 [==============================] - 8s 67ms/step - loss: 0.0130\n",
      "Epoch 2/50\n",
      "62/62 [==============================] - 7s 111ms/step - loss: 0.0027\n",
      "Epoch 3/50\n",
      "62/62 [==============================] - 6s 103ms/step - loss: 0.0027\n",
      "Epoch 4/50\n",
      "62/62 [==============================] - 6s 103ms/step - loss: 0.0027\n",
      "Epoch 5/50\n",
      "62/62 [==============================] - 7s 106ms/step - loss: 0.0023\n",
      "Epoch 6/50\n",
      "62/62 [==============================] - 6s 102ms/step - loss: 0.0019\n",
      "Epoch 7/50\n",
      "62/62 [==============================] - 7s 105ms/step - loss: 0.0026\n",
      "Epoch 8/50\n",
      "62/62 [==============================] - 6s 101ms/step - loss: 0.0023\n",
      "Epoch 9/50\n",
      "62/62 [==============================] - 6s 102ms/step - loss: 0.0023\n",
      "Epoch 10/50\n",
      "62/62 [==============================] - 7s 107ms/step - loss: 0.0019\n",
      "Epoch 11/50\n",
      "62/62 [==============================] - 8s 121ms/step - loss: 0.0018\n",
      "Epoch 12/50\n",
      "62/62 [==============================] - 7s 112ms/step - loss: 0.0024\n",
      "Epoch 13/50\n",
      "62/62 [==============================] - 7s 109ms/step - loss: 0.0018\n",
      "Epoch 14/50\n",
      "62/62 [==============================] - 6s 105ms/step - loss: 0.0018\n",
      "Epoch 15/50\n",
      "62/62 [==============================] - 6s 102ms/step - loss: 0.0016\n",
      "Epoch 16/50\n",
      "62/62 [==============================] - 7s 106ms/step - loss: 0.0015\n",
      "Epoch 17/50\n",
      "62/62 [==============================] - 7s 108ms/step - loss: 0.0017\n",
      "Epoch 18/50\n",
      "62/62 [==============================] - 6s 104ms/step - loss: 0.0015\n",
      "Epoch 19/50\n",
      "62/62 [==============================] - 7s 106ms/step - loss: 0.0017\n",
      "Epoch 20/50\n",
      "62/62 [==============================] - 7s 108ms/step - loss: 0.0014\n",
      "Epoch 21/50\n",
      "62/62 [==============================] - 7s 109ms/step - loss: 0.0016\n",
      "Epoch 22/50\n",
      "62/62 [==============================] - 8s 130ms/step - loss: 0.0015\n",
      "Epoch 23/50\n",
      "62/62 [==============================] - 7s 113ms/step - loss: 0.0016\n",
      "Epoch 24/50\n",
      "62/62 [==============================] - 9s 139ms/step - loss: 0.0014\n",
      "Epoch 25/50\n",
      "62/62 [==============================] - 8s 122ms/step - loss: 0.0012\n",
      "Epoch 26/50\n",
      "62/62 [==============================] - 6s 104ms/step - loss: 0.0013\n",
      "Epoch 27/50\n",
      "62/62 [==============================] - 6s 104ms/step - loss: 0.0013\n",
      "Epoch 28/50\n",
      "62/62 [==============================] - 7s 105ms/step - loss: 0.0015\n",
      "Epoch 29/50\n",
      "62/62 [==============================] - 7s 108ms/step - loss: 0.0012\n",
      "Epoch 30/50\n",
      "62/62 [==============================] - 7s 119ms/step - loss: 0.0013\n",
      "Epoch 31/50\n",
      "62/62 [==============================] - 9s 140ms/step - loss: 0.0010\n",
      "Epoch 32/50\n",
      "62/62 [==============================] - 9s 146ms/step - loss: 0.0015\n",
      "Epoch 33/50\n",
      "62/62 [==============================] - 7s 114ms/step - loss: 0.0012\n",
      "Epoch 34/50\n",
      "62/62 [==============================] - 7s 108ms/step - loss: 0.0011\n",
      "Epoch 35/50\n",
      "62/62 [==============================] - 7s 109ms/step - loss: 0.0011\n",
      "Epoch 36/50\n",
      "62/62 [==============================] - 6s 103ms/step - loss: 0.0011\n",
      "Epoch 37/50\n",
      "62/62 [==============================] - 6s 102ms/step - loss: 0.0011\n",
      "Epoch 38/50\n",
      "62/62 [==============================] - 7s 107ms/step - loss: 9.9916e-04\n",
      "Epoch 39/50\n",
      "62/62 [==============================] - 7s 108ms/step - loss: 0.0011\n",
      "Epoch 40/50\n",
      "62/62 [==============================] - 7s 113ms/step - loss: 0.0010\n",
      "Epoch 41/50\n",
      "62/62 [==============================] - 6s 103ms/step - loss: 0.0011\n",
      "Epoch 42/50\n",
      "62/62 [==============================] - 7s 105ms/step - loss: 0.0010\n",
      "Epoch 43/50\n",
      "62/62 [==============================] - 6s 105ms/step - loss: 9.0030e-04\n",
      "Epoch 44/50\n",
      "62/62 [==============================] - 7s 112ms/step - loss: 0.0010\n",
      "Epoch 45/50\n",
      "62/62 [==============================] - 6s 103ms/step - loss: 8.6240e-04\n",
      "Epoch 46/50\n",
      "62/62 [==============================] - 7s 106ms/step - loss: 9.1085e-04\n",
      "Epoch 47/50\n",
      "62/62 [==============================] - 7s 107ms/step - loss: 0.0010\n",
      "Epoch 48/50\n",
      "62/62 [==============================] - 7s 106ms/step - loss: 9.8543e-04\n",
      "Epoch 49/50\n",
      "62/62 [==============================] - 7s 106ms/step - loss: 9.2873e-04\n",
      "Epoch 50/50\n",
      "62/62 [==============================] - 7s 108ms/step - loss: 9.8253e-04\n"
     ]
    }
   ],
   "source": [
    "# Saving the model's architecture, weights values, and compile() information in a HDF5 file\n",
    "# See https://www.tensorflow.org/guide/keras/save_and_serialize#keras_h5_format\n",
    "\n",
    "model.fit(x_train, y_train, epochs=50, batch_size=32)\n",
    "model.save('stock_price.h5')"
   ]
  },
  {
   "cell_type": "code",
   "execution_count": 47,
   "id": "41e8fb6c",
   "metadata": {},
   "outputs": [],
   "source": [
    "# Storing in numpy array \"predicted_prices\" the stock prices predicted by the LSTM model\n",
    "# Storing in numpy array \"real_prices\" the real stock prices\n",
    "# Rescaling both datasets to the original scale\n",
    "\n",
    "model = load_model('stock_price.h5')\n",
    "predicted_prices = model.predict(x_test)\n",
    "predicted_prices = scaler.inverse_transform(predicted_prices)\n",
    "real_prices = scaler.inverse_transform(y_test.reshape(-1, 1))"
   ]
  },
  {
   "cell_type": "markdown",
   "id": "40203c82",
   "metadata": {},
   "source": [
    "# Results"
   ]
  },
  {
   "cell_type": "code",
   "execution_count": 53,
   "id": "1304a447",
   "metadata": {},
   "outputs": [
    {
     "data": {
      "image/png": "[encoded data removed]",
      "text/plain": [
       "<Figure size 864x576 with 1 Axes>"
      ]
     },
     "metadata": {
      "needs_background": "light"
     },
     "output_type": "display_data"
    }
   ],
   "source": [
    "# Line plot of real stock prices vs. predicted stock prices\n",
    "# Parameters, title and legend of the line plot\n",
    "\n",
    "_, p = plt.subplots(figsize=(12,8))\n",
    "\n",
    "p.plot(real_prices, color='r', label='Real stock price')\n",
    "p.plot(predicted_prices, color='cyan', label='Predicted stock price')\n",
    "\n",
    "p.set_title('Real stock price vs. predicted stock price', size='x-large')\n",
    "p.set_ylabel('Stock price [USD]', size='large')\n",
    "p.set_xlabel('Days', size='large')\n",
    "p.set_facecolor('#000040')\n",
    "p.legend()\n",
    "\n",
    "plt.tight_layout()"
   ]
  }
 ],
 "metadata": {
  "kernelspec": {
   "display_name": "Python 3 (ipykernel)",
   "language": "python",
   "name": "python3"
  },
  "language_info": {
   "codemirror_mode": {
    "name": "ipython",
    "version": 3
   },
   "file_extension": ".py",
   "mimetype": "text/x-python",
   "name": "python",
   "nbconvert_exporter": "python",
   "pygments_lexer": "ipython3",
   "version": "3.10.2"
  }
 },
 "nbformat": 4,
 "nbformat_minor": 5
}
