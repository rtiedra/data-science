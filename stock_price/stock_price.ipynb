{
 "cells": [
  {
   "cell_type": "code",
   "execution_count": 2,
   "id": "3c5c38a8",
   "metadata": {},
   "outputs": [],
   "source": [
    "# Importing the numpy library (for arrays operations)\n",
    "# Importing the pandas library (for data analysis)\n",
    "# Importing the matplotlib.pyplot interface (for MATLAB-like plots)\n",
    "\n",
    "import numpy as np\n",
    "import pandas as pd\n",
    "import matplotlib.pyplot as plt"
   ]
  },
  {
   "cell_type": "markdown",
   "id": "03899940",
   "metadata": {},
   "source": [
    "# Dataset preparation\n",
    "We start by loading the dataset (csv file) we shall work with. We use Netflix stock price from 01/03/2012 to 12/31/2021 downloaded from investing.com:<br>\n",
    "https://www.investing.com/equities/netflix,-inc.-historical-data"
   ]
  },
  {
   "cell_type": "code",
   "execution_count": 10,
   "id": "39aec872",
   "metadata": {},
   "outputs": [
    {
     "data": {
      "text/html": [
       "<div>\n",
       "<style scoped>\n",
       "    .dataframe tbody tr th:only-of-type {\n",
       "        vertical-align: middle;\n",
       "    }\n",
       "\n",
       "    .dataframe tbody tr th {\n",
       "        vertical-align: top;\n",
       "    }\n",
       "\n",
       "    .dataframe thead th {\n",
       "        text-align: right;\n",
       "    }\n",
       "</style>\n",
       "<table border=\"1\" class=\"dataframe\">\n",
       "  <thead>\n",
       "    <tr style=\"text-align: right;\">\n",
       "      <th></th>\n",
       "      <th>Date</th>\n",
       "      <th>Price</th>\n",
       "      <th>Open</th>\n",
       "      <th>High</th>\n",
       "      <th>Low</th>\n",
       "      <th>Vol.</th>\n",
       "      <th>Change %</th>\n",
       "    </tr>\n",
       "  </thead>\n",
       "  <tbody>\n",
       "    <tr>\n",
       "      <th>2517</th>\n",
       "      <td>Jan 03, 2012</td>\n",
       "      <td>10.32</td>\n",
       "      <td>10.04</td>\n",
       "      <td>10.39</td>\n",
       "      <td>10.02</td>\n",
       "      <td>29.22M</td>\n",
       "      <td>4.24%</td>\n",
       "    </tr>\n",
       "    <tr>\n",
       "      <th>2516</th>\n",
       "      <td>Jan 04, 2012</td>\n",
       "      <td>11.49</td>\n",
       "      <td>10.34</td>\n",
       "      <td>11.57</td>\n",
       "      <td>10.26</td>\n",
       "      <td>100.55M</td>\n",
       "      <td>11.34%</td>\n",
       "    </tr>\n",
       "    <tr>\n",
       "      <th>2515</th>\n",
       "      <td>Jan 05, 2012</td>\n",
       "      <td>11.33</td>\n",
       "      <td>11.35</td>\n",
       "      <td>11.69</td>\n",
       "      <td>11.04</td>\n",
       "      <td>86.61M</td>\n",
       "      <td>-1.39%</td>\n",
       "    </tr>\n",
       "    <tr>\n",
       "      <th>2514</th>\n",
       "      <td>Jan 06, 2012</td>\n",
       "      <td>12.33</td>\n",
       "      <td>11.30</td>\n",
       "      <td>12.47</td>\n",
       "      <td>11.24</td>\n",
       "      <td>125.66M</td>\n",
       "      <td>8.83%</td>\n",
       "    </tr>\n",
       "    <tr>\n",
       "      <th>2513</th>\n",
       "      <td>Jan 09, 2012</td>\n",
       "      <td>14.03</td>\n",
       "      <td>12.80</td>\n",
       "      <td>14.24</td>\n",
       "      <td>12.45</td>\n",
       "      <td>214.07M</td>\n",
       "      <td>13.79%</td>\n",
       "    </tr>\n",
       "  </tbody>\n",
       "</table>\n",
       "</div>"
      ],
      "text/plain": [
       "              Date  Price   Open   High    Low     Vol. Change %\n",
       "2517  Jan 03, 2012  10.32  10.04  10.39  10.02   29.22M    4.24%\n",
       "2516  Jan 04, 2012  11.49  10.34  11.57  10.26  100.55M   11.34%\n",
       "2515  Jan 05, 2012  11.33  11.35  11.69  11.04   86.61M   -1.39%\n",
       "2514  Jan 06, 2012  12.33  11.30  12.47  11.24  125.66M    8.83%\n",
       "2513  Jan 09, 2012  14.03  12.80  14.24  12.45  214.07M   13.79%"
      ]
     },
     "execution_count": 10,
     "metadata": {},
     "output_type": "execute_result"
    }
   ],
   "source": [
    "# Storing the data in DataFrame \"df\", sorted by date in ascending order\n",
    "\n",
    "df = pd.read_csv('NFLX Historical Data.csv')\n",
    "df = df[::-1]\n",
    "df.head()"
   ]
  },
  {
   "cell_type": "code",
   "execution_count": 14,
   "id": "43eeafc2",
   "metadata": {},
   "outputs": [
    {
     "data": {
      "text/plain": [
       "(2518, 1)"
      ]
     },
     "execution_count": 14,
     "metadata": {},
     "output_type": "execute_result"
    }
   ],
   "source": [
    "# Keeping only the \"Open\" values of Netflix stock, and rechaping the DataFrame into a vertical numpy array\n",
    "\n",
    "arr = df['Open'].values\n",
    "arr = arr.reshape(-1, 1)\n",
    "arr.shape"
   ]
  },
  {
   "cell_type": "markdown",
   "id": "5630e816",
   "metadata": {},
   "source": [
    "We split the data into a training set stored in array \"arr_train\" (first 80% of the rows of \"arr\") and a testing set stored in array \"arr_test\" (last 20% of the rows of \"arr\")."
   ]
  },
  {
   "cell_type": "code",
   "execution_count": 5,
   "id": "284aea96",
   "metadata": {},
   "outputs": [
    {
     "name": "stdout",
     "output_type": "stream",
     "text": [
      "(2014, 1)\n",
      "(504, 1)\n"
     ]
    }
   ],
   "source": [
    "arr_train = arr[:int(arr.shape[0]*0.8)]\n",
    "arr_test = arr[int(arr.shape[0]*0.8):]\n",
    "print(arr_train.shape)\n",
    "print(arr_test.shape)"
   ]
  },
  {
   "cell_type": "markdown",
   "id": "a7a64ca1",
   "metadata": {},
   "source": [
    "# LSTM model"
   ]
  },
  {
   "cell_type": "code",
   "execution_count": 15,
   "id": "1f23e2e1",
   "metadata": {},
   "outputs": [],
   "source": [
    "# Importing the estimator \"MinMaxScaler\" from the sklearn.preprocessing module\n",
    "# (to scale data to a given range, typically the interval (0,1))\n",
    "# See https://scikit-learn.org/stable/modules/generated/sklearn.preprocessing.MinMaxScaler.html\n",
    "\n",
    "# Importing the \"Sequential\" class from the keras.models API (to group a linear stack of layers into a model)\n",
    "# See https://faroit.com/keras-docs/1.2.0/getting-started/sequential-model-guide/\n",
    "# See https://keras.io/api/models/sequential/\n",
    "\n",
    "# Importing the \"load_model\" function from the keras.models API (to load a model saved via model.save())\n",
    "# See https://keras.io/api/models/model_saving_apis/#loadmodel-function\n",
    "# See https://www.geeksforgeeks.org/save-and-load-models-in-tensorflow/\n",
    "\n",
    "# Importing the \"LSTM\" class from the keras.layers API (to load the long short-term memory layer to be used)\n",
    "# See https://keras.io/api/layers/recurrent_layers/lstm/\n",
    "# See https://en.wikipedia.org/wiki/Long_short-term_memory\n",
    "\n",
    "# Importing the \"Dense\" class from the keras.layers API (to load the regular densely-connected NN layer to be used)\n",
    "# See https://keras.io/api/layers/core_layers/dense/\n",
    "\n",
    "# Importing the \"Dropout\" class from the keras.layers API (to apply dropout to the input)\n",
    "# See https://keras.io/api/layers/regularization_layers/dropout/\n",
    "\n",
    "from sklearn.preprocessing import MinMaxScaler\n",
    "from keras.models import Sequential, load_model\n",
    "from keras.layers import LSTM, Dense, Dropout"
   ]
  },
  {
   "cell_type": "code",
   "execution_count": 7,
   "id": "3d7e3182",
   "metadata": {},
   "outputs": [],
   "source": [
    "scaler = MinMaxScaler()\n",
    "arr_train = scaler.fit_transform(arr_train)\n",
    "arr_test = scaler.fit_transform(arr_test)"
   ]
  },
  {
   "cell_type": "code",
   "execution_count": 8,
   "id": "9e3927fd",
   "metadata": {},
   "outputs": [
    {
     "data": {
      "text/plain": [
       "array([[0.00563251],\n",
       "       [0.00635772],\n",
       "       [0.00879928],\n",
       "       [0.00867842],\n",
       "       [0.01230449]])"
      ]
     },
     "execution_count": 8,
     "metadata": {},
     "output_type": "execute_result"
    }
   ],
   "source": [
    "arr_train[:5]"
   ]
  },
  {
   "cell_type": "code",
   "execution_count": 9,
   "id": "361c7363",
   "metadata": {},
   "outputs": [
    {
     "data": {
      "text/plain": [
       "array([[0.06642321],\n",
       "       [0.05707646],\n",
       "       [0.09116911],\n",
       "       [0.0784514 ],\n",
       "       [0.10529138]])"
      ]
     },
     "execution_count": 9,
     "metadata": {},
     "output_type": "execute_result"
    }
   ],
   "source": [
    "arr_test[:5]"
   ]
  }
 ],
 "metadata": {
  "kernelspec": {
   "display_name": "Python 3 (ipykernel)",
   "language": "python",
   "name": "python3"
  },
  "language_info": {
   "codemirror_mode": {
    "name": "ipython",
    "version": 3
   },
   "file_extension": ".py",
   "mimetype": "text/x-python",
   "name": "python",
   "nbconvert_exporter": "python",
   "pygments_lexer": "ipython3",
   "version": "3.10.2"
  }
 },
 "nbformat": 4,
 "nbformat_minor": 5
}
