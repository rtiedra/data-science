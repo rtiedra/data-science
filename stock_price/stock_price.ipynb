{
 "cells": [
  {
   "cell_type": "markdown",
   "id": "5760bf41",
   "metadata": {},
   "source": [
    "Stock price prediction program, licensed under the Apache License, Version 2.0<br>\n",
    "http://www.apache.org/licenses/LICENSE-2.0"
   ]
  },
  {
   "cell_type": "markdown",
   "id": "e36c0ee3",
   "metadata": {},
   "source": [
    "# General libraries"
   ]
  },
  {
   "cell_type": "code",
   "execution_count": 16,
   "id": "3c5c38a8",
   "metadata": {},
   "outputs": [],
   "source": [
    "# Importing the numpy library (for arrays operations)\n",
    "# Importing the pandas library (for data analysis)\n",
    "# Importing the matplotlib.pyplot interface (for MATLAB-like plots)\n",
    "\n",
    "import numpy as np\n",
    "import pandas as pd\n",
    "import matplotlib.pyplot as plt"
   ]
  },
  {
   "cell_type": "markdown",
   "id": "03899940",
   "metadata": {},
   "source": [
    "# Dataset preparation\n",
    "We start by loading the dataset (csv file) we shall work with. We use Netflix stock price from 04/04/2013 to 04/04/2022 retrieved from <b>investing.com</b>:<br>\n",
    "https://www.investing.com/equities/netflix,-inc.-historical-data"
   ]
  },
  {
   "cell_type": "code",
   "execution_count": 17,
   "id": "39aec872",
   "metadata": {},
   "outputs": [
    {
     "data": {
      "text/html": [
       "<div>\n",
       "<style scoped>\n",
       "    .dataframe tbody tr th:only-of-type {\n",
       "        vertical-align: middle;\n",
       "    }\n",
       "\n",
       "    .dataframe tbody tr th {\n",
       "        vertical-align: top;\n",
       "    }\n",
       "\n",
       "    .dataframe thead th {\n",
       "        text-align: right;\n",
       "    }\n",
       "</style>\n",
       "<table border=\"1\" class=\"dataframe\">\n",
       "  <thead>\n",
       "    <tr style=\"text-align: right;\">\n",
       "      <th></th>\n",
       "      <th>Date</th>\n",
       "      <th>Price</th>\n",
       "      <th>Open</th>\n",
       "      <th>High</th>\n",
       "      <th>Low</th>\n",
       "      <th>Vol.</th>\n",
       "      <th>Change %</th>\n",
       "    </tr>\n",
       "  </thead>\n",
       "  <tbody>\n",
       "    <tr>\n",
       "      <th>2268</th>\n",
       "      <td>Apr 04, 2013</td>\n",
       "      <td>23.81</td>\n",
       "      <td>23.91</td>\n",
       "      <td>24.30</td>\n",
       "      <td>23.40</td>\n",
       "      <td>34.46M</td>\n",
       "      <td>-1.81%</td>\n",
       "    </tr>\n",
       "    <tr>\n",
       "      <th>2267</th>\n",
       "      <td>Apr 05, 2013</td>\n",
       "      <td>23.52</td>\n",
       "      <td>23.36</td>\n",
       "      <td>24.36</td>\n",
       "      <td>23.22</td>\n",
       "      <td>32.52M</td>\n",
       "      <td>-1.22%</td>\n",
       "    </tr>\n",
       "    <tr>\n",
       "      <th>2266</th>\n",
       "      <td>Apr 08, 2013</td>\n",
       "      <td>23.29</td>\n",
       "      <td>23.69</td>\n",
       "      <td>23.76</td>\n",
       "      <td>22.71</td>\n",
       "      <td>31.76M</td>\n",
       "      <td>-0.98%</td>\n",
       "    </tr>\n",
       "    <tr>\n",
       "      <th>2265</th>\n",
       "      <td>Apr 09, 2013</td>\n",
       "      <td>24.19</td>\n",
       "      <td>23.36</td>\n",
       "      <td>24.48</td>\n",
       "      <td>23.15</td>\n",
       "      <td>34.08M</td>\n",
       "      <td>3.86%</td>\n",
       "    </tr>\n",
       "    <tr>\n",
       "      <th>2264</th>\n",
       "      <td>Apr 10, 2013</td>\n",
       "      <td>23.72</td>\n",
       "      <td>24.00</td>\n",
       "      <td>24.21</td>\n",
       "      <td>23.56</td>\n",
       "      <td>29.73M</td>\n",
       "      <td>-1.94%</td>\n",
       "    </tr>\n",
       "    <tr>\n",
       "      <th>...</th>\n",
       "      <td>...</td>\n",
       "      <td>...</td>\n",
       "      <td>...</td>\n",
       "      <td>...</td>\n",
       "      <td>...</td>\n",
       "      <td>...</td>\n",
       "      <td>...</td>\n",
       "    </tr>\n",
       "    <tr>\n",
       "      <th>4</th>\n",
       "      <td>Mar 29, 2022</td>\n",
       "      <td>391.82</td>\n",
       "      <td>384.39</td>\n",
       "      <td>396.50</td>\n",
       "      <td>380.33</td>\n",
       "      <td>5.81M</td>\n",
       "      <td>3.52%</td>\n",
       "    </tr>\n",
       "    <tr>\n",
       "      <th>3</th>\n",
       "      <td>Mar 30, 2022</td>\n",
       "      <td>381.47</td>\n",
       "      <td>389.55</td>\n",
       "      <td>392.70</td>\n",
       "      <td>378.63</td>\n",
       "      <td>4.00M</td>\n",
       "      <td>-2.64%</td>\n",
       "    </tr>\n",
       "    <tr>\n",
       "      <th>2</th>\n",
       "      <td>Mar 31, 2022</td>\n",
       "      <td>374.59</td>\n",
       "      <td>383.59</td>\n",
       "      <td>384.00</td>\n",
       "      <td>373.61</td>\n",
       "      <td>4.12M</td>\n",
       "      <td>-1.80%</td>\n",
       "    </tr>\n",
       "    <tr>\n",
       "      <th>1</th>\n",
       "      <td>Apr 01, 2022</td>\n",
       "      <td>373.47</td>\n",
       "      <td>376.80</td>\n",
       "      <td>380.87</td>\n",
       "      <td>368.50</td>\n",
       "      <td>4.64M</td>\n",
       "      <td>-0.30%</td>\n",
       "    </tr>\n",
       "    <tr>\n",
       "      <th>0</th>\n",
       "      <td>Apr 04, 2022</td>\n",
       "      <td>391.50</td>\n",
       "      <td>373.55</td>\n",
       "      <td>396.02</td>\n",
       "      <td>373.13</td>\n",
       "      <td>6.68M</td>\n",
       "      <td>4.83%</td>\n",
       "    </tr>\n",
       "  </tbody>\n",
       "</table>\n",
       "<p>2269 rows × 7 columns</p>\n",
       "</div>"
      ],
      "text/plain": [
       "              Date   Price    Open    High     Low    Vol. Change %\n",
       "2268  Apr 04, 2013   23.81   23.91   24.30   23.40  34.46M   -1.81%\n",
       "2267  Apr 05, 2013   23.52   23.36   24.36   23.22  32.52M   -1.22%\n",
       "2266  Apr 08, 2013   23.29   23.69   23.76   22.71  31.76M   -0.98%\n",
       "2265  Apr 09, 2013   24.19   23.36   24.48   23.15  34.08M    3.86%\n",
       "2264  Apr 10, 2013   23.72   24.00   24.21   23.56  29.73M   -1.94%\n",
       "...            ...     ...     ...     ...     ...     ...      ...\n",
       "4     Mar 29, 2022  391.82  384.39  396.50  380.33   5.81M    3.52%\n",
       "3     Mar 30, 2022  381.47  389.55  392.70  378.63   4.00M   -2.64%\n",
       "2     Mar 31, 2022  374.59  383.59  384.00  373.61   4.12M   -1.80%\n",
       "1     Apr 01, 2022  373.47  376.80  380.87  368.50   4.64M   -0.30%\n",
       "0     Apr 04, 2022  391.50  373.55  396.02  373.13   6.68M    4.83%\n",
       "\n",
       "[2269 rows x 7 columns]"
      ]
     },
     "execution_count": 17,
     "metadata": {},
     "output_type": "execute_result"
    }
   ],
   "source": [
    "# Storing the data in DataFrame \"df\", sorted by date in ascending order\n",
    "\n",
    "df = pd.read_csv('NFLX Historical Data.csv')\n",
    "df = df[::-1]\n",
    "df"
   ]
  },
  {
   "cell_type": "code",
   "execution_count": 18,
   "id": "43eeafc2",
   "metadata": {},
   "outputs": [
    {
     "data": {
      "text/plain": [
       "(2269, 1)"
      ]
     },
     "execution_count": 18,
     "metadata": {},
     "output_type": "execute_result"
    }
   ],
   "source": [
    "# Storing \"Price\" values of \"df\" in a numpy array \"arr\", and reshaping it into a vertical array\n",
    "\n",
    "arr = df['Price'].values\n",
    "arr = arr.reshape(-1, 1)\n",
    "arr.shape"
   ]
  },
  {
   "cell_type": "markdown",
   "id": "2d41d114",
   "metadata": {},
   "source": [
    "We split the data into a training set stored in an array \"arr_train\" (first 80% of the rows of \"arr\") and a test set stored in an array \"arr_test\" (last 20% of the rows of \"arr\"). We also store in a list \"dates\" the dates corresponding to \"arr_test\""
   ]
  },
  {
   "cell_type": "code",
   "execution_count": 19,
   "id": "284aea96",
   "metadata": {},
   "outputs": [
    {
     "name": "stdout",
     "output_type": "stream",
     "text": [
      "Shape of arr_train: (1815, 1)\n",
      "Shape of arr_train: (454, 1)\n",
      "Length of dates: 454\n"
     ]
    }
   ],
   "source": [
    "arr_train = arr[:int(arr.shape[0]*0.8)]\n",
    "arr_test = arr[int(arr.shape[0]*0.8):]\n",
    "dates = df['Date'].tolist()[int(arr.shape[0]*0.8):]\n",
    "\n",
    "print('Shape of arr_train:', arr_train.shape)\n",
    "print('Shape of arr_train:', arr_test.shape)\n",
    "print('Length of dates:', len(dates))"
   ]
  },
  {
   "cell_type": "markdown",
   "id": "2f38cb04",
   "metadata": {},
   "source": [
    "We import the estimator \"MinMaxScaler\" from the sklearn.preprocessing module to rescale the data to a given range, in our case the interval [0,1].<br>\n",
    "https://scikit-learn.org/stable/modules/generated/sklearn.preprocessing.MinMaxScaler.html"
   ]
  },
  {
   "cell_type": "code",
   "execution_count": 20,
   "id": "373c6ade",
   "metadata": {},
   "outputs": [
    {
     "name": "stdout",
     "output_type": "stream",
     "text": [
      "Rescaled arr_train:\n",
      " [[1.20677651e-03]\n",
      " [5.33766535e-04]\n",
      " [0.00000000e+00]\n",
      " ...\n",
      " [9.16175447e-01]\n",
      " [9.33418427e-01]\n",
      " [9.58087723e-01]]\n"
     ]
    }
   ],
   "source": [
    "from sklearn.preprocessing import MinMaxScaler\n",
    "\n",
    "# Rescaling \"arr_train\" and \"arr_test\" to the interval [0,1]\n",
    "\n",
    "scaler = MinMaxScaler()\n",
    "arr_train = scaler.fit_transform(arr_train)\n",
    "arr_test = scaler.fit_transform(arr_test)\n",
    "\n",
    "print('Rescaled arr_train:\\n', arr_train)"
   ]
  },
  {
   "cell_type": "markdown",
   "id": "ce50416e",
   "metadata": {},
   "source": [
    "We define a function \"arrays\" which creates two numpy arrays x, y from an input array \"arr\" and an input number of time steps \"n\". The 1D numpy array y contains all the last values of arr, starting from the n-th value. The 2D numpy array x contains all the lists of n consecutive values of arr."
   ]
  },
  {
   "cell_type": "code",
   "execution_count": 21,
   "id": "4df04621",
   "metadata": {},
   "outputs": [],
   "source": [
    "def arrays(arr, n):\n",
    "    x, y = [], []\n",
    "    for i in range(n, arr.shape[0]):\n",
    "        x.append(arr[i-n: i, 0])\n",
    "        y.append(arr[i, 0])\n",
    "    x, y = np.array(x), np.array(y)\n",
    "    return x,y "
   ]
  },
  {
   "cell_type": "code",
   "execution_count": 22,
   "id": "36279344",
   "metadata": {},
   "outputs": [
    {
     "name": "stdout",
     "output_type": "stream",
     "text": [
      "Shape of x_train: (1765, 50)\n",
      "Shape of y_train: (1765,)\n",
      "Shape of x_test: (404, 50)\n",
      "Shape of y_test: (404,)\n",
      "Number of dates: 404\n"
     ]
    }
   ],
   "source": [
    "# Using the function \"create_data\" with a given value of n to create the training and test datasets for the RNN model\n",
    "# Storing in \"dates\" the list of dates corresponding to \"y_test\"\n",
    "\n",
    "n = 50\n",
    "x_train, y_train = arrays(arr_train, n)\n",
    "x_test, y_test = arrays(arr_test, n)\n",
    "dates = dates[n:]\n",
    "\n",
    "print('Shape of x_train:', x_train.shape)\n",
    "print('Shape of y_train:', y_train.shape)\n",
    "print('Shape of x_test:', x_test.shape)\n",
    "print('Shape of y_test:', y_test.shape)\n",
    "print('Number of dates:', len(dates))"
   ]
  },
  {
   "cell_type": "code",
   "execution_count": 23,
   "id": "f65d2958",
   "metadata": {},
   "outputs": [
    {
     "name": "stdout",
     "output_type": "stream",
     "text": [
      "New shape of x_train: (1765, 50, 1)\n",
      "New shape of x_test: (404, 50, 1)\n"
     ]
    }
   ],
   "source": [
    "# Reshaping \"x_train\" and \"x_test\" into the 3D format needed for the LSTM input layer of the RNN model\n",
    "# The 3D format includes number of rows, size of the sample and number of features (here 1 for \"Price\" values)\n",
    "\n",
    "x_train = np.reshape(x_train, (x_train.shape[0], x_train.shape[1], 1))\n",
    "x_test = np.reshape(x_test, (x_test.shape[0], x_test.shape[1], 1))\n",
    "\n",
    "print('New shape of x_train:', x_train.shape)\n",
    "print('New shape of x_test:', x_test.shape)"
   ]
  },
  {
   "cell_type": "markdown",
   "id": "c5112a72",
   "metadata": {},
   "source": [
    "# RNN model"
   ]
  },
  {
   "cell_type": "code",
   "execution_count": 24,
   "id": "1f23e2e1",
   "metadata": {},
   "outputs": [],
   "source": [
    "# Importing the \"Sequential\" class from the keras.models API (to group a linear stack of layers into a model)\n",
    "# Importing the \"load_model\" function from the keras.models API (to load a model saved via model.save())\n",
    "# Importing the \"LSTM\" class from the keras.layers API (to load the long short-term memory layer to be used)\n",
    "# Importing the \"Dense\" class from the keras.layers API (to load the regular densely-connected NN layer to be used)\n",
    "# Importing the \"Dropout\" class from the keras.layers API (to apply dropout to the input)\n",
    "\n",
    "# See https://keras.io/api/models/sequential/\n",
    "# See https://keras.io/api/models/model_saving_apis/#loadmodel-function\n",
    "# See https://keras.io/api/layers/recurrent_layers/lstm/\n",
    "# See https://keras.io/api/layers/regularization_layers/dropout/\n",
    "# See https://keras.io/api/layers/core_layers/dense/\n",
    "\n",
    "from keras.models import Sequential, load_model\n",
    "from keras.layers import LSTM, Dense, Dropout"
   ]
  },
  {
   "cell_type": "markdown",
   "id": "01366431",
   "metadata": {},
   "source": [
    "We define a RNN model which takes as input the stock prices of n consecutive days and gives as output a prediction of stock price at day n+1.\n",
    "\n",
    "- We set the class of the model as <b>Sequential</b>.\n",
    "- We add three <b>LSTM</b> layers with a given number of <b>units</b> (dimension of the output space), <b>return_sequences=True</b> (???) and <b>input_shape=(n, 1)</b> (n time steps and 1 feature).\n",
    "- We add between each layer a <b>Dropout</b> layer which randomly sets input units to 0 with frequency rate r."
   ]
  },
  {
   "cell_type": "code",
   "execution_count": 25,
   "id": "e39d05b0",
   "metadata": {},
   "outputs": [],
   "source": [
    "# Adding a last dense layer providing the prediction of the next day stock price\n",
    "\n",
    "r = 0.1\n",
    "model = Sequential()\n",
    "\n",
    "model.add(LSTM(units=96, return_sequences=True, input_shape=(n, 1)))\n",
    "model.add(Dropout(r))\n",
    "model.add(LSTM(units=96, return_sequences=True))\n",
    "model.add(Dropout(r))\n",
    "model.add(LSTM(units=96, return_sequences=True))\n",
    "model.add(Dropout(r))\n",
    "model.add(LSTM(units=96))\n",
    "model.add(Dropout(r))\n",
    "model.add(Dense(units=1))"
   ]
  },
  {
   "cell_type": "code",
   "execution_count": 26,
   "id": "15156893",
   "metadata": {},
   "outputs": [
    {
     "name": "stdout",
     "output_type": "stream",
     "text": [
      "Model: \"sequential_1\"\n",
      "_________________________________________________________________\n",
      " Layer (type)                Output Shape              Param #   \n",
      "=================================================================\n",
      " lstm_4 (LSTM)               (None, 50, 96)            37632     \n",
      "                                                                 \n",
      " dropout_4 (Dropout)         (None, 50, 96)            0         \n",
      "                                                                 \n",
      " lstm_5 (LSTM)               (None, 50, 96)            74112     \n",
      "                                                                 \n",
      " dropout_5 (Dropout)         (None, 50, 96)            0         \n",
      "                                                                 \n",
      " lstm_6 (LSTM)               (None, 50, 96)            74112     \n",
      "                                                                 \n",
      " dropout_6 (Dropout)         (None, 50, 96)            0         \n",
      "                                                                 \n",
      " lstm_7 (LSTM)               (None, 96)                74112     \n",
      "                                                                 \n",
      " dropout_7 (Dropout)         (None, 96)                0         \n",
      "                                                                 \n",
      " dense_1 (Dense)             (None, 1)                 97        \n",
      "                                                                 \n",
      "=================================================================\n",
      "Total params: 260,065\n",
      "Trainable params: 260,065\n",
      "Non-trainable params: 0\n",
      "_________________________________________________________________\n"
     ]
    }
   ],
   "source": [
    "# Summary of the RNN model\n",
    "\n",
    "model.summary()"
   ]
  },
  {
   "cell_type": "markdown",
   "id": "9a6e87d8",
   "metadata": {},
   "source": [
    "We compile the model using the mean square error (mse) between labels and predictions as quantity to minimise during the training process. And we use \"adam\" as optimizer (a variant of the stochastic gradient descent algorithm).<br>\n",
    "https://keras.io/api/optimizers/adam/"
   ]
  },
  {
   "cell_type": "code",
   "execution_count": 27,
   "id": "9dea658e",
   "metadata": {},
   "outputs": [],
   "source": [
    "model.compile(loss='mse', optimizer='adam')"
   ]
  },
  {
   "cell_type": "code",
   "execution_count": 28,
   "id": "5f88c60e",
   "metadata": {},
   "outputs": [
    {
     "name": "stdout",
     "output_type": "stream",
     "text": [
      "Epoch 1/50\n",
      "56/56 [==============================] - 8s 66ms/step - loss: 0.0192\n",
      "Epoch 2/50\n",
      "56/56 [==============================] - 4s 73ms/step - loss: 0.0023\n",
      "Epoch 3/50\n",
      "56/56 [==============================] - 7s 123ms/step - loss: 0.0022\n",
      "Epoch 4/50\n",
      "56/56 [==============================] - 8s 140ms/step - loss: 0.0022\n",
      "Epoch 5/50\n",
      "56/56 [==============================] - 6s 114ms/step - loss: 0.0019\n",
      "Epoch 6/50\n",
      "56/56 [==============================] - 7s 122ms/step - loss: 0.0020\n",
      "Epoch 7/50\n",
      "56/56 [==============================] - 7s 124ms/step - loss: 0.0020\n",
      "Epoch 8/50\n",
      "56/56 [==============================] - 6s 116ms/step - loss: 0.0023\n",
      "Epoch 9/50\n",
      "56/56 [==============================] - 6s 110ms/step - loss: 0.0017\n",
      "Epoch 10/50\n",
      "56/56 [==============================] - 7s 128ms/step - loss: 0.0015\n",
      "Epoch 11/50\n",
      "56/56 [==============================] - 7s 130ms/step - loss: 0.0019\n",
      "Epoch 12/50\n",
      "56/56 [==============================] - 6s 113ms/step - loss: 0.0019\n",
      "Epoch 13/50\n",
      "56/56 [==============================] - 6s 111ms/step - loss: 0.0014\n",
      "Epoch 14/50\n",
      "56/56 [==============================] - 6s 106ms/step - loss: 0.0017\n",
      "Epoch 15/50\n",
      "56/56 [==============================] - 6s 103ms/step - loss: 0.0015\n",
      "Epoch 16/50\n",
      "56/56 [==============================] - 6s 103ms/step - loss: 0.0014\n",
      "Epoch 17/50\n",
      "56/56 [==============================] - 6s 106ms/step - loss: 0.0014\n",
      "Epoch 18/50\n",
      "56/56 [==============================] - 6s 103ms/step - loss: 0.0015\n",
      "Epoch 19/50\n",
      "56/56 [==============================] - 6s 102ms/step - loss: 0.0013\n",
      "Epoch 20/50\n",
      "56/56 [==============================] - 6s 102ms/step - loss: 0.0024\n",
      "Epoch 21/50\n",
      "56/56 [==============================] - 6s 103ms/step - loss: 0.0013\n",
      "Epoch 22/50\n",
      "56/56 [==============================] - 6s 104ms/step - loss: 0.0014\n",
      "Epoch 23/50\n",
      "56/56 [==============================] - 6s 110ms/step - loss: 0.0012\n",
      "Epoch 24/50\n",
      "56/56 [==============================] - 6s 110ms/step - loss: 0.0012\n",
      "Epoch 25/50\n",
      "56/56 [==============================] - 6s 102ms/step - loss: 0.0013\n",
      "Epoch 26/50\n",
      "56/56 [==============================] - 6s 102ms/step - loss: 0.0014\n",
      "Epoch 27/50\n",
      "56/56 [==============================] - 6s 104ms/step - loss: 0.0011\n",
      "Epoch 28/50\n",
      "56/56 [==============================] - 6s 102ms/step - loss: 0.0012\n",
      "Epoch 29/50\n",
      "56/56 [==============================] - 6s 103ms/step - loss: 0.0011\n",
      "Epoch 30/50\n",
      "56/56 [==============================] - 6s 102ms/step - loss: 0.0011\n",
      "Epoch 31/50\n",
      "56/56 [==============================] - 6s 103ms/step - loss: 9.1463e-04\n",
      "Epoch 32/50\n",
      "56/56 [==============================] - 6s 103ms/step - loss: 9.9597e-04\n",
      "Epoch 33/50\n",
      "56/56 [==============================] - 6s 103ms/step - loss: 9.4843e-04\n",
      "Epoch 34/50\n",
      "56/56 [==============================] - 6s 101ms/step - loss: 9.4065e-04\n",
      "Epoch 35/50\n",
      "56/56 [==============================] - 6s 103ms/step - loss: 0.0010\n",
      "Epoch 36/50\n",
      "56/56 [==============================] - 6s 102ms/step - loss: 9.9429e-04\n",
      "Epoch 37/50\n",
      "56/56 [==============================] - 6s 104ms/step - loss: 9.5397e-04\n",
      "Epoch 38/50\n",
      "56/56 [==============================] - 6s 106ms/step - loss: 0.0011\n",
      "Epoch 39/50\n",
      "56/56 [==============================] - 6s 103ms/step - loss: 8.6877e-04\n",
      "Epoch 40/50\n",
      "56/56 [==============================] - 7s 132ms/step - loss: 9.1290e-04\n",
      "Epoch 41/50\n",
      "56/56 [==============================] - 7s 122ms/step - loss: 8.1302e-04\n",
      "Epoch 42/50\n",
      "56/56 [==============================] - 6s 111ms/step - loss: 0.0010\n",
      "Epoch 43/50\n",
      "56/56 [==============================] - 7s 128ms/step - loss: 8.1323e-04\n",
      "Epoch 44/50\n",
      "56/56 [==============================] - 7s 127ms/step - loss: 9.1540e-04\n",
      "Epoch 45/50\n",
      "56/56 [==============================] - 6s 108ms/step - loss: 7.4829e-04\n",
      "Epoch 46/50\n",
      "56/56 [==============================] - 6s 108ms/step - loss: 7.0907e-04\n",
      "Epoch 47/50\n",
      "56/56 [==============================] - 6s 107ms/step - loss: 8.8666e-04\n",
      "Epoch 48/50\n",
      "56/56 [==============================] - 6s 107ms/step - loss: 7.3927e-04\n",
      "Epoch 49/50\n",
      "56/56 [==============================] - 6s 108ms/step - loss: 6.4244e-04\n",
      "Epoch 50/50\n",
      "56/56 [==============================] - 6s 107ms/step - loss: 7.4480e-04\n"
     ]
    }
   ],
   "source": [
    "# Training the model with a given number of epochs and batch size\n",
    "# Saving the model's attributes in a HDF5 file\n",
    "# See https://www.tensorflow.org/guide/keras/save_and_serialize#keras_h5_format\n",
    "\n",
    "model.fit(x_train, y_train, epochs=50, batch_size=32)\n",
    "model.save('stock_price.h5')"
   ]
  },
  {
   "cell_type": "code",
   "execution_count": 29,
   "id": "41e8fb6c",
   "metadata": {},
   "outputs": [],
   "source": [
    "# Storing in numpy array \"predicted_prices\" the stock prices predicted by the model\n",
    "# Storing in numpy array \"real_prices\" the real stock prices contained in \"y_test\"\n",
    "# Rescaling the values of both arrays to the original scale\n",
    "\n",
    "model = load_model('stock_price.h5')\n",
    "\n",
    "predicted_prices = model.predict(x_test)\n",
    "predicted_prices = scaler.inverse_transform(predicted_prices)\n",
    "real_prices = scaler.inverse_transform(y_test.reshape(-1, 1))"
   ]
  },
  {
   "cell_type": "markdown",
   "id": "662a2a1b",
   "metadata": {},
   "source": [
    "# Visualisation of results"
   ]
  },
  {
   "cell_type": "code",
   "execution_count": 30,
   "id": "1304a447",
   "metadata": {},
   "outputs": [
    {
     "data": {
      "image/png": "[encoded data removed]",
      "text/plain": [
       "<Figure size 864x576 with 1 Axes>"
      ]
     },
     "metadata": {
      "needs_background": "light"
     },
     "output_type": "display_data"
    }
   ],
   "source": [
    "# Line plot of real stock prices vs. predicted stock prices\n",
    "\n",
    "_, p = plt.subplots(figsize=(12,8))\n",
    "\n",
    "p.plot(dates, real_prices, color='r', label='Real stock price')\n",
    "p.plot(dates, predicted_prices, color='cyan', label='Predicted stock price')\n",
    "\n",
    "# Parameters, title and legend of the line plot\n",
    "\n",
    "p.set_title('Real stock price vs. predicted stock price', size='x-large')\n",
    "p.set_ylabel('Stock price [USD]', size='large')\n",
    "plt.xticks(np.arange(0, len(dates)+1, 80))\n",
    "p.set_xlabel('Date', size='large')\n",
    "p.set_facecolor('#000040')\n",
    "p.legend()\n",
    "\n",
    "plt.tight_layout()"
   ]
  }
 ],
 "metadata": {
  "kernelspec": {
   "display_name": "Python 3 (ipykernel)",
   "language": "python",
   "name": "python3"
  },
  "language_info": {
   "codemirror_mode": {
    "name": "ipython",
    "version": 3
   },
   "file_extension": ".py",
   "mimetype": "text/x-python",
   "name": "python",
   "nbconvert_exporter": "python",
   "pygments_lexer": "ipython3",
   "version": "3.10.2"
  }
 },
 "nbformat": 4,
 "nbformat_minor": 5
}
