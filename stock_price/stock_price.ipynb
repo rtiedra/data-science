{
 "cells": [
  {
   "cell_type": "code",
   "execution_count": 90,
   "id": "3c5c38a8",
   "metadata": {},
   "outputs": [],
   "source": [
    "# Importing the numpy library (for arrays operations)\n",
    "# Importing the pandas library (for data analysis)\n",
    "# Importing the matplotlib.pyplot interface (for MATLAB-like plots)\n",
    "\n",
    "import numpy as np\n",
    "import pandas as pd\n",
    "import matplotlib.pyplot as plt"
   ]
  },
  {
   "cell_type": "markdown",
   "id": "03899940",
   "metadata": {},
   "source": [
    "# Dataset preparation\n",
    "We start by loading the dataset (csv file) we will work with. We will use Netflix stock price from 01/01/2012 to 12/31/2021 downloaded from investing.com:<br>\n",
    "https://www.investing.com/equities/netflix,-inc.-historical-data"
   ]
  },
  {
   "cell_type": "code",
   "execution_count": 91,
   "id": "39aec872",
   "metadata": {},
   "outputs": [
    {
     "data": {
      "text/html": [
       "<div>\n",
       "<style scoped>\n",
       "    .dataframe tbody tr th:only-of-type {\n",
       "        vertical-align: middle;\n",
       "    }\n",
       "\n",
       "    .dataframe tbody tr th {\n",
       "        vertical-align: top;\n",
       "    }\n",
       "\n",
       "    .dataframe thead th {\n",
       "        text-align: right;\n",
       "    }\n",
       "</style>\n",
       "<table border=\"1\" class=\"dataframe\">\n",
       "  <thead>\n",
       "    <tr style=\"text-align: right;\">\n",
       "      <th></th>\n",
       "      <th>Date</th>\n",
       "      <th>Price</th>\n",
       "      <th>Open</th>\n",
       "      <th>High</th>\n",
       "      <th>Low</th>\n",
       "      <th>Vol.</th>\n",
       "      <th>Change %</th>\n",
       "    </tr>\n",
       "  </thead>\n",
       "  <tbody>\n",
       "    <tr>\n",
       "      <th>0</th>\n",
       "      <td>Dec 31, 2021</td>\n",
       "      <td>602.44</td>\n",
       "      <td>610.01</td>\n",
       "      <td>614.08</td>\n",
       "      <td>602.05</td>\n",
       "      <td>2.00M</td>\n",
       "      <td>-1.58%</td>\n",
       "    </tr>\n",
       "    <tr>\n",
       "      <th>1</th>\n",
       "      <td>Dec 30, 2021</td>\n",
       "      <td>612.09</td>\n",
       "      <td>612.99</td>\n",
       "      <td>620.61</td>\n",
       "      <td>611.24</td>\n",
       "      <td>1.61M</td>\n",
       "      <td>0.25%</td>\n",
       "    </tr>\n",
       "    <tr>\n",
       "      <th>2</th>\n",
       "      <td>Dec 29, 2021</td>\n",
       "      <td>610.54</td>\n",
       "      <td>610.71</td>\n",
       "      <td>613.98</td>\n",
       "      <td>604.68</td>\n",
       "      <td>1.28M</td>\n",
       "      <td>-0.03%</td>\n",
       "    </tr>\n",
       "    <tr>\n",
       "      <th>3</th>\n",
       "      <td>Dec 28, 2021</td>\n",
       "      <td>610.71</td>\n",
       "      <td>614.95</td>\n",
       "      <td>618.41</td>\n",
       "      <td>609.69</td>\n",
       "      <td>1.85M</td>\n",
       "      <td>-0.39%</td>\n",
       "    </tr>\n",
       "    <tr>\n",
       "      <th>4</th>\n",
       "      <td>Dec 27, 2021</td>\n",
       "      <td>613.12</td>\n",
       "      <td>615.00</td>\n",
       "      <td>615.00</td>\n",
       "      <td>609.25</td>\n",
       "      <td>1.86M</td>\n",
       "      <td>-0.16%</td>\n",
       "    </tr>\n",
       "    <tr>\n",
       "      <th>...</th>\n",
       "      <td>...</td>\n",
       "      <td>...</td>\n",
       "      <td>...</td>\n",
       "      <td>...</td>\n",
       "      <td>...</td>\n",
       "      <td>...</td>\n",
       "      <td>...</td>\n",
       "    </tr>\n",
       "    <tr>\n",
       "      <th>2513</th>\n",
       "      <td>Jan 09, 2012</td>\n",
       "      <td>14.03</td>\n",
       "      <td>12.80</td>\n",
       "      <td>14.24</td>\n",
       "      <td>12.45</td>\n",
       "      <td>214.07M</td>\n",
       "      <td>13.79%</td>\n",
       "    </tr>\n",
       "    <tr>\n",
       "      <th>2514</th>\n",
       "      <td>Jan 06, 2012</td>\n",
       "      <td>12.33</td>\n",
       "      <td>11.30</td>\n",
       "      <td>12.47</td>\n",
       "      <td>11.24</td>\n",
       "      <td>125.66M</td>\n",
       "      <td>8.83%</td>\n",
       "    </tr>\n",
       "    <tr>\n",
       "      <th>2515</th>\n",
       "      <td>Jan 05, 2012</td>\n",
       "      <td>11.33</td>\n",
       "      <td>11.35</td>\n",
       "      <td>11.69</td>\n",
       "      <td>11.04</td>\n",
       "      <td>86.61M</td>\n",
       "      <td>-1.39%</td>\n",
       "    </tr>\n",
       "    <tr>\n",
       "      <th>2516</th>\n",
       "      <td>Jan 04, 2012</td>\n",
       "      <td>11.49</td>\n",
       "      <td>10.34</td>\n",
       "      <td>11.57</td>\n",
       "      <td>10.26</td>\n",
       "      <td>100.55M</td>\n",
       "      <td>11.34%</td>\n",
       "    </tr>\n",
       "    <tr>\n",
       "      <th>2517</th>\n",
       "      <td>Jan 03, 2012</td>\n",
       "      <td>10.32</td>\n",
       "      <td>10.04</td>\n",
       "      <td>10.39</td>\n",
       "      <td>10.02</td>\n",
       "      <td>29.22M</td>\n",
       "      <td>4.24%</td>\n",
       "    </tr>\n",
       "  </tbody>\n",
       "</table>\n",
       "<p>2518 rows × 7 columns</p>\n",
       "</div>"
      ],
      "text/plain": [
       "              Date   Price    Open    High     Low     Vol. Change %\n",
       "0     Dec 31, 2021  602.44  610.01  614.08  602.05    2.00M   -1.58%\n",
       "1     Dec 30, 2021  612.09  612.99  620.61  611.24    1.61M    0.25%\n",
       "2     Dec 29, 2021  610.54  610.71  613.98  604.68    1.28M   -0.03%\n",
       "3     Dec 28, 2021  610.71  614.95  618.41  609.69    1.85M   -0.39%\n",
       "4     Dec 27, 2021  613.12  615.00  615.00  609.25    1.86M   -0.16%\n",
       "...            ...     ...     ...     ...     ...      ...      ...\n",
       "2513  Jan 09, 2012   14.03   12.80   14.24   12.45  214.07M   13.79%\n",
       "2514  Jan 06, 2012   12.33   11.30   12.47   11.24  125.66M    8.83%\n",
       "2515  Jan 05, 2012   11.33   11.35   11.69   11.04   86.61M   -1.39%\n",
       "2516  Jan 04, 2012   11.49   10.34   11.57   10.26  100.55M   11.34%\n",
       "2517  Jan 03, 2012   10.32   10.04   10.39   10.02   29.22M    4.24%\n",
       "\n",
       "[2518 rows x 7 columns]"
      ]
     },
     "execution_count": 91,
     "metadata": {},
     "output_type": "execute_result"
    }
   ],
   "source": [
    "df = pd.read_csv('NFLX Historical Data.csv')\n",
    "df"
   ]
  },
  {
   "cell_type": "markdown",
   "id": "bf62eccf",
   "metadata": {},
   "source": [
    "For simplicity, we just keep the 'Open' values of the Netflix stock, and rechape the DataFrame 'df' into a vertical vector numpy array (2518 rows × 1 column)."
   ]
  },
  {
   "cell_type": "code",
   "execution_count": 92,
   "id": "43eeafc2",
   "metadata": {},
   "outputs": [
    {
     "data": {
      "text/plain": [
       "(2518, 1)"
      ]
     },
     "execution_count": 92,
     "metadata": {},
     "output_type": "execute_result"
    }
   ],
   "source": [
    "arr = df['Open'].values\n",
    "arr = arr.reshape(-1, 1)\n",
    "arr.shape"
   ]
  },
  {
   "cell_type": "markdown",
   "id": "5630e816",
   "metadata": {},
   "source": [
    "We Split the data into a training set stored in an array \"arr_train\" and a testing set stored in an array \"arr_test\". The training set contains the first 80% of the data and the testing set contains the last 20% of the data."
   ]
  },
  {
   "cell_type": "code",
   "execution_count": 95,
   "id": "284aea96",
   "metadata": {},
   "outputs": [
    {
     "name": "stdout",
     "output_type": "stream",
     "text": [
      "(2014, 7)\n",
      "(504, 7)\n"
     ]
    }
   ],
   "source": [
    "arr_train = df[:int(arr.shape[0]*0.8)]\n",
    "arr_test = df[int(arr.shape[0]*0.8):]\n",
    "print(arr_train.shape)\n",
    "print(arr_test.shape)"
   ]
  },
  {
   "cell_type": "markdown",
   "id": "a7a64ca1",
   "metadata": {},
   "source": [
    "# LSTM model"
   ]
  },
  {
   "cell_type": "code",
   "execution_count": 99,
   "id": "1f23e2e1",
   "metadata": {},
   "outputs": [],
   "source": [
    "# Importing the estimator \"MinMaxScaler\" from the sklearn.preprocessing module (to scale data to a given range)\n",
    "# See https://scikit-learn.org/stable/modules/generated/sklearn.preprocessing.MinMaxScaler.html\n",
    "\n",
    "from sklearn.preprocessing import MinMaxScaler"
   ]
  }
 ],
 "metadata": {
  "kernelspec": {
   "display_name": "Python 3 (ipykernel)",
   "language": "python",
   "name": "python3"
  },
  "language_info": {
   "codemirror_mode": {
    "name": "ipython",
    "version": 3
   },
   "file_extension": ".py",
   "mimetype": "text/x-python",
   "name": "python",
   "nbconvert_exporter": "python",
   "pygments_lexer": "ipython3",
   "version": "3.10.2"
  }
 },
 "nbformat": 4,
 "nbformat_minor": 5
}
