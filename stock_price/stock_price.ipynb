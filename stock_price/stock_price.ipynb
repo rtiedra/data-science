{
 "cells": [
  {
   "cell_type": "code",
   "execution_count": 66,
   "id": "3c5c38a8",
   "metadata": {},
   "outputs": [],
   "source": [
    "# Importing the numpy library (for arrays operations)\n",
    "# Importing the pandas library (for data analysis)\n",
    "# Importing the matplotlib.pyplot interface (for MATLAB-like plots)\n",
    "\n",
    "import numpy as np\n",
    "import pandas as pd\n",
    "import matplotlib.pyplot as plt"
   ]
  },
  {
   "cell_type": "markdown",
   "id": "03899940",
   "metadata": {},
   "source": [
    "# Dataset preparation\n",
    "We start by loading the dataset (csv file) we shall work with. We use Netflix stock price from 04/04/2013 to 04/04/2022 retrieved from investing.com:<br>\n",
    "https://www.investing.com/equities/netflix,-inc.-historical-data"
   ]
  },
  {
   "cell_type": "code",
   "execution_count": 67,
   "id": "39aec872",
   "metadata": {},
   "outputs": [
    {
     "data": {
      "text/html": [
       "<div>\n",
       "<style scoped>\n",
       "    .dataframe tbody tr th:only-of-type {\n",
       "        vertical-align: middle;\n",
       "    }\n",
       "\n",
       "    .dataframe tbody tr th {\n",
       "        vertical-align: top;\n",
       "    }\n",
       "\n",
       "    .dataframe thead th {\n",
       "        text-align: right;\n",
       "    }\n",
       "</style>\n",
       "<table border=\"1\" class=\"dataframe\">\n",
       "  <thead>\n",
       "    <tr style=\"text-align: right;\">\n",
       "      <th></th>\n",
       "      <th>Date</th>\n",
       "      <th>Price</th>\n",
       "      <th>Open</th>\n",
       "      <th>High</th>\n",
       "      <th>Low</th>\n",
       "      <th>Vol.</th>\n",
       "      <th>Change %</th>\n",
       "    </tr>\n",
       "  </thead>\n",
       "  <tbody>\n",
       "    <tr>\n",
       "      <th>2268</th>\n",
       "      <td>Apr 04, 2013</td>\n",
       "      <td>23.81</td>\n",
       "      <td>23.91</td>\n",
       "      <td>24.30</td>\n",
       "      <td>23.40</td>\n",
       "      <td>34.46M</td>\n",
       "      <td>-1.81%</td>\n",
       "    </tr>\n",
       "    <tr>\n",
       "      <th>2267</th>\n",
       "      <td>Apr 05, 2013</td>\n",
       "      <td>23.52</td>\n",
       "      <td>23.36</td>\n",
       "      <td>24.36</td>\n",
       "      <td>23.22</td>\n",
       "      <td>32.52M</td>\n",
       "      <td>-1.22%</td>\n",
       "    </tr>\n",
       "    <tr>\n",
       "      <th>2266</th>\n",
       "      <td>Apr 08, 2013</td>\n",
       "      <td>23.29</td>\n",
       "      <td>23.69</td>\n",
       "      <td>23.76</td>\n",
       "      <td>22.71</td>\n",
       "      <td>31.76M</td>\n",
       "      <td>-0.98%</td>\n",
       "    </tr>\n",
       "    <tr>\n",
       "      <th>2265</th>\n",
       "      <td>Apr 09, 2013</td>\n",
       "      <td>24.19</td>\n",
       "      <td>23.36</td>\n",
       "      <td>24.48</td>\n",
       "      <td>23.15</td>\n",
       "      <td>34.08M</td>\n",
       "      <td>3.86%</td>\n",
       "    </tr>\n",
       "    <tr>\n",
       "      <th>2264</th>\n",
       "      <td>Apr 10, 2013</td>\n",
       "      <td>23.72</td>\n",
       "      <td>24.00</td>\n",
       "      <td>24.21</td>\n",
       "      <td>23.56</td>\n",
       "      <td>29.73M</td>\n",
       "      <td>-1.94%</td>\n",
       "    </tr>\n",
       "    <tr>\n",
       "      <th>...</th>\n",
       "      <td>...</td>\n",
       "      <td>...</td>\n",
       "      <td>...</td>\n",
       "      <td>...</td>\n",
       "      <td>...</td>\n",
       "      <td>...</td>\n",
       "      <td>...</td>\n",
       "    </tr>\n",
       "    <tr>\n",
       "      <th>4</th>\n",
       "      <td>Mar 29, 2022</td>\n",
       "      <td>391.82</td>\n",
       "      <td>384.39</td>\n",
       "      <td>396.50</td>\n",
       "      <td>380.33</td>\n",
       "      <td>5.81M</td>\n",
       "      <td>3.52%</td>\n",
       "    </tr>\n",
       "    <tr>\n",
       "      <th>3</th>\n",
       "      <td>Mar 30, 2022</td>\n",
       "      <td>381.47</td>\n",
       "      <td>389.55</td>\n",
       "      <td>392.70</td>\n",
       "      <td>378.63</td>\n",
       "      <td>4.00M</td>\n",
       "      <td>-2.64%</td>\n",
       "    </tr>\n",
       "    <tr>\n",
       "      <th>2</th>\n",
       "      <td>Mar 31, 2022</td>\n",
       "      <td>374.59</td>\n",
       "      <td>383.59</td>\n",
       "      <td>384.00</td>\n",
       "      <td>373.61</td>\n",
       "      <td>4.12M</td>\n",
       "      <td>-1.80%</td>\n",
       "    </tr>\n",
       "    <tr>\n",
       "      <th>1</th>\n",
       "      <td>Apr 01, 2022</td>\n",
       "      <td>373.47</td>\n",
       "      <td>376.80</td>\n",
       "      <td>380.87</td>\n",
       "      <td>368.50</td>\n",
       "      <td>4.64M</td>\n",
       "      <td>-0.30%</td>\n",
       "    </tr>\n",
       "    <tr>\n",
       "      <th>0</th>\n",
       "      <td>Apr 04, 2022</td>\n",
       "      <td>391.50</td>\n",
       "      <td>373.55</td>\n",
       "      <td>396.02</td>\n",
       "      <td>373.13</td>\n",
       "      <td>6.68M</td>\n",
       "      <td>4.83%</td>\n",
       "    </tr>\n",
       "  </tbody>\n",
       "</table>\n",
       "<p>2269 rows × 7 columns</p>\n",
       "</div>"
      ],
      "text/plain": [
       "              Date   Price    Open    High     Low    Vol. Change %\n",
       "2268  Apr 04, 2013   23.81   23.91   24.30   23.40  34.46M   -1.81%\n",
       "2267  Apr 05, 2013   23.52   23.36   24.36   23.22  32.52M   -1.22%\n",
       "2266  Apr 08, 2013   23.29   23.69   23.76   22.71  31.76M   -0.98%\n",
       "2265  Apr 09, 2013   24.19   23.36   24.48   23.15  34.08M    3.86%\n",
       "2264  Apr 10, 2013   23.72   24.00   24.21   23.56  29.73M   -1.94%\n",
       "...            ...     ...     ...     ...     ...     ...      ...\n",
       "4     Mar 29, 2022  391.82  384.39  396.50  380.33   5.81M    3.52%\n",
       "3     Mar 30, 2022  381.47  389.55  392.70  378.63   4.00M   -2.64%\n",
       "2     Mar 31, 2022  374.59  383.59  384.00  373.61   4.12M   -1.80%\n",
       "1     Apr 01, 2022  373.47  376.80  380.87  368.50   4.64M   -0.30%\n",
       "0     Apr 04, 2022  391.50  373.55  396.02  373.13   6.68M    4.83%\n",
       "\n",
       "[2269 rows x 7 columns]"
      ]
     },
     "execution_count": 67,
     "metadata": {},
     "output_type": "execute_result"
    }
   ],
   "source": [
    "# Storing the data in DataFrame \"df\", sorted by date in ascending order\n",
    "\n",
    "df = pd.read_csv('NFLX Historical Data.csv')\n",
    "df = df[::-1]\n",
    "df"
   ]
  },
  {
   "cell_type": "code",
   "execution_count": 68,
   "id": "43eeafc2",
   "metadata": {},
   "outputs": [
    {
     "data": {
      "text/plain": [
       "(2269, 1)"
      ]
     },
     "execution_count": 68,
     "metadata": {},
     "output_type": "execute_result"
    }
   ],
   "source": [
    "# Keeping only the \"Open\" values of Netflix stock, and rechaping the DataFrame into a vertical numpy array\n",
    "\n",
    "arr = df['Open'].values\n",
    "arr = arr.reshape(-1, 1)\n",
    "arr.shape"
   ]
  },
  {
   "cell_type": "code",
   "execution_count": 69,
   "id": "284aea96",
   "metadata": {},
   "outputs": [
    {
     "name": "stdout",
     "output_type": "stream",
     "text": [
      "Shape of arr_train: (1815, 1)\n",
      "Shape of arr_train: (454, 1)\n",
      "Length of dates: 454\n"
     ]
    }
   ],
   "source": [
    "# Splitting the data into a training set stored in array \"arr_train\" (first 80% of the rows of \"arr\")\n",
    "# And a test set stored in array \"arr_test\" (last 20% of the rows of \"arr\")\n",
    "# Storing in list \"dates\" the dates corresponding to \"arr_test\"\n",
    "\n",
    "arr_train = arr[:int(arr.shape[0]*0.8)]\n",
    "arr_test = arr[int(arr.shape[0]*0.8):]\n",
    "dates = df['Date'].tolist()[int(arr.shape[0]*0.8):]\n",
    "\n",
    "print('Shape of arr_train:', arr_train.shape)\n",
    "print('Shape of arr_train:', arr_test.shape)\n",
    "print('Length of dates:', len(dates))"
   ]
  },
  {
   "cell_type": "code",
   "execution_count": 70,
   "id": "373c6ade",
   "metadata": {},
   "outputs": [
    {
     "name": "stdout",
     "output_type": "stream",
     "text": [
      "Rescaled arr_train:\n",
      " [[1.27642786e-03]\n",
      " [0.00000000e+00]\n",
      " [7.65856715e-04]\n",
      " ...\n",
      " [9.41400357e-01]\n",
      " [9.23483952e-01]\n",
      " [9.34438024e-01]]\n"
     ]
    }
   ],
   "source": [
    "# Importing the estimator \"MinMaxScaler\" from the sklearn.preprocessing module\n",
    "# (to rescale data to a given range, typically the interval [0,1])\n",
    "# See https://scikit-learn.org/stable/modules/generated/sklearn.preprocessing.MinMaxScaler.html\n",
    "\n",
    "from sklearn.preprocessing import MinMaxScaler\n",
    "\n",
    "# Rescaling \"arr_train\" and \"arr_test\" to the interval [0,1]\n",
    "\n",
    "scaler = MinMaxScaler()\n",
    "arr_train = scaler.fit_transform(arr_train)\n",
    "arr_test = scaler.fit_transform(arr_test)\n",
    "print('Rescaled arr_train:\\n', arr_train)"
   ]
  },
  {
   "cell_type": "code",
   "execution_count": 71,
   "id": "4df04621",
   "metadata": {},
   "outputs": [],
   "source": [
    "# Defining a function \"create_data\" which creates two numpy arrays x, y from input array \"arr\"\n",
    "# The 1D numpy array y contains all the last values of arr, starting from the 50th value\n",
    "# The 2D numpy array x contains all the lists of last 50 values of arr\n",
    "\n",
    "def create_data(arr):\n",
    "    x, y = [], []\n",
    "    for i in range(50, arr.shape[0]):\n",
    "        x.append(arr[i-50: i, 0])\n",
    "        y.append(arr[i, 0])\n",
    "    x, y = np.array(x), np.array(y)\n",
    "    return x,y "
   ]
  },
  {
   "cell_type": "code",
   "execution_count": 72,
   "id": "36279344",
   "metadata": {},
   "outputs": [
    {
     "name": "stdout",
     "output_type": "stream",
     "text": [
      "Shape of x_train: (1765, 50)\n",
      "Shape of y_train: (1765,)\n",
      "Shape of x_test: (404, 50)\n",
      "Shape of y_test: (404,)\n",
      "Length of dates: 404\n"
     ]
    }
   ],
   "source": [
    "# Using the function \"create_data\" to create the training and test datasets suitable for the LSTM model\n",
    "# Storing in \"dates\" the set of dates corresponding to \"y_test\"\n",
    "\n",
    "x_train, y_train = create_data(arr_train)\n",
    "x_test, y_test = create_data(arr_test)\n",
    "dates = dates[50:]\n",
    "print('Shape of x_train:', x_train.shape)\n",
    "print('Shape of y_train:', y_train.shape)\n",
    "print('Shape of x_test:', x_test.shape)\n",
    "print('Shape of y_test:', y_test.shape)\n",
    "print('Length of dates:', len(dates))"
   ]
  },
  {
   "cell_type": "markdown",
   "id": "c5112a72",
   "metadata": {},
   "source": [
    "# LSTM model"
   ]
  },
  {
   "cell_type": "code",
   "execution_count": 73,
   "id": "1f23e2e1",
   "metadata": {},
   "outputs": [],
   "source": [
    "# Importing the \"Sequential\" class from the keras.models API (to group a linear stack of layers into a model)\n",
    "# See https://faroit.com/keras-docs/1.2.0/getting-started/sequential-model-guide/\n",
    "# See https://keras.io/api/models/sequential/\n",
    "\n",
    "# Importing the \"load_model\" function from the keras.models API (to load a model saved via model.save())\n",
    "# See https://www.geeksforgeeks.org/save-and-load-models-in-tensorflow/\n",
    "# See https://keras.io/api/models/model_saving_apis/#loadmodel-function\n",
    "\n",
    "# Importing the \"LSTM\" class from the keras.layers API (to load the long short-term memory layer to be used)\n",
    "# See https://keras.io/api/layers/recurrent_layers/lstm/\n",
    "\n",
    "# Importing the \"Dense\" class from the keras.layers API (to load the regular densely-connected NN layer to be used)\n",
    "# See https://keras.io/api/layers/core_layers/dense/\n",
    "\n",
    "# Importing the \"Dropout\" class from the keras.layers API (to apply dropout to the input)\n",
    "# See https://keras.io/api/layers/regularization_layers/dropout/\n",
    "\n",
    "from keras.models import Sequential, load_model\n",
    "from keras.layers import LSTM, Dense, Dropout"
   ]
  },
  {
   "cell_type": "code",
   "execution_count": 74,
   "id": "e39d05b0",
   "metadata": {},
   "outputs": [],
   "source": [
    "model = Sequential()\n",
    "model.add(LSTM(units=96, return_sequences=True, input_shape=(x_train.shape[1], 1)))\n",
    "model.add(Dropout(0.2))\n",
    "model.add(LSTM(units=96, return_sequences=True))\n",
    "model.add(Dropout(0.2))\n",
    "model.add(LSTM(units=96, return_sequences=True))\n",
    "model.add(Dropout(0.2))\n",
    "model.add(LSTM(units=96))\n",
    "model.add(Dropout(0.2))\n",
    "model.add(Dense(units=1))"
   ]
  },
  {
   "cell_type": "code",
   "execution_count": 75,
   "id": "15156893",
   "metadata": {},
   "outputs": [
    {
     "name": "stdout",
     "output_type": "stream",
     "text": [
      "Model: \"sequential_4\"\n",
      "_________________________________________________________________\n",
      " Layer (type)                Output Shape              Param #   \n",
      "=================================================================\n",
      " lstm_16 (LSTM)              (None, 50, 96)            37632     \n",
      "                                                                 \n",
      " dropout_16 (Dropout)        (None, 50, 96)            0         \n",
      "                                                                 \n",
      " lstm_17 (LSTM)              (None, 50, 96)            74112     \n",
      "                                                                 \n",
      " dropout_17 (Dropout)        (None, 50, 96)            0         \n",
      "                                                                 \n",
      " lstm_18 (LSTM)              (None, 50, 96)            74112     \n",
      "                                                                 \n",
      " dropout_18 (Dropout)        (None, 50, 96)            0         \n",
      "                                                                 \n",
      " lstm_19 (LSTM)              (None, 96)                74112     \n",
      "                                                                 \n",
      " dropout_19 (Dropout)        (None, 96)                0         \n",
      "                                                                 \n",
      " dense_4 (Dense)             (None, 1)                 97        \n",
      "                                                                 \n",
      "=================================================================\n",
      "Total params: 260,065\n",
      "Trainable params: 260,065\n",
      "Non-trainable params: 0\n",
      "_________________________________________________________________\n"
     ]
    }
   ],
   "source": [
    "# Summarising the model\n",
    "\n",
    "model.summary()"
   ]
  },
  {
   "cell_type": "code",
   "execution_count": 76,
   "id": "4283f1aa",
   "metadata": {},
   "outputs": [
    {
     "name": "stdout",
     "output_type": "stream",
     "text": [
      "Shape of x_train: (1765, 50, 1)\n",
      "Shape of x_test: (404, 50, 1)\n"
     ]
    }
   ],
   "source": [
    "# Reshaping \"x_train\" and \"x_test\" into the 3D format needed for the LSTM input layer\n",
    "# Number of rows, size of the sample and number of features (here 1 for \"Open\" price)\n",
    "\n",
    "x_train = np.reshape(x_train, (x_train.shape[0], x_train.shape[1], 1))\n",
    "x_test = np.reshape(x_test, (x_test.shape[0], x_test.shape[1], 1))\n",
    "\n",
    "print('Shape of x_train:', x_train.shape)\n",
    "print('Shape of x_test:', x_test.shape)"
   ]
  },
  {
   "cell_type": "code",
   "execution_count": 77,
   "id": "9dea658e",
   "metadata": {},
   "outputs": [],
   "source": [
    "# Compiling the model with mean square between labels and predictions as quantity to minimize during training\n",
    "# And \"adam\" as optimizer (a type of stochastic gradient descent)\n",
    "# See https://keras.io/api/optimizers/adam/\n",
    "\n",
    "model.compile(loss='mean_squared_error', optimizer='adam')"
   ]
  },
  {
   "cell_type": "code",
   "execution_count": 78,
   "id": "5f88c60e",
   "metadata": {},
   "outputs": [
    {
     "name": "stdout",
     "output_type": "stream",
     "text": [
      "Epoch 1/50\n",
      "56/56 [==============================] - 8s 70ms/step - loss: 0.0113\n",
      "Epoch 2/50\n",
      "56/56 [==============================] - 5s 85ms/step - loss: 0.0031\n",
      "Epoch 3/50\n",
      "56/56 [==============================] - 4s 76ms/step - loss: 0.0030\n",
      "Epoch 4/50\n",
      "56/56 [==============================] - 4s 78ms/step - loss: 0.0030\n",
      "Epoch 5/50\n",
      "56/56 [==============================] - 5s 85ms/step - loss: 0.0028\n",
      "Epoch 6/50\n",
      "56/56 [==============================] - 5s 91ms/step - loss: 0.0024\n",
      "Epoch 7/50\n",
      "56/56 [==============================] - 5s 93ms/step - loss: 0.0029\n",
      "Epoch 8/50\n",
      "56/56 [==============================] - 7s 121ms/step - loss: 0.0021\n",
      "Epoch 9/50\n",
      "56/56 [==============================] - 7s 117ms/step - loss: 0.0020\n",
      "Epoch 10/50\n",
      "56/56 [==============================] - 6s 114ms/step - loss: 0.0023\n",
      "Epoch 11/50\n",
      "56/56 [==============================] - 6s 112ms/step - loss: 0.0019\n",
      "Epoch 12/50\n",
      "56/56 [==============================] - 6s 110ms/step - loss: 0.0019\n",
      "Epoch 13/50\n",
      "56/56 [==============================] - 6s 111ms/step - loss: 0.0021\n",
      "Epoch 14/50\n",
      "56/56 [==============================] - 6s 109ms/step - loss: 0.0017\n",
      "Epoch 15/50\n",
      "56/56 [==============================] - 6s 110ms/step - loss: 0.0018\n",
      "Epoch 16/50\n",
      "56/56 [==============================] - 6s 109ms/step - loss: 0.0019\n",
      "Epoch 17/50\n",
      "56/56 [==============================] - 6s 113ms/step - loss: 0.0018\n",
      "Epoch 18/50\n",
      "56/56 [==============================] - 7s 121ms/step - loss: 0.0016\n",
      "Epoch 19/50\n",
      "56/56 [==============================] - 6s 115ms/step - loss: 0.0017\n",
      "Epoch 20/50\n",
      "56/56 [==============================] - 6s 116ms/step - loss: 0.0017\n",
      "Epoch 21/50\n",
      "56/56 [==============================] - 6s 114ms/step - loss: 0.0019\n",
      "Epoch 22/50\n",
      "56/56 [==============================] - 6s 114ms/step - loss: 0.0016\n",
      "Epoch 23/50\n",
      "56/56 [==============================] - 6s 113ms/step - loss: 0.0017\n",
      "Epoch 24/50\n",
      "56/56 [==============================] - 6s 116ms/step - loss: 0.0016\n",
      "Epoch 25/50\n",
      "56/56 [==============================] - 6s 115ms/step - loss: 0.0017\n",
      "Epoch 26/50\n",
      "56/56 [==============================] - 6s 114ms/step - loss: 0.0015\n",
      "Epoch 27/50\n",
      "56/56 [==============================] - 6s 113ms/step - loss: 0.0016\n",
      "Epoch 28/50\n",
      "56/56 [==============================] - 6s 115ms/step - loss: 0.0016\n",
      "Epoch 29/50\n",
      "56/56 [==============================] - 6s 116ms/step - loss: 0.0017\n",
      "Epoch 30/50\n",
      "56/56 [==============================] - 6s 113ms/step - loss: 0.0015\n",
      "Epoch 31/50\n",
      "56/56 [==============================] - 6s 114ms/step - loss: 0.0015\n",
      "Epoch 32/50\n",
      "56/56 [==============================] - 6s 113ms/step - loss: 0.0018\n",
      "Epoch 33/50\n",
      "56/56 [==============================] - 6s 114ms/step - loss: 0.0013\n",
      "Epoch 34/50\n",
      "56/56 [==============================] - 6s 115ms/step - loss: 0.0012\n",
      "Epoch 35/50\n",
      "56/56 [==============================] - 7s 116ms/step - loss: 0.0015\n",
      "Epoch 36/50\n",
      "56/56 [==============================] - 7s 119ms/step - loss: 0.0014\n",
      "Epoch 37/50\n",
      "56/56 [==============================] - 6s 113ms/step - loss: 0.0012\n",
      "Epoch 38/50\n",
      "56/56 [==============================] - 6s 113ms/step - loss: 0.0013\n",
      "Epoch 39/50\n",
      "56/56 [==============================] - 6s 114ms/step - loss: 0.0012\n",
      "Epoch 40/50\n",
      "56/56 [==============================] - 6s 113ms/step - loss: 0.0012\n",
      "Epoch 41/50\n",
      "56/56 [==============================] - 7s 117ms/step - loss: 0.0012\n",
      "Epoch 42/50\n",
      "56/56 [==============================] - 7s 116ms/step - loss: 0.0013\n",
      "Epoch 43/50\n",
      "56/56 [==============================] - 6s 112ms/step - loss: 0.0014\n",
      "Epoch 44/50\n",
      "56/56 [==============================] - 6s 109ms/step - loss: 0.0010\n",
      "Epoch 45/50\n",
      "56/56 [==============================] - 6s 110ms/step - loss: 0.0012\n",
      "Epoch 46/50\n",
      "56/56 [==============================] - 7s 120ms/step - loss: 0.0013\n",
      "Epoch 47/50\n",
      "56/56 [==============================] - 6s 114ms/step - loss: 0.0011\n",
      "Epoch 48/50\n",
      "56/56 [==============================] - 6s 114ms/step - loss: 0.0011\n",
      "Epoch 49/50\n",
      "56/56 [==============================] - 6s 116ms/step - loss: 0.0012\n",
      "Epoch 50/50\n",
      "56/56 [==============================] - 6s 112ms/step - loss: 0.0010\n"
     ]
    }
   ],
   "source": [
    "# Training the model with a given number of epochs and a batch size\n",
    "# Saving the model's architecture, weights values, and compile() information in a HDF5 file\n",
    "# See https://www.tensorflow.org/guide/keras/save_and_serialize#keras_h5_format\n",
    "\n",
    "model.fit(x_train, y_train, epochs=50, batch_size=32)\n",
    "model.save('stock_price.h5')"
   ]
  },
  {
   "cell_type": "code",
   "execution_count": 79,
   "id": "41e8fb6c",
   "metadata": {},
   "outputs": [],
   "source": [
    "# Storing in numpy array \"predicted_prices\" the stock prices predicted (one day ahead) by the LSTM model\n",
    "# Storing in numpy array \"real_prices\" the real stock prices\n",
    "# Rescaling both datasets to the original scale\n",
    "\n",
    "model = load_model('stock_price.h5')\n",
    "predicted_prices = model.predict(x_test)\n",
    "predicted_prices = scaler.inverse_transform(predicted_prices)\n",
    "real_prices = scaler.inverse_transform(y_test.reshape(-1, 1))"
   ]
  },
  {
   "cell_type": "markdown",
   "id": "662a2a1b",
   "metadata": {},
   "source": [
    "# Results"
   ]
  },
  {
   "cell_type": "code",
   "execution_count": 80,
   "id": "1304a447",
   "metadata": {},
   "outputs": [
    {
     "data": {
      "image/png": "[encoded data removed]",
      "text/plain": [
       "<Figure size 864x576 with 1 Axes>"
      ]
     },
     "metadata": {
      "needs_background": "light"
     },
     "output_type": "display_data"
    }
   ],
   "source": [
    "# Line plot of real stock prices vs. predicted stock prices\n",
    "# Parameters, title and legend of the line plot\n",
    "\n",
    "_, p = plt.subplots(figsize=(12,8))\n",
    "\n",
    "p.plot(dates, real_prices, color='r', label='Real stock price')\n",
    "p.plot(dates, predicted_prices, color='cyan', label='Predicted stock price')\n",
    "\n",
    "p.set_title('Real stock price vs. predicted stock price', size='x-large')\n",
    "p.set_ylabel('Stock price [USD]', size='large')\n",
    "plt.xticks(np.arange(0, len(dates)+1, 80))\n",
    "p.set_xlabel('Date', size='large')\n",
    "p.set_facecolor('#000040')\n",
    "p.legend()\n",
    "\n",
    "plt.tight_layout()"
   ]
  }
 ],
 "metadata": {
  "kernelspec": {
   "display_name": "Python 3 (ipykernel)",
   "language": "python",
   "name": "python3"
  },
  "language_info": {
   "codemirror_mode": {
    "name": "ipython",
    "version": 3
   },
   "file_extension": ".py",
   "mimetype": "text/x-python",
   "name": "python",
   "nbconvert_exporter": "python",
   "pygments_lexer": "ipython3",
   "version": "3.10.2"
  }
 },
 "nbformat": 4,
 "nbformat_minor": 5
}
