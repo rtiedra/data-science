{
 "cells": [
  {
   "cell_type": "markdown",
   "id": "5760bf41",
   "metadata": {},
   "source": [
    "One-day-ahead stock price prediction program using LSTM recurrent neural network, licensed under the Apache License, Version 2.0<br>\n",
    "http://www.apache.org/licenses/LICENSE-2.0"
   ]
  },
  {
   "cell_type": "markdown",
   "id": "e36c0ee3",
   "metadata": {},
   "source": [
    "# General libraries"
   ]
  },
  {
   "cell_type": "code",
   "execution_count": 1,
   "id": "3c5c38a8",
   "metadata": {
    "execution": {
     "iopub.execute_input": "2022-05-08T16:42:38.286686Z",
     "iopub.status.busy": "2022-05-08T16:42:38.286384Z",
     "iopub.status.idle": "2022-05-08T16:42:39.587325Z",
     "shell.execute_reply": "2022-05-08T16:42:39.586490Z",
     "shell.execute_reply.started": "2022-05-08T16:42:38.286613Z"
    }
   },
   "outputs": [],
   "source": [
    "# Importing the numpy library (for arrays operations)\n",
    "# Importing the pandas library (for data analysis)\n",
    "# Importing the matplotlib.pyplot interface (for MATLAB-like plots)\n",
    "\n",
    "import numpy as np\n",
    "import pandas as pd\n",
    "import matplotlib.pyplot as plt"
   ]
  },
  {
   "cell_type": "markdown",
   "id": "03899940",
   "metadata": {},
   "source": [
    "# Dataset preparation\n",
    "We retrieve the data of Netflix stock prices from 04/04/2013 to 04/04/2022 (\"NFLX Historical Data.csv\") from investing.com:<br>\n",
    "https://www.investing.com/equities/netflix,-inc.-historical-data"
   ]
  },
  {
   "cell_type": "code",
   "execution_count": 2,
   "id": "39aec872",
   "metadata": {
    "execution": {
     "iopub.execute_input": "2022-05-08T16:42:39.589247Z",
     "iopub.status.busy": "2022-05-08T16:42:39.588929Z",
     "iopub.status.idle": "2022-05-08T16:42:39.625105Z",
     "shell.execute_reply": "2022-05-08T16:42:39.624510Z",
     "shell.execute_reply.started": "2022-05-08T16:42:39.589182Z"
    }
   },
   "outputs": [
    {
     "data": {
      "text/html": [
       "<div>\n",
       "<style scoped>\n",
       "    .dataframe tbody tr th:only-of-type {\n",
       "        vertical-align: middle;\n",
       "    }\n",
       "\n",
       "    .dataframe tbody tr th {\n",
       "        vertical-align: top;\n",
       "    }\n",
       "\n",
       "    .dataframe thead th {\n",
       "        text-align: right;\n",
       "    }\n",
       "</style>\n",
       "<table border=\"1\" class=\"dataframe\">\n",
       "  <thead>\n",
       "    <tr style=\"text-align: right;\">\n",
       "      <th></th>\n",
       "      <th>Date</th>\n",
       "      <th>Price</th>\n",
       "      <th>Open</th>\n",
       "      <th>High</th>\n",
       "      <th>Low</th>\n",
       "      <th>Vol.</th>\n",
       "      <th>Change %</th>\n",
       "    </tr>\n",
       "  </thead>\n",
       "  <tbody>\n",
       "    <tr>\n",
       "      <th>2268</th>\n",
       "      <td>Apr 04, 2013</td>\n",
       "      <td>23.81</td>\n",
       "      <td>23.91</td>\n",
       "      <td>24.30</td>\n",
       "      <td>23.40</td>\n",
       "      <td>34.46M</td>\n",
       "      <td>-1.81%</td>\n",
       "    </tr>\n",
       "    <tr>\n",
       "      <th>2267</th>\n",
       "      <td>Apr 05, 2013</td>\n",
       "      <td>23.52</td>\n",
       "      <td>23.36</td>\n",
       "      <td>24.36</td>\n",
       "      <td>23.22</td>\n",
       "      <td>32.52M</td>\n",
       "      <td>-1.22%</td>\n",
       "    </tr>\n",
       "    <tr>\n",
       "      <th>2266</th>\n",
       "      <td>Apr 08, 2013</td>\n",
       "      <td>23.29</td>\n",
       "      <td>23.69</td>\n",
       "      <td>23.76</td>\n",
       "      <td>22.71</td>\n",
       "      <td>31.76M</td>\n",
       "      <td>-0.98%</td>\n",
       "    </tr>\n",
       "    <tr>\n",
       "      <th>2265</th>\n",
       "      <td>Apr 09, 2013</td>\n",
       "      <td>24.19</td>\n",
       "      <td>23.36</td>\n",
       "      <td>24.48</td>\n",
       "      <td>23.15</td>\n",
       "      <td>34.08M</td>\n",
       "      <td>3.86%</td>\n",
       "    </tr>\n",
       "    <tr>\n",
       "      <th>2264</th>\n",
       "      <td>Apr 10, 2013</td>\n",
       "      <td>23.72</td>\n",
       "      <td>24.00</td>\n",
       "      <td>24.21</td>\n",
       "      <td>23.56</td>\n",
       "      <td>29.73M</td>\n",
       "      <td>-1.94%</td>\n",
       "    </tr>\n",
       "    <tr>\n",
       "      <th>...</th>\n",
       "      <td>...</td>\n",
       "      <td>...</td>\n",
       "      <td>...</td>\n",
       "      <td>...</td>\n",
       "      <td>...</td>\n",
       "      <td>...</td>\n",
       "      <td>...</td>\n",
       "    </tr>\n",
       "    <tr>\n",
       "      <th>4</th>\n",
       "      <td>Mar 29, 2022</td>\n",
       "      <td>391.82</td>\n",
       "      <td>384.39</td>\n",
       "      <td>396.50</td>\n",
       "      <td>380.33</td>\n",
       "      <td>5.81M</td>\n",
       "      <td>3.52%</td>\n",
       "    </tr>\n",
       "    <tr>\n",
       "      <th>3</th>\n",
       "      <td>Mar 30, 2022</td>\n",
       "      <td>381.47</td>\n",
       "      <td>389.55</td>\n",
       "      <td>392.70</td>\n",
       "      <td>378.63</td>\n",
       "      <td>4.00M</td>\n",
       "      <td>-2.64%</td>\n",
       "    </tr>\n",
       "    <tr>\n",
       "      <th>2</th>\n",
       "      <td>Mar 31, 2022</td>\n",
       "      <td>374.59</td>\n",
       "      <td>383.59</td>\n",
       "      <td>384.00</td>\n",
       "      <td>373.61</td>\n",
       "      <td>4.12M</td>\n",
       "      <td>-1.80%</td>\n",
       "    </tr>\n",
       "    <tr>\n",
       "      <th>1</th>\n",
       "      <td>Apr 01, 2022</td>\n",
       "      <td>373.47</td>\n",
       "      <td>376.80</td>\n",
       "      <td>380.87</td>\n",
       "      <td>368.50</td>\n",
       "      <td>4.64M</td>\n",
       "      <td>-0.30%</td>\n",
       "    </tr>\n",
       "    <tr>\n",
       "      <th>0</th>\n",
       "      <td>Apr 04, 2022</td>\n",
       "      <td>391.50</td>\n",
       "      <td>373.55</td>\n",
       "      <td>396.02</td>\n",
       "      <td>373.13</td>\n",
       "      <td>6.68M</td>\n",
       "      <td>4.83%</td>\n",
       "    </tr>\n",
       "  </tbody>\n",
       "</table>\n",
       "<p>2269 rows × 7 columns</p>\n",
       "</div>"
      ],
      "text/plain": [
       "              Date   Price    Open    High     Low    Vol. Change %\n",
       "2268  Apr 04, 2013   23.81   23.91   24.30   23.40  34.46M   -1.81%\n",
       "2267  Apr 05, 2013   23.52   23.36   24.36   23.22  32.52M   -1.22%\n",
       "2266  Apr 08, 2013   23.29   23.69   23.76   22.71  31.76M   -0.98%\n",
       "2265  Apr 09, 2013   24.19   23.36   24.48   23.15  34.08M    3.86%\n",
       "2264  Apr 10, 2013   23.72   24.00   24.21   23.56  29.73M   -1.94%\n",
       "...            ...     ...     ...     ...     ...     ...      ...\n",
       "4     Mar 29, 2022  391.82  384.39  396.50  380.33   5.81M    3.52%\n",
       "3     Mar 30, 2022  381.47  389.55  392.70  378.63   4.00M   -2.64%\n",
       "2     Mar 31, 2022  374.59  383.59  384.00  373.61   4.12M   -1.80%\n",
       "1     Apr 01, 2022  373.47  376.80  380.87  368.50   4.64M   -0.30%\n",
       "0     Apr 04, 2022  391.50  373.55  396.02  373.13   6.68M    4.83%\n",
       "\n",
       "[2269 rows x 7 columns]"
      ]
     },
     "execution_count": 2,
     "metadata": {},
     "output_type": "execute_result"
    }
   ],
   "source": [
    "# Storing the data in DataFrame \"df\", sorted by date in ascending order\n",
    "\n",
    "df = pd.read_csv('NFLX Historical Data.csv')\n",
    "df = df[::-1]\n",
    "df"
   ]
  },
  {
   "cell_type": "code",
   "execution_count": 3,
   "id": "43eeafc2",
   "metadata": {
    "execution": {
     "iopub.execute_input": "2022-05-08T16:42:39.626242Z",
     "iopub.status.busy": "2022-05-08T16:42:39.626062Z",
     "iopub.status.idle": "2022-05-08T16:42:39.632507Z",
     "shell.execute_reply": "2022-05-08T16:42:39.631699Z",
     "shell.execute_reply.started": "2022-05-08T16:42:39.626219Z"
    }
   },
   "outputs": [
    {
     "data": {
      "text/plain": [
       "(2269, 1)"
      ]
     },
     "execution_count": 3,
     "metadata": {},
     "output_type": "execute_result"
    }
   ],
   "source": [
    "# Storing \"Open\" values of stock prices in a numpy array \"arr\", and reshaping it into a vertical array\n",
    "\n",
    "arr = df['Open'].values\n",
    "arr = arr.reshape(-1, 1)\n",
    "arr.shape"
   ]
  },
  {
   "cell_type": "code",
   "execution_count": 4,
   "id": "8b9b31b6",
   "metadata": {
    "execution": {
     "iopub.execute_input": "2022-05-08T16:42:39.634606Z",
     "iopub.status.busy": "2022-05-08T16:42:39.634408Z",
     "iopub.status.idle": "2022-05-08T16:42:39.641780Z",
     "shell.execute_reply": "2022-05-08T16:42:39.641074Z",
     "shell.execute_reply.started": "2022-05-08T16:42:39.634582Z"
    }
   },
   "outputs": [
    {
     "data": {
      "text/plain": [
       "((1815, 1), (454, 1), 454)"
      ]
     },
     "execution_count": 4,
     "metadata": {},
     "output_type": "execute_result"
    }
   ],
   "source": [
    "# Splitting the data into a training set stored in array \"arr_train\" (first 80% of the rows of \"arr\")\n",
    "# And a test set stored in array \"arr_test\" (last 20% of the rows of \"arr\")\n",
    "# Storing in list \"dates\" the dates corresponding to \"arr_test\"\n",
    "\n",
    "arr_train = arr[:int(arr.shape[0]*0.8)]\n",
    "arr_test = arr[int(arr.shape[0]*0.8):]\n",
    "dates = df['Date'].tolist()[int(arr.shape[0]*0.8):]\n",
    "\n",
    "arr_train.shape, arr_test.shape, len(dates)"
   ]
  },
  {
   "cell_type": "markdown",
   "id": "2f38cb04",
   "metadata": {},
   "source": [
    "We import the estimator \"MinMaxScaler\" from the sklearn.preprocessing module to rescale the data to a given range, typically the interval [0,1].<br>\n",
    "https://scikit-learn.org/stable/modules/generated/sklearn.preprocessing.MinMaxScaler.html\n",
    "\n",
    "Since of the stock prices at different time periods have different value ranges, we split the train data into windows and rescale to [0,1] in each window. We rescale the test data to [0,1] too, using the scaling parameters of the last window of train data (because we are not supposed to have access to test data).<br>\n",
    "https://sebastianraschka.com/faq/docs/scale-training-test.html"
   ]
  },
  {
   "cell_type": "code",
   "execution_count": 5,
   "id": "7e2c5f22",
   "metadata": {
    "execution": {
     "iopub.execute_input": "2022-05-08T16:42:39.643048Z",
     "iopub.status.busy": "2022-05-08T16:42:39.642848Z",
     "iopub.status.idle": "2022-05-08T16:42:39.935559Z",
     "shell.execute_reply": "2022-05-08T16:42:39.934705Z",
     "shell.execute_reply.started": "2022-05-08T16:42:39.643023Z"
    }
   },
   "outputs": [],
   "source": [
    "from sklearn.preprocessing import MinMaxScaler\n",
    "\n",
    "scaler = MinMaxScaler()\n",
    "\n",
    "# Setting a window size and rescaling to [0,1] the data of \"arr_train\" in each window\n",
    "\n",
    "window = 605\n",
    "for i in range(0, len(arr_train)-window, window):\n",
    "    arr_train[i: i+window] = scaler.fit_transform(arr_train[i: i+window])\n",
    "\n",
    "# Rescaling the last part of \"arr_train\" and rescaling \"arr_test\" with these rescaling parameters too\n",
    "\n",
    "arr_train[i+window:] = scaler.fit_transform(arr_train[i+window:])\n",
    "arr_test = scaler.transform(arr_test)"
   ]
  },
  {
   "cell_type": "markdown",
   "id": "ce50416e",
   "metadata": {},
   "source": [
    "We define a function \"create_sequences\" which creates two numpy arrays \"sequences\" and \"labels\" given an array \"arr\" and a number of time steps \"n\". The 1D numpy array labels contains all the last values of arr, starting from the n-th value. The 2D numpy array sequences contains all the sequences of n consecutive values of arr."
   ]
  },
  {
   "cell_type": "code",
   "execution_count": 6,
   "id": "4df04621",
   "metadata": {
    "execution": {
     "iopub.execute_input": "2022-05-08T16:42:39.936770Z",
     "iopub.status.busy": "2022-05-08T16:42:39.936585Z",
     "iopub.status.idle": "2022-05-08T16:42:39.941593Z",
     "shell.execute_reply": "2022-05-08T16:42:39.940922Z",
     "shell.execute_reply.started": "2022-05-08T16:42:39.936747Z"
    }
   },
   "outputs": [],
   "source": [
    "def create_sequences(arr, n):\n",
    "    sequences, labels = [], []\n",
    "    for i in range(n, arr.shape[0]):\n",
    "        sequences.append(arr[i-n: i, 0])\n",
    "        labels.append(arr[i, 0])\n",
    "    return np.array(sequences), np.array(labels)"
   ]
  },
  {
   "cell_type": "code",
   "execution_count": 7,
   "id": "36279344",
   "metadata": {
    "execution": {
     "iopub.execute_input": "2022-05-08T16:42:39.943834Z",
     "iopub.status.busy": "2022-05-08T16:42:39.942874Z",
     "iopub.status.idle": "2022-05-08T16:42:39.956699Z",
     "shell.execute_reply": "2022-05-08T16:42:39.955853Z",
     "shell.execute_reply.started": "2022-05-08T16:42:39.943793Z"
    }
   },
   "outputs": [
    {
     "data": {
      "text/plain": [
       "((1755, 60), (1755,), (394, 60), (394,), 394)"
      ]
     },
     "execution_count": 7,
     "metadata": {},
     "output_type": "execute_result"
    }
   ],
   "source": [
    "# Setting a number of time steps n\n",
    "# Using the function create_sequences to create the training set and test set for the model\n",
    "# Storing in \"dates\" the list of dates corresponding to test_labels\n",
    "\n",
    "n = 60\n",
    "train_seqs, train_labels = create_sequences(arr_train, n)\n",
    "test_seqs, test_labels = create_sequences(arr_test, n)\n",
    "dates = dates[n:]\n",
    "\n",
    "train_seqs.shape, train_labels.shape, test_seqs.shape, test_labels.shape, len(dates)"
   ]
  },
  {
   "cell_type": "code",
   "execution_count": 8,
   "id": "f65d2958",
   "metadata": {
    "execution": {
     "iopub.execute_input": "2022-05-08T16:42:39.958525Z",
     "iopub.status.busy": "2022-05-08T16:42:39.958226Z",
     "iopub.status.idle": "2022-05-08T16:42:39.965413Z",
     "shell.execute_reply": "2022-05-08T16:42:39.964540Z",
     "shell.execute_reply.started": "2022-05-08T16:42:39.958488Z"
    }
   },
   "outputs": [
    {
     "data": {
      "text/plain": [
       "((1755, 60, 1), (394, 60, 1))"
      ]
     },
     "execution_count": 8,
     "metadata": {},
     "output_type": "execute_result"
    }
   ],
   "source": [
    "# Reshaping train_seqs and test_seqs into the 3D array needed for the LSTM input layer of the model\n",
    "# The 3D array includes: number of rows, number of time steps and number of features (here 1 for \"Open\" values)\n",
    "\n",
    "train_seqs = np.reshape(train_seqs, (train_seqs.shape[0], train_seqs.shape[1], 1))\n",
    "test_seqs = np.reshape(test_seqs, (test_seqs.shape[0], test_seqs.shape[1], 1))\n",
    "\n",
    "train_seqs.shape, test_seqs.shape"
   ]
  },
  {
   "cell_type": "markdown",
   "id": "c5112a72",
   "metadata": {},
   "source": [
    "# RNN model"
   ]
  },
  {
   "cell_type": "code",
   "execution_count": 9,
   "id": "1f23e2e1",
   "metadata": {
    "execution": {
     "iopub.execute_input": "2022-05-08T16:42:39.968236Z",
     "iopub.status.busy": "2022-05-08T16:42:39.967356Z",
     "iopub.status.idle": "2022-05-08T16:42:42.081711Z",
     "shell.execute_reply": "2022-05-08T16:42:42.080737Z",
     "shell.execute_reply.started": "2022-05-08T16:42:39.968184Z"
    }
   },
   "outputs": [],
   "source": [
    "# Importing the \"Sequential\" class from the keras.models API (to group a linear stack of layers into a model)\n",
    "# Importing the \"load_model\" function from the keras.models API (to load a model saved via model.save())\n",
    "# Importing the \"LSTM\" class from the keras.layers API (to load the long short-term memory layer to be used)\n",
    "# Importing the \"Dense\" class from the keras.layers API (to load the regular densely-connected NN layer to be used)\n",
    "# Importing the \"Dropout\" class from the keras.layers API (to apply dropout to the input)\n",
    "\n",
    "# See https://keras.io/api/models/ and https://keras.io/api/layers/\n",
    "\n",
    "from keras.models import Sequential, load_model\n",
    "from keras.layers import LSTM, Dense, Dropout"
   ]
  },
  {
   "cell_type": "markdown",
   "id": "01366431",
   "metadata": {},
   "source": [
    "We define a RNN model which takes as input the stock prices of n consecutive days and gives as output a prediction of stock price at day n+1:\n",
    "\n",
    "- we set the class of the model as Sequential.\n",
    "- we add an LSTM layer with units_ℓ output units (with option \"return_sequences=True\" to set the output as a 3D array)\n",
    "- we add a Dropout layer with frequency rate r_ℓ\n",
    "- we add an LSTM layer with units_ℓ output units (with option \"return_sequences=True\" to set the output as a 3D array)\n",
    "- we add a Dropout layer with frequency rate r_ℓ\n",
    "- we add an LSTM layer with units_ℓ output units\n",
    "- we add a Dropout layer with frequency rate r_d\n",
    "- we add a Dense layer with 1 output unit (the dimension of 1 stock price prediction)"
   ]
  },
  {
   "cell_type": "code",
   "execution_count": 10,
   "id": "e39d05b0",
   "metadata": {
    "execution": {
     "iopub.execute_input": "2022-05-08T16:42:42.084023Z",
     "iopub.status.busy": "2022-05-08T16:42:42.083821Z",
     "iopub.status.idle": "2022-05-08T16:42:43.902560Z",
     "shell.execute_reply": "2022-05-08T16:42:43.901911Z",
     "shell.execute_reply.started": "2022-05-08T16:42:42.083999Z"
    }
   },
   "outputs": [],
   "source": [
    "units_ℓ = 128\n",
    "r_ℓ = 0.2\n",
    "r_d = 0.4\n",
    "\n",
    "model = Sequential()\n",
    "model.add(LSTM(units=units_ℓ, return_sequences=True, input_shape=(n, 1)))\n",
    "model.add(Dropout(r_ℓ))\n",
    "model.add(LSTM(units=units_ℓ, return_sequences=True))\n",
    "model.add(Dropout(r_ℓ))\n",
    "model.add(LSTM(units=units_ℓ))\n",
    "model.add(Dropout(r_d))\n",
    "model.add(Dense(units=1))"
   ]
  },
  {
   "cell_type": "code",
   "execution_count": 11,
   "id": "15156893",
   "metadata": {
    "execution": {
     "iopub.execute_input": "2022-05-08T16:42:43.906568Z",
     "iopub.status.busy": "2022-05-08T16:42:43.905899Z",
     "iopub.status.idle": "2022-05-08T16:42:43.915190Z",
     "shell.execute_reply": "2022-05-08T16:42:43.914597Z",
     "shell.execute_reply.started": "2022-05-08T16:42:43.906540Z"
    }
   },
   "outputs": [
    {
     "name": "stdout",
     "output_type": "stream",
     "text": [
      "Model: \"sequential\"\n",
      "_________________________________________________________________\n",
      " Layer (type)                Output Shape              Param #   \n",
      "=================================================================\n",
      " lstm (LSTM)                 (None, 60, 128)           66560     \n",
      "                                                                 \n",
      " dropout (Dropout)           (None, 60, 128)           0         \n",
      "                                                                 \n",
      " lstm_1 (LSTM)               (None, 60, 128)           131584    \n",
      "                                                                 \n",
      " dropout_1 (Dropout)         (None, 60, 128)           0         \n",
      "                                                                 \n",
      " lstm_2 (LSTM)               (None, 128)               131584    \n",
      "                                                                 \n",
      " dropout_2 (Dropout)         (None, 128)               0         \n",
      "                                                                 \n",
      " dense (Dense)               (None, 1)                 129       \n",
      "                                                                 \n",
      "=================================================================\n",
      "Total params: 329,857\n",
      "Trainable params: 329,857\n",
      "Non-trainable params: 0\n",
      "_________________________________________________________________\n"
     ]
    }
   ],
   "source": [
    "# Summary of the model, see https://keras.io/api/models/model/#summary-method\n",
    "\n",
    "model.summary()"
   ]
  },
  {
   "cell_type": "code",
   "execution_count": 11,
   "id": "d635c57c",
   "metadata": {
    "execution": {
     "iopub.execute_input": "2022-05-08T16:42:43.916763Z",
     "iopub.status.busy": "2022-05-08T16:42:43.916120Z",
     "iopub.status.idle": "2022-05-08T16:42:43.920926Z",
     "shell.execute_reply": "2022-05-08T16:42:43.919960Z",
     "shell.execute_reply.started": "2022-05-08T16:42:43.916738Z"
    }
   },
   "outputs": [
    {
     "data": {
      "image/png": "[encoded data removed]",
      "text/plain": [
       "<IPython.core.display.Image object>"
      ]
     },
     "execution_count": 11,
     "metadata": {},
     "output_type": "execute_result"
    }
   ],
   "source": [
    "# Importing the \"plot_model\" function from keras.utils.vis_utils module (to plot a schema of the model)\n",
    "# The \"None\" value stands for the (not yet defined) value of the batch size\n",
    "# See https://keras.io/api/utils/model_plotting_utils/\n",
    "\n",
    "from keras.utils.vis_utils import plot_model\n",
    "\n",
    "plot_model(model, show_shapes=True)"
   ]
  },
  {
   "cell_type": "markdown",
   "id": "9a6e87d8",
   "metadata": {},
   "source": [
    "We configure (compile) the model for training with:<br>\n",
    "- mean square error (mse) between labels and predictions as quantity to minimise during training process\n",
    "- root mean absolute error between labels and predictions as metric to display during training process\n",
    "- \"adam\" as optimizer to use during training process (a combination of gradient descent with momentum and RMSP)<br>\n",
    "https://keras.io/api/optimizers/adam/"
   ]
  },
  {
   "cell_type": "code",
   "execution_count": 13,
   "id": "9dea658e",
   "metadata": {
    "execution": {
     "iopub.execute_input": "2022-05-08T16:42:43.922912Z",
     "iopub.status.busy": "2022-05-08T16:42:43.922027Z",
     "iopub.status.idle": "2022-05-08T16:42:43.933921Z",
     "shell.execute_reply": "2022-05-08T16:42:43.933379Z",
     "shell.execute_reply.started": "2022-05-08T16:42:43.922886Z"
    }
   },
   "outputs": [],
   "source": [
    "model.compile(loss='mse', optimizer='adam', metrics='RootMeanSquaredError')"
   ]
  },
  {
   "cell_type": "markdown",
   "id": "4e5a17dc",
   "metadata": {},
   "source": [
    "We train the model with a given batch size and number of epochs. An epoch is a pass of the neural network over the entire training set and the batch size is the number of samples that are passed to the network at once (the default batch size in Keras is 32).<br>\n",
    "https://keras.io/api/models/model_training_apis/#fit-method\n",
    "\n",
    "For each epoch, we thus have\n",
    "$$\n",
    "\\hbox{number of training steps} = \\frac{\\hbox{length of training set}}{\\hbox{batch size}}\\;\\!.\n",
    "$$"
   ]
  },
  {
   "cell_type": "code",
   "execution_count": 14,
   "id": "5f88c60e",
   "metadata": {
    "execution": {
     "iopub.execute_input": "2022-05-08T16:42:43.935523Z",
     "iopub.status.busy": "2022-05-08T16:42:43.934827Z",
     "iopub.status.idle": "2022-05-08T16:45:57.771840Z",
     "shell.execute_reply": "2022-05-08T16:45:57.771125Z",
     "shell.execute_reply.started": "2022-05-08T16:42:43.935481Z"
    },
    "scrolled": true
   },
   "outputs": [
    {
     "name": "stdout",
     "output_type": "stream",
     "text": [
      "Epoch 1/15\n"
     ]
    },
    {
     "name": "stderr",
     "output_type": "stream",
     "text": [
      "2022-05-08 16:42:49.559977: I tensorflow/stream_executor/cuda/cuda_dnn.cc:377] Loaded cuDNN version 8302\n"
     ]
    },
    {
     "name": "stdout",
     "output_type": "stream",
     "text": [
      "878/878 [==============================] - 18s 14ms/step - loss: 0.0130 - root_mean_squared_error: 0.1141\n",
      "Epoch 2/15\n",
      "878/878 [==============================] - 12s 13ms/step - loss: 0.0076 - root_mean_squared_error: 0.0874\n",
      "Epoch 3/15\n",
      "878/878 [==============================] - 12s 14ms/step - loss: 0.0050 - root_mean_squared_error: 0.0707\n",
      "Epoch 4/15\n",
      "878/878 [==============================] - 12s 14ms/step - loss: 0.0046 - root_mean_squared_error: 0.0679\n",
      "Epoch 5/15\n",
      "878/878 [==============================] - 12s 14ms/step - loss: 0.0048 - root_mean_squared_error: 0.0693\n",
      "Epoch 6/15\n",
      "878/878 [==============================] - 12s 14ms/step - loss: 0.0043 - root_mean_squared_error: 0.0657\n",
      "Epoch 7/15\n",
      "878/878 [==============================] - 13s 15ms/step - loss: 0.0040 - root_mean_squared_error: 0.0632\n",
      "Epoch 8/15\n",
      "878/878 [==============================] - 14s 16ms/step - loss: 0.0034 - root_mean_squared_error: 0.0585\n",
      "Epoch 9/15\n",
      "878/878 [==============================] - 13s 15ms/step - loss: 0.0034 - root_mean_squared_error: 0.0582\n",
      "Epoch 10/15\n",
      "878/878 [==============================] - 13s 14ms/step - loss: 0.0035 - root_mean_squared_error: 0.0590\n",
      "Epoch 11/15\n",
      "878/878 [==============================] - 13s 15ms/step - loss: 0.0034 - root_mean_squared_error: 0.0583\n",
      "Epoch 12/15\n",
      "878/878 [==============================] - 13s 14ms/step - loss: 0.0033 - root_mean_squared_error: 0.0574\n",
      "Epoch 13/15\n",
      "878/878 [==============================] - 12s 14ms/step - loss: 0.0036 - root_mean_squared_error: 0.0604\n",
      "Epoch 14/15\n",
      "878/878 [==============================] - 12s 14ms/step - loss: 0.0032 - root_mean_squared_error: 0.0570\n",
      "Epoch 15/15\n",
      "878/878 [==============================] - 12s 14ms/step - loss: 0.0034 - root_mean_squared_error: 0.0582\n"
     ]
    }
   ],
   "source": [
    "# Training the model and saving the model's attributes in a HDF5 file\n",
    "# See https://en.wikipedia.org/wiki/Hierarchical_Data_Format\n",
    "\n",
    "batch_size = 2\n",
    "epochs = 15\n",
    "model.fit(train_seqs, train_labels, batch_size=batch_size, epochs=epochs)\n",
    "model.save('stock_price.h5')"
   ]
  },
  {
   "cell_type": "code",
   "execution_count": 15,
   "id": "41e8fb6c",
   "metadata": {
    "execution": {
     "iopub.execute_input": "2022-05-08T16:45:57.773193Z",
     "iopub.status.busy": "2022-05-08T16:45:57.772993Z",
     "iopub.status.idle": "2022-05-08T16:46:00.175014Z",
     "shell.execute_reply": "2022-05-08T16:46:00.173717Z",
     "shell.execute_reply.started": "2022-05-08T16:45:57.773169Z"
    }
   },
   "outputs": [],
   "source": [
    "# Storing in numpy array \"predicted\" the one-day-ahead stock prices predicted by the model\n",
    "# Storing in numpy array \"real\" the real stock prices contained in \"test_labels\"\n",
    "# Putting back both arrays to the original scale and format\n",
    "\n",
    "model = load_model('stock_price.h5')\n",
    "\n",
    "predicted = model.predict(test_seqs)\n",
    "predicted = scaler.inverse_transform(predicted)\n",
    "real = scaler.inverse_transform(test_labels.reshape(-1, 1))"
   ]
  },
  {
   "cell_type": "markdown",
   "id": "662a2a1b",
   "metadata": {},
   "source": [
    "# Visualisation of results"
   ]
  },
  {
   "cell_type": "code",
   "execution_count": 16,
   "id": "1304a447",
   "metadata": {
    "execution": {
     "iopub.execute_input": "2022-05-08T16:46:00.177586Z",
     "iopub.status.busy": "2022-05-08T16:46:00.176721Z",
     "iopub.status.idle": "2022-05-08T16:46:00.632561Z",
     "shell.execute_reply": "2022-05-08T16:46:00.631582Z",
     "shell.execute_reply.started": "2022-05-08T16:46:00.177528Z"
    }
   },
   "outputs": [
    {
     "data": {
      "image/png": "[encoded data removed]",
      "text/plain": [
       "<Figure size 1008x576 with 1 Axes>"
      ]
     },
     "metadata": {
      "needs_background": "light"
     },
     "output_type": "display_data"
    }
   ],
   "source": [
    "# Graph plot of real stock prices vs. one-day-ahead predicted stock prices\n",
    "\n",
    "_, p = plt.subplots(figsize=(14,8))\n",
    "\n",
    "p.plot(dates, real, color='r', label='Real stock price')\n",
    "p.plot(dates, predicted, color='cyan', label='Predicted stock price')\n",
    "\n",
    "# Parameters, title and legend of the plot\n",
    "\n",
    "p.set_title('Real stock price vs. one-day-ahead predicted stock price', size='x-large')\n",
    "p.set_ylabel('Stock price [USD]', size='large')\n",
    "plt.xticks(np.arange(0, len(dates)+1, 50))\n",
    "p.set_xlabel('(training parameters: timesteps = %d, units_ℓ = %d, r_ℓ = %.2f, r_d = %.2f, optimizer = Adam, batch size = %d, epochs = %d)'\n",
    "             % (n, units_ℓ, r_ℓ, r_d, batch_size, epochs))\n",
    "p.set_facecolor('#000030')\n",
    "p.legend()\n",
    "\n",
    "plt.tight_layout()"
   ]
  }
 ],
 "metadata": {
  "kernelspec": {
   "display_name": "Python 3 (ipykernel)",
   "language": "python",
   "name": "python3"
  },
  "language_info": {
   "codemirror_mode": {
    "name": "ipython",
    "version": 3
   },
   "file_extension": ".py",
   "mimetype": "text/x-python",
   "name": "python",
   "nbconvert_exporter": "python",
   "pygments_lexer": "ipython3",
   "version": "3.10.2"
  }
 },
 "nbformat": 4,
 "nbformat_minor": 5
}
