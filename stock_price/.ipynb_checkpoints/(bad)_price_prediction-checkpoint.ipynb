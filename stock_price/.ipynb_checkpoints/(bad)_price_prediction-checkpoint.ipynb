{
 "cells": [
  {
   "cell_type": "markdown",
   "id": "5760bf41",
   "metadata": {},
   "source": [
    "One-day-ahead (bad) stock price prediction program using LSTM recurrent neural network, licensed under the Apache License, Version 2.0<br>\n",
    "http://www.apache.org/licenses/LICENSE-2.0"
   ]
  },
  {
   "cell_type": "markdown",
   "id": "e36c0ee3",
   "metadata": {},
   "source": [
    "# General libraries"
   ]
  },
  {
   "cell_type": "code",
   "execution_count": 2,
   "id": "3c5c38a8",
   "metadata": {
    "execution": {
     "iopub.status.idle": "2022-05-10T15:17:27.034082Z",
     "shell.execute_reply": "2022-05-10T15:17:27.033181Z",
     "shell.execute_reply.started": "2022-05-10T15:17:25.943683Z"
    }
   },
   "outputs": [],
   "source": [
    "# Importing the numpy library (for arrays operations)\n",
    "# Importing the pandas library (for data analysis)\n",
    "# Importing the matplotlib.pyplot interface (for MATLAB-like plots)\n",
    "\n",
    "import numpy as np\n",
    "import pandas as pd\n",
    "import matplotlib.pyplot as plt"
   ]
  },
  {
   "cell_type": "markdown",
   "id": "03899940",
   "metadata": {},
   "source": [
    "# Dataset preparation\n",
    "We retrieve the data of Netflix stock prices from Jan 04, 2010 to May 10, 2022 (\"NFLX Historical Data.csv\") from investing.com:<br>\n",
    "https://www.investing.com/equities/netflix,-inc.-historical-data"
   ]
  },
  {
   "cell_type": "code",
   "execution_count": 3,
   "id": "39aec872",
   "metadata": {
    "execution": {
     "iopub.execute_input": "2022-05-10T15:17:27.036014Z",
     "iopub.status.busy": "2022-05-10T15:17:27.035808Z",
     "iopub.status.idle": "2022-05-10T15:17:27.069885Z",
     "shell.execute_reply": "2022-05-10T15:17:27.069015Z",
     "shell.execute_reply.started": "2022-05-10T15:17:27.035989Z"
    }
   },
   "outputs": [
    {
     "data": {
      "text/html": [
       "<div>\n",
       "<style scoped>\n",
       "    .dataframe tbody tr th:only-of-type {\n",
       "        vertical-align: middle;\n",
       "    }\n",
       "\n",
       "    .dataframe tbody tr th {\n",
       "        vertical-align: top;\n",
       "    }\n",
       "\n",
       "    .dataframe thead th {\n",
       "        text-align: right;\n",
       "    }\n",
       "</style>\n",
       "<table border=\"1\" class=\"dataframe\">\n",
       "  <thead>\n",
       "    <tr style=\"text-align: right;\">\n",
       "      <th></th>\n",
       "      <th>Date</th>\n",
       "      <th>Price</th>\n",
       "      <th>Open</th>\n",
       "      <th>High</th>\n",
       "      <th>Low</th>\n",
       "      <th>Vol.</th>\n",
       "      <th>Change %</th>\n",
       "    </tr>\n",
       "  </thead>\n",
       "  <tbody>\n",
       "    <tr>\n",
       "      <th>3110</th>\n",
       "      <td>Jan 04, 2010</td>\n",
       "      <td>7.64</td>\n",
       "      <td>7.93</td>\n",
       "      <td>7.96</td>\n",
       "      <td>7.57</td>\n",
       "      <td>17.24M</td>\n",
       "      <td>-2.92%</td>\n",
       "    </tr>\n",
       "    <tr>\n",
       "      <th>3109</th>\n",
       "      <td>Jan 05, 2010</td>\n",
       "      <td>7.36</td>\n",
       "      <td>7.65</td>\n",
       "      <td>7.66</td>\n",
       "      <td>7.26</td>\n",
       "      <td>23.75M</td>\n",
       "      <td>-3.66%</td>\n",
       "    </tr>\n",
       "    <tr>\n",
       "      <th>3108</th>\n",
       "      <td>Jan 06, 2010</td>\n",
       "      <td>7.62</td>\n",
       "      <td>7.36</td>\n",
       "      <td>7.67</td>\n",
       "      <td>7.20</td>\n",
       "      <td>23.29M</td>\n",
       "      <td>3.53%</td>\n",
       "    </tr>\n",
       "    <tr>\n",
       "      <th>3107</th>\n",
       "      <td>Jan 07, 2010</td>\n",
       "      <td>7.49</td>\n",
       "      <td>7.73</td>\n",
       "      <td>7.76</td>\n",
       "      <td>7.46</td>\n",
       "      <td>9.96M</td>\n",
       "      <td>-1.71%</td>\n",
       "    </tr>\n",
       "    <tr>\n",
       "      <th>3106</th>\n",
       "      <td>Jan 08, 2010</td>\n",
       "      <td>7.61</td>\n",
       "      <td>7.50</td>\n",
       "      <td>7.74</td>\n",
       "      <td>7.47</td>\n",
       "      <td>8.18M</td>\n",
       "      <td>1.60%</td>\n",
       "    </tr>\n",
       "    <tr>\n",
       "      <th>...</th>\n",
       "      <td>...</td>\n",
       "      <td>...</td>\n",
       "      <td>...</td>\n",
       "      <td>...</td>\n",
       "      <td>...</td>\n",
       "      <td>...</td>\n",
       "      <td>...</td>\n",
       "    </tr>\n",
       "    <tr>\n",
       "      <th>4</th>\n",
       "      <td>May 04, 2022</td>\n",
       "      <td>204.01</td>\n",
       "      <td>197.65</td>\n",
       "      <td>204.38</td>\n",
       "      <td>191.01</td>\n",
       "      <td>12.22M</td>\n",
       "      <td>2.07%</td>\n",
       "    </tr>\n",
       "    <tr>\n",
       "      <th>3</th>\n",
       "      <td>May 05, 2022</td>\n",
       "      <td>188.32</td>\n",
       "      <td>200.45</td>\n",
       "      <td>200.71</td>\n",
       "      <td>186.00</td>\n",
       "      <td>13.97M</td>\n",
       "      <td>-7.69%</td>\n",
       "    </tr>\n",
       "    <tr>\n",
       "      <th>2</th>\n",
       "      <td>May 06, 2022</td>\n",
       "      <td>180.97</td>\n",
       "      <td>186.75</td>\n",
       "      <td>187.21</td>\n",
       "      <td>175.81</td>\n",
       "      <td>17.19M</td>\n",
       "      <td>-3.90%</td>\n",
       "    </tr>\n",
       "    <tr>\n",
       "      <th>1</th>\n",
       "      <td>May 09, 2022</td>\n",
       "      <td>173.10</td>\n",
       "      <td>177.65</td>\n",
       "      <td>183.20</td>\n",
       "      <td>172.30</td>\n",
       "      <td>14.03M</td>\n",
       "      <td>-4.35%</td>\n",
       "    </tr>\n",
       "    <tr>\n",
       "      <th>0</th>\n",
       "      <td>May 10, 2022</td>\n",
       "      <td>177.66</td>\n",
       "      <td>176.01</td>\n",
       "      <td>181.87</td>\n",
       "      <td>170.57</td>\n",
       "      <td>13.77M</td>\n",
       "      <td>2.63%</td>\n",
       "    </tr>\n",
       "  </tbody>\n",
       "</table>\n",
       "<p>3111 rows × 7 columns</p>\n",
       "</div>"
      ],
      "text/plain": [
       "              Date   Price    Open    High     Low    Vol. Change %\n",
       "3110  Jan 04, 2010    7.64    7.93    7.96    7.57  17.24M   -2.92%\n",
       "3109  Jan 05, 2010    7.36    7.65    7.66    7.26  23.75M   -3.66%\n",
       "3108  Jan 06, 2010    7.62    7.36    7.67    7.20  23.29M    3.53%\n",
       "3107  Jan 07, 2010    7.49    7.73    7.76    7.46   9.96M   -1.71%\n",
       "3106  Jan 08, 2010    7.61    7.50    7.74    7.47   8.18M    1.60%\n",
       "...            ...     ...     ...     ...     ...     ...      ...\n",
       "4     May 04, 2022  204.01  197.65  204.38  191.01  12.22M    2.07%\n",
       "3     May 05, 2022  188.32  200.45  200.71  186.00  13.97M   -7.69%\n",
       "2     May 06, 2022  180.97  186.75  187.21  175.81  17.19M   -3.90%\n",
       "1     May 09, 2022  173.10  177.65  183.20  172.30  14.03M   -4.35%\n",
       "0     May 10, 2022  177.66  176.01  181.87  170.57  13.77M    2.63%\n",
       "\n",
       "[3111 rows x 7 columns]"
      ]
     },
     "execution_count": 3,
     "metadata": {},
     "output_type": "execute_result"
    }
   ],
   "source": [
    "# Storing the data in DataFrame \"df\", sorted by date in ascending order\n",
    "\n",
    "df = pd.read_csv('NFLX Historical Data.csv')\n",
    "df = df[::-1]\n",
    "df"
   ]
  },
  {
   "cell_type": "code",
   "execution_count": 3,
   "id": "43eeafc2",
   "metadata": {
    "execution": {
     "iopub.execute_input": "2022-05-10T15:17:27.073657Z",
     "iopub.status.busy": "2022-05-10T15:17:27.073476Z",
     "iopub.status.idle": "2022-05-10T15:17:27.080359Z",
     "shell.execute_reply": "2022-05-10T15:17:27.079219Z",
     "shell.execute_reply.started": "2022-05-10T15:17:27.073632Z"
    }
   },
   "outputs": [
    {
     "data": {
      "text/plain": [
       "(3111, 1)"
      ]
     },
     "execution_count": 3,
     "metadata": {},
     "output_type": "execute_result"
    }
   ],
   "source": [
    "# Storing \"Open\" values of stock prices in a numpy array \"arr\", and reshaping it into a vertical array\n",
    "\n",
    "arr = df['Open'].values\n",
    "arr = arr.reshape(-1, 1)\n",
    "arr.shape"
   ]
  },
  {
   "cell_type": "code",
   "execution_count": 4,
   "id": "8b9b31b6",
   "metadata": {
    "execution": {
     "iopub.execute_input": "2022-05-10T15:17:27.083360Z",
     "iopub.status.busy": "2022-05-10T15:17:27.083070Z",
     "iopub.status.idle": "2022-05-10T15:17:27.090566Z",
     "shell.execute_reply": "2022-05-10T15:17:27.089829Z",
     "shell.execute_reply.started": "2022-05-10T15:17:27.083330Z"
    }
   },
   "outputs": [
    {
     "data": {
      "text/plain": [
       "((2799, 1), (312, 1), 312)"
      ]
     },
     "execution_count": 4,
     "metadata": {},
     "output_type": "execute_result"
    }
   ],
   "source": [
    "# Splitting the data into a training set stored in array \"train_arr\" (first 80% of the rows of \"arr\")\n",
    "# And a test set stored in array \"test_arr\" (last 20% of the rows of \"arr\")\n",
    "# Storing in list \"dates\" the dates corresponding to \"test_arr\"\n",
    "\n",
    "train_arr = arr[:int(arr.shape[0]*0.9)]\n",
    "test_arr = arr[int(arr.shape[0]*0.9):]\n",
    "dates = df['Date'].tolist()[int(arr.shape[0]*0.9):]\n",
    "\n",
    "train_arr.shape, test_arr.shape, len(dates)"
   ]
  },
  {
   "cell_type": "markdown",
   "id": "2f38cb04",
   "metadata": {},
   "source": [
    "We import the estimator \"MinMaxScaler\" from the sklearn.preprocessing module to rescale the data to a given range, typically the interval [0,1].<br>\n",
    "https://scikit-learn.org/stable/modules/generated/sklearn.preprocessing.MinMaxScaler.html\n",
    "\n",
    "\n",
    "Too avo\n",
    "\n",
    "Since of the stock prices at different time periods have different value ranges, we split the train data into windows and rescale to [0,1] in each window. We rescale the test data to [0,1] too, using the scaling parameters of the last window of train data (because we are not supposed to have access to test data).<br>\n",
    "https://sebastianraschka.com/faq/docs/scale-training-test.html"
   ]
  },
  {
   "cell_type": "code",
   "execution_count": 5,
   "id": "7e2c5f22",
   "metadata": {
    "execution": {
     "iopub.execute_input": "2022-05-10T15:17:27.092219Z",
     "iopub.status.busy": "2022-05-10T15:17:27.091737Z",
     "iopub.status.idle": "2022-05-10T15:17:27.375444Z",
     "shell.execute_reply": "2022-05-10T15:17:27.374628Z",
     "shell.execute_reply.started": "2022-05-10T15:17:27.092189Z"
    }
   },
   "outputs": [],
   "source": [
    "from sklearn.preprocessing import MinMaxScaler\n",
    "\n",
    "scaler = MinMaxScaler()\n",
    "\n",
    "train_arr = scaler.fit_transform(train_arr)\n",
    "test_arr = scaler.transform(test_arr)"
   ]
  },
  {
   "cell_type": "markdown",
   "id": "ce50416e",
   "metadata": {},
   "source": [
    "We define a function \"create_sequences\" which creates two numpy arrays \"sequences\" and \"labels\" given an array \"arr\" and a number of time steps \"n\". The 1D numpy array labels contains all the last values of arr, starting from the n-th value. The 2D numpy array sequences contains all the sequences of n consecutive values of arr."
   ]
  },
  {
   "cell_type": "code",
   "execution_count": 6,
   "id": "4df04621",
   "metadata": {
    "execution": {
     "iopub.execute_input": "2022-05-10T15:17:27.376880Z",
     "iopub.status.busy": "2022-05-10T15:17:27.376429Z",
     "iopub.status.idle": "2022-05-10T15:17:27.381279Z",
     "shell.execute_reply": "2022-05-10T15:17:27.380493Z",
     "shell.execute_reply.started": "2022-05-10T15:17:27.376843Z"
    }
   },
   "outputs": [],
   "source": [
    "def create_sequences(arr, n):\n",
    "    sequences, labels = [], []\n",
    "    for i in range(n, arr.shape[0]):\n",
    "        sequences.append(arr[i-n: i, 0])\n",
    "        labels.append(arr[i, 0])\n",
    "    return np.array(sequences), np.array(labels)"
   ]
  },
  {
   "cell_type": "code",
   "execution_count": 7,
   "id": "36279344",
   "metadata": {
    "execution": {
     "iopub.execute_input": "2022-05-10T15:17:27.382855Z",
     "iopub.status.busy": "2022-05-10T15:17:27.382578Z",
     "iopub.status.idle": "2022-05-10T15:17:27.395928Z",
     "shell.execute_reply": "2022-05-10T15:17:27.395004Z",
     "shell.execute_reply.started": "2022-05-10T15:17:27.382821Z"
    }
   },
   "outputs": [
    {
     "data": {
      "text/plain": [
       "((2769, 30), (2769,), (282, 30), (282,), 282)"
      ]
     },
     "execution_count": 7,
     "metadata": {},
     "output_type": "execute_result"
    }
   ],
   "source": [
    "# Setting a number of time steps n\n",
    "# Using the function create_sequences to create the training set and test set for the model\n",
    "# Storing in \"dates\" the list of dates corresponding to test_labels\n",
    "\n",
    "n = 30\n",
    "train_seqs, train_labels = create_sequences(train_arr, n)\n",
    "test_seqs, test_labels = create_sequences(test_arr, n)\n",
    "dates = dates[n:]\n",
    "\n",
    "train_seqs.shape, train_labels.shape, test_seqs.shape, test_labels.shape, len(dates)"
   ]
  },
  {
   "cell_type": "code",
   "execution_count": 8,
   "id": "f65d2958",
   "metadata": {
    "execution": {
     "iopub.execute_input": "2022-05-10T15:17:27.397333Z",
     "iopub.status.busy": "2022-05-10T15:17:27.397118Z",
     "iopub.status.idle": "2022-05-10T15:17:27.403887Z",
     "shell.execute_reply": "2022-05-10T15:17:27.403044Z",
     "shell.execute_reply.started": "2022-05-10T15:17:27.397308Z"
    }
   },
   "outputs": [
    {
     "data": {
      "text/plain": [
       "((2769, 30, 1), (282, 30, 1))"
      ]
     },
     "execution_count": 8,
     "metadata": {},
     "output_type": "execute_result"
    }
   ],
   "source": [
    "# Reshaping train_seqs and test_seqs into the 3D array needed for the LSTM input layer of the model\n",
    "# The 3D array includes: number of rows, number of time steps and number of features (here 1 for \"Open\" values)\n",
    "\n",
    "train_seqs = np.reshape(train_seqs, (train_seqs.shape[0], train_seqs.shape[1], 1))\n",
    "test_seqs = np.reshape(test_seqs, (test_seqs.shape[0], test_seqs.shape[1], 1))\n",
    "\n",
    "train_seqs.shape, test_seqs.shape"
   ]
  },
  {
   "cell_type": "markdown",
   "id": "c5112a72",
   "metadata": {},
   "source": [
    "# RNN model"
   ]
  },
  {
   "cell_type": "code",
   "execution_count": 9,
   "id": "1f23e2e1",
   "metadata": {
    "execution": {
     "iopub.execute_input": "2022-05-10T15:17:27.405158Z",
     "iopub.status.busy": "2022-05-10T15:17:27.404984Z",
     "iopub.status.idle": "2022-05-10T15:17:29.558989Z",
     "shell.execute_reply": "2022-05-10T15:17:29.558195Z",
     "shell.execute_reply.started": "2022-05-10T15:17:27.405136Z"
    }
   },
   "outputs": [],
   "source": [
    "# Importing the \"Sequential\" class from the keras.models API (to group a linear stack of layers into a model)\n",
    "# Importing the \"load_model\" function from the keras.models API (to load a model saved via model.save())\n",
    "# Importing the \"LSTM\" class from the keras.layers API (to load the long short-term memory layer to be used)\n",
    "# Importing the \"Dense\" class from the keras.layers API (to load the regular densely-connected NN layer to be used)\n",
    "# Importing the \"Dropout\" class from the keras.layers API (to apply dropout to the input)\n",
    "\n",
    "# See https://keras.io/api/models/ and https://keras.io/api/layers/\n",
    "\n",
    "from keras.models import Sequential, load_model\n",
    "from keras.layers import LSTM, Dense, Dropout"
   ]
  },
  {
   "cell_type": "markdown",
   "id": "01366431",
   "metadata": {},
   "source": [
    "We define a RNN model which takes as input the stock prices of n consecutive days and gives as output a prediction of stock price at day n+1:\n",
    "\n",
    "- we set the class of the model as Sequential.\n",
    "- we add an LSTM layer with units_ℓ output units (with option \"return_sequences=True\" to set the output as a 3D array)\n",
    "- we add a Dropout layer with frequency rate r_ℓ\n",
    "- we add an LSTM layer with units_ℓ output units (with option \"return_sequences=True\" to set the output as a 3D array)\n",
    "- we add a Dropout layer with frequency rate r_ℓ\n",
    "- we add an LSTM layer with units_ℓ output units\n",
    "- we add a Dropout layer with frequency rate r_d\n",
    "- we add a Dense layer with 1 output unit (the dimension of 1 stock price prediction)"
   ]
  },
  {
   "cell_type": "code",
   "execution_count": 10,
   "id": "e39d05b0",
   "metadata": {
    "execution": {
     "iopub.execute_input": "2022-05-10T15:17:29.560250Z",
     "iopub.status.busy": "2022-05-10T15:17:29.560070Z",
     "iopub.status.idle": "2022-05-10T15:17:31.621093Z",
     "shell.execute_reply": "2022-05-10T15:17:31.620467Z",
     "shell.execute_reply.started": "2022-05-10T15:17:29.560227Z"
    }
   },
   "outputs": [
    {
     "name": "stderr",
     "output_type": "stream",
     "text": [
      "2022-05-10 15:17:29.607862: I tensorflow/stream_executor/cuda/cuda_gpu_executor.cc:1052] successful NUMA node read from SysFS had negative value (-1), but there must be at least one NUMA node, so returning NUMA node zero\n",
      "2022-05-10 15:17:29.657137: I tensorflow/stream_executor/cuda/cuda_gpu_executor.cc:1052] successful NUMA node read from SysFS had negative value (-1), but there must be at least one NUMA node, so returning NUMA node zero\n",
      "2022-05-10 15:17:29.657654: I tensorflow/stream_executor/cuda/cuda_gpu_executor.cc:1052] successful NUMA node read from SysFS had negative value (-1), but there must be at least one NUMA node, so returning NUMA node zero\n",
      "2022-05-10 15:17:29.659404: I tensorflow/stream_executor/cuda/cuda_gpu_executor.cc:1052] successful NUMA node read from SysFS had negative value (-1), but there must be at least one NUMA node, so returning NUMA node zero\n",
      "2022-05-10 15:17:29.659692: I tensorflow/stream_executor/cuda/cuda_gpu_executor.cc:1052] successful NUMA node read from SysFS had negative value (-1), but there must be at least one NUMA node, so returning NUMA node zero\n",
      "2022-05-10 15:17:29.659945: I tensorflow/stream_executor/cuda/cuda_gpu_executor.cc:1052] successful NUMA node read from SysFS had negative value (-1), but there must be at least one NUMA node, so returning NUMA node zero\n",
      "2022-05-10 15:17:30.527174: I tensorflow/stream_executor/cuda/cuda_gpu_executor.cc:1052] successful NUMA node read from SysFS had negative value (-1), but there must be at least one NUMA node, so returning NUMA node zero\n",
      "2022-05-10 15:17:30.527640: I tensorflow/stream_executor/cuda/cuda_gpu_executor.cc:1052] successful NUMA node read from SysFS had negative value (-1), but there must be at least one NUMA node, so returning NUMA node zero\n",
      "2022-05-10 15:17:30.527936: I tensorflow/stream_executor/cuda/cuda_gpu_executor.cc:1052] successful NUMA node read from SysFS had negative value (-1), but there must be at least one NUMA node, so returning NUMA node zero\n",
      "2022-05-10 15:17:30.528159: I tensorflow/core/common_runtime/gpu/gpu_device.cc:1525] Created device /job:localhost/replica:0/task:0/device:GPU:0 with 7275 MB memory:  -> device: 0, name: Quadro M4000, pci bus id: 0000:00:05.0, compute capability: 5.2\n"
     ]
    }
   ],
   "source": [
    "units_ℓ = 128\n",
    "r_ℓ = 0.2\n",
    "r_d = 0.4\n",
    "\n",
    "model = Sequential()\n",
    "model.add(LSTM(units=units_ℓ, return_sequences=True, input_shape=(n, 1)))\n",
    "model.add(Dropout(r_ℓ))\n",
    "model.add(LSTM(units=units_ℓ, return_sequences=True))\n",
    "model.add(Dropout(r_ℓ))\n",
    "model.add(LSTM(units=units_ℓ))\n",
    "model.add(Dropout(r_d))\n",
    "model.add(Dense(units=1))"
   ]
  },
  {
   "cell_type": "code",
   "execution_count": 11,
   "id": "15156893",
   "metadata": {
    "execution": {
     "iopub.execute_input": "2022-05-10T15:17:31.625062Z",
     "iopub.status.busy": "2022-05-10T15:17:31.624821Z",
     "iopub.status.idle": "2022-05-10T15:17:31.634870Z",
     "shell.execute_reply": "2022-05-10T15:17:31.634152Z",
     "shell.execute_reply.started": "2022-05-10T15:17:31.625036Z"
    }
   },
   "outputs": [
    {
     "name": "stdout",
     "output_type": "stream",
     "text": [
      "Model: \"sequential\"\n",
      "_________________________________________________________________\n",
      " Layer (type)                Output Shape              Param #   \n",
      "=================================================================\n",
      " lstm (LSTM)                 (None, 30, 128)           66560     \n",
      "                                                                 \n",
      " dropout (Dropout)           (None, 30, 128)           0         \n",
      "                                                                 \n",
      " lstm_1 (LSTM)               (None, 30, 128)           131584    \n",
      "                                                                 \n",
      " dropout_1 (Dropout)         (None, 30, 128)           0         \n",
      "                                                                 \n",
      " lstm_2 (LSTM)               (None, 128)               131584    \n",
      "                                                                 \n",
      " dropout_2 (Dropout)         (None, 128)               0         \n",
      "                                                                 \n",
      " dense (Dense)               (None, 1)                 129       \n",
      "                                                                 \n",
      "=================================================================\n",
      "Total params: 329,857\n",
      "Trainable params: 329,857\n",
      "Non-trainable params: 0\n",
      "_________________________________________________________________\n"
     ]
    }
   ],
   "source": [
    "# Summary of the model, see https://keras.io/api/models/model/#summary-method\n",
    "\n",
    "model.summary()"
   ]
  },
  {
   "cell_type": "code",
   "execution_count": 12,
   "id": "d635c57c",
   "metadata": {
    "execution": {
     "iopub.execute_input": "2022-05-10T15:17:31.636852Z",
     "iopub.status.busy": "2022-05-10T15:17:31.636224Z",
     "iopub.status.idle": "2022-05-10T15:17:31.642482Z",
     "shell.execute_reply": "2022-05-10T15:17:31.641686Z",
     "shell.execute_reply.started": "2022-05-10T15:17:31.636813Z"
    }
   },
   "outputs": [
    {
     "name": "stdout",
     "output_type": "stream",
     "text": [
      "('You must install pydot (`pip install pydot`) and install graphviz (see instructions at https://graphviz.gitlab.io/download/) ', 'for plot_model/model_to_dot to work.')\n"
     ]
    }
   ],
   "source": [
    "# Importing the \"plot_model\" function from keras.utils.vis_utils module (to plot a schema of the model)\n",
    "# The \"None\" value stands for the (not yet defined) value of the batch size\n",
    "# See https://keras.io/api/utils/model_plotting_utils/\n",
    "\n",
    "from keras.utils.vis_utils import plot_model\n",
    "\n",
    "plot_model(model, show_shapes=True)"
   ]
  },
  {
   "cell_type": "markdown",
   "id": "9a6e87d8",
   "metadata": {},
   "source": [
    "We configure (compile) the model for training with:<br>\n",
    "- mean square error (mse) between labels and predictions as quantity to minimise during training process\n",
    "- root mean absolute error between labels and predictions as metric to display during training process\n",
    "- \"adam\" as optimizer to use during training process (a combination of gradient descent with momentum and RMSP)<br>\n",
    "https://keras.io/api/optimizers/adam/"
   ]
  },
  {
   "cell_type": "code",
   "execution_count": 13,
   "id": "9dea658e",
   "metadata": {
    "execution": {
     "iopub.execute_input": "2022-05-10T15:17:31.643735Z",
     "iopub.status.busy": "2022-05-10T15:17:31.643552Z",
     "iopub.status.idle": "2022-05-10T15:17:31.659694Z",
     "shell.execute_reply": "2022-05-10T15:17:31.658614Z",
     "shell.execute_reply.started": "2022-05-10T15:17:31.643712Z"
    }
   },
   "outputs": [],
   "source": [
    "model.compile(loss='mse', optimizer='adam', metrics='RootMeanSquaredError')"
   ]
  },
  {
   "cell_type": "markdown",
   "id": "4e5a17dc",
   "metadata": {},
   "source": [
    "We train the model with a given batch size and number of epochs. An epoch is a pass of the neural network over the entire training set and the batch size is the number of samples that are passed to the network at once (the default batch size in Keras is 32).<br>\n",
    "https://keras.io/api/models/model_training_apis/#fit-method\n",
    "\n",
    "For each epoch, we thus have\n",
    "$$\n",
    "\\hbox{number of training steps} = \\frac{\\hbox{length of training set}}{\\hbox{batch size}}\\;\\!.\n",
    "$$"
   ]
  },
  {
   "cell_type": "code",
   "execution_count": 14,
   "id": "5f88c60e",
   "metadata": {
    "execution": {
     "iopub.execute_input": "2022-05-10T15:17:31.662670Z",
     "iopub.status.busy": "2022-05-10T15:17:31.662419Z",
     "iopub.status.idle": "2022-05-10T15:21:44.465821Z",
     "shell.execute_reply": "2022-05-10T15:21:44.465124Z",
     "shell.execute_reply.started": "2022-05-10T15:17:31.662633Z"
    },
    "scrolled": true
   },
   "outputs": [
    {
     "name": "stdout",
     "output_type": "stream",
     "text": [
      "Epoch 1/15\n"
     ]
    },
    {
     "name": "stderr",
     "output_type": "stream",
     "text": [
      "2022-05-10 15:17:37.618654: I tensorflow/stream_executor/cuda/cuda_dnn.cc:377] Loaded cuDNN version 8302\n"
     ]
    },
    {
     "name": "stdout",
     "output_type": "stream",
     "text": [
      "1385/1385 [==============================] - 22s 12ms/step - loss: 0.0050 - root_mean_squared_error: 0.0708\n",
      "Epoch 2/15\n",
      "1385/1385 [==============================] - 17s 12ms/step - loss: 0.0028 - root_mean_squared_error: 0.0525\n",
      "Epoch 3/15\n",
      "1385/1385 [==============================] - 17s 12ms/step - loss: 0.0021 - root_mean_squared_error: 0.0463\n",
      "Epoch 4/15\n",
      "1385/1385 [==============================] - 17s 12ms/step - loss: 0.0023 - root_mean_squared_error: 0.0474\n",
      "Epoch 5/15\n",
      "1385/1385 [==============================] - 16s 12ms/step - loss: 0.0022 - root_mean_squared_error: 0.0467\n",
      "Epoch 6/15\n",
      "1385/1385 [==============================] - 16s 12ms/step - loss: 0.0018 - root_mean_squared_error: 0.0429\n",
      "Epoch 7/15\n",
      "1385/1385 [==============================] - 16s 12ms/step - loss: 0.0017 - root_mean_squared_error: 0.0407\n",
      "Epoch 8/15\n",
      "1385/1385 [==============================] - 16s 12ms/step - loss: 0.0017 - root_mean_squared_error: 0.0411\n",
      "Epoch 9/15\n",
      "1385/1385 [==============================] - 16s 12ms/step - loss: 0.0016 - root_mean_squared_error: 0.0401\n",
      "Epoch 10/15\n",
      "1385/1385 [==============================] - 16s 12ms/step - loss: 0.0015 - root_mean_squared_error: 0.0383\n",
      "Epoch 11/15\n",
      "1385/1385 [==============================] - 16s 12ms/step - loss: 0.0016 - root_mean_squared_error: 0.0398\n",
      "Epoch 12/15\n",
      "1385/1385 [==============================] - 16s 12ms/step - loss: 0.0014 - root_mean_squared_error: 0.0380\n",
      "Epoch 13/15\n",
      "1385/1385 [==============================] - 16s 12ms/step - loss: 0.0013 - root_mean_squared_error: 0.0367\n",
      "Epoch 14/15\n",
      "1385/1385 [==============================] - 16s 12ms/step - loss: 0.0013 - root_mean_squared_error: 0.0360\n",
      "Epoch 15/15\n",
      "1385/1385 [==============================] - 16s 12ms/step - loss: 0.0014 - root_mean_squared_error: 0.0376\n"
     ]
    }
   ],
   "source": [
    "# Training the model and saving the model's attributes in a HDF5 file\n",
    "# See https://en.wikipedia.org/wiki/Hierarchical_Data_Format\n",
    "\n",
    "batch_size = 2\n",
    "epochs = 15\n",
    "model.fit(train_seqs, train_labels, batch_size=batch_size, epochs=epochs)\n",
    "model.save('stock_price.h5')"
   ]
  },
  {
   "cell_type": "markdown",
   "id": "11b1bdd4",
   "metadata": {},
   "source": [
    "# 1-day ahead predictions"
   ]
  },
  {
   "cell_type": "code",
   "execution_count": 15,
   "id": "41e8fb6c",
   "metadata": {
    "execution": {
     "iopub.execute_input": "2022-05-10T15:21:44.467846Z",
     "iopub.status.busy": "2022-05-10T15:21:44.467024Z",
     "iopub.status.idle": "2022-05-10T15:21:46.801216Z",
     "shell.execute_reply": "2022-05-10T15:21:46.800170Z",
     "shell.execute_reply.started": "2022-05-10T15:21:44.467820Z"
    }
   },
   "outputs": [],
   "source": [
    "# Storing in numpy array \"predicted\" the one-day-ahead stock prices predicted by the model\n",
    "# Storing in numpy array \"real\" the real stock prices contained in \"test_labels\"\n",
    "# Putting back both arrays to the original scale and format\n",
    "\n",
    "model = load_model('stock_price.h5')\n",
    "\n",
    "predicted = model.predict(test_seqs)\n",
    "predicted = scaler.inverse_transform(predicted)\n",
    "real = scaler.inverse_transform(test_labels.reshape(-1, 1))"
   ]
  },
  {
   "cell_type": "code",
   "execution_count": 16,
   "id": "1304a447",
   "metadata": {
    "execution": {
     "iopub.execute_input": "2022-05-10T15:21:46.802890Z",
     "iopub.status.busy": "2022-05-10T15:21:46.802670Z",
     "iopub.status.idle": "2022-05-10T15:21:47.304032Z",
     "shell.execute_reply": "2022-05-10T15:21:47.303063Z",
     "shell.execute_reply.started": "2022-05-10T15:21:46.802865Z"
    }
   },
   "outputs": [
    {
     "data": {
      "image/png": "[encoded data removed]",
      "text/plain": [
       "<Figure size 1008x576 with 1 Axes>"
      ]
     },
     "metadata": {
      "needs_background": "light"
     },
     "output_type": "display_data"
    }
   ],
   "source": [
    "# Graph plot of real stock prices vs. one-day-ahead predicted stock prices\n",
    "\n",
    "_, p = plt.subplots(figsize=(14,8))\n",
    "\n",
    "p.plot(dates, real, color='r', label='Real stock price')\n",
    "p.plot(dates, predicted, color='cyan', label='Predicted stock price')\n",
    "\n",
    "# Parameters, title and legend of the plot\n",
    "\n",
    "p.set_title('Real stock price vs. 1-day ahead predicted stock price', size='x-large')\n",
    "p.set_ylabel('Stock price [USD]', size='large')\n",
    "p.set_xlabel('(training parameters: timesteps = %d, units_ℓ = %d, r_ℓ = %.2f, r_d = %.2f, optimizer = Adam, batch size = %d, epochs = %d)'\n",
    "             % (n, units_ℓ, r_ℓ, r_d, batch_size, epochs))\n",
    "plt.xticks(np.arange(0, len(dates)+1, 10))\n",
    "p.set_facecolor('#000030')\n",
    "p.legend()\n",
    "\n",
    "plt.tight_layout()"
   ]
  },
  {
   "cell_type": "markdown",
   "id": "220e0316",
   "metadata": {},
   "source": [
    "# N-days ahead predictions"
   ]
  },
  {
   "cell_type": "code",
   "execution_count": 21,
   "id": "84f85a60",
   "metadata": {
    "execution": {
     "iopub.execute_input": "2022-05-10T15:25:09.299671Z",
     "iopub.status.busy": "2022-05-10T15:25:09.299315Z",
     "iopub.status.idle": "2022-05-10T15:25:09.609623Z",
     "shell.execute_reply": "2022-05-10T15:25:09.608889Z",
     "shell.execute_reply.started": "2022-05-10T15:25:09.299633Z"
    }
   },
   "outputs": [],
   "source": [
    "N = 5\n",
    "start = 100\n",
    "N_predictions = []\n",
    "data = test_seqs[start: start+1]\n",
    "\n",
    "for i in range(N):\n",
    "    prediction = model.predict(data)\n",
    "    data = np.append(data, prediction)[1:]\n",
    "    data = data.reshape(1,-1, 1)\n",
    "    N_predictions.append(prediction[0][0])\n",
    "    \n",
    "N_predictions = np.array(N_predictions).reshape(-1, 1)\n",
    "N_predictions = scaler.inverse_transform(N_predictions)"
   ]
  },
  {
   "cell_type": "code",
   "execution_count": 22,
   "id": "4bb84d22",
   "metadata": {
    "execution": {
     "iopub.execute_input": "2022-05-10T15:25:11.659465Z",
     "iopub.status.busy": "2022-05-10T15:25:11.659102Z",
     "iopub.status.idle": "2022-05-10T15:25:12.450064Z",
     "shell.execute_reply": "2022-05-10T15:25:12.449284Z",
     "shell.execute_reply.started": "2022-05-10T15:25:11.659436Z"
    }
   },
   "outputs": [
    {
     "data": {
      "image/png": "[encoded data removed]",
      "text/plain": [
       "<Figure size 1008x576 with 1 Axes>"
      ]
     },
     "metadata": {
      "needs_background": "light"
     },
     "output_type": "display_data"
    }
   ],
   "source": [
    "_, p2 = plt.subplots(figsize=(14,8))\n",
    "\n",
    "p2.plot(dates, real, color='r', label='Real stock price')\n",
    "p2.plot(dates[start:start+N], N_predictions, color='cyan', label='Predicted stock price')\n",
    "\n",
    "# Parameters, title and legend of the plot\n",
    "\n",
    "p2.set_title(('Real stock price vs. %d-days ahead predicted stock prices' % N), size='x-large')\n",
    "p2.set_ylabel('Stock price [USD]', size='large')\n",
    "plt.xticks(np.arange(0, len(dates)+1, 10))\n",
    "p2.set_facecolor('#000030')\n",
    "p2.legend()\n",
    "\n",
    "plt.tight_layout()"
   ]
  }
 ],
 "metadata": {
  "kernelspec": {
   "display_name": "Python 3 (ipykernel)",
   "language": "python",
   "name": "python3"
  },
  "language_info": {
   "codemirror_mode": {
    "name": "ipython",
    "version": 3
   },
   "file_extension": ".py",
   "mimetype": "text/x-python",
   "name": "python",
   "nbconvert_exporter": "python",
   "pygments_lexer": "ipython3",
   "version": "3.10.2"
  }
 },
 "nbformat": 4,
 "nbformat_minor": 5
}
