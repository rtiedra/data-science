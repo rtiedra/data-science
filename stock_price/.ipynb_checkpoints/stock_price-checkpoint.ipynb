{
 "cells": [
  {
   "cell_type": "markdown",
   "id": "5760bf41",
   "metadata": {},
   "source": [
    "(Naive) stock price prediction program using LSTM recurrent neural networks, licensed under the Apache License, Version 2.0<br>\n",
    "http://www.apache.org/licenses/LICENSE-2.0"
   ]
  },
  {
   "cell_type": "markdown",
   "id": "e36c0ee3",
   "metadata": {},
   "source": [
    "# General libraries"
   ]
  },
  {
   "cell_type": "code",
   "execution_count": 1,
   "id": "3c5c38a8",
   "metadata": {
    "execution": {
     "iopub.execute_input": "2022-05-13T06:39:48.608305Z",
     "iopub.status.busy": "2022-05-13T06:39:48.608033Z",
     "iopub.status.idle": "2022-05-13T06:39:48.614285Z",
     "shell.execute_reply": "2022-05-13T06:39:48.613045Z",
     "shell.execute_reply.started": "2022-05-13T06:39:48.608279Z"
    }
   },
   "outputs": [],
   "source": [
    "# Importing the numpy library (for arrays operations)\n",
    "# Importing the pandas library (for data analysis)\n",
    "# Importing the matplotlib.pyplot interface (for MATLAB-like plots)\n",
    "\n",
    "import numpy as np\n",
    "import pandas as pd\n",
    "import matplotlib.pyplot as plt"
   ]
  },
  {
   "cell_type": "markdown",
   "id": "03899940",
   "metadata": {},
   "source": [
    "# Dataset preparation\n",
    "We retrieve the data of Netflix stock prices from Jan 04, 2010 to May 10, 2022 (\"NFLX Historical Data.csv\") from investing.com:<br>\n",
    "https://www.investing.com/equities/netflix,-inc.-historical-data"
   ]
  },
  {
   "cell_type": "code",
   "execution_count": 2,
   "id": "39aec872",
   "metadata": {
    "execution": {
     "iopub.execute_input": "2022-05-13T06:39:48.638123Z",
     "iopub.status.busy": "2022-05-13T06:39:48.637708Z",
     "iopub.status.idle": "2022-05-13T06:39:48.669649Z",
     "shell.execute_reply": "2022-05-13T06:39:48.668933Z",
     "shell.execute_reply.started": "2022-05-13T06:39:48.638068Z"
    }
   },
   "outputs": [
    {
     "data": {
      "text/html": [
       "<div>\n",
       "<style scoped>\n",
       "    .dataframe tbody tr th:only-of-type {\n",
       "        vertical-align: middle;\n",
       "    }\n",
       "\n",
       "    .dataframe tbody tr th {\n",
       "        vertical-align: top;\n",
       "    }\n",
       "\n",
       "    .dataframe thead th {\n",
       "        text-align: right;\n",
       "    }\n",
       "</style>\n",
       "<table border=\"1\" class=\"dataframe\">\n",
       "  <thead>\n",
       "    <tr style=\"text-align: right;\">\n",
       "      <th></th>\n",
       "      <th>Date</th>\n",
       "      <th>Price</th>\n",
       "      <th>Open</th>\n",
       "      <th>High</th>\n",
       "      <th>Low</th>\n",
       "      <th>Vol.</th>\n",
       "      <th>Change %</th>\n",
       "    </tr>\n",
       "  </thead>\n",
       "  <tbody>\n",
       "    <tr>\n",
       "      <th>3110</th>\n",
       "      <td>Jan 04, 2010</td>\n",
       "      <td>7.64</td>\n",
       "      <td>7.93</td>\n",
       "      <td>7.96</td>\n",
       "      <td>7.57</td>\n",
       "      <td>17.24M</td>\n",
       "      <td>-2.92%</td>\n",
       "    </tr>\n",
       "    <tr>\n",
       "      <th>3109</th>\n",
       "      <td>Jan 05, 2010</td>\n",
       "      <td>7.36</td>\n",
       "      <td>7.65</td>\n",
       "      <td>7.66</td>\n",
       "      <td>7.26</td>\n",
       "      <td>23.75M</td>\n",
       "      <td>-3.66%</td>\n",
       "    </tr>\n",
       "    <tr>\n",
       "      <th>3108</th>\n",
       "      <td>Jan 06, 2010</td>\n",
       "      <td>7.62</td>\n",
       "      <td>7.36</td>\n",
       "      <td>7.67</td>\n",
       "      <td>7.20</td>\n",
       "      <td>23.29M</td>\n",
       "      <td>3.53%</td>\n",
       "    </tr>\n",
       "    <tr>\n",
       "      <th>3107</th>\n",
       "      <td>Jan 07, 2010</td>\n",
       "      <td>7.49</td>\n",
       "      <td>7.73</td>\n",
       "      <td>7.76</td>\n",
       "      <td>7.46</td>\n",
       "      <td>9.96M</td>\n",
       "      <td>-1.71%</td>\n",
       "    </tr>\n",
       "    <tr>\n",
       "      <th>3106</th>\n",
       "      <td>Jan 08, 2010</td>\n",
       "      <td>7.61</td>\n",
       "      <td>7.50</td>\n",
       "      <td>7.74</td>\n",
       "      <td>7.47</td>\n",
       "      <td>8.18M</td>\n",
       "      <td>1.60%</td>\n",
       "    </tr>\n",
       "    <tr>\n",
       "      <th>...</th>\n",
       "      <td>...</td>\n",
       "      <td>...</td>\n",
       "      <td>...</td>\n",
       "      <td>...</td>\n",
       "      <td>...</td>\n",
       "      <td>...</td>\n",
       "      <td>...</td>\n",
       "    </tr>\n",
       "    <tr>\n",
       "      <th>4</th>\n",
       "      <td>May 04, 2022</td>\n",
       "      <td>204.01</td>\n",
       "      <td>197.65</td>\n",
       "      <td>204.38</td>\n",
       "      <td>191.01</td>\n",
       "      <td>12.22M</td>\n",
       "      <td>2.07%</td>\n",
       "    </tr>\n",
       "    <tr>\n",
       "      <th>3</th>\n",
       "      <td>May 05, 2022</td>\n",
       "      <td>188.32</td>\n",
       "      <td>200.45</td>\n",
       "      <td>200.71</td>\n",
       "      <td>186.00</td>\n",
       "      <td>13.97M</td>\n",
       "      <td>-7.69%</td>\n",
       "    </tr>\n",
       "    <tr>\n",
       "      <th>2</th>\n",
       "      <td>May 06, 2022</td>\n",
       "      <td>180.97</td>\n",
       "      <td>186.75</td>\n",
       "      <td>187.21</td>\n",
       "      <td>175.81</td>\n",
       "      <td>17.19M</td>\n",
       "      <td>-3.90%</td>\n",
       "    </tr>\n",
       "    <tr>\n",
       "      <th>1</th>\n",
       "      <td>May 09, 2022</td>\n",
       "      <td>173.10</td>\n",
       "      <td>177.65</td>\n",
       "      <td>183.20</td>\n",
       "      <td>172.30</td>\n",
       "      <td>14.03M</td>\n",
       "      <td>-4.35%</td>\n",
       "    </tr>\n",
       "    <tr>\n",
       "      <th>0</th>\n",
       "      <td>May 10, 2022</td>\n",
       "      <td>177.66</td>\n",
       "      <td>176.01</td>\n",
       "      <td>181.87</td>\n",
       "      <td>170.57</td>\n",
       "      <td>13.77M</td>\n",
       "      <td>2.63%</td>\n",
       "    </tr>\n",
       "  </tbody>\n",
       "</table>\n",
       "<p>3111 rows × 7 columns</p>\n",
       "</div>"
      ],
      "text/plain": [
       "              Date   Price    Open    High     Low    Vol. Change %\n",
       "3110  Jan 04, 2010    7.64    7.93    7.96    7.57  17.24M   -2.92%\n",
       "3109  Jan 05, 2010    7.36    7.65    7.66    7.26  23.75M   -3.66%\n",
       "3108  Jan 06, 2010    7.62    7.36    7.67    7.20  23.29M    3.53%\n",
       "3107  Jan 07, 2010    7.49    7.73    7.76    7.46   9.96M   -1.71%\n",
       "3106  Jan 08, 2010    7.61    7.50    7.74    7.47   8.18M    1.60%\n",
       "...            ...     ...     ...     ...     ...     ...      ...\n",
       "4     May 04, 2022  204.01  197.65  204.38  191.01  12.22M    2.07%\n",
       "3     May 05, 2022  188.32  200.45  200.71  186.00  13.97M   -7.69%\n",
       "2     May 06, 2022  180.97  186.75  187.21  175.81  17.19M   -3.90%\n",
       "1     May 09, 2022  173.10  177.65  183.20  172.30  14.03M   -4.35%\n",
       "0     May 10, 2022  177.66  176.01  181.87  170.57  13.77M    2.63%\n",
       "\n",
       "[3111 rows x 7 columns]"
      ]
     },
     "execution_count": 2,
     "metadata": {},
     "output_type": "execute_result"
    }
   ],
   "source": [
    "# Storing the data in DataFrame \"df\", sorted by date in ascending order\n",
    "\n",
    "df = pd.read_csv('NFLX Historical Data.csv')\n",
    "df = df[::-1]\n",
    "df"
   ]
  },
  {
   "cell_type": "code",
   "execution_count": 3,
   "id": "43eeafc2",
   "metadata": {
    "execution": {
     "iopub.execute_input": "2022-05-13T06:39:48.671268Z",
     "iopub.status.busy": "2022-05-13T06:39:48.671071Z",
     "iopub.status.idle": "2022-05-13T06:39:48.678496Z",
     "shell.execute_reply": "2022-05-13T06:39:48.677276Z",
     "shell.execute_reply.started": "2022-05-13T06:39:48.671244Z"
    }
   },
   "outputs": [
    {
     "data": {
      "text/plain": [
       "(3111, 1)"
      ]
     },
     "execution_count": 3,
     "metadata": {},
     "output_type": "execute_result"
    }
   ],
   "source": [
    "# Storing \"Open\" values of stock prices in a numpy array \"arr\", and reshaping it into a vertical array\n",
    "\n",
    "arr = df['Open'].values\n",
    "arr = arr.reshape(-1, 1)\n",
    "arr.shape"
   ]
  },
  {
   "cell_type": "code",
   "execution_count": 4,
   "id": "8b9b31b6",
   "metadata": {
    "execution": {
     "iopub.execute_input": "2022-05-13T06:39:48.679833Z",
     "iopub.status.busy": "2022-05-13T06:39:48.679620Z",
     "iopub.status.idle": "2022-05-13T06:39:48.689111Z",
     "shell.execute_reply": "2022-05-13T06:39:48.687912Z",
     "shell.execute_reply.started": "2022-05-13T06:39:48.679804Z"
    }
   },
   "outputs": [
    {
     "data": {
      "text/plain": [
       "((2799, 1), (312, 1), 312)"
      ]
     },
     "execution_count": 4,
     "metadata": {},
     "output_type": "execute_result"
    }
   ],
   "source": [
    "# Splitting the data into a training set stored in array \"train_arr\" (first 90% of the rows of \"arr\")\n",
    "# And a test set stored in array \"test_arr\" (last 10% of the rows of \"arr\")\n",
    "# Storing in list \"dates\" the dates corresponding to \"test_arr\"\n",
    "\n",
    "train_arr = arr[:int(arr.shape[0]*0.9)]\n",
    "test_arr = arr[int(arr.shape[0]*0.9):]\n",
    "dates = df['Date'].tolist()[int(arr.shape[0]*0.9):]\n",
    "\n",
    "train_arr.shape, test_arr.shape, len(dates)"
   ]
  },
  {
   "cell_type": "markdown",
   "id": "2f38cb04",
   "metadata": {},
   "source": [
    "We import the estimator \"MinMaxScaler\" from the sklearn.preprocessing module to rescale the data to a given range, typically the interval [0,1].<br>\n",
    "https://scikit-learn.org/stable/modules/generated/sklearn.preprocessing.MinMaxScaler.html\n",
    "\n",
    "We rescale with MinMaxScaler the training data and, in order to avoid any data leakage and look-ahead bias, we use the scaling parameters of the training data to rescale the test data too.<br>\n",
    "https://en.wikipedia.org/wiki/Leakage_(machine_learning)<br>\n",
    "https://www.investopedia.com/terms/l/lookaheadbias.asp"
   ]
  },
  {
   "cell_type": "code",
   "execution_count": 5,
   "id": "7e2c5f22",
   "metadata": {
    "execution": {
     "iopub.execute_input": "2022-05-13T06:39:48.691954Z",
     "iopub.status.busy": "2022-05-13T06:39:48.691717Z",
     "iopub.status.idle": "2022-05-13T06:39:48.697511Z",
     "shell.execute_reply": "2022-05-13T06:39:48.696656Z",
     "shell.execute_reply.started": "2022-05-13T06:39:48.691926Z"
    }
   },
   "outputs": [],
   "source": [
    "from sklearn.preprocessing import MinMaxScaler\n",
    "\n",
    "scaler = MinMaxScaler()\n",
    "\n",
    "train_arr = scaler.fit_transform(train_arr)\n",
    "test_arr = scaler.transform(test_arr)"
   ]
  },
  {
   "cell_type": "markdown",
   "id": "ce50416e",
   "metadata": {},
   "source": [
    "We define a function \"create_sequences\" which creates two numpy arrays \"sequences\" and \"labels\" given an array \"arr\" and a number of time steps \"n\". The 1D numpy array labels contains all the last values of arr, starting from the n-th value. The 2D numpy array sequences contains all the sequences of n consecutive values of arr."
   ]
  },
  {
   "cell_type": "code",
   "execution_count": 6,
   "id": "4df04621",
   "metadata": {
    "execution": {
     "iopub.execute_input": "2022-05-13T06:39:48.699336Z",
     "iopub.status.busy": "2022-05-13T06:39:48.699136Z",
     "iopub.status.idle": "2022-05-13T06:39:48.705108Z",
     "shell.execute_reply": "2022-05-13T06:39:48.704218Z",
     "shell.execute_reply.started": "2022-05-13T06:39:48.699313Z"
    }
   },
   "outputs": [],
   "source": [
    "def create_sequences(arr, n):\n",
    "    sequences, labels = [], []\n",
    "    for i in range(n, arr.shape[0]):\n",
    "        sequences.append(arr[i-n: i, 0])\n",
    "        labels.append(arr[i, 0])\n",
    "    return np.array(sequences), np.array(labels)"
   ]
  },
  {
   "cell_type": "code",
   "execution_count": 7,
   "id": "36279344",
   "metadata": {
    "execution": {
     "iopub.execute_input": "2022-05-13T06:39:48.706949Z",
     "iopub.status.busy": "2022-05-13T06:39:48.706695Z",
     "iopub.status.idle": "2022-05-13T06:39:48.720912Z",
     "shell.execute_reply": "2022-05-13T06:39:48.720064Z",
     "shell.execute_reply.started": "2022-05-13T06:39:48.706923Z"
    }
   },
   "outputs": [
    {
     "data": {
      "text/plain": [
       "((2769, 30), (2769,), (282, 30), (282,), 282)"
      ]
     },
     "execution_count": 7,
     "metadata": {},
     "output_type": "execute_result"
    }
   ],
   "source": [
    "# Setting a number of time steps n\n",
    "# Using the function create_sequences to create the training set and test set for the model\n",
    "# Storing in \"dates\" the list of dates corresponding to test_labels\n",
    "\n",
    "n = 30\n",
    "train_seqs, train_labels = create_sequences(train_arr, n)\n",
    "test_seqs, test_labels = create_sequences(test_arr, n)\n",
    "dates = dates[n:]\n",
    "\n",
    "train_seqs.shape, train_labels.shape, test_seqs.shape, test_labels.shape, len(dates)"
   ]
  },
  {
   "cell_type": "code",
   "execution_count": 8,
   "id": "f65d2958",
   "metadata": {
    "execution": {
     "iopub.execute_input": "2022-05-13T06:39:48.729109Z",
     "iopub.status.busy": "2022-05-13T06:39:48.728900Z",
     "iopub.status.idle": "2022-05-13T06:39:48.736799Z",
     "shell.execute_reply": "2022-05-13T06:39:48.735746Z",
     "shell.execute_reply.started": "2022-05-13T06:39:48.729085Z"
    }
   },
   "outputs": [
    {
     "data": {
      "text/plain": [
       "((2769, 30, 1), (282, 30, 1))"
      ]
     },
     "execution_count": 8,
     "metadata": {},
     "output_type": "execute_result"
    }
   ],
   "source": [
    "# Reshaping train_seqs and test_seqs into the 3D array needed for the LSTM input layer of the model\n",
    "# The 3D array includes: number of rows, number of time steps and number of features (here 1 for \"Open\" values)\n",
    "\n",
    "train_seqs = np.reshape(train_seqs, (train_seqs.shape[0], train_seqs.shape[1], 1))\n",
    "test_seqs = np.reshape(test_seqs, (test_seqs.shape[0], test_seqs.shape[1], 1))\n",
    "\n",
    "train_seqs.shape, test_seqs.shape"
   ]
  },
  {
   "cell_type": "markdown",
   "id": "c5112a72",
   "metadata": {},
   "source": [
    "# RNN model"
   ]
  },
  {
   "cell_type": "code",
   "execution_count": 9,
   "id": "1f23e2e1",
   "metadata": {
    "execution": {
     "iopub.execute_input": "2022-05-13T06:39:48.741136Z",
     "iopub.status.busy": "2022-05-13T06:39:48.740888Z",
     "iopub.status.idle": "2022-05-13T06:39:48.746088Z",
     "shell.execute_reply": "2022-05-13T06:39:48.744992Z",
     "shell.execute_reply.started": "2022-05-13T06:39:48.741110Z"
    }
   },
   "outputs": [],
   "source": [
    "# Importing the \"Sequential\" class from the keras.models API (to group a linear stack of layers into a model)\n",
    "# Importing the \"load_model\" function from the keras.models API (to load a model saved via model.save())\n",
    "# Importing the \"LSTM\" class from the keras.layers API (to load the long short-term memory layer to be used)\n",
    "# Importing the \"Dense\" class from the keras.layers API (to load the regular densely-connected NN layer to be used)\n",
    "# Importing the \"Dropout\" class from the keras.layers API (to apply dropout to the input)\n",
    "\n",
    "# See https://keras.io/api/models/ and https://keras.io/api/layers/\n",
    "\n",
    "from keras.models import Sequential, load_model\n",
    "from keras.layers import LSTM, Dense, Dropout"
   ]
  },
  {
   "cell_type": "markdown",
   "id": "01366431",
   "metadata": {},
   "source": [
    "We define a RNN model which takes as input the stock prices of n consecutive days and gives as output a prediction of stock price at day n+1:\n",
    "\n",
    "- we set the class of the model as Sequential.\n",
    "- we add an LSTM layer with units_ℓ output units (with option \"return_sequences=True\" to set the output as a 3D array)\n",
    "- we add a Dropout layer with frequency rate r_ℓ\n",
    "- we add an LSTM layer with units_ℓ output units (with option \"return_sequences=True\" to set the output as a 3D array)\n",
    "- we add a Dropout layer with frequency rate r_ℓ\n",
    "- we add an LSTM layer with units_ℓ output units\n",
    "- we add a Dropout layer with frequency rate r_d\n",
    "- we add a Dense layer with 1 output unit (the dimension of 1 stock price prediction)"
   ]
  },
  {
   "cell_type": "code",
   "execution_count": 10,
   "id": "e39d05b0",
   "metadata": {
    "execution": {
     "iopub.execute_input": "2022-05-13T06:39:48.750764Z",
     "iopub.status.busy": "2022-05-13T06:39:48.750521Z",
     "iopub.status.idle": "2022-05-13T06:39:49.531685Z",
     "shell.execute_reply": "2022-05-13T06:39:49.530979Z",
     "shell.execute_reply.started": "2022-05-13T06:39:48.750735Z"
    }
   },
   "outputs": [],
   "source": [
    "units_ℓ = 128\n",
    "r_ℓ = 0.2\n",
    "r_d = 0.4\n",
    "\n",
    "#model = Sequential()\n",
    "#model.add(LSTM(units=units_ℓ, return_sequences=True, input_shape=(n, 1)))\n",
    "#model.add(Dropout(r_ℓ))\n",
    "#model.add(LSTM(units=units_ℓ, return_sequences=True))\n",
    "#model.add(Dropout(r_ℓ))\n",
    "#model.add(LSTM(units=units_ℓ))\n",
    "#model.add(Dropout(r_d))\n",
    "#model.add(Dense(units=1))\n",
    "\n",
    "model = Sequential()\n",
    "model.add(LSTM(units=units_ℓ, activation='relu', return_sequences=True, input_shape=(n, 1)))\n",
    "model.add(Dropout(r_ℓ))\n",
    "model.add(LSTM(units=units_ℓ, activation='relu', return_sequences=True))\n",
    "model.add(Dropout(r_ℓ))\n",
    "model.add(LSTM(units=units_ℓ, activation='relu'))\n",
    "model.add(Dropout(r_d))\n",
    "model.add(Dense(units=1))"
   ]
  },
  {
   "cell_type": "markdown",
   "id": "4741d44a",
   "metadata": {},
   "source": [
    "We give a summary of the model using the \"summary\" method of the model class of Keras. The \"None\" value stands for the (not yet defined) value of the batch size.<br>\n",
    "https://keras.io/api/models/model/#summary-method"
   ]
  },
  {
   "cell_type": "code",
   "execution_count": 11,
   "id": "15156893",
   "metadata": {
    "execution": {
     "iopub.execute_input": "2022-05-13T06:39:49.533723Z",
     "iopub.status.busy": "2022-05-13T06:39:49.532991Z",
     "iopub.status.idle": "2022-05-13T06:39:49.543597Z",
     "shell.execute_reply": "2022-05-13T06:39:49.543077Z",
     "shell.execute_reply.started": "2022-05-13T06:39:49.533697Z"
    }
   },
   "outputs": [
    {
     "name": "stdout",
     "output_type": "stream",
     "text": [
      "Model: \"sequential\"\n",
      "_________________________________________________________________\n",
      " Layer (type)                Output Shape              Param #   \n",
      "=================================================================\n",
      " lstm (LSTM)                 (None, 30, 128)           66560     \n",
      "                                                                 \n",
      " dropout (Dropout)           (None, 30, 128)           0         \n",
      "                                                                 \n",
      " lstm_1 (LSTM)               (None, 30, 128)           131584    \n",
      "                                                                 \n",
      " dropout_1 (Dropout)         (None, 30, 128)           0         \n",
      "                                                                 \n",
      " lstm_2 (LSTM)               (None, 128)               131584    \n",
      "                                                                 \n",
      " dropout_2 (Dropout)         (None, 128)               0         \n",
      "                                                                 \n",
      " dense (Dense)               (None, 1)                 129       \n",
      "                                                                 \n",
      "=================================================================\n",
      "Total params: 329,857\n",
      "Trainable params: 329,857\n",
      "Non-trainable params: 0\n",
      "_________________________________________________________________\n"
     ]
    }
   ],
   "source": [
    "model.summary()"
   ]
  },
  {
   "cell_type": "markdown",
   "id": "d9509b21",
   "metadata": {},
   "source": [
    "We import the \"plot_model\" function from the \"keras.utils.vis_utils\" module to plot a schema of the model.<br>\n",
    "https://keras.io/api/utils/model_plotting_utils/"
   ]
  },
  {
   "cell_type": "code",
   "execution_count": 12,
   "id": "d635c57c",
   "metadata": {
    "execution": {
     "iopub.execute_input": "2022-05-13T06:39:49.544811Z",
     "iopub.status.busy": "2022-05-13T06:39:49.544483Z",
     "iopub.status.idle": "2022-05-13T06:39:49.550042Z",
     "shell.execute_reply": "2022-05-13T06:39:49.548838Z",
     "shell.execute_reply.started": "2022-05-13T06:39:49.544786Z"
    }
   },
   "outputs": [
    {
     "data": {
      "image/png": "[encoded data removed]",
      "text/plain": [
       "<IPython.core.display.Image object>"
      ]
     },
     "execution_count": 12,
     "metadata": {},
     "output_type": "execute_result"
    }
   ],
   "source": [
    "from keras.utils.vis_utils import plot_model\n",
    "\n",
    "plot_model(model, show_shapes=True)"
   ]
  },
  {
   "cell_type": "markdown",
   "id": "9a6e87d8",
   "metadata": {},
   "source": [
    "We configure (compile) the model for training with the following parameters:\n",
    "\n",
    "- mean square error (mse) between labels and predictions as quantity to minimise during training process\n",
    "- root mean absolute error between labels and predictions as metric to display during training process\n",
    "- \"adam\" as optimizer to use during training process (a combination of gradient descent with momentum and RMSP)<br>\n",
    "https://keras.io/api/optimizers/adam/"
   ]
  },
  {
   "cell_type": "code",
   "execution_count": 13,
   "id": "9dea658e",
   "metadata": {
    "execution": {
     "iopub.execute_input": "2022-05-13T06:39:49.552655Z",
     "iopub.status.busy": "2022-05-13T06:39:49.551698Z",
     "iopub.status.idle": "2022-05-13T06:39:49.571753Z",
     "shell.execute_reply": "2022-05-13T06:39:49.570895Z",
     "shell.execute_reply.started": "2022-05-13T06:39:49.552623Z"
    }
   },
   "outputs": [],
   "source": [
    "model.compile(loss='mse', optimizer='adam', metrics='RootMeanSquaredError')"
   ]
  },
  {
   "cell_type": "markdown",
   "id": "4e5a17dc",
   "metadata": {},
   "source": [
    "We train the model with a given batch size and number of epochs. An epoch is a pass of the neural network over the entire training set and the batch size is the number of samples that are passed to the network at once (the default batch size in Keras is 32).<br>\n",
    "https://keras.io/api/models/model_training_apis/#fit-method\n",
    "\n",
    "For each epoch, we thus have\n",
    "$$\n",
    "\\hbox{number of training steps} = \\frac{\\hbox{length of training set}}{\\hbox{batch size}}\\;\\!.\n",
    "$$"
   ]
  },
  {
   "cell_type": "code",
   "execution_count": 14,
   "id": "5f88c60e",
   "metadata": {
    "execution": {
     "iopub.execute_input": "2022-05-13T06:39:49.573299Z",
     "iopub.status.busy": "2022-05-13T06:39:49.573083Z",
     "iopub.status.idle": "2022-05-13T06:44:17.680745Z",
     "shell.execute_reply": "2022-05-13T06:44:17.679774Z",
     "shell.execute_reply.started": "2022-05-13T06:39:49.573275Z"
    },
    "scrolled": true
   },
   "outputs": [
    {
     "name": "stdout",
     "output_type": "stream",
     "text": [
      "Epoch 1/15\n",
      "1123/1385 [=======================>......] - ETA: 15s - loss: 0.0076 - root_mean_squared_error: 0.0872"
     ]
    },
    {
     "ename": "KeyboardInterrupt",
     "evalue": "",
     "output_type": "error",
     "traceback": [
      "\u001b[1;31m---------------------------------------------------------------------------\u001b[0m",
      "\u001b[1;31mKeyboardInterrupt\u001b[0m                         Traceback (most recent call last)",
      "Input \u001b[1;32mIn [14]\u001b[0m, in \u001b[0;36m<module>\u001b[1;34m\u001b[0m\n\u001b[0;32m      4\u001b[0m batch_size \u001b[38;5;241m=\u001b[39m \u001b[38;5;241m2\u001b[39m\n\u001b[0;32m      5\u001b[0m epochs \u001b[38;5;241m=\u001b[39m \u001b[38;5;241m15\u001b[39m\n\u001b[1;32m----> 6\u001b[0m history \u001b[38;5;241m=\u001b[39m \u001b[43mmodel\u001b[49m\u001b[38;5;241;43m.\u001b[39;49m\u001b[43mfit\u001b[49m\u001b[43m(\u001b[49m\u001b[43mtrain_seqs\u001b[49m\u001b[43m,\u001b[49m\u001b[43m \u001b[49m\u001b[43mtrain_labels\u001b[49m\u001b[43m,\u001b[49m\u001b[43m \u001b[49m\u001b[43mbatch_size\u001b[49m\u001b[38;5;241;43m=\u001b[39;49m\u001b[43mbatch_size\u001b[49m\u001b[43m,\u001b[49m\u001b[43m \u001b[49m\u001b[43mepochs\u001b[49m\u001b[38;5;241;43m=\u001b[39;49m\u001b[43mepochs\u001b[49m\u001b[43m)\u001b[49m\n\u001b[0;32m      7\u001b[0m model\u001b[38;5;241m.\u001b[39msave(\u001b[38;5;124m'\u001b[39m\u001b[38;5;124mmodel_parameters.h5\u001b[39m\u001b[38;5;124m'\u001b[39m)\n",
      "File \u001b[1;32m~\\AppData\\Local\\Programs\\Python\\Python310\\lib\\site-packages\\keras\\utils\\traceback_utils.py:64\u001b[0m, in \u001b[0;36mfilter_traceback.<locals>.error_handler\u001b[1;34m(*args, **kwargs)\u001b[0m\n\u001b[0;32m     62\u001b[0m filtered_tb \u001b[38;5;241m=\u001b[39m \u001b[38;5;28;01mNone\u001b[39;00m\n\u001b[0;32m     63\u001b[0m \u001b[38;5;28;01mtry\u001b[39;00m:\n\u001b[1;32m---> 64\u001b[0m   \u001b[38;5;28;01mreturn\u001b[39;00m fn(\u001b[38;5;241m*\u001b[39margs, \u001b[38;5;241m*\u001b[39m\u001b[38;5;241m*\u001b[39mkwargs)\n\u001b[0;32m     65\u001b[0m \u001b[38;5;28;01mexcept\u001b[39;00m \u001b[38;5;167;01mException\u001b[39;00m \u001b[38;5;28;01mas\u001b[39;00m e:  \u001b[38;5;66;03m# pylint: disable=broad-except\u001b[39;00m\n\u001b[0;32m     66\u001b[0m   filtered_tb \u001b[38;5;241m=\u001b[39m _process_traceback_frames(e\u001b[38;5;241m.\u001b[39m__traceback__)\n",
      "File \u001b[1;32m~\\AppData\\Local\\Programs\\Python\\Python310\\lib\\site-packages\\keras\\engine\\training.py:1384\u001b[0m, in \u001b[0;36mModel.fit\u001b[1;34m(self, x, y, batch_size, epochs, verbose, callbacks, validation_split, validation_data, shuffle, class_weight, sample_weight, initial_epoch, steps_per_epoch, validation_steps, validation_batch_size, validation_freq, max_queue_size, workers, use_multiprocessing)\u001b[0m\n\u001b[0;32m   1377\u001b[0m \u001b[38;5;28;01mwith\u001b[39;00m tf\u001b[38;5;241m.\u001b[39mprofiler\u001b[38;5;241m.\u001b[39mexperimental\u001b[38;5;241m.\u001b[39mTrace(\n\u001b[0;32m   1378\u001b[0m     \u001b[38;5;124m'\u001b[39m\u001b[38;5;124mtrain\u001b[39m\u001b[38;5;124m'\u001b[39m,\n\u001b[0;32m   1379\u001b[0m     epoch_num\u001b[38;5;241m=\u001b[39mepoch,\n\u001b[0;32m   1380\u001b[0m     step_num\u001b[38;5;241m=\u001b[39mstep,\n\u001b[0;32m   1381\u001b[0m     batch_size\u001b[38;5;241m=\u001b[39mbatch_size,\n\u001b[0;32m   1382\u001b[0m     _r\u001b[38;5;241m=\u001b[39m\u001b[38;5;241m1\u001b[39m):\n\u001b[0;32m   1383\u001b[0m   callbacks\u001b[38;5;241m.\u001b[39mon_train_batch_begin(step)\n\u001b[1;32m-> 1384\u001b[0m   tmp_logs \u001b[38;5;241m=\u001b[39m \u001b[38;5;28;43mself\u001b[39;49m\u001b[38;5;241;43m.\u001b[39;49m\u001b[43mtrain_function\u001b[49m\u001b[43m(\u001b[49m\u001b[43miterator\u001b[49m\u001b[43m)\u001b[49m\n\u001b[0;32m   1385\u001b[0m   \u001b[38;5;28;01mif\u001b[39;00m data_handler\u001b[38;5;241m.\u001b[39mshould_sync:\n\u001b[0;32m   1386\u001b[0m     context\u001b[38;5;241m.\u001b[39masync_wait()\n",
      "File \u001b[1;32m~\\AppData\\Local\\Programs\\Python\\Python310\\lib\\site-packages\\tensorflow\\python\\util\\traceback_utils.py:150\u001b[0m, in \u001b[0;36mfilter_traceback.<locals>.error_handler\u001b[1;34m(*args, **kwargs)\u001b[0m\n\u001b[0;32m    148\u001b[0m filtered_tb \u001b[38;5;241m=\u001b[39m \u001b[38;5;28;01mNone\u001b[39;00m\n\u001b[0;32m    149\u001b[0m \u001b[38;5;28;01mtry\u001b[39;00m:\n\u001b[1;32m--> 150\u001b[0m   \u001b[38;5;28;01mreturn\u001b[39;00m fn(\u001b[38;5;241m*\u001b[39margs, \u001b[38;5;241m*\u001b[39m\u001b[38;5;241m*\u001b[39mkwargs)\n\u001b[0;32m    151\u001b[0m \u001b[38;5;28;01mexcept\u001b[39;00m \u001b[38;5;167;01mException\u001b[39;00m \u001b[38;5;28;01mas\u001b[39;00m e:\n\u001b[0;32m    152\u001b[0m   filtered_tb \u001b[38;5;241m=\u001b[39m _process_traceback_frames(e\u001b[38;5;241m.\u001b[39m__traceback__)\n",
      "File \u001b[1;32m~\\AppData\\Local\\Programs\\Python\\Python310\\lib\\site-packages\\tensorflow\\python\\eager\\def_function.py:915\u001b[0m, in \u001b[0;36mFunction.__call__\u001b[1;34m(self, *args, **kwds)\u001b[0m\n\u001b[0;32m    912\u001b[0m compiler \u001b[38;5;241m=\u001b[39m \u001b[38;5;124m\"\u001b[39m\u001b[38;5;124mxla\u001b[39m\u001b[38;5;124m\"\u001b[39m \u001b[38;5;28;01mif\u001b[39;00m \u001b[38;5;28mself\u001b[39m\u001b[38;5;241m.\u001b[39m_jit_compile \u001b[38;5;28;01melse\u001b[39;00m \u001b[38;5;124m\"\u001b[39m\u001b[38;5;124mnonXla\u001b[39m\u001b[38;5;124m\"\u001b[39m\n\u001b[0;32m    914\u001b[0m \u001b[38;5;28;01mwith\u001b[39;00m OptionalXlaContext(\u001b[38;5;28mself\u001b[39m\u001b[38;5;241m.\u001b[39m_jit_compile):\n\u001b[1;32m--> 915\u001b[0m   result \u001b[38;5;241m=\u001b[39m \u001b[38;5;28mself\u001b[39m\u001b[38;5;241m.\u001b[39m_call(\u001b[38;5;241m*\u001b[39margs, \u001b[38;5;241m*\u001b[39m\u001b[38;5;241m*\u001b[39mkwds)\n\u001b[0;32m    917\u001b[0m new_tracing_count \u001b[38;5;241m=\u001b[39m \u001b[38;5;28mself\u001b[39m\u001b[38;5;241m.\u001b[39mexperimental_get_tracing_count()\n\u001b[0;32m    918\u001b[0m without_tracing \u001b[38;5;241m=\u001b[39m (tracing_count \u001b[38;5;241m==\u001b[39m new_tracing_count)\n",
      "File \u001b[1;32m~\\AppData\\Local\\Programs\\Python\\Python310\\lib\\site-packages\\tensorflow\\python\\eager\\def_function.py:947\u001b[0m, in \u001b[0;36mFunction._call\u001b[1;34m(self, *args, **kwds)\u001b[0m\n\u001b[0;32m    944\u001b[0m   \u001b[38;5;28mself\u001b[39m\u001b[38;5;241m.\u001b[39m_lock\u001b[38;5;241m.\u001b[39mrelease()\n\u001b[0;32m    945\u001b[0m   \u001b[38;5;66;03m# In this case we have created variables on the first call, so we run the\u001b[39;00m\n\u001b[0;32m    946\u001b[0m   \u001b[38;5;66;03m# defunned version which is guaranteed to never create variables.\u001b[39;00m\n\u001b[1;32m--> 947\u001b[0m   \u001b[38;5;28;01mreturn\u001b[39;00m \u001b[38;5;28mself\u001b[39m\u001b[38;5;241m.\u001b[39m_stateless_fn(\u001b[38;5;241m*\u001b[39margs, \u001b[38;5;241m*\u001b[39m\u001b[38;5;241m*\u001b[39mkwds)  \u001b[38;5;66;03m# pylint: disable=not-callable\u001b[39;00m\n\u001b[0;32m    948\u001b[0m \u001b[38;5;28;01melif\u001b[39;00m \u001b[38;5;28mself\u001b[39m\u001b[38;5;241m.\u001b[39m_stateful_fn \u001b[38;5;129;01mis\u001b[39;00m \u001b[38;5;129;01mnot\u001b[39;00m \u001b[38;5;28;01mNone\u001b[39;00m:\n\u001b[0;32m    949\u001b[0m   \u001b[38;5;66;03m# Release the lock early so that multiple threads can perform the call\u001b[39;00m\n\u001b[0;32m    950\u001b[0m   \u001b[38;5;66;03m# in parallel.\u001b[39;00m\n\u001b[0;32m    951\u001b[0m   \u001b[38;5;28mself\u001b[39m\u001b[38;5;241m.\u001b[39m_lock\u001b[38;5;241m.\u001b[39mrelease()\n",
      "File \u001b[1;32m~\\AppData\\Local\\Programs\\Python\\Python310\\lib\\site-packages\\tensorflow\\python\\eager\\function.py:2956\u001b[0m, in \u001b[0;36mFunction.__call__\u001b[1;34m(self, *args, **kwargs)\u001b[0m\n\u001b[0;32m   2953\u001b[0m \u001b[38;5;28;01mwith\u001b[39;00m \u001b[38;5;28mself\u001b[39m\u001b[38;5;241m.\u001b[39m_lock:\n\u001b[0;32m   2954\u001b[0m   (graph_function,\n\u001b[0;32m   2955\u001b[0m    filtered_flat_args) \u001b[38;5;241m=\u001b[39m \u001b[38;5;28mself\u001b[39m\u001b[38;5;241m.\u001b[39m_maybe_define_function(args, kwargs)\n\u001b[1;32m-> 2956\u001b[0m \u001b[38;5;28;01mreturn\u001b[39;00m \u001b[43mgraph_function\u001b[49m\u001b[38;5;241;43m.\u001b[39;49m\u001b[43m_call_flat\u001b[49m\u001b[43m(\u001b[49m\n\u001b[0;32m   2957\u001b[0m \u001b[43m    \u001b[49m\u001b[43mfiltered_flat_args\u001b[49m\u001b[43m,\u001b[49m\u001b[43m \u001b[49m\u001b[43mcaptured_inputs\u001b[49m\u001b[38;5;241;43m=\u001b[39;49m\u001b[43mgraph_function\u001b[49m\u001b[38;5;241;43m.\u001b[39;49m\u001b[43mcaptured_inputs\u001b[49m\u001b[43m)\u001b[49m\n",
      "File \u001b[1;32m~\\AppData\\Local\\Programs\\Python\\Python310\\lib\\site-packages\\tensorflow\\python\\eager\\function.py:1853\u001b[0m, in \u001b[0;36mConcreteFunction._call_flat\u001b[1;34m(self, args, captured_inputs, cancellation_manager)\u001b[0m\n\u001b[0;32m   1849\u001b[0m possible_gradient_type \u001b[38;5;241m=\u001b[39m gradients_util\u001b[38;5;241m.\u001b[39mPossibleTapeGradientTypes(args)\n\u001b[0;32m   1850\u001b[0m \u001b[38;5;28;01mif\u001b[39;00m (possible_gradient_type \u001b[38;5;241m==\u001b[39m gradients_util\u001b[38;5;241m.\u001b[39mPOSSIBLE_GRADIENT_TYPES_NONE\n\u001b[0;32m   1851\u001b[0m     \u001b[38;5;129;01mand\u001b[39;00m executing_eagerly):\n\u001b[0;32m   1852\u001b[0m   \u001b[38;5;66;03m# No tape is watching; skip to running the function.\u001b[39;00m\n\u001b[1;32m-> 1853\u001b[0m   \u001b[38;5;28;01mreturn\u001b[39;00m \u001b[38;5;28mself\u001b[39m\u001b[38;5;241m.\u001b[39m_build_call_outputs(\u001b[38;5;28;43mself\u001b[39;49m\u001b[38;5;241;43m.\u001b[39;49m\u001b[43m_inference_function\u001b[49m\u001b[38;5;241;43m.\u001b[39;49m\u001b[43mcall\u001b[49m\u001b[43m(\u001b[49m\n\u001b[0;32m   1854\u001b[0m \u001b[43m      \u001b[49m\u001b[43mctx\u001b[49m\u001b[43m,\u001b[49m\u001b[43m \u001b[49m\u001b[43margs\u001b[49m\u001b[43m,\u001b[49m\u001b[43m \u001b[49m\u001b[43mcancellation_manager\u001b[49m\u001b[38;5;241;43m=\u001b[39;49m\u001b[43mcancellation_manager\u001b[49m\u001b[43m)\u001b[49m)\n\u001b[0;32m   1855\u001b[0m forward_backward \u001b[38;5;241m=\u001b[39m \u001b[38;5;28mself\u001b[39m\u001b[38;5;241m.\u001b[39m_select_forward_and_backward_functions(\n\u001b[0;32m   1856\u001b[0m     args,\n\u001b[0;32m   1857\u001b[0m     possible_gradient_type,\n\u001b[0;32m   1858\u001b[0m     executing_eagerly)\n\u001b[0;32m   1859\u001b[0m forward_function, args_with_tangents \u001b[38;5;241m=\u001b[39m forward_backward\u001b[38;5;241m.\u001b[39mforward()\n",
      "File \u001b[1;32m~\\AppData\\Local\\Programs\\Python\\Python310\\lib\\site-packages\\tensorflow\\python\\eager\\function.py:499\u001b[0m, in \u001b[0;36m_EagerDefinedFunction.call\u001b[1;34m(self, ctx, args, cancellation_manager)\u001b[0m\n\u001b[0;32m    497\u001b[0m \u001b[38;5;28;01mwith\u001b[39;00m _InterpolateFunctionError(\u001b[38;5;28mself\u001b[39m):\n\u001b[0;32m    498\u001b[0m   \u001b[38;5;28;01mif\u001b[39;00m cancellation_manager \u001b[38;5;129;01mis\u001b[39;00m \u001b[38;5;28;01mNone\u001b[39;00m:\n\u001b[1;32m--> 499\u001b[0m     outputs \u001b[38;5;241m=\u001b[39m \u001b[43mexecute\u001b[49m\u001b[38;5;241;43m.\u001b[39;49m\u001b[43mexecute\u001b[49m\u001b[43m(\u001b[49m\n\u001b[0;32m    500\u001b[0m \u001b[43m        \u001b[49m\u001b[38;5;28;43mstr\u001b[39;49m\u001b[43m(\u001b[49m\u001b[38;5;28;43mself\u001b[39;49m\u001b[38;5;241;43m.\u001b[39;49m\u001b[43msignature\u001b[49m\u001b[38;5;241;43m.\u001b[39;49m\u001b[43mname\u001b[49m\u001b[43m)\u001b[49m\u001b[43m,\u001b[49m\n\u001b[0;32m    501\u001b[0m \u001b[43m        \u001b[49m\u001b[43mnum_outputs\u001b[49m\u001b[38;5;241;43m=\u001b[39;49m\u001b[38;5;28;43mself\u001b[39;49m\u001b[38;5;241;43m.\u001b[39;49m\u001b[43m_num_outputs\u001b[49m\u001b[43m,\u001b[49m\n\u001b[0;32m    502\u001b[0m \u001b[43m        \u001b[49m\u001b[43minputs\u001b[49m\u001b[38;5;241;43m=\u001b[39;49m\u001b[43margs\u001b[49m\u001b[43m,\u001b[49m\n\u001b[0;32m    503\u001b[0m \u001b[43m        \u001b[49m\u001b[43mattrs\u001b[49m\u001b[38;5;241;43m=\u001b[39;49m\u001b[43mattrs\u001b[49m\u001b[43m,\u001b[49m\n\u001b[0;32m    504\u001b[0m \u001b[43m        \u001b[49m\u001b[43mctx\u001b[49m\u001b[38;5;241;43m=\u001b[39;49m\u001b[43mctx\u001b[49m\u001b[43m)\u001b[49m\n\u001b[0;32m    505\u001b[0m   \u001b[38;5;28;01melse\u001b[39;00m:\n\u001b[0;32m    506\u001b[0m     outputs \u001b[38;5;241m=\u001b[39m execute\u001b[38;5;241m.\u001b[39mexecute_with_cancellation(\n\u001b[0;32m    507\u001b[0m         \u001b[38;5;28mstr\u001b[39m(\u001b[38;5;28mself\u001b[39m\u001b[38;5;241m.\u001b[39msignature\u001b[38;5;241m.\u001b[39mname),\n\u001b[0;32m    508\u001b[0m         num_outputs\u001b[38;5;241m=\u001b[39m\u001b[38;5;28mself\u001b[39m\u001b[38;5;241m.\u001b[39m_num_outputs,\n\u001b[1;32m   (...)\u001b[0m\n\u001b[0;32m    511\u001b[0m         ctx\u001b[38;5;241m=\u001b[39mctx,\n\u001b[0;32m    512\u001b[0m         cancellation_manager\u001b[38;5;241m=\u001b[39mcancellation_manager)\n",
      "File \u001b[1;32m~\\AppData\\Local\\Programs\\Python\\Python310\\lib\\site-packages\\tensorflow\\python\\eager\\execute.py:54\u001b[0m, in \u001b[0;36mquick_execute\u001b[1;34m(op_name, num_outputs, inputs, attrs, ctx, name)\u001b[0m\n\u001b[0;32m     52\u001b[0m \u001b[38;5;28;01mtry\u001b[39;00m:\n\u001b[0;32m     53\u001b[0m   ctx\u001b[38;5;241m.\u001b[39mensure_initialized()\n\u001b[1;32m---> 54\u001b[0m   tensors \u001b[38;5;241m=\u001b[39m \u001b[43mpywrap_tfe\u001b[49m\u001b[38;5;241;43m.\u001b[39;49m\u001b[43mTFE_Py_Execute\u001b[49m\u001b[43m(\u001b[49m\u001b[43mctx\u001b[49m\u001b[38;5;241;43m.\u001b[39;49m\u001b[43m_handle\u001b[49m\u001b[43m,\u001b[49m\u001b[43m \u001b[49m\u001b[43mdevice_name\u001b[49m\u001b[43m,\u001b[49m\u001b[43m \u001b[49m\u001b[43mop_name\u001b[49m\u001b[43m,\u001b[49m\n\u001b[0;32m     55\u001b[0m \u001b[43m                                      \u001b[49m\u001b[43minputs\u001b[49m\u001b[43m,\u001b[49m\u001b[43m \u001b[49m\u001b[43mattrs\u001b[49m\u001b[43m,\u001b[49m\u001b[43m \u001b[49m\u001b[43mnum_outputs\u001b[49m\u001b[43m)\u001b[49m\n\u001b[0;32m     56\u001b[0m \u001b[38;5;28;01mexcept\u001b[39;00m core\u001b[38;5;241m.\u001b[39m_NotOkStatusException \u001b[38;5;28;01mas\u001b[39;00m e:\n\u001b[0;32m     57\u001b[0m   \u001b[38;5;28;01mif\u001b[39;00m name \u001b[38;5;129;01mis\u001b[39;00m \u001b[38;5;129;01mnot\u001b[39;00m \u001b[38;5;28;01mNone\u001b[39;00m:\n",
      "\u001b[1;31mKeyboardInterrupt\u001b[0m: "
     ]
    }
   ],
   "source": [
    "# Training the model and saving the model's attributes in a HDF5 file\n",
    "# See https://en.wikipedia.org/wiki/Hierarchical_Data_Format\n",
    "\n",
    "batch_size = 2\n",
    "epochs = 15\n",
    "history = model.fit(train_seqs, train_labels, batch_size=batch_size, epochs=epochs)\n",
    "model.save('model_parameters.h5')"
   ]
  },
  {
   "cell_type": "code",
   "execution_count": null,
   "id": "b7a60f5f-0f26-4640-ab13-9b02ea7f89c6",
   "metadata": {
    "execution": {
     "iopub.execute_input": "2022-05-13T06:51:15.832669Z",
     "iopub.status.busy": "2022-05-13T06:51:15.832409Z",
     "iopub.status.idle": "2022-05-13T06:51:15.997941Z",
     "shell.execute_reply": "2022-05-13T06:51:15.997268Z",
     "shell.execute_reply.started": "2022-05-13T06:51:15.832643Z"
    }
   },
   "outputs": [],
   "source": [
    "# Graph plot of training loss vs. number of epoch\n",
    "\n",
    "_, l = plt.subplots(figsize=(10.5,6))\n",
    "l.plot(history.history['loss'], color='b', linestyle='dotted', marker='o', label='Training loss (mean square error)')\n",
    "\n",
    "# Parameters and legend of the plot\n",
    "\n",
    "l.set_xlabel('Epoch', size='large')\n",
    "l.legend(fontsize='large');"
   ]
  },
  {
   "cell_type": "markdown",
   "id": "11b1bdd4",
   "metadata": {},
   "source": [
    "# 1-day ahead predictions\n",
    "In this section, we use the fitted model to generate 1-day ahead stock price predictions."
   ]
  },
  {
   "cell_type": "code",
   "execution_count": null,
   "id": "41e8fb6c",
   "metadata": {
    "execution": {
     "iopub.execute_input": "2022-05-13T06:44:17.876009Z",
     "iopub.status.busy": "2022-05-13T06:44:17.875770Z",
     "iopub.status.idle": "2022-05-13T06:44:20.446554Z",
     "shell.execute_reply": "2022-05-13T06:44:20.445923Z",
     "shell.execute_reply.started": "2022-05-13T06:44:17.875970Z"
    }
   },
   "outputs": [],
   "source": [
    "# Storing in numpy array \"predicted\" the one-day-ahead stock prices predicted by the model\n",
    "# Storing in numpy array \"real\" the real stock prices contained in \"test_labels\"\n",
    "# Putting back both arrays to the original scale and format\n",
    "\n",
    "model = load_model('model_parameters.h5')\n",
    "\n",
    "predicted = model.predict(test_seqs)\n",
    "predicted = scaler.inverse_transform(predicted)\n",
    "real = scaler.inverse_transform(test_labels.reshape(-1, 1))"
   ]
  },
  {
   "cell_type": "code",
   "execution_count": null,
   "id": "1304a447",
   "metadata": {
    "execution": {
     "iopub.execute_input": "2022-05-13T06:44:20.449078Z",
     "iopub.status.busy": "2022-05-13T06:44:20.447872Z",
     "iopub.status.idle": "2022-05-13T06:44:20.794688Z",
     "shell.execute_reply": "2022-05-13T06:44:20.793747Z",
     "shell.execute_reply.started": "2022-05-13T06:44:20.449024Z"
    }
   },
   "outputs": [],
   "source": [
    "# Graph plot of real stock prices vs. one-day ahead predicted stock prices\n",
    "\n",
    "_, p = plt.subplots(figsize=(14,8))\n",
    "\n",
    "p.plot(dates, real, color='r', label='Real stock price')\n",
    "p.plot(dates, predicted, color='cyan', label='Predicted stock price')\n",
    "\n",
    "# Parameters, title and legend of the plot\n",
    "\n",
    "p.set_title('Real stock price vs. 1-day ahead predicted stock price', size='x-large')\n",
    "p.set_ylabel('Stock price [USD]', size='large')\n",
    "p.set_xlabel('(training parameters: timesteps = %d, units_ℓ = %d, r_ℓ = %.2f, r_d = %.2f, optimizer = Adam, batch size = %d, epochs = %d)'\n",
    "             % (n, units_ℓ, r_ℓ, r_d, batch_size, epochs), size='large')\n",
    "plt.xticks(np.arange(0, len(dates)+1, 50))\n",
    "p.set_facecolor('#000030')\n",
    "p.legend()\n",
    "\n",
    "plt.tight_layout()"
   ]
  },
  {
   "cell_type": "markdown",
   "id": "220e0316",
   "metadata": {},
   "source": [
    "# N-days ahead predictions\n",
    "In this section, we use the fitted model to generate N-days ahead stock price predictions."
   ]
  },
  {
   "cell_type": "code",
   "execution_count": null,
   "id": "84f85a60",
   "metadata": {
    "execution": {
     "iopub.execute_input": "2022-05-13T06:44:20.796402Z",
     "iopub.status.busy": "2022-05-13T06:44:20.796170Z",
     "iopub.status.idle": "2022-05-13T06:44:21.382145Z",
     "shell.execute_reply": "2022-05-13T06:44:21.381135Z",
     "shell.execute_reply.started": "2022-05-13T06:44:20.796377Z"
    }
   },
   "outputs": [],
   "source": [
    "# Setting the number \"N\" of days ahead predictions and the day \"start_day\" where to start the prediction\n",
    "# Defining a list \"N_predictions\" containing the future N stock price predictions\n",
    "# Setting as \"data\" the initial real stock price at start_day \n",
    "\n",
    "N = 10\n",
    "start_day = 100\n",
    "N_predictions = []\n",
    "data = test_seqs[start_day: start_day+1]\n",
    "\n",
    "# For-loop for the prediction of N consecutive stock prices after start_day\n",
    "\n",
    "for i in range(N):\n",
    "    prediction = model.predict(data)\n",
    "    data = np.append(data, prediction)[1:]\n",
    "    data = data.reshape(1,-1, 1)\n",
    "    N_predictions.append(prediction[0][0])\n",
    "\n",
    "# Putting the list of predictions \"N_predictions\" to the original scale and format\n",
    "\n",
    "N_predictions = np.array(N_predictions).reshape(-1, 1)\n",
    "N_predictions = scaler.inverse_transform(N_predictions)"
   ]
  },
  {
   "cell_type": "code",
   "execution_count": null,
   "id": "4bb84d22",
   "metadata": {
    "execution": {
     "iopub.execute_input": "2022-05-13T06:44:21.384944Z",
     "iopub.status.busy": "2022-05-13T06:44:21.384744Z",
     "iopub.status.idle": "2022-05-13T06:44:21.654760Z",
     "shell.execute_reply": "2022-05-13T06:44:21.654204Z",
     "shell.execute_reply.started": "2022-05-13T06:44:21.384920Z"
    }
   },
   "outputs": [],
   "source": [
    "# Graph plot of real stock prices vs. N-days ahead predicted stock prices\n",
    "\n",
    "_, p2 = plt.subplots(figsize=(14,8))\n",
    "\n",
    "p2.plot(dates, real, color='r', label='Real stock price')\n",
    "p2.plot(dates[start_day: start_day+N], N_predictions, color='cyan', label='Predicted stock price')\n",
    "\n",
    "# Parameters, title and legend of the plot\n",
    "\n",
    "p2.set_title(('Real stock price vs. %d-days ahead predicted stock price' % N), size='x-large')\n",
    "p2.set_ylabel('Stock price [USD]', size='large')\n",
    "p2.set_xlabel('(training parameters: timesteps = %d, units_ℓ = %d, r_ℓ = %.2f, r_d = %.2f, optimizer = Adam, batch size = %d, epochs = %d)'\n",
    "             % (n, units_ℓ, r_ℓ, r_d, batch_size, epochs), size='large')\n",
    "plt.xticks(np.arange(0, len(dates)+1, 50))\n",
    "p2.set_facecolor('#000030')\n",
    "p2.legend()\n",
    "\n",
    "plt.tight_layout()"
   ]
  },
  {
   "cell_type": "markdown",
   "id": "f5fd0fa6",
   "metadata": {},
   "source": [
    "# Conclusion\n",
    "The LSTM model seems to be accurate if one considers 1-day ahead predictions. But a more careful inspection suggests that it is not the case. When one uses the model to generate N-days ahead predictions, one obtains unsatisfactory results (not able to indicate the right trend - raising or falling - of the stock price).\n",
    "\n",
    "Two hints of explanations are the following:\n",
    "- First, the parameters from the training data used to rescale the test data (maximum and minimum values) are usually not suitable for the test data. Indeed, since stock prices are not bounded from above, the value of stock prices in the future often surpass their values in the past. This can lead to scale incongruities, as one can for instance observe in the first graph.\n",
    "- Second, and more importantly, the behaviour of stock prices is so complex that one cannot expect to accurately predict it using simple, deterministic models solely based on time series. The LSTM model that we used here is no exception to this rule. One has to develop more complex models (including randomness, additional types of data, other scaling methods, etc.) to get more decent predictions."
   ]
  }
 ],
 "metadata": {
  "kernelspec": {
   "display_name": "Python 3 (ipykernel)",
   "language": "python",
   "name": "python3"
  },
  "language_info": {
   "codemirror_mode": {
    "name": "ipython",
    "version": 3
   },
   "file_extension": ".py",
   "mimetype": "text/x-python",
   "name": "python",
   "nbconvert_exporter": "python",
   "pygments_lexer": "ipython3",
   "version": "3.10.2"
  }
 },
 "nbformat": 4,
 "nbformat_minor": 5
}
