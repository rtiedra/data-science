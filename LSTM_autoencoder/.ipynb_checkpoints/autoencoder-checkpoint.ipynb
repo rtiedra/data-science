{
 "cells": [
  {
   "cell_type": "markdown",
   "id": "c03a27a3",
   "metadata": {},
   "source": [
    "# General libraries"
   ]
  },
  {
   "cell_type": "code",
   "execution_count": 328,
   "id": "0588b6ef",
   "metadata": {},
   "outputs": [],
   "source": [
    "# Importing the numpy library (for arrays operations)\n",
    "# Importing the matplotlib.pyplot interface (for MATLAB-like plots)\n",
    "\n",
    "import numpy as np\n",
    "import matplotlib.pyplot as plt"
   ]
  },
  {
   "cell_type": "code",
   "execution_count": 329,
   "id": "7900c7b3",
   "metadata": {},
   "outputs": [
    {
     "name": "stdout",
     "output_type": "stream",
     "text": [
      "Shape of the time series: (10, 2)\n"
     ]
    },
    {
     "data": {
      "text/plain": [
       "array([[ 1,  2],\n",
       "       [ 2,  3],\n",
       "       [ 3,  5],\n",
       "       [ 4,  7],\n",
       "       [ 5, 11],\n",
       "       [ 6, 13],\n",
       "       [ 7, 17],\n",
       "       [ 8, 19],\n",
       "       [ 9, 23],\n",
       "       [10, 29]])"
      ]
     },
     "execution_count": 329,
     "metadata": {},
     "output_type": "execute_result"
    }
   ],
   "source": [
    "# Defining input time series (first 10 integers as times and first 10 prime numbers as values)\n",
    "# Setting as\"features\" the number of features of the time series\n",
    "\n",
    "series = np.array([[1, 2, 3, 4, 5, 6, 7, 8, 9, 10], [2, 3, 5, 7, 11, 13, 17, 19, 23, 29]]).transpose()\n",
    "features = series.shape[1]\n",
    "\n",
    "print('Shape of the time series:', series.shape)\n",
    "series"
   ]
  },
  {
   "cell_type": "code",
   "execution_count": 330,
   "id": "da0c47b2",
   "metadata": {},
   "outputs": [],
   "source": [
    "def create_3D_array(series, n):\n",
    "    arr = []\n",
    "    for i in range(n, series.shape[0]+1):\n",
    "        arr.append(series[i-n: i, :])\n",
    "    return np.array(arr)"
   ]
  },
  {
   "cell_type": "code",
   "execution_count": 331,
   "id": "6ef35dd4",
   "metadata": {},
   "outputs": [
    {
     "name": "stdout",
     "output_type": "stream",
     "text": [
      "Shape of the input array: (5, 6, 2)\n"
     ]
    },
    {
     "data": {
      "text/plain": [
       "array([[[ 1,  2],\n",
       "        [ 2,  3],\n",
       "        [ 3,  5],\n",
       "        [ 4,  7],\n",
       "        [ 5, 11],\n",
       "        [ 6, 13]],\n",
       "\n",
       "       [[ 2,  3],\n",
       "        [ 3,  5],\n",
       "        [ 4,  7],\n",
       "        [ 5, 11],\n",
       "        [ 6, 13],\n",
       "        [ 7, 17]],\n",
       "\n",
       "       [[ 3,  5],\n",
       "        [ 4,  7],\n",
       "        [ 5, 11],\n",
       "        [ 6, 13],\n",
       "        [ 7, 17],\n",
       "        [ 8, 19]],\n",
       "\n",
       "       [[ 4,  7],\n",
       "        [ 5, 11],\n",
       "        [ 6, 13],\n",
       "        [ 7, 17],\n",
       "        [ 8, 19],\n",
       "        [ 9, 23]],\n",
       "\n",
       "       [[ 5, 11],\n",
       "        [ 6, 13],\n",
       "        [ 7, 17],\n",
       "        [ 8, 19],\n",
       "        [ 9, 23],\n",
       "        [10, 29]]])"
      ]
     },
     "execution_count": 331,
     "metadata": {},
     "output_type": "execute_result"
    }
   ],
   "source": [
    "timesteps = 6\n",
    "\n",
    "input_arr = create_3D_array(series, timesteps)\n",
    "\n",
    "print('Shape of the input array:', input_arr.shape)\n",
    "input_arr"
   ]
  },
  {
   "cell_type": "code",
   "execution_count": 338,
   "id": "459177a5",
   "metadata": {},
   "outputs": [],
   "source": [
    "# Importing the \"Sequential\" class from the keras.models API (to group a linear stack of layers into a model)\n",
    "# Importing the \"LSTM\" class from the keras.layers API (to load the long short-term memory layer to be used)\n",
    "# Importing the \"RepeatVector\" class from the keras.layers API (to repeats an input various times)\n",
    "# Importing the \"TimeDistributed\" class from the keras.layers API (to apply a layer to every temporal slice of an input)\n",
    "# Importing the \"Dense\" class from the keras.layers API (to load the regular densely-connected NN layer to be used)\n",
    "\n",
    "# See https://keras.io/api/models/ and https://keras.io/api/layers/\n",
    "\n",
    "from keras.models import Sequential\n",
    "from keras.layers import LSTM, Dense, RepeatVector, TimeDistributed\n",
    "\n",
    "units_ℓ = 64\n",
    "\n",
    "model = Sequential()\n",
    "model.add(LSTM(2*units_ℓ, activation='relu', input_shape=(timesteps,features), return_sequences=True))\n",
    "model.add(LSTM(units_ℓ, activation='relu', return_sequences=False))\n",
    "model.add(RepeatVector(timesteps))\n",
    "model.add(LSTM(units_ℓ, activation='relu', return_sequences=True))\n",
    "model.add(LSTM(2*units_ℓ, activation='relu', return_sequences=True))\n",
    "model.add(TimeDistributed(Dense(features)))"
   ]
  },
  {
   "cell_type": "code",
   "execution_count": 339,
   "id": "1c09142d",
   "metadata": {},
   "outputs": [
    {
     "name": "stdout",
     "output_type": "stream",
     "text": [
      "Model: \"sequential_33\"\n",
      "_________________________________________________________________\n",
      " Layer (type)                Output Shape              Param #   \n",
      "=================================================================\n",
      " lstm_124 (LSTM)             (None, 6, 128)            67072     \n",
      "                                                                 \n",
      " lstm_125 (LSTM)             (None, 64)                49408     \n",
      "                                                                 \n",
      " repeat_vector_31 (RepeatVec  (None, 6, 64)            0         \n",
      " tor)                                                            \n",
      "                                                                 \n",
      " lstm_126 (LSTM)             (None, 6, 64)             33024     \n",
      "                                                                 \n",
      " lstm_127 (LSTM)             (None, 6, 128)            98816     \n",
      "                                                                 \n",
      " time_distributed_31 (TimeDi  (None, 6, 2)             258       \n",
      " stributed)                                                      \n",
      "                                                                 \n",
      "=================================================================\n",
      "Total params: 248,578\n",
      "Trainable params: 248,578\n",
      "Non-trainable params: 0\n",
      "_________________________________________________________________\n"
     ]
    }
   ],
   "source": [
    "# Summary of the model, see https://keras.io/api/models/model/#summary-method\n",
    "# The \"None\" value stands for the (not yet defined) value of the batch size\n",
    "\n",
    "model.summary()"
   ]
  },
  {
   "cell_type": "code",
   "execution_count": 333,
   "id": "8a1fc883",
   "metadata": {},
   "outputs": [
    {
     "data": {
      "image/png": "[encoded data removed]",
      "text/plain": [
       "<IPython.core.display.Image object>"
      ]
     },
     "execution_count": 333,
     "metadata": {},
     "output_type": "execute_result"
    }
   ],
   "source": [
    "# Importing the \"plot_model\" function from keras.utils.vis_utils module (to plot a schema of the model)\n",
    "# See https://keras.io/api/utils/model_plotting_utils/\n",
    "\n",
    "from keras.utils.vis_utils import plot_model\n",
    "\n",
    "plot_model(model, show_shapes=True)"
   ]
  },
  {
   "cell_type": "markdown",
   "id": "0045bc1e",
   "metadata": {},
   "source": [
    "We configure (compile) the model for training with:\n",
    "\n",
    "- mean square error (mse) between labels and predictions as quantity to minimise during training process\n",
    "- root mean absolute error between labels and predictions as metric to display during training process\n",
    "- \"adam\" as optimizer to use during training process (a combination of gradient descent with momentum and RMSP)<br>\n",
    "https://keras.io/api/optimizers/adam/"
   ]
  },
  {
   "cell_type": "code",
   "execution_count": 334,
   "id": "72baac96",
   "metadata": {},
   "outputs": [],
   "source": [
    "model.compile(loss='mse', optimizer='adam', metrics='RootMeanSquaredError')"
   ]
  },
  {
   "cell_type": "code",
   "execution_count": 335,
   "id": "f5a7c869",
   "metadata": {},
   "outputs": [],
   "source": [
    "# fit model\n",
    "\n",
    "batch_size = 2\n",
    "epochs = 500\n",
    "history = model.fit(input_arr, input_arr, batch_size=batch_size, epochs=epochs, verbose=0)"
   ]
  },
  {
   "cell_type": "code",
   "execution_count": 336,
   "id": "23310838",
   "metadata": {},
   "outputs": [
    {
     "data": {
      "image/png": "[encoded data removed]",
      "text/plain": [
       "<Figure size 756x432 with 1 Axes>"
      ]
     },
     "metadata": {
      "needs_background": "light"
     },
     "output_type": "display_data"
    }
   ],
   "source": [
    "# Graph plot of training loss vs. number of epoch\n",
    "\n",
    "_, p = plt.subplots(figsize=(10.5,6))\n",
    "p.plot(history.history['loss'], color='b', linestyle='dotted', marker='o', label='Training loss (mean square error)')\n",
    "\n",
    "# Parameters and legend of the plot\n",
    "\n",
    "p.set_xlabel('Epoch', size='large')\n",
    "p.legend(fontsize='large');"
   ]
  },
  {
   "cell_type": "code",
   "execution_count": 337,
   "id": "927319ff",
   "metadata": {},
   "outputs": [
    {
     "name": "stdout",
     "output_type": "stream",
     "text": [
      "---Predicted---\n",
      "[[[ 1.    1.98]\n",
      "  [ 2.    2.99]\n",
      "  [ 3.    5.  ]\n",
      "  [ 3.98  7.  ]\n",
      "  [ 4.98 10.99]\n",
      "  [ 6.   13.01]]\n",
      "\n",
      " [[ 1.97  3.07]\n",
      "  [ 3.    5.  ]\n",
      "  [ 4.    7.  ]\n",
      "  [ 5.01 11.  ]\n",
      "  [ 6.01 13.01]\n",
      "  [ 6.98 17.  ]]\n",
      "\n",
      " [[ 3.02  4.86]\n",
      "  [ 3.97  6.97]\n",
      "  [ 4.99 10.99]\n",
      "  [ 5.94 13.  ]\n",
      "  [ 7.04 17.01]\n",
      "  [ 8.   18.97]]\n",
      "\n",
      " [[ 3.97  7.15]\n",
      "  [ 5.01 11.02]\n",
      "  [ 6.03 12.98]\n",
      "  [ 6.98 16.99]\n",
      "  [ 7.97 19.01]\n",
      "  [ 8.99 23.05]]\n",
      "\n",
      " [[ 5.   10.94]\n",
      "  [ 5.99 13.01]\n",
      "  [ 6.99 17.02]\n",
      "  [ 8.02 19.01]\n",
      "  [ 9.01 23.01]\n",
      "  [10.01 28.97]]]\n",
      "---Actual---\n",
      "[[[ 1  2]\n",
      "  [ 2  3]\n",
      "  [ 3  5]\n",
      "  [ 4  7]\n",
      "  [ 5 11]\n",
      "  [ 6 13]]\n",
      "\n",
      " [[ 2  3]\n",
      "  [ 3  5]\n",
      "  [ 4  7]\n",
      "  [ 5 11]\n",
      "  [ 6 13]\n",
      "  [ 7 17]]\n",
      "\n",
      " [[ 3  5]\n",
      "  [ 4  7]\n",
      "  [ 5 11]\n",
      "  [ 6 13]\n",
      "  [ 7 17]\n",
      "  [ 8 19]]\n",
      "\n",
      " [[ 4  7]\n",
      "  [ 5 11]\n",
      "  [ 6 13]\n",
      "  [ 7 17]\n",
      "  [ 8 19]\n",
      "  [ 9 23]]\n",
      "\n",
      " [[ 5 11]\n",
      "  [ 6 13]\n",
      "  [ 7 17]\n",
      "  [ 8 19]\n",
      "  [ 9 23]\n",
      "  [10 29]]] 1\n"
     ]
    }
   ],
   "source": [
    "# demonstrate reconstruction\n",
    "\n",
    "yhat = model.predict(input_arr, verbose=0)\n",
    "print('---Predicted---')\n",
    "print(np.round(yhat, 2))\n",
    "print('---Actual---')\n",
    "print(input_arr, 1)"
   ]
  }
 ],
 "metadata": {
  "kernelspec": {
   "display_name": "Python 3 (ipykernel)",
   "language": "python",
   "name": "python3"
  },
  "language_info": {
   "codemirror_mode": {
    "name": "ipython",
    "version": 3
   },
   "file_extension": ".py",
   "mimetype": "text/x-python",
   "name": "python",
   "nbconvert_exporter": "python",
   "pygments_lexer": "ipython3",
   "version": "3.10.2"
  }
 },
 "nbformat": 4,
 "nbformat_minor": 5
}
