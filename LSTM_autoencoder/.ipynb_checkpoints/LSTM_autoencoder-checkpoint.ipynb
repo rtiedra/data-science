{
 "cells": [
  {
   "cell_type": "markdown",
   "id": "6f50c8a9",
   "metadata": {
    "slideshow": {
     "slide_type": "skip"
    }
   },
   "source": [
    "A toy model of LSTM autoencoder, licensed under the Apache License, Version 2.0<br>\n",
    "http://www.apache.org/licenses/LICENSE-2.0"
   ]
  },
  {
   "cell_type": "markdown",
   "id": "c03a27a3",
   "metadata": {
    "slideshow": {
     "slide_type": "slide"
    }
   },
   "source": [
    "# General libraries"
   ]
  },
  {
   "cell_type": "code",
   "execution_count": 43,
   "id": "0588b6ef",
   "metadata": {
    "slideshow": {
     "slide_type": "skip"
    }
   },
   "outputs": [],
   "source": [
    "# Importing the numpy library (for arrays operations)\n",
    "# Importing the matplotlib.pyplot interface (for MATLAB-like plots)\n",
    "\n",
    "import numpy as np\n",
    "import matplotlib.pyplot as plt"
   ]
  },
  {
   "cell_type": "code",
   "execution_count": 44,
   "id": "7900c7b3",
   "metadata": {
    "slideshow": {
     "slide_type": "slide"
    }
   },
   "outputs": [
    {
     "name": "stdout",
     "output_type": "stream",
     "text": [
      "Shape of the time series: (10, 2)\n"
     ]
    },
    {
     "data": {
      "text/plain": [
       "array([[ 1,  2],\n",
       "       [ 2,  3],\n",
       "       [ 3,  5],\n",
       "       [ 4,  7],\n",
       "       [ 5, 11],\n",
       "       [ 6, 13],\n",
       "       [ 7, 17],\n",
       "       [ 8, 19],\n",
       "       [ 9, 23],\n",
       "       [10, 29]])"
      ]
     },
     "execution_count": 44,
     "metadata": {},
     "output_type": "execute_result"
    }
   ],
   "source": [
    "# Defining a time series to play with (first 10 integers as times and first 10 prime numbers as values)\n",
    "# Setting as \"features\" the number of features of the time series (= 2 in this case)\n",
    "\n",
    "series = np.array([[1, 2, 3, 4, 5, 6, 7, 8, 9, 10], [2, 3, 5, 7, 11, 13, 17, 19, 23, 29]]).transpose()\n",
    "features = series.shape[1]\n",
    "\n",
    "print('Shape of the time series:', series.shape)\n",
    "series"
   ]
  },
  {
   "cell_type": "markdown",
   "id": "145662e4",
   "metadata": {
    "slideshow": {
     "slide_type": "slide"
    }
   },
   "source": [
    "We define a function \"create_3D_array\" which, given a time series \"series\" and a number of time steps \"timesteps\", creates a 3D numpy array \"arr\" suitable as input for the neural network. The 3D array has format:\n",
    "$$\n",
    "\\hbox{(number of samples)} \\times \\hbox{(number of time steps)} \\times \\hbox{(number of features).}\n",
    "$$"
   ]
  },
  {
   "cell_type": "code",
   "execution_count": 45,
   "id": "da0c47b2",
   "metadata": {},
   "outputs": [],
   "source": [
    "def create_3D_array(series, timesteps):\n",
    "    arr = []\n",
    "    for i in range(timesteps, series.shape[0]+1):\n",
    "        arr.append(series[i-timesteps: i, :])\n",
    "    return np.array(arr)"
   ]
  },
  {
   "cell_type": "code",
   "execution_count": 46,
   "id": "6ef35dd4",
   "metadata": {},
   "outputs": [
    {
     "name": "stdout",
     "output_type": "stream",
     "text": [
      "Shape of the input array: (5, 6, 2)\n"
     ]
    },
    {
     "data": {
      "text/plain": [
       "array([[[ 1,  2],\n",
       "        [ 2,  3],\n",
       "        [ 3,  5],\n",
       "        [ 4,  7],\n",
       "        [ 5, 11],\n",
       "        [ 6, 13]],\n",
       "\n",
       "       [[ 2,  3],\n",
       "        [ 3,  5],\n",
       "        [ 4,  7],\n",
       "        [ 5, 11],\n",
       "        [ 6, 13],\n",
       "        [ 7, 17]],\n",
       "\n",
       "       [[ 3,  5],\n",
       "        [ 4,  7],\n",
       "        [ 5, 11],\n",
       "        [ 6, 13],\n",
       "        [ 7, 17],\n",
       "        [ 8, 19]],\n",
       "\n",
       "       [[ 4,  7],\n",
       "        [ 5, 11],\n",
       "        [ 6, 13],\n",
       "        [ 7, 17],\n",
       "        [ 8, 19],\n",
       "        [ 9, 23]],\n",
       "\n",
       "       [[ 5, 11],\n",
       "        [ 6, 13],\n",
       "        [ 7, 17],\n",
       "        [ 8, 19],\n",
       "        [ 9, 23],\n",
       "        [10, 29]]])"
      ]
     },
     "execution_count": 46,
     "metadata": {},
     "output_type": "execute_result"
    }
   ],
   "source": [
    "# Creating a 3D input array \"input_arr\" using the function function \"create_3D_array\"\n",
    "\n",
    "timesteps = 6\n",
    "input_arr = create_3D_array(series, timesteps)\n",
    "\n",
    "print('Shape of the input array:', input_arr.shape)\n",
    "input_arr"
   ]
  },
  {
   "cell_type": "markdown",
   "id": "fcef0999",
   "metadata": {},
   "source": [
    "# LSTM autoencoder model\n",
    "We start by importing the classes from Keras:\n",
    "- the \"Sequential\" class from the keras.models API (to group a linear stack of layers into a model)\n",
    "- the \"LSTM\" class from the keras.layers API (to load the long short-term memory layer to be used)\n",
    "- the \"RepeatVector\" class from the keras.layers API (to repeats an input various times)\n",
    "- the \"TimeDistributed\" class from the keras.layers API (to apply a layer to every temporal slice of an input)\n",
    "- the \"Dense\" class from the keras.layers API (to load the regular densely-connected NN layer to be used)\n",
    "\n",
    "See https://keras.io/api/models/ and https://keras.io/api/layers/"
   ]
  },
  {
   "cell_type": "code",
   "execution_count": 47,
   "id": "117ff1c0",
   "metadata": {},
   "outputs": [],
   "source": [
    "from keras.models import Sequential\n",
    "from keras.layers import LSTM, Dense, RepeatVector, TimeDistributed"
   ]
  },
  {
   "cell_type": "markdown",
   "id": "2cbdb200",
   "metadata": {},
   "source": [
    "We define a LSTM autoencoder model which takes as input the 3D array containing the samples of the time series (format 5x6x2) and returns as output the encoded-and-decoded 3D array (format 5x6x2 again).\n",
    "\n",
    "- Each sample of the input data has 6 timesteps and 2 features.\n",
    "- Layer 1, LSTM(128), reads the input data and outputs a 2D array of size 6x128 (6 timesteps x 128 features due to option return_sequences=True).\n",
    "- Layer 2, LSTM(64), reads the 6x128 output from layer 1 and reduces the feature size to 64. Since return_sequences=False, it outputs a feature vector of size 1x64, namely, the encoded feature vector of the input data.\n",
    "- Layer 3, RepeatVector(timesteps), replicates the feature vector 6 (= timesteps) times. The RepeatVector layer acts as a bridge between the encoder and decoder modules. It prepares the 2D array input for the first LSTM layer of the decoder. The decoder module is designed to unfold the encoding, and thus has layers stacked in the reverse order of the encoder.\n",
    "- Layers 4 and 5, LSTM (64) and LSTM (128), are the mirror images of layers 2 and 1, respectively.\n",
    "- Layer 6, TimeDistributed(Dense(features)), creates a vector of length equal to the number of features outputted by the previous layer. Since layer 5 outputs 128 features, the TimeDistributed layer creates a vector of size 128x1 and replicates it 2 (= features) times. The output of layer 5 is a 6x128 array that we denote by U and that of layer 6 is a 128x2 array that we denote by V, so that a matrix multiplication between U and V yields a 6x2 array.\n",
    "\n",
    "Figures..."
   ]
  },
  {
   "cell_type": "markdown",
   "id": "baeef90a",
   "metadata": {},
   "source": [
    "We use the rectified linear function \"relu\" as activation function for the LSTM layers. This helps the network to learn a compact representation of the input (with one or more true zero values).<br>\n",
    "https://machinelearningmastery.com/rectified-linear-activation-function-for-deep-learning-neural-networks/"
   ]
  },
  {
   "cell_type": "code",
   "execution_count": 56,
   "id": "459177a5",
   "metadata": {},
   "outputs": [],
   "source": [
    "model = Sequential()\n",
    "model.add(LSTM(128, activation='relu', input_shape=(timesteps, features), return_sequences=True))\n",
    "model.add(LSTM(64, activation='relu', return_sequences=False))\n",
    "model.add(RepeatVector(timesteps))\n",
    "model.add(LSTM(64, activation='relu', return_sequences=True))\n",
    "model.add(LSTM(128, activation='relu', return_sequences=True))\n",
    "model.add(TimeDistributed(Dense(features)))"
   ]
  },
  {
   "cell_type": "markdown",
   "id": "fd0ccbff",
   "metadata": {},
   "source": [
    "We give a summary of the model using the \"summary\" method of the model class of Keras. The \"None\" value stands for the (not yet defined) value of the batch size.<br>\n",
    "https://keras.io/api/models/model/#summary-method"
   ]
  },
  {
   "cell_type": "code",
   "execution_count": 50,
   "id": "1c09142d",
   "metadata": {},
   "outputs": [
    {
     "name": "stdout",
     "output_type": "stream",
     "text": [
      "Model: \"sequential_4\"\n",
      "_________________________________________________________________\n",
      " Layer (type)                Output Shape              Param #   \n",
      "=================================================================\n",
      " lstm_16 (LSTM)              (None, 6, 128)            67072     \n",
      "                                                                 \n",
      " lstm_17 (LSTM)              (None, 64)                49408     \n",
      "                                                                 \n",
      " repeat_vector_4 (RepeatVect  (None, 6, 64)            0         \n",
      " or)                                                             \n",
      "                                                                 \n",
      " lstm_18 (LSTM)              (None, 6, 64)             33024     \n",
      "                                                                 \n",
      " lstm_19 (LSTM)              (None, 6, 128)            98816     \n",
      "                                                                 \n",
      " time_distributed_4 (TimeDis  (None, 6, 2)             258       \n",
      " tributed)                                                       \n",
      "                                                                 \n",
      "=================================================================\n",
      "Total params: 248,578\n",
      "Trainable params: 248,578\n",
      "Non-trainable params: 0\n",
      "_________________________________________________________________\n"
     ]
    }
   ],
   "source": [
    "model.summary()"
   ]
  },
  {
   "cell_type": "markdown",
   "id": "79571f9f",
   "metadata": {},
   "source": [
    "We import the \"plot_model\" function from the \"keras.utils.vis_utils\" module to plot a schema of the model.<br>\n",
    "https://keras.io/api/utils/model_plotting_utils/"
   ]
  },
  {
   "cell_type": "code",
   "execution_count": 51,
   "id": "8a1fc883",
   "metadata": {},
   "outputs": [
    {
     "data": {
      "image/png": "[encoded data removed]",
      "text/plain": [
       "<IPython.core.display.Image object>"
      ]
     },
     "execution_count": 51,
     "metadata": {},
     "output_type": "execute_result"
    }
   ],
   "source": [
    "from keras.utils.vis_utils import plot_model\n",
    "\n",
    "plot_model(model, show_shapes=True)"
   ]
  },
  {
   "cell_type": "markdown",
   "id": "0045bc1e",
   "metadata": {},
   "source": [
    "We configure (compile) the model for training with the following parameters:\n",
    "\n",
    "- mean square error (mse) between labels and predictions as quantity to minimise during training process\n",
    "- root mean absolute error between labels and predictions as metric to display during training process\n",
    "- \"adam\" as optimizer to use during training process (a combination of gradient descent with momentum and RMSP)<br>\n",
    "https://keras.io/api/optimizers/adam/"
   ]
  },
  {
   "cell_type": "code",
   "execution_count": 52,
   "id": "72baac96",
   "metadata": {},
   "outputs": [],
   "source": [
    "model.compile(loss='mse', optimizer='adam', metrics='RootMeanSquaredError')"
   ]
  },
  {
   "cell_type": "markdown",
   "id": "6d9af3c1",
   "metadata": {},
   "source": [
    "We train (fit) the model with given input array, output array, batch size and number of epochs. The objective of training is to make the output array as close as possible to the input array. An epoch is a pass of the neural network over the entire training set and the batch size is the number of samples that are passed to the network at once (the default batch size in Keras is 32).<br>\n",
    "https://keras.io/api/models/model_training_apis/#fit-method\n",
    "\n",
    "For each epoch, we thus have\n",
    "$$\n",
    "\\hbox{number of training steps} = \\frac{\\hbox{length of training set}}{\\hbox{batch size}}\\;\\!.\n",
    "$$"
   ]
  },
  {
   "cell_type": "code",
   "execution_count": 53,
   "id": "f5a7c869",
   "metadata": {},
   "outputs": [],
   "source": [
    "batch_size = 2\n",
    "epochs = 500\n",
    "history = model.fit(input_arr, input_arr, batch_size=batch_size, epochs=epochs, verbose=0)"
   ]
  },
  {
   "cell_type": "code",
   "execution_count": 54,
   "id": "23310838",
   "metadata": {},
   "outputs": [
    {
     "data": {
      "image/png": "[encoded data removed]",
      "text/plain": [
       "<Figure size 756x432 with 1 Axes>"
      ]
     },
     "metadata": {
      "needs_background": "light"
     },
     "output_type": "display_data"
    }
   ],
   "source": [
    "# Graph plot of training loss vs. number of epoch\n",
    "\n",
    "_, p = plt.subplots(figsize=(10.5,6))\n",
    "p.plot(history.history['loss'], color='b', linestyle='dotted', marker='o', label='Training loss (mean square error)')\n",
    "\n",
    "# Parameters and legend of the plot\n",
    "\n",
    "p.set_xlabel('Epoch', size='large')\n",
    "p.legend(fontsize='large');"
   ]
  },
  {
   "cell_type": "code",
   "execution_count": 55,
   "id": "927319ff",
   "metadata": {},
   "outputs": [
    {
     "name": "stdout",
     "output_type": "stream",
     "text": [
      "Output array:\n",
      "\n",
      " [[[ 1.01  1.82]\n",
      "  [ 2.01  3.07]\n",
      "  [ 3.    5.01]\n",
      "  [ 3.98  7.  ]\n",
      "  [ 4.99 11.  ]\n",
      "  [ 6.01 12.98]]\n",
      "\n",
      " [[ 1.95  3.21]\n",
      "  [ 2.98  4.91]\n",
      "  [ 4.03  6.98]\n",
      "  [ 5.03 11.  ]\n",
      "  [ 5.97 13.03]\n",
      "  [ 6.99 16.99]]\n",
      "\n",
      " [[ 3.07  4.86]\n",
      "  [ 4.02  7.03]\n",
      "  [ 4.98 11.  ]\n",
      "  [ 5.99 12.97]\n",
      "  [ 7.   16.97]\n",
      "  [ 7.99 19.02]]\n",
      "\n",
      " [[ 3.96  7.1 ]\n",
      "  [ 4.99 10.96]\n",
      "  [ 6.   13.  ]\n",
      "  [ 7.   17.01]\n",
      "  [ 8.02 19.01]\n",
      "  [ 8.99 22.99]]\n",
      "\n",
      " [[ 5.02 10.95]\n",
      "  [ 6.01 13.02]\n",
      "  [ 7.   16.98]\n",
      "  [ 7.98 18.99]\n",
      "  [ 8.99 23.01]\n",
      "  [10.   29.  ]]] \n",
      "\n",
      "Input array:\n",
      "\n",
      " [[[ 1  2]\n",
      "  [ 2  3]\n",
      "  [ 3  5]\n",
      "  [ 4  7]\n",
      "  [ 5 11]\n",
      "  [ 6 13]]\n",
      "\n",
      " [[ 2  3]\n",
      "  [ 3  5]\n",
      "  [ 4  7]\n",
      "  [ 5 11]\n",
      "  [ 6 13]\n",
      "  [ 7 17]]\n",
      "\n",
      " [[ 3  5]\n",
      "  [ 4  7]\n",
      "  [ 5 11]\n",
      "  [ 6 13]\n",
      "  [ 7 17]\n",
      "  [ 8 19]]\n",
      "\n",
      " [[ 4  7]\n",
      "  [ 5 11]\n",
      "  [ 6 13]\n",
      "  [ 7 17]\n",
      "  [ 8 19]\n",
      "  [ 9 23]]\n",
      "\n",
      " [[ 5 11]\n",
      "  [ 6 13]\n",
      "  [ 7 17]\n",
      "  [ 8 19]\n",
      "  [ 9 23]\n",
      "  [10 29]]]\n"
     ]
    }
   ],
   "source": [
    "# Storing in numpy array \"output_arr\" the encoded-and-decoded version of \"output_arr\" and printing it\n",
    "\n",
    "output_arr = model.predict(input_arr)\n",
    "\n",
    "print('Output array:\\n\\n', np.round(output_arr, 2), '\\n')\n",
    "print('Input array:\\n\\n', input_arr)"
   ]
  }
 ],
 "metadata": {
  "kernelspec": {
   "display_name": "Python 3 (ipykernel)",
   "language": "python",
   "name": "python3"
  },
  "language_info": {
   "codemirror_mode": {
    "name": "ipython",
    "version": 3
   },
   "file_extension": ".py",
   "mimetype": "text/x-python",
   "name": "python",
   "nbconvert_exporter": "python",
   "pygments_lexer": "ipython3",
   "version": "3.10.2"
  }
 },
 "nbformat": 4,
 "nbformat_minor": 5
}
