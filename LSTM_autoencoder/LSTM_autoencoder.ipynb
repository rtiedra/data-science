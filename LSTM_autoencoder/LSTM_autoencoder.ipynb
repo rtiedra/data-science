{
 "cells": [
  {
   "cell_type": "markdown",
   "id": "6f50c8a9",
   "metadata": {
    "slideshow": {
     "slide_type": "skip"
    }
   },
   "source": [
    "A toy model of LSTM autoencoder, licensed under the [Apache License, Version 2.0](http://www.apache.org/licenses/LICENSE-2.0)"
   ]
  },
  {
   "cell_type": "markdown",
   "id": "93aa225c",
   "metadata": {},
   "source": [
    "# Table of contents\n",
    "* [Main libraries](#libraries)\n",
    "* [Data preparation](#data)\n",
    "* [LSTM autoencoder model](#LSTM)"
   ]
  },
  {
   "cell_type": "markdown",
   "id": "c03a27a3",
   "metadata": {
    "slideshow": {
     "slide_type": "slide"
    }
   },
   "source": [
    "<a id='libraries'></a>\n",
    "# Main libraries\n",
    "We start by importing the main libraires we shall use:\n",
    "\n",
    "- the [numpy](https://numpy.org/) library (for arrays operations)\n",
    "- the [matplotlib.pyplot](https://matplotlib.org/stable/api/_as_gen/matplotlib.pyplot.html) interface (for MATLAB-like plots)"
   ]
  },
  {
   "cell_type": "code",
   "execution_count": 1,
   "id": "0588b6ef",
   "metadata": {
    "slideshow": {
     "slide_type": "skip"
    }
   },
   "outputs": [],
   "source": [
    "import numpy as np\n",
    "import matplotlib.pyplot as plt"
   ]
  },
  {
   "cell_type": "markdown",
   "id": "11161679",
   "metadata": {},
   "source": [
    "<a id='data'></a>\n",
    "# Data preparation"
   ]
  },
  {
   "cell_type": "code",
   "execution_count": 2,
   "id": "7900c7b3",
   "metadata": {
    "slideshow": {
     "slide_type": "slide"
    }
   },
   "outputs": [
    {
     "name": "stdout",
     "output_type": "stream",
     "text": [
      "\u001b[1mseries.shape:\u001b[0m\n",
      " (10, 2) \n",
      "\n",
      "\u001b[1mseries:\u001b[0m\n",
      " [[ 1  2]\n",
      " [ 2  3]\n",
      " [ 3  5]\n",
      " [ 4  7]\n",
      " [ 5 11]\n",
      " [ 6 13]\n",
      " [ 7 17]\n",
      " [ 8 19]\n",
      " [ 9 23]\n",
      " [10 29]]\n"
     ]
    }
   ],
   "source": [
    "# Defining a time series to play with (first 10 integers as time index and first 10 prime numbers as values)\n",
    "# Setting as \"features\" the number of features of the time series (= 2 in this case)\n",
    "\n",
    "series = np.array([[1, 2, 3, 4, 5, 6, 7, 8, 9, 10], [2, 3, 5, 7, 11, 13, 17, 19, 23, 29]]).transpose()\n",
    "features = series.shape[1]\n",
    "\n",
    "print('\\033[1m' + 'series.shape:' + '\\033[0m' + '\\n', series.shape, '\\n')\n",
    "print('\\033[1m' + 'series:' + '\\033[0m' + '\\n', series)"
   ]
  },
  {
   "cell_type": "markdown",
   "id": "145662e4",
   "metadata": {
    "slideshow": {
     "slide_type": "slide"
    }
   },
   "source": [
    "We define a function \"create_3D_array\" which, given the time series \"series\" and the number of time steps \"timesteps\", creates a 3D numpy array \"arr\" suitable as input for the neural network. The 3D array has format:\n",
    "\n",
    "$$\n",
    "\\hbox{(number of samples)} \\times \\hbox{(number of time steps)} \\times \\hbox{(number of features).}\n",
    "$$"
   ]
  },
  {
   "cell_type": "code",
   "execution_count": 3,
   "id": "da0c47b2",
   "metadata": {},
   "outputs": [],
   "source": [
    "def create_3D_array(series, timesteps):\n",
    "    arr = []\n",
    "    for i in range(timesteps, series.shape[0]+1):\n",
    "        arr.append(series[i-timesteps: i, :])\n",
    "    return np.array(arr)"
   ]
  },
  {
   "cell_type": "code",
   "execution_count": 4,
   "id": "6ef35dd4",
   "metadata": {},
   "outputs": [
    {
     "name": "stdout",
     "output_type": "stream",
     "text": [
      "\u001b[1minput_arr.shape:\u001b[0m\n",
      " (5, 6, 2) \n",
      "\n",
      "\u001b[1minput_arr:\u001b[0m\n",
      " [[[ 1  2]\n",
      "  [ 2  3]\n",
      "  [ 3  5]\n",
      "  [ 4  7]\n",
      "  [ 5 11]\n",
      "  [ 6 13]]\n",
      "\n",
      " [[ 2  3]\n",
      "  [ 3  5]\n",
      "  [ 4  7]\n",
      "  [ 5 11]\n",
      "  [ 6 13]\n",
      "  [ 7 17]]\n",
      "\n",
      " [[ 3  5]\n",
      "  [ 4  7]\n",
      "  [ 5 11]\n",
      "  [ 6 13]\n",
      "  [ 7 17]\n",
      "  [ 8 19]]\n",
      "\n",
      " [[ 4  7]\n",
      "  [ 5 11]\n",
      "  [ 6 13]\n",
      "  [ 7 17]\n",
      "  [ 8 19]\n",
      "  [ 9 23]]\n",
      "\n",
      " [[ 5 11]\n",
      "  [ 6 13]\n",
      "  [ 7 17]\n",
      "  [ 8 19]\n",
      "  [ 9 23]\n",
      "  [10 29]]]\n"
     ]
    }
   ],
   "source": [
    "# Creating a 3D input array \"input_arr\" using the function function \"create_3D_array\"\n",
    "\n",
    "timesteps = 6\n",
    "input_arr = create_3D_array(series, timesteps)\n",
    "\n",
    "print('\\033[1m' + 'input_arr.shape:' + '\\033[0m' + '\\n', input_arr.shape, '\\n')\n",
    "print('\\033[1m' + 'input_arr:' + '\\033[0m' + '\\n', input_arr)"
   ]
  },
  {
   "cell_type": "markdown",
   "id": "fcef0999",
   "metadata": {},
   "source": [
    "<a id='LSTM'></a>\n",
    "# LSTM autoencoder model\n",
    "First, we import the necessary classes from Keras:\n",
    "- the [Sequential](https://keras.io/api/models/sequential/) class from the keras.models API (to group a linear stack of layers into a model)\n",
    "- the [LSTM](https://keras.io/api/layers/recurrent_layers/lstm/) class from the keras.layers API (to apply a long short-term memory layer to an input)\n",
    "- the [RepeatVector](https://keras.io/api/layers/reshaping_layers/repeat_vector/) class from the keras.layers API (to repeats an input various times)\n",
    "- the [TimeDistributed](https://keras.io/api/layers/recurrent_layers/time_distributed/) class from the keras.layers API (to apply a layer to every temporal slice of an input)\n",
    "- the [Dense](https://keras.io/api/layers/core_layers/dense/) class from the keras.layers API (to apply a regular densely-connected NN layer to an input)"
   ]
  },
  {
   "cell_type": "code",
   "execution_count": 5,
   "id": "117ff1c0",
   "metadata": {},
   "outputs": [],
   "source": [
    "from keras.models import Sequential\n",
    "from keras.layers import LSTM, Dense, RepeatVector, TimeDistributed"
   ]
  },
  {
   "cell_type": "markdown",
   "id": "2cbdb200",
   "metadata": {},
   "source": [
    "We define a LSTM autoencoder model which takes as input the 3D array containing the samples of the time series (format 5x6x2) and returns as output the encoded-and-decoded 3D array (format 5x6x2 again).\n",
    "\n",
    "- Each sample of the input data has 6 timesteps and 2 features.\n",
    "- Layer 1, LSTM(128), reads the input data and outputs a 2D array of size 6x128 (6 timesteps x 128 features due to option return_sequences=True).\n",
    "- Layer 2, LSTM(64), reads the 6x128 output from layer 1 and reduces the feature size to 64. Since return_sequences=False, it outputs a feature vector of size 1x64, namely, the encoded feature vector of the input data.\n",
    "- Layer 3, RepeatVector(timesteps), replicates the feature vector 6 (= timesteps) times. The RepeatVector layer acts as a bridge between the encoder and decoder modules. It prepares the 2D array input for the first LSTM layer of the decoder. The decoder module is designed to unfold the encoding, and thus has layers stacked in the reverse order of the encoder.\n",
    "- Layers 4 and 5, LSTM (64) and LSTM (128), are the mirror images of layers 2 and 1, respectively.\n",
    "- Layer 6, TimeDistributed(Dense(features)), creates a vector of length equal to the number of features outputted by the previous layer. Since layer 5 outputs 128 features, the TimeDistributed layer creates a vector of size 128x1 and replicates it 2 (= features) times. The output of layer 5 is a 6x128 array that we denote by U and that of layer 6 is a 128x2 array that we denote by V, so that a matrix multiplication between U and V yields a 6x2 array.\n",
    "\n",
    "See this [post](https://towardsdatascience.com/step-by-step-understanding-lstm-autoencoder-layers-ffab055b6352) for nice diagrams of LSTM autoencoder layers."
   ]
  },
  {
   "cell_type": "markdown",
   "id": "baeef90a",
   "metadata": {},
   "source": [
    "We use the rectified linear function \"relu\" as activation function for the LSTM layers. This helps the network to learn a compact representation of the input (with one or more true zero values). See this [post](https://machinelearningmastery.com/rectified-linear-activation-function-for-deep-learning-neural-networks/) for more details."
   ]
  },
  {
   "cell_type": "code",
   "execution_count": 6,
   "id": "459177a5",
   "metadata": {},
   "outputs": [],
   "source": [
    "model = Sequential()\n",
    "model.add(LSTM(128, activation='relu', input_shape=(timesteps, features), return_sequences=True))\n",
    "model.add(LSTM(64, activation='relu', return_sequences=False))\n",
    "model.add(RepeatVector(timesteps))\n",
    "model.add(LSTM(64, activation='relu', return_sequences=True))\n",
    "model.add(LSTM(128, activation='relu', return_sequences=True))\n",
    "model.add(TimeDistributed(Dense(features)))"
   ]
  },
  {
   "cell_type": "markdown",
   "id": "fd0ccbff",
   "metadata": {},
   "source": [
    "We give a summary of the model using the [summary](https://keras.io/api/models/model/#summary-method) method of the model class of Keras. The \"None\" value stands for the (not yet defined) value of the batch size."
   ]
  },
  {
   "cell_type": "code",
   "execution_count": 7,
   "id": "1c09142d",
   "metadata": {},
   "outputs": [
    {
     "name": "stdout",
     "output_type": "stream",
     "text": [
      "Model: \"sequential\"\n",
      "_________________________________________________________________\n",
      " Layer (type)                Output Shape              Param #   \n",
      "=================================================================\n",
      " lstm (LSTM)                 (None, 6, 128)            67072     \n",
      "                                                                 \n",
      " lstm_1 (LSTM)               (None, 64)                49408     \n",
      "                                                                 \n",
      " repeat_vector (RepeatVector  (None, 6, 64)            0         \n",
      " )                                                               \n",
      "                                                                 \n",
      " lstm_2 (LSTM)               (None, 6, 64)             33024     \n",
      "                                                                 \n",
      " lstm_3 (LSTM)               (None, 6, 128)            98816     \n",
      "                                                                 \n",
      " time_distributed (TimeDistr  (None, 6, 2)             258       \n",
      " ibuted)                                                         \n",
      "                                                                 \n",
      "=================================================================\n",
      "Total params: 248,578\n",
      "Trainable params: 248,578\n",
      "Non-trainable params: 0\n",
      "_________________________________________________________________\n"
     ]
    }
   ],
   "source": [
    "model.summary()"
   ]
  },
  {
   "cell_type": "markdown",
   "id": "79571f9f",
   "metadata": {},
   "source": [
    "We import the [plot_model](https://keras.io/api/utils/model_plotting_utils/) function from the [keras.utils.vis_utils](https://faroit.com/keras-docs/2.0.8/visualization/) module to plot a schema of the model."
   ]
  },
  {
   "cell_type": "code",
   "execution_count": 8,
   "id": "8a1fc883",
   "metadata": {},
   "outputs": [
    {
     "data": {
      "image/png": "[encoded data removed]",
      "text/plain": [
       "<IPython.core.display.Image object>"
      ]
     },
     "execution_count": 8,
     "metadata": {},
     "output_type": "execute_result"
    }
   ],
   "source": [
    "from keras.utils.vis_utils import plot_model\n",
    "\n",
    "plot_model(model, show_shapes=True)"
   ]
  },
  {
   "cell_type": "markdown",
   "id": "0045bc1e",
   "metadata": {},
   "source": [
    "We configure (compile) the model for training with the following parameters:\n",
    "\n",
    "- [adam](https://keras.io/api/optimizers/adam) as optimizer to use during training process (a combination of gradient descent with momentum and RMSP)\n",
    "- [mean square error](https://keras.io/api/losses/regression_losses/#meansquarederror-class) (mse) between labels and predictions as quantity to minimise during training process\n",
    "- [root mean absolute error](https://keras.io/api/metrics/regression_metrics/#rootmeansquarederror-class) between labels and predictions as metric to display during training process"
   ]
  },
  {
   "cell_type": "code",
   "execution_count": 9,
   "id": "72baac96",
   "metadata": {},
   "outputs": [],
   "source": [
    "model.compile(optimizer='adam', loss='mse', metrics='RootMeanSquaredError')"
   ]
  },
  {
   "cell_type": "markdown",
   "id": "6d9af3c1",
   "metadata": {},
   "source": [
    "We [train the model](https://keras.io/api/models/model_training_apis/#fit-method) with a given input array, output array, batch size and number of epochs. The objective of training is to make the output array as close as possible to the input array.\n",
    "\n",
    "An epoch is a pass of the neural network over the entire training set and the batch size is the number of samples that are passed to the network at once (the default batch size in Keras is 32). For each epoch, we thus have\n",
    "\n",
    "$$\n",
    "\\hbox{number of training steps} = \\frac{\\hbox{length of training set}}{\\hbox{batch size}}\\;\\!.\n",
    "$$"
   ]
  },
  {
   "cell_type": "code",
   "execution_count": 10,
   "id": "f5a7c869",
   "metadata": {},
   "outputs": [],
   "source": [
    "batch_size = 2\n",
    "epochs = 1000\n",
    "history = model.fit(input_arr, input_arr, batch_size=batch_size, epochs=epochs, verbose=0)"
   ]
  },
  {
   "cell_type": "code",
   "execution_count": 11,
   "id": "23310838",
   "metadata": {},
   "outputs": [
    {
     "data": {
      "image/png": "[encoded data removed]",
      "text/plain": [
       "<Figure size 756x432 with 1 Axes>"
      ]
     },
     "metadata": {
      "needs_background": "light"
     },
     "output_type": "display_data"
    }
   ],
   "source": [
    "# Plot of the training loss vs. number of epoch\n",
    "\n",
    "_, p = plt.subplots(figsize=(10.5,6))\n",
    "p.plot(history.history['loss'], color='darkblue', linestyle='dotted', marker='.', label='Training loss (mean square error)')\n",
    "\n",
    "# Parameters of the plot\n",
    "\n",
    "p.set_xlabel('Epoch', size='large')\n",
    "p.legend(fontsize='large');"
   ]
  },
  {
   "cell_type": "code",
   "execution_count": 12,
   "id": "927319ff",
   "metadata": {},
   "outputs": [
    {
     "name": "stdout",
     "output_type": "stream",
     "text": [
      "\u001b[1moutput_arr:\u001b[0m\n",
      " [[[ 1.    1.99]\n",
      "  [ 2.    2.99]\n",
      "  [ 3.    4.99]\n",
      "  [ 4.    6.99]\n",
      "  [ 5.   10.99]\n",
      "  [ 6.   12.99]]\n",
      "\n",
      " [[ 2.    3.03]\n",
      "  [ 3.    5.  ]\n",
      "  [ 4.01  7.  ]\n",
      "  [ 4.99 11.  ]\n",
      "  [ 5.99 13.01]\n",
      "  [ 7.01 16.98]]\n",
      "\n",
      " [[ 2.99  4.96]\n",
      "  [ 3.99  6.99]\n",
      "  [ 5.   10.99]\n",
      "  [ 6.02 12.98]\n",
      "  [ 7.02 16.99]\n",
      "  [ 7.99 19.  ]]\n",
      "\n",
      " [[ 4.01  7.02]\n",
      "  [ 5.01 11.  ]\n",
      "  [ 6.   13.01]\n",
      "  [ 6.99 17.  ]\n",
      "  [ 8.01 18.98]\n",
      "  [ 9.01 23.  ]]\n",
      "\n",
      " [[ 4.99 11.  ]\n",
      "  [ 6.   12.99]\n",
      "  [ 7.01 17.  ]\n",
      "  [ 8.02 18.99]\n",
      "  [ 8.99 23.02]\n",
      "  [10.   29.01]]] \n",
      "\n",
      "\u001b[1minput_arr:\u001b[0m\n",
      " [[[ 1  2]\n",
      "  [ 2  3]\n",
      "  [ 3  5]\n",
      "  [ 4  7]\n",
      "  [ 5 11]\n",
      "  [ 6 13]]\n",
      "\n",
      " [[ 2  3]\n",
      "  [ 3  5]\n",
      "  [ 4  7]\n",
      "  [ 5 11]\n",
      "  [ 6 13]\n",
      "  [ 7 17]]\n",
      "\n",
      " [[ 3  5]\n",
      "  [ 4  7]\n",
      "  [ 5 11]\n",
      "  [ 6 13]\n",
      "  [ 7 17]\n",
      "  [ 8 19]]\n",
      "\n",
      " [[ 4  7]\n",
      "  [ 5 11]\n",
      "  [ 6 13]\n",
      "  [ 7 17]\n",
      "  [ 8 19]\n",
      "  [ 9 23]]\n",
      "\n",
      " [[ 5 11]\n",
      "  [ 6 13]\n",
      "  [ 7 17]\n",
      "  [ 8 19]\n",
      "  [ 9 23]\n",
      "  [10 29]]]\n"
     ]
    }
   ],
   "source": [
    "# Storing in numpy array \"output_arr\" the reconstructed version of \"output_arr\" and printing it\n",
    "\n",
    "output_arr = model.predict(input_arr)\n",
    "\n",
    "print('\\033[1m' + 'output_arr:' + '\\033[0m' + '\\n', np.round(output_arr, 2), '\\n')\n",
    "print('\\033[1m' + 'input_arr:' + '\\033[0m' + '\\n', input_arr)"
   ]
  }
 ],
 "metadata": {
  "kernelspec": {
   "display_name": "Python 3 (ipykernel)",
   "language": "python",
   "name": "python3"
  },
  "language_info": {
   "codemirror_mode": {
    "name": "ipython",
    "version": 3
   },
   "file_extension": ".py",
   "mimetype": "text/x-python",
   "name": "python",
   "nbconvert_exporter": "python",
   "pygments_lexer": "ipython3",
   "version": "3.10.2"
  }
 },
 "nbformat": 4,
 "nbformat_minor": 5
}
