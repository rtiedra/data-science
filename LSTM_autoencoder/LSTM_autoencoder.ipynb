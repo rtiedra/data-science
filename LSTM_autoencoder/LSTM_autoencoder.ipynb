{
 "cells": [
  {
   "cell_type": "markdown",
   "metadata": {
    "slideshow": {
     "slide_type": "skip"
    }
   },
   "source": [
    "A toy model of LSTM autoencoder, licensed under the [Apache License, Version 2.0](http://www.apache.org/licenses/LICENSE-2.0)"
   ]
  },
  {
   "cell_type": "markdown",
   "metadata": {},
   "source": [
    "# Table of contents\n",
    "* [Main libraries](#libraries)\n",
    "* [Data preparation](#data)\n",
    "* [LSTM autoencoder model](#LSTM)"
   ]
  },
  {
   "cell_type": "markdown",
   "metadata": {
    "slideshow": {
     "slide_type": "slide"
    }
   },
   "source": [
    "<a id='libraries'></a>\n",
    "# Main libraries\n",
    "We start by importing the main libraires we shall use:\n",
    "\n",
    "- the [numpy](https://numpy.org/) library (for arrays operations)\n",
    "- the [seaborn](https://seaborn.pydata.org/) library (for statistical data visualization)\n",
    "- the [matplotlib.pyplot](https://matplotlib.org/stable/api/_as_gen/matplotlib.pyplot.html) interface (for MATLAB-like plots)"
   ]
  },
  {
   "cell_type": "code",
   "execution_count": 1,
   "metadata": {
    "slideshow": {
     "slide_type": "skip"
    },
    "tags": []
   },
   "outputs": [],
   "source": [
    "import numpy as np\n",
    "import seaborn as sns\n",
    "import matplotlib.pyplot as plt\n",
    "\n",
    "# Setting as large the xtick and ytick font sizes in graphs\n",
    "\n",
    "plt.rcParams['xtick.labelsize'] = 'large'\n",
    "plt.rcParams['ytick.labelsize'] = 'large'"
   ]
  },
  {
   "cell_type": "markdown",
   "metadata": {},
   "source": [
    "<a id='data'></a>\n",
    "# Data preparation"
   ]
  },
  {
   "cell_type": "code",
   "execution_count": 2,
   "metadata": {
    "slideshow": {
     "slide_type": "slide"
    },
    "tags": []
   },
   "outputs": [
    {
     "name": "stdout",
     "output_type": "stream",
     "text": [
      "\u001b[1mseries.shape:\u001b[0m (10, 2) \n",
      "\n",
      "\u001b[1mseries:\u001b[0m\n",
      " [[ 1  2]\n",
      " [ 2  3]\n",
      " [ 3  5]\n",
      " [ 4  7]\n",
      " [ 5 11]\n",
      " [ 6 13]\n",
      " [ 7 17]\n",
      " [ 8 19]\n",
      " [ 9 23]\n",
      " [10 29]]\n"
     ]
    }
   ],
   "source": [
    "# Defining a time series to play with (first 10 integers as time index and first 10 prime numbers as values)\n",
    "# Setting as \"features\" the number of features of the time series (= 2 in this case)\n",
    "\n",
    "series = np.array([[1, 2, 3, 4, 5, 6, 7, 8, 9, 10], [2, 3, 5, 7, 11, 13, 17, 19, 23, 29]]).transpose()\n",
    "features = series.shape[1]\n",
    "\n",
    "print('\\033[1m' + 'series.shape:' + '\\033[0m', series.shape, '\\n')\n",
    "print('\\033[1m' + 'series:' + '\\033[0m' + '\\n', series)"
   ]
  },
  {
   "cell_type": "markdown",
   "metadata": {
    "slideshow": {
     "slide_type": "slide"
    }
   },
   "source": [
    "We define a function \"create_3D_array\" which, given the time series \"series\" and the number of time steps \"timesteps\", creates a 3D numpy array \"arr\" suited as input for the neural network. The array \"arr\" has format:\n",
    "\n",
    "$$\n",
    "\\hbox{(number of samples)} \\times \\hbox{(number of time steps)} \\times \\hbox{(number of features).}\n",
    "$$"
   ]
  },
  {
   "cell_type": "code",
   "execution_count": 3,
   "metadata": {
    "tags": []
   },
   "outputs": [],
   "source": [
    "def create_3D_array(series, timesteps):\n",
    "    arr = []\n",
    "    for i in range(timesteps, series.shape[0]+1):\n",
    "        arr.append(series[i-timesteps: i, :])\n",
    "    return np.array(arr)"
   ]
  },
  {
   "cell_type": "code",
   "execution_count": 4,
   "metadata": {
    "tags": []
   },
   "outputs": [
    {
     "name": "stdout",
     "output_type": "stream",
     "text": [
      "\u001b[1minput_arr.shape:\u001b[0m (5, 6, 2) \n",
      "\n",
      "\u001b[1minput_arr:\u001b[0m\n",
      " [[[ 1  2]\n",
      "  [ 2  3]\n",
      "  [ 3  5]\n",
      "  [ 4  7]\n",
      "  [ 5 11]\n",
      "  [ 6 13]]\n",
      "\n",
      " [[ 2  3]\n",
      "  [ 3  5]\n",
      "  [ 4  7]\n",
      "  [ 5 11]\n",
      "  [ 6 13]\n",
      "  [ 7 17]]\n",
      "\n",
      " [[ 3  5]\n",
      "  [ 4  7]\n",
      "  [ 5 11]\n",
      "  [ 6 13]\n",
      "  [ 7 17]\n",
      "  [ 8 19]]\n",
      "\n",
      " [[ 4  7]\n",
      "  [ 5 11]\n",
      "  [ 6 13]\n",
      "  [ 7 17]\n",
      "  [ 8 19]\n",
      "  [ 9 23]]\n",
      "\n",
      " [[ 5 11]\n",
      "  [ 6 13]\n",
      "  [ 7 17]\n",
      "  [ 8 19]\n",
      "  [ 9 23]\n",
      "  [10 29]]]\n"
     ]
    }
   ],
   "source": [
    "# Creating a 3D input array \"input_arr\" using the function \"create_3D_array\"\n",
    "\n",
    "timesteps = 6\n",
    "input_arr = create_3D_array(series, timesteps)\n",
    "\n",
    "print('\\033[1m' + 'input_arr.shape:' + '\\033[0m', input_arr.shape, '\\n')\n",
    "print('\\033[1m' + 'input_arr:' + '\\033[0m' + '\\n', input_arr)"
   ]
  },
  {
   "cell_type": "markdown",
   "metadata": {},
   "source": [
    "<a id='LSTM'></a>\n",
    "# LSTM autoencoder model\n",
    "First, we import the necessary classes from Keras:\n",
    "- the [Sequential](https://keras.io/api/models/sequential/) class from the keras.models API (to group a linear stack of layers into a model)\n",
    "- the [LSTM](https://keras.io/api/layers/recurrent_layers/lstm/) class from the keras.layers API (to apply a long short-term memory layer to an input)\n",
    "- the [RepeatVector](https://keras.io/api/layers/reshaping_layers/repeat_vector/) class from the keras.layers API (to repeats an input various times)\n",
    "- the [TimeDistributed](https://keras.io/api/layers/recurrent_layers/time_distributed/) class from the keras.layers API (to apply a layer to every temporal slice of an input)\n",
    "- the [Dense](https://keras.io/api/layers/core_layers/dense/) class from the keras.layers API (to apply a regular densely-connected NN layer to an input)"
   ]
  },
  {
   "cell_type": "code",
   "execution_count": 5,
   "metadata": {
    "tags": []
   },
   "outputs": [],
   "source": [
    "from keras.models import Sequential\n",
    "from keras.layers import LSTM, Dense, RepeatVector, TimeDistributed"
   ]
  },
  {
   "cell_type": "markdown",
   "metadata": {},
   "source": [
    "We define a LSTM autoencoder model which takes as input the 3D array containing the samples of the time series (format 5x6x2) and returns as output the encoded-and-decoded 3D array (format 5x6x2 again).\n",
    "\n",
    "- Each sample of the input data has 6 timesteps and 2 features.\n",
    "- Layer 1, LSTM(128), reads the input data and outputs a 2D array of size 6x128 (6 timesteps x 128 features due to option return_sequences=True).\n",
    "- Layer 2, LSTM(64), reads the 6x128 output from layer 1 and reduces the feature size to 64. Since return_sequences=False, it outputs a feature vector of size 1x64, namely, the encoded feature vector of the input data.\n",
    "- Layer 3, RepeatVector(timesteps), replicates the feature vector 6 (= timesteps) times. The RepeatVector layer acts as a bridge between the encoder and decoder modules. It prepares the 2D array input for the first LSTM layer of the decoder. The decoder module is designed to unfold the encoding, and thus has layers stacked in the reverse order of the encoder.\n",
    "- Layers 4 and 5, LSTM (64) and LSTM (128), are the mirror images of layers 2 and 1, respectively.\n",
    "- Layer 6, TimeDistributed(Dense(features)), creates a vector of length equal to the number of features outputted by the previous layer. Since layer 5 outputs 128 features, the TimeDistributed layer creates a vector of size 128x1 and replicates it 2 (= features) times. The output of layer 5 is a 6x128 array that we denote by U and that of layer 6 is a 128x2 array that we denote by V, so that a matrix multiplication between U and V yields a 6x2 array.\n",
    "\n",
    "See this [post](https://towardsdatascience.com/step-by-step-understanding-lstm-autoencoder-layers-ffab055b6352) for enlightening diagrams of LSTM autoencoder layers."
   ]
  },
  {
   "cell_type": "markdown",
   "metadata": {},
   "source": [
    "We use the rectified linear function \"relu\" as activation function for the LSTM layers. This helps the network learn a compact representation of the input (with one or more true zero values). See this [post](https://machinelearningmastery.com/rectified-linear-activation-function-for-deep-learning-neural-networks/) for more details on this point."
   ]
  },
  {
   "cell_type": "code",
   "execution_count": 6,
   "metadata": {
    "tags": []
   },
   "outputs": [],
   "source": [
    "model = Sequential()\n",
    "model.add(LSTM(128, activation='relu', input_shape=(timesteps, features), return_sequences=True))\n",
    "model.add(LSTM(64, activation='relu', return_sequences=False))\n",
    "model.add(RepeatVector(timesteps))\n",
    "model.add(LSTM(64, activation='relu', return_sequences=True))\n",
    "model.add(LSTM(128, activation='relu', return_sequences=True))\n",
    "model.add(TimeDistributed(Dense(features)))"
   ]
  },
  {
   "cell_type": "markdown",
   "metadata": {},
   "source": [
    "We give a summary of the model using the [summary](https://keras.io/api/models/model/#summary-method) method of the model class of Keras. The \"None\" value stands for the (not yet defined) value of the batch size."
   ]
  },
  {
   "cell_type": "code",
   "execution_count": 7,
   "metadata": {
    "tags": []
   },
   "outputs": [
    {
     "name": "stdout",
     "output_type": "stream",
     "text": [
      "Model: \"sequential\"\n",
      "_________________________________________________________________\n",
      " Layer (type)                Output Shape              Param #   \n",
      "=================================================================\n",
      " lstm (LSTM)                 (None, 6, 128)            67072     \n",
      "                                                                 \n",
      " lstm_1 (LSTM)               (None, 64)                49408     \n",
      "                                                                 \n",
      " repeat_vector (RepeatVecto  (None, 6, 64)             0         \n",
      " r)                                                              \n",
      "                                                                 \n",
      " lstm_2 (LSTM)               (None, 6, 64)             33024     \n",
      "                                                                 \n",
      " lstm_3 (LSTM)               (None, 6, 128)            98816     \n",
      "                                                                 \n",
      " time_distributed (TimeDist  (None, 6, 2)              258       \n",
      " ributed)                                                        \n",
      "                                                                 \n",
      "=================================================================\n",
      "Total params: 248578 (971.01 KB)\n",
      "Trainable params: 248578 (971.01 KB)\n",
      "Non-trainable params: 0 (0.00 Byte)\n",
      "_________________________________________________________________\n"
     ]
    }
   ],
   "source": [
    "model.summary()"
   ]
  },
  {
   "cell_type": "markdown",
   "metadata": {},
   "source": [
    "We import the [plot_model](https://keras.io/api/utils/model_plotting_utils/) function from the [keras.utils.vis_utils](https://faroit.com/keras-docs/2.0.8/visualization/) module to plot a schema of the model."
   ]
  },
  {
   "cell_type": "code",
   "execution_count": 8,
   "metadata": {
    "tags": []
   },
   "outputs": [
    {
     "data": {
      "image/png": "[encoded data removed]",
      "text/plain": [
       "<IPython.core.display.Image object>"
      ]
     },
     "execution_count": 8,
     "metadata": {},
     "output_type": "execute_result"
    }
   ],
   "source": [
    "from tensorflow.keras.utils import plot_model\n",
    "\n",
    "plot_model(model, show_shapes=True)"
   ]
  },
  {
   "cell_type": "markdown",
   "metadata": {},
   "source": [
    "We [compile](https://keras.io/api/models/model_training_apis/#compile-method) the model for training with the following parameters:\n",
    "\n",
    "- [adamw](https://keras.io/api/optimizers/adamw) as optimizer to use during training process (a combination of gradient descent with momentum and RMSP)\n",
    "- [mean square error](https://keras.io/api/losses/regression_losses/#meansquarederror-class) (mse) between labels and predictions as quantity to minimise during training process\n",
    "- [root mean absolute error](https://keras.io/api/metrics/regression_metrics/#rootmeansquarederror-class) between labels and predictions as metric to display during training process"
   ]
  },
  {
   "cell_type": "code",
   "execution_count": 9,
   "metadata": {
    "tags": []
   },
   "outputs": [],
   "source": [
    "from tensorflow.keras.optimizers import AdamW\n",
    "\n",
    "model.compile(optimizer=AdamW(), loss='mse', metrics='RootMeanSquaredError')"
   ]
  },
  {
   "cell_type": "markdown",
   "metadata": {},
   "source": [
    "We [train the model](https://keras.io/api/models/model_training_apis/#fit-method) with input array \"input_arr\", identical output array \"input_arr\", batch size and number of epochs. The objective of training is to produce an output array as close as possible to the input array. An epoch is a pass of the neural network over the entire training set and the batch size is the number of samples that are passed to the network at once (the default batch size in Keras is 32). For each epoch, we thus have\n",
    "\n",
    "$$\n",
    "\\hbox{number of training steps} = \\frac{\\hbox{length of training set}}{\\hbox{batch size}}\\;\\!.\n",
    "$$"
   ]
  },
  {
   "cell_type": "code",
   "execution_count": 10,
   "metadata": {
    "tags": []
   },
   "outputs": [],
   "source": [
    "batch_size = 2\n",
    "epochs = 700\n",
    "history = model.fit(input_arr, input_arr, batch_size=batch_size, epochs=epochs, verbose=0)"
   ]
  },
  {
   "cell_type": "code",
   "execution_count": 11,
   "metadata": {
    "tags": []
   },
   "outputs": [
    {
     "data": {
      "image/png": "[encoded data removed]",
      "text/plain": [
       "<Figure size 1050x600 with 1 Axes>"
      ]
     },
     "metadata": {},
     "output_type": "display_data"
    }
   ],
   "source": [
    "# Plot of the training loss vs. number of epoch\n",
    "\n",
    "with sns.axes_style(\"darkgrid\"):\n",
    "\n",
    "    _, p = plt.subplots(figsize=(10.5,6))\n",
    "    p.plot(history.history['loss'], color='darkblue', linestyle='dotted', marker='.', label='Training loss (mean square error)')\n",
    "    p.set_xlabel('Epoch', size='large')\n",
    "    p.legend(fontsize='large', facecolor='palegreen')\n",
    "    p.grid(True)"
   ]
  },
  {
   "cell_type": "code",
   "execution_count": 12,
   "metadata": {
    "tags": []
   },
   "outputs": [
    {
     "name": "stdout",
     "output_type": "stream",
     "text": [
      "1/1 [==============================] - 2s 2s/step\n",
      "\u001b[1moutput_arr:\u001b[0m\n",
      " [[[ 1.01  2.  ]\n",
      "  [ 2.01  3.01]\n",
      "  [ 3.02  5.01]\n",
      "  [ 3.99  7.03]\n",
      "  [ 5.03 11.02]\n",
      "  [ 6.02 13.03]]\n",
      "\n",
      " [[ 1.95  3.1 ]\n",
      "  [ 3.03  4.99]\n",
      "  [ 4.01  7.02]\n",
      "  [ 5.01 11.02]\n",
      "  [ 5.99 13.01]\n",
      "  [ 7.   16.99]]\n",
      "\n",
      " [[ 3.07  4.91]\n",
      "  [ 4.02  7.02]\n",
      "  [ 5.01 11.02]\n",
      "  [ 6.02 13.05]\n",
      "  [ 7.   17.  ]\n",
      "  [ 8.07 19.04]]\n",
      "\n",
      " [[ 4.02  7.1 ]\n",
      "  [ 5.02 11.05]\n",
      "  [ 6.02 13.04]\n",
      "  [ 7.03 17.03]\n",
      "  [ 8.03 19.02]\n",
      "  [ 9.02 23.16]]\n",
      "\n",
      " [[ 5.04 11.09]\n",
      "  [ 6.02 13.03]\n",
      "  [ 7.04 17.09]\n",
      "  [ 8.02 19.1 ]\n",
      "  [ 9.04 23.18]\n",
      "  [10.08 29.18]]] \n",
      "\n",
      "\u001b[1minput_arr:\u001b[0m\n",
      " [[[ 1  2]\n",
      "  [ 2  3]\n",
      "  [ 3  5]\n",
      "  [ 4  7]\n",
      "  [ 5 11]\n",
      "  [ 6 13]]\n",
      "\n",
      " [[ 2  3]\n",
      "  [ 3  5]\n",
      "  [ 4  7]\n",
      "  [ 5 11]\n",
      "  [ 6 13]\n",
      "  [ 7 17]]\n",
      "\n",
      " [[ 3  5]\n",
      "  [ 4  7]\n",
      "  [ 5 11]\n",
      "  [ 6 13]\n",
      "  [ 7 17]\n",
      "  [ 8 19]]\n",
      "\n",
      " [[ 4  7]\n",
      "  [ 5 11]\n",
      "  [ 6 13]\n",
      "  [ 7 17]\n",
      "  [ 8 19]\n",
      "  [ 9 23]]\n",
      "\n",
      " [[ 5 11]\n",
      "  [ 6 13]\n",
      "  [ 7 17]\n",
      "  [ 8 19]\n",
      "  [ 9 23]\n",
      "  [10 29]]]\n"
     ]
    }
   ],
   "source": [
    "# Storing in numpy array \"output_arr\" the reconstructed version of \"input_arr\" and printing it\n",
    "\n",
    "output_arr = model.predict(input_arr)\n",
    "\n",
    "print('\\033[1m' + 'output_arr:' + '\\033[0m' + '\\n', np.round(output_arr, 2), '\\n')\n",
    "print('\\033[1m' + 'input_arr:' + '\\033[0m' + '\\n', input_arr)"
   ]
  },
  {
   "cell_type": "markdown",
   "metadata": {},
   "source": [
    "**¡¡Thank you for reading!!**"
   ]
  }
 ],
 "metadata": {
  "kernelspec": {
   "display_name": "krnl_venv_autoencoder",
   "language": "python",
   "name": "krnl_venv_autoencoder"
  },
  "language_info": {
   "codemirror_mode": {
    "name": "ipython",
    "version": 3
   },
   "file_extension": ".py",
   "mimetype": "text/x-python",
   "name": "python",
   "nbconvert_exporter": "python",
   "pygments_lexer": "ipython3",
   "version": "3.11.4"
  },
  "toc": {
   "base_numbering": 1,
   "nav_menu": {},
   "number_sections": true,
   "sideBar": true,
   "skip_h1_title": false,
   "title_cell": "Table of Contents",
   "title_sidebar": "Contents",
   "toc_cell": false,
   "toc_position": {
    "height": "calc(100% - 180px)",
    "left": "10px",
    "top": "150px",
    "width": "242.833px"
   },
   "toc_section_display": true,
   "toc_window_display": true
  }
 },
 "nbformat": 4,
 "nbformat_minor": 4
}
