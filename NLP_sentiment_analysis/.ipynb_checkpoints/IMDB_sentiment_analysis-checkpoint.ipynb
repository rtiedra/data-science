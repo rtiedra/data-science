{
 "cells": [
  {
   "cell_type": "markdown",
   "id": "0abe8522",
   "metadata": {},
   "source": [
    "NLP sentiment analysis of IMDB dataset using a LSTM recurrent neural network, licensed under the [Apache License, Version 2.0](http://www.apache.org/licenses/LICENSE-2.0)"
   ]
  },
  {
   "cell_type": "markdown",
   "id": "33bcf6c5",
   "metadata": {},
   "source": [
    "# Main libraries\n",
    "We start by importing the main libraires we shall use:\n",
    "\n",
    "- the [re](https://docs.python.org/3/library/re.html) module (for regular expression matching operations)\n",
    "- the [nltk](https://www.nltk.org/) toolkit (for natural language operations)\n",
    "- the [numpy](https://numpy.org/) library (for arrays operations)\n",
    "- the [pandas](https://pandas.pydata.org/) library (for data analysis)\n",
    "- the [scipy.stats](https://docs.scipy.org/doc/scipy/reference/stats.html) module (for statistics)\n",
    "- the [matplotlib.pyplot](https://matplotlib.org/stable/api/_as_gen/matplotlib.pyplot.html) interface (for MATLAB-like plots)\n",
    "\n",
    "We also download (if not already done) the \"stopwords\" and \"punkt\" data packages from the nltk toolkit."
   ]
  },
  {
   "cell_type": "code",
   "execution_count": 2,
   "id": "4df00e15",
   "metadata": {},
   "outputs": [],
   "source": [
    "import re\n",
    "import nltk\n",
    "import numpy as np\n",
    "import pandas as pd\n",
    "from scipy import stats\n",
    "import matplotlib.pyplot as plt\n",
    "\n",
    "# nltk.download('punkt')\n",
    "# nltk.download('stopwords')"
   ]
  },
  {
   "cell_type": "markdown",
   "id": "a1c99aae",
   "metadata": {},
   "source": [
    "# Loading IMDB data\n",
    "We retrieve from [Kaggle](https://www.kaggle.com/datasets/lakshmi25npathi/imdb-dataset-of-50k-movie-reviews?resource=download) the csv file \"IMDB Dataset.csv\" consisting of 50'000 IMDB movies and TV shows reviews with their corresponding positive or negative sentiment classification."
   ]
  },
  {
   "cell_type": "code",
   "execution_count": 3,
   "id": "fedcca08",
   "metadata": {},
   "outputs": [
    {
     "data": {
      "text/html": [
       "<div>\n",
       "<style scoped>\n",
       "    .dataframe tbody tr th:only-of-type {\n",
       "        vertical-align: middle;\n",
       "    }\n",
       "\n",
       "    .dataframe tbody tr th {\n",
       "        vertical-align: top;\n",
       "    }\n",
       "\n",
       "    .dataframe thead th {\n",
       "        text-align: right;\n",
       "    }\n",
       "</style>\n",
       "<table border=\"1\" class=\"dataframe\">\n",
       "  <thead>\n",
       "    <tr style=\"text-align: right;\">\n",
       "      <th></th>\n",
       "      <th>review</th>\n",
       "      <th>sentiment</th>\n",
       "    </tr>\n",
       "  </thead>\n",
       "  <tbody>\n",
       "    <tr>\n",
       "      <th>0</th>\n",
       "      <td>One of the other reviewers has mentioned that ...</td>\n",
       "      <td>positive</td>\n",
       "    </tr>\n",
       "    <tr>\n",
       "      <th>1</th>\n",
       "      <td>A wonderful little production. &lt;br /&gt;&lt;br /&gt;The...</td>\n",
       "      <td>positive</td>\n",
       "    </tr>\n",
       "    <tr>\n",
       "      <th>2</th>\n",
       "      <td>I thought this was a wonderful way to spend ti...</td>\n",
       "      <td>positive</td>\n",
       "    </tr>\n",
       "    <tr>\n",
       "      <th>3</th>\n",
       "      <td>Basically there's a family where a little boy ...</td>\n",
       "      <td>negative</td>\n",
       "    </tr>\n",
       "    <tr>\n",
       "      <th>4</th>\n",
       "      <td>Petter Mattei's \"Love in the Time of Money\" is...</td>\n",
       "      <td>positive</td>\n",
       "    </tr>\n",
       "    <tr>\n",
       "      <th>...</th>\n",
       "      <td>...</td>\n",
       "      <td>...</td>\n",
       "    </tr>\n",
       "    <tr>\n",
       "      <th>49995</th>\n",
       "      <td>I thought this movie did a down right good job...</td>\n",
       "      <td>positive</td>\n",
       "    </tr>\n",
       "    <tr>\n",
       "      <th>49996</th>\n",
       "      <td>Bad plot, bad dialogue, bad acting, idiotic di...</td>\n",
       "      <td>negative</td>\n",
       "    </tr>\n",
       "    <tr>\n",
       "      <th>49997</th>\n",
       "      <td>I am a Catholic taught in parochial elementary...</td>\n",
       "      <td>negative</td>\n",
       "    </tr>\n",
       "    <tr>\n",
       "      <th>49998</th>\n",
       "      <td>I'm going to have to disagree with the previou...</td>\n",
       "      <td>negative</td>\n",
       "    </tr>\n",
       "    <tr>\n",
       "      <th>49999</th>\n",
       "      <td>No one expects the Star Trek movies to be high...</td>\n",
       "      <td>negative</td>\n",
       "    </tr>\n",
       "  </tbody>\n",
       "</table>\n",
       "<p>50000 rows × 2 columns</p>\n",
       "</div>"
      ],
      "text/plain": [
       "                                                  review sentiment\n",
       "0      One of the other reviewers has mentioned that ...  positive\n",
       "1      A wonderful little production. <br /><br />The...  positive\n",
       "2      I thought this was a wonderful way to spend ti...  positive\n",
       "3      Basically there's a family where a little boy ...  negative\n",
       "4      Petter Mattei's \"Love in the Time of Money\" is...  positive\n",
       "...                                                  ...       ...\n",
       "49995  I thought this movie did a down right good job...  positive\n",
       "49996  Bad plot, bad dialogue, bad acting, idiotic di...  negative\n",
       "49997  I am a Catholic taught in parochial elementary...  negative\n",
       "49998  I'm going to have to disagree with the previou...  negative\n",
       "49999  No one expects the Star Trek movies to be high...  negative\n",
       "\n",
       "[50000 rows x 2 columns]"
      ]
     },
     "execution_count": 3,
     "metadata": {},
     "output_type": "execute_result"
    }
   ],
   "source": [
    "# Storing the csv file into a DataFrame \"df\"\n",
    "\n",
    "df = pd.read_csv('IMDB Dataset.csv')\n",
    "df"
   ]
  },
  {
   "cell_type": "code",
   "execution_count": 4,
   "id": "ada1e996",
   "metadata": {},
   "outputs": [
    {
     "name": "stdout",
     "output_type": "stream",
     "text": [
      "\u001b[1mdf.columns:\u001b[0m\n",
      " Index(['review', 'sentiment'], dtype='object') \n",
      "\n",
      "\u001b[1mdf.shape:\u001b[0m\n",
      " (50000, 2) \n",
      "\n",
      "\u001b[1mdf.info():\u001b[0m\n",
      "<class 'pandas.core.frame.DataFrame'>\n",
      "RangeIndex: 50000 entries, 0 to 49999\n",
      "Data columns (total 2 columns):\n",
      " #   Column     Non-Null Count  Dtype \n",
      "---  ------     --------------  ----- \n",
      " 0   review     50000 non-null  object\n",
      " 1   sentiment  50000 non-null  object\n",
      "dtypes: object(2)\n",
      "memory usage: 781.4+ KB\n"
     ]
    }
   ],
   "source": [
    "# Printing the basic properties of \"df\" (in particular, there are no null values in \"df\")\n",
    "\n",
    "print('\\033[1m' + 'df.columns:' + '\\033[0m' + '\\n', df.columns, '\\n')\n",
    "print('\\033[1m' + 'df.shape:' + '\\033[0m' + '\\n', df.shape, '\\n')\n",
    "print('\\033[1m' + 'df.info():' + '\\033[0m')\n",
    "df.info()"
   ]
  },
  {
   "cell_type": "code",
   "execution_count": 5,
   "id": "0589d508",
   "metadata": {},
   "outputs": [
    {
     "data": {
      "text/html": [
       "<div>\n",
       "<style scoped>\n",
       "    .dataframe tbody tr th:only-of-type {\n",
       "        vertical-align: middle;\n",
       "    }\n",
       "\n",
       "    .dataframe tbody tr th {\n",
       "        vertical-align: top;\n",
       "    }\n",
       "\n",
       "    .dataframe thead th {\n",
       "        text-align: right;\n",
       "    }\n",
       "</style>\n",
       "<table border=\"1\" class=\"dataframe\">\n",
       "  <thead>\n",
       "    <tr style=\"text-align: right;\">\n",
       "      <th></th>\n",
       "      <th>review</th>\n",
       "      <th>sentiment</th>\n",
       "    </tr>\n",
       "  </thead>\n",
       "  <tbody>\n",
       "    <tr>\n",
       "      <th>count</th>\n",
       "      <td>50000</td>\n",
       "      <td>50000</td>\n",
       "    </tr>\n",
       "    <tr>\n",
       "      <th>unique</th>\n",
       "      <td>49582</td>\n",
       "      <td>2</td>\n",
       "    </tr>\n",
       "    <tr>\n",
       "      <th>top</th>\n",
       "      <td>Loved today's show!!! It was a variety and not...</td>\n",
       "      <td>positive</td>\n",
       "    </tr>\n",
       "    <tr>\n",
       "      <th>freq</th>\n",
       "      <td>5</td>\n",
       "      <td>25000</td>\n",
       "    </tr>\n",
       "  </tbody>\n",
       "</table>\n",
       "</div>"
      ],
      "text/plain": [
       "                                                   review sentiment\n",
       "count                                               50000     50000\n",
       "unique                                              49582         2\n",
       "top     Loved today's show!!! It was a variety and not...  positive\n",
       "freq                                                    5     25000"
      ]
     },
     "execution_count": 5,
     "metadata": {},
     "output_type": "execute_result"
    }
   ],
   "source": [
    "# Printing descriptive statistics of \"df\"\n",
    "\n",
    "df.describe()"
   ]
  },
  {
   "cell_type": "code",
   "execution_count": 6,
   "id": "c3f30dc1",
   "metadata": {},
   "outputs": [
    {
     "data": {
      "image/png": "[encoded data removed]",
      "text/plain": [
       "<Figure size 432x288 with 1 Axes>"
      ]
     },
     "metadata": {
      "needs_background": "light"
     },
     "output_type": "display_data"
    }
   ],
   "source": [
    "# Bar plot of the count of positive and negative reviews (they are equal)\n",
    "\n",
    "df['sentiment'].value_counts().plot.bar(color=['darkblue', 'r'], rot=0, fontsize='large')\n",
    "plt.show()"
   ]
  },
  {
   "cell_type": "code",
   "execution_count": 7,
   "id": "8bcd0848",
   "metadata": {},
   "outputs": [
    {
     "data": {
      "text/html": [
       "<div>\n",
       "<style scoped>\n",
       "    .dataframe tbody tr th:only-of-type {\n",
       "        vertical-align: middle;\n",
       "    }\n",
       "\n",
       "    .dataframe tbody tr th {\n",
       "        vertical-align: top;\n",
       "    }\n",
       "\n",
       "    .dataframe thead th {\n",
       "        text-align: right;\n",
       "    }\n",
       "</style>\n",
       "<table border=\"1\" class=\"dataframe\">\n",
       "  <thead>\n",
       "    <tr style=\"text-align: right;\">\n",
       "      <th></th>\n",
       "      <th>review</th>\n",
       "      <th>sentiment</th>\n",
       "    </tr>\n",
       "  </thead>\n",
       "  <tbody>\n",
       "    <tr>\n",
       "      <th>0</th>\n",
       "      <td>One of the other reviewers has mentioned that ...</td>\n",
       "      <td>1</td>\n",
       "    </tr>\n",
       "    <tr>\n",
       "      <th>1</th>\n",
       "      <td>A wonderful little production. &lt;br /&gt;&lt;br /&gt;The...</td>\n",
       "      <td>1</td>\n",
       "    </tr>\n",
       "    <tr>\n",
       "      <th>2</th>\n",
       "      <td>I thought this was a wonderful way to spend ti...</td>\n",
       "      <td>1</td>\n",
       "    </tr>\n",
       "    <tr>\n",
       "      <th>3</th>\n",
       "      <td>Basically there's a family where a little boy ...</td>\n",
       "      <td>0</td>\n",
       "    </tr>\n",
       "    <tr>\n",
       "      <th>4</th>\n",
       "      <td>Petter Mattei's \"Love in the Time of Money\" is...</td>\n",
       "      <td>1</td>\n",
       "    </tr>\n",
       "    <tr>\n",
       "      <th>...</th>\n",
       "      <td>...</td>\n",
       "      <td>...</td>\n",
       "    </tr>\n",
       "    <tr>\n",
       "      <th>49995</th>\n",
       "      <td>I thought this movie did a down right good job...</td>\n",
       "      <td>1</td>\n",
       "    </tr>\n",
       "    <tr>\n",
       "      <th>49996</th>\n",
       "      <td>Bad plot, bad dialogue, bad acting, idiotic di...</td>\n",
       "      <td>0</td>\n",
       "    </tr>\n",
       "    <tr>\n",
       "      <th>49997</th>\n",
       "      <td>I am a Catholic taught in parochial elementary...</td>\n",
       "      <td>0</td>\n",
       "    </tr>\n",
       "    <tr>\n",
       "      <th>49998</th>\n",
       "      <td>I'm going to have to disagree with the previou...</td>\n",
       "      <td>0</td>\n",
       "    </tr>\n",
       "    <tr>\n",
       "      <th>49999</th>\n",
       "      <td>No one expects the Star Trek movies to be high...</td>\n",
       "      <td>0</td>\n",
       "    </tr>\n",
       "  </tbody>\n",
       "</table>\n",
       "<p>50000 rows × 2 columns</p>\n",
       "</div>"
      ],
      "text/plain": [
       "                                                  review  sentiment\n",
       "0      One of the other reviewers has mentioned that ...          1\n",
       "1      A wonderful little production. <br /><br />The...          1\n",
       "2      I thought this was a wonderful way to spend ti...          1\n",
       "3      Basically there's a family where a little boy ...          0\n",
       "4      Petter Mattei's \"Love in the Time of Money\" is...          1\n",
       "...                                                  ...        ...\n",
       "49995  I thought this movie did a down right good job...          1\n",
       "49996  Bad plot, bad dialogue, bad acting, idiotic di...          0\n",
       "49997  I am a Catholic taught in parochial elementary...          0\n",
       "49998  I'm going to have to disagree with the previou...          0\n",
       "49999  No one expects the Star Trek movies to be high...          0\n",
       "\n",
       "[50000 rows x 2 columns]"
      ]
     },
     "execution_count": 7,
     "metadata": {},
     "output_type": "execute_result"
    }
   ],
   "source": [
    "# Converting the sentiment values to integer values (positive -> 1 and negative -> 0)\n",
    "\n",
    "df.sentiment = [1 if tag == 'positive' else 0 for tag in df.sentiment]\n",
    "df"
   ]
  },
  {
   "cell_type": "markdown",
   "id": "4d06a602",
   "metadata": {},
   "source": [
    "# Data preprocessing\n",
    "First, using regular expressions, we make the following transformations to the reviews:\n",
    "\n",
    "- remove punctuation marks\n",
    "- remove HTML tags\n",
    "- remove URL's\n",
    "- remove characters which are not letters or digits\n",
    "- remove multiple whitespaces\n",
    "- convert to lower case\n",
    "- strip whitespaces from the beginning and the end"
   ]
  },
  {
   "cell_type": "code",
   "execution_count": 8,
   "id": "61ec5181",
   "metadata": {},
   "outputs": [],
   "source": [
    "# Storing in \"before_process\" an example of review before preprocessing\n",
    "# Defining and applying the function \"process\" performing the transformations of the reviews\n",
    "# Storing in \"after_process\" the example of review after preprocessing\n",
    "\n",
    "idx = 2132\n",
    "before_process = df.iloc[idx][0]\n",
    "\n",
    "def process(x):\n",
    "    x = re.sub('[,\\.!?:()\"]', '', x)\n",
    "    x = re.sub('<.*?>', ' ', x)\n",
    "    x = re.sub('http\\S+', ' ', x)\n",
    "    x = re.sub('[^a-zA-Z0-9]', ' ', x)\n",
    "    x = re.sub('\\s+', ' ', x)\n",
    "    return x.lower().strip()\n",
    "\n",
    "df['review'] = df['review'].apply(lambda x: process(x))\n",
    "after_process = df.iloc[idx][0]"
   ]
  },
  {
   "cell_type": "markdown",
   "id": "eb42e9bf",
   "metadata": {},
   "source": [
    "Next, we remove stopwords from the reviews using the [word_tokenize()](https://www.nltk.org/_modules/nltk/tokenize.html#word_tokenize) function from the [nltk.tokenize]((https://www.nltk.org/api/nltk.tokenize.html) package."
   ]
  },
  {
   "cell_type": "code",
   "execution_count": 9,
   "id": "7c8a008d",
   "metadata": {},
   "outputs": [],
   "source": [
    "# Storing in \"stopwords_set\" the set of English stopwords provided by nltk\n",
    "# Defining and applying the function \"stop_w_remove\" which remove stopwords from reviews\n",
    "# Storing in \"after_removal\" the example of review after tokenization\n",
    "\n",
    "stopwords_set = set(nltk.corpus.stopwords.words('english'))\n",
    "\n",
    "def stop_w_remove(x):\n",
    "    words = nltk.tokenize.word_tokenize(x)\n",
    "    filtered_list = [word for word in words if word not in stopwords_set]\n",
    "    return ' '.join(filtered_list)\n",
    "\n",
    "df['review'] = df['review'].apply(lambda x: stop_w_remove(x))\n",
    "after_removal = stop_w_remove(after_process)"
   ]
  },
  {
   "cell_type": "code",
   "execution_count": 10,
   "id": "93f798a3",
   "metadata": {},
   "outputs": [
    {
     "name": "stdout",
     "output_type": "stream",
     "text": [
      "\u001b[1mExample of review before preprocessing:\u001b[0m\n",
      " I, too, found \"Oppenheimer\" to be a brilliant series and one of the finest offerings ever on American PBS. David Suchet was particularly effective as Edward Teller, as I recall, and the overall conception was spectacularly good. The only reason that the series doesn't rate a full 10/10 is for the low-budget production values in some areas. Actual content is absolutely first-rate in my recollection.<br /><br />The Oppenheimer miniseries will be released in the UK on July 31st! It will be a Region 2/PAL set, but it would seem that a Region 1/NTSC set should be soon in the offing.<br /><br />If you have a universal player in the US, you can order the series right now from Amazon UK.<br /><br />http://tinyurl.com/znyyq<br /><br />Huzzah!! \n",
      "\n",
      "\u001b[1mSame review after preprocessing:\u001b[0m\n",
      " i too found oppenheimer to be a brilliant series and one of the finest offerings ever on american pbs david suchet was particularly effective as edward teller as i recall and the overall conception was spectacularly good the only reason that the series doesn t rate a full 10 10 is for the low budget production values in some areas actual content is absolutely first rate in my recollection the oppenheimer miniseries will be released in the uk on july 31st it will be a region 2 pal set but it would seem that a region 1 ntsc set should be soon in the offing if you have a universal player in the us you can order the series right now from amazon uk huzzah \n",
      "\n",
      "\u001b[1mSame review after preprocessing and stopwords removal:\u001b[0m\n",
      " found oppenheimer brilliant series one finest offerings ever american pbs david suchet particularly effective edward teller recall overall conception spectacularly good reason series rate full 10 10 low budget production values areas actual content absolutely first rate recollection oppenheimer miniseries released uk july 31st region 2 pal set would seem region 1 ntsc set soon offing universal player us order series right amazon uk huzzah\n"
     ]
    }
   ],
   "source": [
    "# Printing an example of review before preprocessing, after preprocessing, and after stopwords removal\n",
    "\n",
    "print('\\033[1m' + 'Example of review before preprocessing:' + '\\033[0m' + '\\n', before_process, '\\n')\n",
    "print('\\033[1m' + 'Same review after preprocessing:' + '\\033[0m' + '\\n', after_process, '\\n')\n",
    "print('\\033[1m' + 'Same review after preprocessing and stopwords removal:' + '\\033[0m' + '\\n', after_removal)"
   ]
  },
  {
   "cell_type": "markdown",
   "id": "29df6cd1",
   "metadata": {},
   "source": [
    "# Training and test sets\n",
    "First, we use the [train_test_split()](https://scikit-learn.org/stable/modules/generated/sklearn.model_selection.train_test_split.html) function from the [sklearn.model_selection](https://scikit-learn.org/stable/modules/classes.html#module-sklearn.model_selection) module to split our data into random training and test subsets."
   ]
  },
  {
   "cell_type": "code",
   "execution_count": 11,
   "id": "beb4a6c6",
   "metadata": {
    "scrolled": true
   },
   "outputs": [
    {
     "name": "stdout",
     "output_type": "stream",
     "text": [
      "\u001b[1mtrain_reviews.shape:\u001b[0m (45000,)\n",
      "\u001b[1mtest_reviews.shape:\u001b[0m (5000,)\n",
      "\u001b[1mtrain_sentiments.shape:\u001b[0m (45000,)\n",
      "\u001b[1mtest_sentiments.shape:\u001b[0m (5000,)\n"
     ]
    }
   ],
   "source": [
    "from sklearn.model_selection import train_test_split\n",
    "\n",
    "train_reviews, test_reviews, train_sentiments, test_sentiments = train_test_split(df['review'], df['sentiment'], test_size=0.1, random_state=42)\n",
    "\n",
    "print('\\033[1m' + 'train_reviews.shape:' + '\\033[0m', train_reviews.shape)\n",
    "print('\\033[1m' + 'test_reviews.shape:' + '\\033[0m', test_reviews.shape)\n",
    "print('\\033[1m' + 'train_sentiments.shape:' + '\\033[0m', train_sentiments.shape)\n",
    "print('\\033[1m' + 'test_sentiments.shape:' + '\\033[0m', test_sentiments.shape)"
   ]
  },
  {
   "cell_type": "markdown",
   "id": "a4e7c2f9",
   "metadata": {},
   "source": [
    "Next, we use the [Tokenizer](https://www.tensorflow.org/api_docs/python/tf/keras/preprocessing/text/Tokenizer) class from [keras.preprocessing.text](https://www.tensorflow.org/api_docs/python/tf/keras/preprocessing/text/) module to create a dictionary of the 15'000 most frequent words present in the reviews (a unique integer is assigned to each word), and we print some of its [attributes](https://faroit.com/keras-docs/1.2.2/preprocessing/text/).\n",
    "\n",
    "(the index of the Tokenizer is computed the same way no matter how many most frequent words we use later, see this [post](https://stackoverflow.com/questions/46202519/keras-tokenizer-num-words-doesnt-seem-to-work))"
   ]
  },
  {
   "cell_type": "code",
   "execution_count": 12,
   "id": "017041bb",
   "metadata": {},
   "outputs": [
    {
     "name": "stdout",
     "output_type": "stream",
     "text": [
      "\u001b[1mNumber of documents the tokenizer was trained on:\u001b[0m\n",
      " 50000 \n",
      "\n",
      "\u001b[1mlength of the tokenizer index:\u001b[0m\n",
      " 125791 \n",
      "\n",
      "\u001b[1mFirst 50 entries of the tokenizer index:\u001b[0m\n",
      "('movie', 1) ('film', 2) ('one', 3) ('like', 4) ('good', 5) ('time', 6) ('even', 7) ('would', 8) ('really', 9) ('story', 10) ('see', 11) ('well', 12) ('much', 13) ('get', 14) ('bad', 15) ('people', 16) ('great', 17) ('also', 18) ('first', 19) ('made', 20) ('make', 21) ('way', 22) ('could', 23) ('movies', 24) ('characters', 25) ('think', 26) ('watch', 27) ('character', 28) ('films', 29) ('two', 30) ('many', 31) ('seen', 32) ('never', 33) ('love', 34) ('plot', 35) ('life', 36) ('acting', 37) ('show', 38) ('best', 39) ('know', 40) ('little', 41) ('ever', 42) ('man', 43) ('better', 44) ('end', 45) ('scene', 46) ('still', 47) ('say', 48) ('scenes', 49) ('something', 50)\n"
     ]
    }
   ],
   "source": [
    "from keras.preprocessing.text import Tokenizer\n",
    "\n",
    "tokenizer = Tokenizer(num_words = 15000)\n",
    "tokenizer.fit_on_texts(df['review'])\n",
    "\n",
    "print('\\033[1m' + 'Number of documents the tokenizer was trained on:' + '\\033[0m' + '\\n', tokenizer.document_count, '\\n')\n",
    "print('\\033[1m' + 'length of the tokenizer index:' + '\\033[0m' + '\\n', len(tokenizer.word_index), '\\n')\n",
    "print('\\033[1m' + 'First 50 entries of the tokenizer index:' + '\\033[0m')\n",
    "print(*list(tokenizer.word_index.items())[:50])"
   ]
  },
  {
   "cell_type": "markdown",
   "id": "7e7fd232",
   "metadata": {},
   "source": [
    "We use the [texts_to_sequences()](https://github.com/keras-team/keras/blob/v2.9.0/keras/preprocessing/text.py#L325-L337) of the [Tokenizer](https://www.tensorflow.org/api_docs/python/tf/keras/preprocessing/text/Tokenizer) class to convert the training and test reviews to lists of sequences of integers (tokens) \"train_rev_tokens\" and \"test_rev_tokens\", and we store in the numpy array \"num_tokens\" the lengths of the sequences included in \"train_rev_tokens\" and \"test_rev_tokens\"."
   ]
  },
  {
   "cell_type": "code",
   "execution_count": 13,
   "id": "4fb5299d",
   "metadata": {},
   "outputs": [
    {
     "name": "stdout",
     "output_type": "stream",
     "text": [
      "\u001b[1mnum_tokens:\u001b[0m\n",
      " [ 76 123  58 ...  61  89  81] \n",
      "\n"
     ]
    }
   ],
   "source": [
    "train_rev_tokens = tokenizer.texts_to_sequences(train_reviews)\n",
    "test_rev_tokens = tokenizer.texts_to_sequences(test_reviews)\n",
    "num_tokens =  np.array([len(sequence) for sequence in train_rev_tokens + test_rev_tokens])\n",
    "\n",
    "print('\\033[1m' + 'num_tokens:' + '\\033[0m' + '\\n', num_tokens, '\\n')"
   ]
  },
  {
   "cell_type": "markdown",
   "id": "570cf1af",
   "metadata": {},
   "source": [
    "If the lengths of the sequences were normally distributed, then a given length could be considered small or large when outside the interval\n",
    "\n",
    "$$\n",
    "\\hbox{mean value of num_tokens} \\pm \\hbox{2 standard deviations of num_tokens,}\n",
    "$$\n",
    "\n",
    "and lengths not belonging to this interval would only represent 5% of the elements of num_tokens (see the [68–95–99.7 rule](https://en.wikipedia.org/wiki/68%E2%80%9395%E2%80%9399.7_rule) in statistics). Here, we follow this heuristics, and thus define an upper bound for the length of sequences accordingly."
   ]
  },
  {
   "cell_type": "code",
   "execution_count": 14,
   "id": "7c6049ff",
   "metadata": {},
   "outputs": [
    {
     "name": "stdout",
     "output_type": "stream",
     "text": [
      "\u001b[1mupper_bound:\u001b[0m 275\n",
      "\u001b[1mPercentage of elements of \"num_tokens\" smaller or equal than \"length_bound\":\u001b[0m 94.555 %\n"
     ]
    }
   ],
   "source": [
    "# Storing in \"upper_bound\" the upper bound for the length of sequences\n",
    "# Computing the percentage of elements of \"num_tokens\" smaller or equal than \"upper_bound\"\n",
    "\n",
    "upper_bound = int(np.mean(num_tokens) + 2 * np.std(num_tokens))\n",
    "percentage = stats.percentileofscore(num_tokens, upper_bound)\n",
    "\n",
    "print('\\033[1m' + 'upper_bound:' + '\\033[0m', upper_bound)\n",
    "print('\\033[1m' + 'Percentage of elements of \"num_tokens\" smaller or equal than \"length_bound\":' + '\\033[0m', percentage, '%')"
   ]
  },
  {
   "cell_type": "markdown",
   "id": "22457a47",
   "metadata": {},
   "source": [
    "Using the [pad_sequences()](https://www.tensorflow.org/api_docs/python/tf/keras/utils/pad_sequences) function from [keras.preprocessing.sequence](https://www.tensorflow.org/api_docs/python/tf/keras/preprocessing/sequence) module, we transform \"train_rev_tokens\" and \"test_rev_tokens\" into a 2D numpy arrays of shape (number of sequences, upper_bound). Sequences of length smaller (resp. larger) than \"upper_bound\" are extended (resp. truncated) to have length = upper_bound."
   ]
  },
  {
   "cell_type": "code",
   "execution_count": 15,
   "id": "887bc847",
   "metadata": {},
   "outputs": [
    {
     "name": "stdout",
     "output_type": "stream",
     "text": [
      "\u001b[1mtrain_rev_pad.shape:\u001b[0m (45000, 275)\n",
      "\u001b[1mtest_rev_pad.shape:\u001b[0m (5000, 275) \n",
      "\n",
      "\u001b[1mExample of review after padding:\u001b[0m\n",
      "\n",
      " [    0     0     0     0     0     0     0     0     0     0     0     0\n",
      "     0     0     0     0     0     0     0     0     0     0     0     0\n",
      "     0     0     0     0     0     0     0     0     0     0     0     0\n",
      "     0     0     0     0     0     0     0     0     0     0     0     0\n",
      "     0     0     0     0     0     0     0     0     0     0     0     0\n",
      "     0     0     0     0     0     0     0     0     0     0     0     0\n",
      "     0     0     0     0     0     0     0     0     0     0     0     0\n",
      "     0     0     0     0     0     0     0     0     0     0     0     0\n",
      "     0     0     0     0     0     0     0     0     0     0     0     0\n",
      "     0     0     0     0     0     0     0     0     0     0     0     0\n",
      "     0     0     0     0     0     0     0     0     0     0     0   136\n",
      "  1216  3217  2802    27     1   123     5    44   272     1    17   471\n",
      "  9398  3217  2802  1153   324  2319   612   217     7     1  2227  1603\n",
      "  2077   293  2926    61  1712  2788    24  9889    35  4989  3024  3415\n",
      "  2997   900   285  1050  1009  3031   204   182  5818  1050   622   142\n",
      "   866   275  1390   331  2802     5   558   493   652  5294    37  3404\n",
      "   290  3428  6283   149   268   152    94   123   553   596   323   266\n",
      "    55  2210     7  1227    27  2804  2446  3835   128     2   257  2650\n",
      "   854   363  1167  1871    27    13   106  3217  2802    29   715    78\n",
      "    40  3031  3217 10627 10228  2243  5072 12696    73  3513  2095   136\n",
      "  1105   412  7023  2863   722   243   628   469  2541    62   360   814\n",
      "  1715 10551  1006   900   285   562  5071  3141    96  2077  2700  1046\n",
      "   228  9069    55   265     9  7807   485   378  2013  7807   485]\n"
     ]
    }
   ],
   "source": [
    "from keras.preprocessing.sequence import pad_sequences\n",
    "\n",
    "train_rev_pad = pad_sequences(train_rev_tokens, maxlen=upper_bound)\n",
    "test_rev_pad = pad_sequences(test_rev_tokens, maxlen=upper_bound)\n",
    "\n",
    "print('\\033[1m' + 'train_rev_pad.shape:' + '\\033[0m', train_rev_pad.shape)\n",
    "print('\\033[1m' + 'test_rev_pad.shape:' + '\\033[0m', test_rev_pad.shape, '\\n')\n",
    "print('\\033[1m' + 'Example of review after padding:' + '\\033[0m' + '\\n\\n', train_rev_pad[idx])"
   ]
  },
  {
   "cell_type": "markdown",
   "id": "fbeeae40",
   "metadata": {},
   "source": [
    "# LSTM Model\n",
    "We start by importing some classes from Keras:\n",
    "\n",
    "- the [Sequential](https://keras.io/api/models/sequential/) class from the keras.models API (to group a linear stack of layers into a model)\n",
    "- the [Embedding](https://keras.io/api/layers/core_layers/embedding/) class from the keras.layers API (to turn positive integers (indexes) into dense vectors of fixed size)\n",
    "- the [LSTM](https://keras.io/api/layers/recurrent_layers/lstm/) class from the keras.layers API (to apply a long short-term memory layer to an input)\n",
    "- the [Dropout](https://keras.io/api/layers/regularization_layers/dropout/) class from the keras.layers API (to apply dropout to the input)\n",
    "- the [Dense](https://keras.io/api/layers/core_layers/dense/) class from the keras.layers API (to apply a regular densely-connected NN layer to an input)"
   ]
  },
  {
   "cell_type": "code",
   "execution_count": 19,
   "id": "d82377e7",
   "metadata": {},
   "outputs": [],
   "source": [
    "from keras.models import Sequential\n",
    "from keras.layers import Embedding, LSTM, Dropout, Dense"
   ]
  },
  {
   "cell_type": "code",
   "execution_count": 22,
   "id": "69f7cedc",
   "metadata": {},
   "outputs": [],
   "source": [
    "r = 0.1\n",
    "embedding_size = 50\n",
    "\n",
    "model = Sequential()\n",
    "model.add(Embedding(input_dim=15000, output_dim=embedding_size, input_length=upper_bound))\n",
    "model.add(LSTM(units=16, return_sequences=True))\n",
    "model.add(Dropout(r))\n",
    "model.add(LSTM(units=8, return_sequences=True))\n",
    "model.add(Dropout(r))\n",
    "model.add(LSTM(units=4))\n",
    "model.add(Dropout(r))\n",
    "model.add(Dense(1, activation='sigmoid'))"
   ]
  },
  {
   "cell_type": "markdown",
   "id": "3fc73242",
   "metadata": {},
   "source": [
    "We give a summary of the model using the [summary](https://keras.io/api/models/model/#summary-method) method of the model class of Keras. The \"None\" value stands for the (not yet defined) value of the batch size."
   ]
  },
  {
   "cell_type": "code",
   "execution_count": 23,
   "id": "fbb1c44c",
   "metadata": {},
   "outputs": [
    {
     "name": "stdout",
     "output_type": "stream",
     "text": [
      "Model: \"sequential_3\"\n",
      "_________________________________________________________________\n",
      " Layer (type)                Output Shape              Param #   \n",
      "=================================================================\n",
      " embedding (Embedding)       (None, 275, 50)           750000    \n",
      "                                                                 \n",
      " lstm_3 (LSTM)               (None, 275, 16)           4288      \n",
      "                                                                 \n",
      " dropout_3 (Dropout)         (None, 275, 16)           0         \n",
      "                                                                 \n",
      " lstm_4 (LSTM)               (None, 275, 8)            800       \n",
      "                                                                 \n",
      " dropout_4 (Dropout)         (None, 275, 8)            0         \n",
      "                                                                 \n",
      " lstm_5 (LSTM)               (None, 4)                 208       \n",
      "                                                                 \n",
      " dropout_5 (Dropout)         (None, 4)                 0         \n",
      "                                                                 \n",
      " dense_1 (Dense)             (None, 1)                 5         \n",
      "                                                                 \n",
      "=================================================================\n",
      "Total params: 755,301\n",
      "Trainable params: 755,301\n",
      "Non-trainable params: 0\n",
      "_________________________________________________________________\n"
     ]
    }
   ],
   "source": [
    "model.summary()"
   ]
  }
 ],
 "metadata": {
  "kernelspec": {
   "display_name": "Python 3 (ipykernel)",
   "language": "python",
   "name": "python3"
  },
  "language_info": {
   "codemirror_mode": {
    "name": "ipython",
    "version": 3
   },
   "file_extension": ".py",
   "mimetype": "text/x-python",
   "name": "python",
   "nbconvert_exporter": "python",
   "pygments_lexer": "ipython3",
   "version": "3.10.2"
  }
 },
 "nbformat": 4,
 "nbformat_minor": 5
}
